{
 "cells": [
  {
   "cell_type": "code",
   "execution_count": 1,
   "metadata": {},
   "outputs": [],
   "source": [
    "import numpy as np\n",
    "import pandas as pd\n",
    "#import re\n",
    "%matplotlib inline\n",
    "import matplotlib.pyplot as plt\n",
    "import seaborn as sns\n",
    "import pattern \n",
    "from pattern.en import lemma"
   ]
  },
  {
   "cell_type": "code",
   "execution_count": 2,
   "metadata": {},
   "outputs": [],
   "source": [
    "data_file = \"~/Documents/python/project02/amazon_musical_instru_star_rev_only.tsv\"\n",
    "col_list = [\"star_rating\",\"review_body\"]\n",
    "#reviews_df = pd.read_csv(data_file, sep=\"\\t\", usecols=col_list, low_memory=False)\n",
    "reviews_df = pd.read_csv(data_file, sep=\"\\t\", usecols=col_list, nrows=20000)"
   ]
  },
  {
   "cell_type": "code",
   "execution_count": 3,
   "metadata": {},
   "outputs": [],
   "source": [
    "reviews_df['star_rating'] = reviews_df['star_rating'].fillna(0)\n",
    "reviews_df['review_body'] = reviews_df['review_body'].fillna('')"
   ]
  },
  {
   "cell_type": "code",
   "execution_count": 4,
   "metadata": {},
   "outputs": [
    {
     "name": "stdout",
     "output_type": "stream",
     "text": [
      "<class 'pandas.core.frame.DataFrame'>\n",
      "RangeIndex: 20000 entries, 0 to 19999\n",
      "Data columns (total 2 columns):\n",
      " #   Column       Non-Null Count  Dtype \n",
      "---  ------       --------------  ----- \n",
      " 0   star_rating  20000 non-null  int64 \n",
      " 1   review_body  20000 non-null  object\n",
      "dtypes: int64(1), object(1)\n",
      "memory usage: 312.6+ KB\n"
     ]
    }
   ],
   "source": [
    "reviews_df.info()"
   ]
  },
  {
   "cell_type": "code",
   "execution_count": 5,
   "metadata": {},
   "outputs": [
    {
     "name": "stdout",
     "output_type": "stream",
     "text": [
      "Min star: 1\n",
      "Max star: 5\n",
      "Average star: 4.28765\n",
      "Median star: 5.0\n"
     ]
    }
   ],
   "source": [
    "# stats on the star rating for the 20,000 records\n",
    "print(\"Min star:\", reviews_df['star_rating'].min())\n",
    "print(\"Max star:\", reviews_df['star_rating'].max())\n",
    "print(\"Average star:\", reviews_df['star_rating'].mean())\n",
    "print(\"Median star:\", reviews_df['star_rating'].median())"
   ]
  },
  {
   "cell_type": "code",
   "execution_count": 6,
   "metadata": {},
   "outputs": [],
   "source": [
    "def count_words(data):\n",
    "    return len(data.split())"
   ]
  },
  {
   "cell_type": "code",
   "execution_count": 7,
   "metadata": {},
   "outputs": [],
   "source": [
    "def count_excla(data):\n",
    "    return data.count(\"!\")"
   ]
  },
  {
   "cell_type": "code",
   "execution_count": 8,
   "metadata": {},
   "outputs": [],
   "source": [
    "def count_ques(data):\n",
    "    return data.count(\"?\")"
   ]
  },
  {
   "cell_type": "code",
   "execution_count": 9,
   "metadata": {},
   "outputs": [],
   "source": [
    "# removes special characters are some \"<br />\" and returns list of words\n",
    "def remove_special_chars(data):\n",
    "    word_list = []\n",
    "    cleaned_list = []\n",
    "    alphanum = \"\"\n",
    "    data = data.replace(\"<br />\",\" \") #replace <br /> text in some reviews with space\n",
    "    word_list = data.lower().split()\n",
    "    \n",
    "    for word in word_list:\n",
    "        alphanum = [character for character in word if character.isalnum()]\n",
    "        alphanum = \"\".join(alphanum)\n",
    "        cleaned_list.append(alphanum)\n",
    "        \n",
    "    cleaned_list = list(filter(None, cleaned_list)) #remove Null values\n",
    "    \n",
    "    return cleaned_list"
   ]
  },
  {
   "cell_type": "code",
   "execution_count": 10,
   "metadata": {},
   "outputs": [],
   "source": [
    "# returns a dictionary with the word and number of occurances\n",
    "def get_uniq_words(data):\n",
    "    word_counter = {}\n",
    "    for word in data:\n",
    "        word_counter[word] = word_counter.get(word, 0) + 1\n",
    "        \n",
    "    return(word_counter)"
   ]
  },
  {
   "cell_type": "code",
   "execution_count": 11,
   "metadata": {},
   "outputs": [],
   "source": [
    "def count_excla_review(data):\n",
    "    return data[data['num_exclamations_marks'] != 0].count()"
   ]
  },
  {
   "cell_type": "code",
   "execution_count": 12,
   "metadata": {},
   "outputs": [],
   "source": [
    "def count_ques_review(data):\n",
    "    return data[data['num_questions_marks'] != 0].count()"
   ]
  },
  {
   "cell_type": "code",
   "execution_count": 13,
   "metadata": {},
   "outputs": [],
   "source": [
    "def calc_percent(numer, denom):\n",
    "    return int((numer/denom)*100)"
   ]
  },
  {
   "cell_type": "code",
   "execution_count": 14,
   "metadata": {},
   "outputs": [],
   "source": [
    "def rm_stopwords(list_data, stop_data):\n",
    "    list_data = [word for word in list_data if word not in stop_data]\n",
    "    return list_data"
   ]
  },
  {
   "cell_type": "code",
   "execution_count": 15,
   "metadata": {},
   "outputs": [],
   "source": [
    "def lemmatize_tokens(data):\n",
    "    lemm_list = []\n",
    "    for word in data:\n",
    "        lemm_list.append(lemma(word))\n",
    "\n",
    "    return lemm_list"
   ]
  },
  {
   "cell_type": "code",
   "execution_count": 16,
   "metadata": {},
   "outputs": [],
   "source": [
    "# Count number of words for each review and add a column to the dataframe\n",
    "word_count = []\n",
    "excla_count = []\n",
    "ques_count = []\n",
    "for index, row in reviews_df.iterrows():\n",
    "    word_count.append(count_words(reviews_df.iloc[index]['review_body']))\n",
    "    excla_count.append(count_excla(reviews_df.iloc[index]['review_body']))\n",
    "    ques_count.append(count_ques(reviews_df.iloc[index]['review_body']))\n",
    "    \n",
    "reviews_df[\"num_of_words\"] = word_count\n",
    "reviews_df[\"num_exclamations_marks\"] = excla_count\n",
    "reviews_df[\"num_questions_marks\"]= ques_count"
   ]
  },
  {
   "cell_type": "code",
   "execution_count": 17,
   "metadata": {},
   "outputs": [
    {
     "name": "stdout",
     "output_type": "stream",
     "text": [
      "Stats on word count for all reviews\n",
      "-----------------------------------\n",
      "Min number of words: 0\n",
      "Max number of words: 2163\n",
      "Average number of words: 41.6003\n",
      "Median number of words: 17.0\n"
     ]
    }
   ],
   "source": [
    "# Stats on Word Count for all reviews\n",
    "print(\"Stats on word count for all reviews\")\n",
    "print(\"-----------------------------------\")\n",
    "print(\"Min number of words:\", reviews_df['num_of_words'].min())\n",
    "print(\"Max number of words:\", reviews_df['num_of_words'].max())\n",
    "print(\"Average number of words:\", reviews_df['num_of_words'].mean())\n",
    "print(\"Median number of words:\", reviews_df['num_of_words'].median())"
   ]
  },
  {
   "cell_type": "code",
   "execution_count": null,
   "metadata": {},
   "outputs": [],
   "source": [
    "# Stats on number of exclamation and question marks for all reviews\n",
    "print(\"Stats on exclamation marks for all reviews\")\n",
    "print(\"-----------------------------------\")\n",
    "print(\"Min number of exclamation marks:\", reviews_df['num_exclamations_marks'].min())\n",
    "print(\"Max number of exclamation marks:\", reviews_df['num_exclamations_marks'].max())\n",
    "print(\"Average number of exclamation marks:\", reviews_df['num_exclamations_marks'].mean())\n",
    "print(\"Median number of exclamation marks:\", reviews_df['num_exclamations_marks'].median())\n",
    "print('\\n')\n",
    "print(\"Stats on question marks for all reviews\")\n",
    "print(\"-----------------------------------\")\n",
    "print(\"Min number of question marks:\", reviews_df['num_questions_marks'].min())\n",
    "print(\"Max number of question marks:\", reviews_df['num_questions_marks'].max())\n",
    "print(\"Average number of question marks:\", reviews_df['num_questions_marks'].mean())\n",
    "print(\"Median number of question marks:\", reviews_df['num_questions_marks'].median())"
   ]
  },
  {
   "cell_type": "code",
   "execution_count": 18,
   "metadata": {},
   "outputs": [
    {
     "data": {
      "text/html": [
       "<div>\n",
       "<style scoped>\n",
       "    .dataframe tbody tr th:only-of-type {\n",
       "        vertical-align: middle;\n",
       "    }\n",
       "\n",
       "    .dataframe tbody tr th {\n",
       "        vertical-align: top;\n",
       "    }\n",
       "\n",
       "    .dataframe thead th {\n",
       "        text-align: right;\n",
       "    }\n",
       "</style>\n",
       "<table border=\"1\" class=\"dataframe\">\n",
       "  <thead>\n",
       "    <tr style=\"text-align: right;\">\n",
       "      <th></th>\n",
       "      <th>review_body</th>\n",
       "      <th>num_of_words</th>\n",
       "      <th>num_exclamations_marks</th>\n",
       "      <th>num_questions_marks</th>\n",
       "    </tr>\n",
       "    <tr>\n",
       "      <th>star_rating</th>\n",
       "      <th></th>\n",
       "      <th></th>\n",
       "      <th></th>\n",
       "      <th></th>\n",
       "    </tr>\n",
       "  </thead>\n",
       "  <tbody>\n",
       "    <tr>\n",
       "      <th>1</th>\n",
       "      <td>1482</td>\n",
       "      <td>1482</td>\n",
       "      <td>1482</td>\n",
       "      <td>1482</td>\n",
       "    </tr>\n",
       "    <tr>\n",
       "      <th>2</th>\n",
       "      <td>817</td>\n",
       "      <td>817</td>\n",
       "      <td>817</td>\n",
       "      <td>817</td>\n",
       "    </tr>\n",
       "    <tr>\n",
       "      <th>3</th>\n",
       "      <td>1402</td>\n",
       "      <td>1402</td>\n",
       "      <td>1402</td>\n",
       "      <td>1402</td>\n",
       "    </tr>\n",
       "    <tr>\n",
       "      <th>4</th>\n",
       "      <td>3064</td>\n",
       "      <td>3064</td>\n",
       "      <td>3064</td>\n",
       "      <td>3064</td>\n",
       "    </tr>\n",
       "    <tr>\n",
       "      <th>5</th>\n",
       "      <td>13235</td>\n",
       "      <td>13235</td>\n",
       "      <td>13235</td>\n",
       "      <td>13235</td>\n",
       "    </tr>\n",
       "  </tbody>\n",
       "</table>\n",
       "</div>"
      ],
      "text/plain": [
       "             review_body  num_of_words  num_exclamations_marks  \\\n",
       "star_rating                                                      \n",
       "1                   1482          1482                    1482   \n",
       "2                    817           817                     817   \n",
       "3                   1402          1402                    1402   \n",
       "4                   3064          3064                    3064   \n",
       "5                  13235         13235                   13235   \n",
       "\n",
       "             num_questions_marks  \n",
       "star_rating                       \n",
       "1                           1482  \n",
       "2                            817  \n",
       "3                           1402  \n",
       "4                           3064  \n",
       "5                          13235  "
      ]
     },
     "execution_count": 18,
     "metadata": {},
     "output_type": "execute_result"
    }
   ],
   "source": [
    "# number of reviews for each star rating\n",
    "reviews_df.groupby(['star_rating']).count()"
   ]
  },
  {
   "cell_type": "code",
   "execution_count": 19,
   "metadata": {},
   "outputs": [
    {
     "name": "stdout",
     "output_type": "stream",
     "text": [
      "<class 'pandas.core.frame.DataFrame'>\n",
      "Int64Index: 1482 entries, 17 to 19962\n",
      "Data columns (total 5 columns):\n",
      " #   Column                  Non-Null Count  Dtype \n",
      "---  ------                  --------------  ----- \n",
      " 0   star_rating             1482 non-null   int64 \n",
      " 1   review_body             1482 non-null   object\n",
      " 2   num_of_words            1482 non-null   int64 \n",
      " 3   num_exclamations_marks  1482 non-null   int64 \n",
      " 4   num_questions_marks     1482 non-null   int64 \n",
      "dtypes: int64(4), object(1)\n",
      "memory usage: 69.5+ KB\n"
     ]
    }
   ],
   "source": [
    "# analyzing One Star reviews\n",
    "onestar_reviews_df = reviews_df[reviews_df['star_rating'] == 1]\n",
    "onestar_reviews_df.info()"
   ]
  },
  {
   "cell_type": "code",
   "execution_count": null,
   "metadata": {},
   "outputs": [],
   "source": [
    "# Stats on Word, Exclamation & question mark Count for one star reviews\n",
    "print(\"Stats on word, Exclamation & question mark count for 1 Star Reviews\")\n",
    "print(\"----------------------------------------\")\n",
    "print(\"Min number of words:\", onestar_reviews_df['num_of_words'].min())\n",
    "print(\"Max number of words:\", onestar_reviews_df['num_of_words'].max())\n",
    "print(\"Average number of words:\", onestar_reviews_df['num_of_words'].mean())\n",
    "print(\"Median number of words:\", onestar_reviews_df['num_of_words'].median())\n",
    "print(\"Max number of Exclamation Marks:\", onestar_reviews_df['num_exclamations_marks'].max())\n",
    "print(\"Average number of Exclamation Marks:\", onestar_reviews_df['num_exclamations_marks'].mean())\n",
    "print(\"Median number of Exclamation Marks:\", onestar_reviews_df['num_exclamations_marks'].median())\n",
    "print(\"Max number of Question Marks:\", onestar_reviews_df['num_questions_marks'].max())\n",
    "print(\"Average number of Question Marks:\", onestar_reviews_df['num_questions_marks'].mean())\n",
    "print(\"Median number of Question Marks:\", onestar_reviews_df['num_questions_marks'].median())"
   ]
  },
  {
   "cell_type": "code",
   "execution_count": 20,
   "metadata": {},
   "outputs": [
    {
     "name": "stdout",
     "output_type": "stream",
     "text": [
      "<class 'pandas.core.frame.DataFrame'>\n",
      "Int64Index: 817 entries, 6 to 19993\n",
      "Data columns (total 5 columns):\n",
      " #   Column                  Non-Null Count  Dtype \n",
      "---  ------                  --------------  ----- \n",
      " 0   star_rating             817 non-null    int64 \n",
      " 1   review_body             817 non-null    object\n",
      " 2   num_of_words            817 non-null    int64 \n",
      " 3   num_exclamations_marks  817 non-null    int64 \n",
      " 4   num_questions_marks     817 non-null    int64 \n",
      "dtypes: int64(4), object(1)\n",
      "memory usage: 38.3+ KB\n"
     ]
    }
   ],
   "source": [
    "# analyzing Two Star reviews\n",
    "twostar_reviews_df = reviews_df[reviews_df['star_rating'] == 2]\n",
    "twostar_reviews_df.info()"
   ]
  },
  {
   "cell_type": "code",
   "execution_count": null,
   "metadata": {},
   "outputs": [],
   "source": [
    "# Stats on Word Count for two star reviews\n",
    "print(\"Stats on word, exclamation & question mark count for 2 Star Reviews\")\n",
    "print(\"---------------------------------------\")\n",
    "print(\"Min number of words:\", twostar_reviews_df['num_of_words'].min())\n",
    "print(\"Max number of words:\", twostar_reviews_df['num_of_words'].max())\n",
    "print(\"Average number of words:\", twostar_reviews_df['num_of_words'].mean())\n",
    "print(\"Median number of words:\", twostar_reviews_df['num_of_words'].median())\n",
    "print(\"Max number of exclamation marks:\", twostar_reviews_df['num_exclamations_marks'].max())\n",
    "print(\"Average number of exclamation marks:\", twostar_reviews_df['num_exclamations_marks'].mean())\n",
    "print(\"Median number of exclamation marks:\", twostar_reviews_df['num_exclamations_marks'].median())\n",
    "print(\"Max number of question marks:\", twostar_reviews_df['num_questions_marks'].max())\n",
    "print(\"Average number of question marks:\", twostar_reviews_df['num_questions_marks'].mean())\n",
    "print(\"Median number of question marks:\", twostar_reviews_df['num_questions_marks'].median())"
   ]
  },
  {
   "cell_type": "code",
   "execution_count": 21,
   "metadata": {},
   "outputs": [
    {
     "name": "stdout",
     "output_type": "stream",
     "text": [
      "<class 'pandas.core.frame.DataFrame'>\n",
      "Int64Index: 1402 entries, 0 to 19959\n",
      "Data columns (total 5 columns):\n",
      " #   Column                  Non-Null Count  Dtype \n",
      "---  ------                  --------------  ----- \n",
      " 0   star_rating             1402 non-null   int64 \n",
      " 1   review_body             1402 non-null   object\n",
      " 2   num_of_words            1402 non-null   int64 \n",
      " 3   num_exclamations_marks  1402 non-null   int64 \n",
      " 4   num_questions_marks     1402 non-null   int64 \n",
      "dtypes: int64(4), object(1)\n",
      "memory usage: 65.7+ KB\n"
     ]
    }
   ],
   "source": [
    "# analyzing Three Star reviews\n",
    "threestar_reviews_df = reviews_df[reviews_df['star_rating'] == 3]\n",
    "threestar_reviews_df.info()"
   ]
  },
  {
   "cell_type": "code",
   "execution_count": null,
   "metadata": {},
   "outputs": [],
   "source": [
    "# Stats on Word, exclamation & question mark Count for three star reviews\n",
    "print(\"Stats on word, exclamation & question mark count for 3 Star Reviews\")\n",
    "print(\"------------------------------------------\")\n",
    "print(\"Min number of words:\", threestar_reviews_df['num_of_words'].min())\n",
    "print(\"Max number of words:\", threestar_reviews_df['num_of_words'].max())\n",
    "print(\"Average number of words:\", threestar_reviews_df['num_of_words'].mean())\n",
    "print(\"Median number of words:\", threestar_reviews_df['num_of_words'].median())\n",
    "print(\"Max number of exclamation marks:\", threestar_reviews_df['num_exclamations_marks'].max())\n",
    "print(\"Average number of exclamation marks:\", threestar_reviews_df['num_exclamations_marks'].mean())\n",
    "print(\"Median number of exclamation marks:\", threestar_reviews_df['num_exclamations_marks'].median())\n",
    "print(\"Max number of questions marks:\", threestar_reviews_df['num_questions_marks'].max())\n",
    "print(\"Average number of questions marks:\", threestar_reviews_df['num_questions_marks'].mean())\n",
    "print(\"Median number of questions marks:\", threestar_reviews_df['num_questions_marks'].median())"
   ]
  },
  {
   "cell_type": "code",
   "execution_count": 22,
   "metadata": {},
   "outputs": [
    {
     "name": "stdout",
     "output_type": "stream",
     "text": [
      "<class 'pandas.core.frame.DataFrame'>\n",
      "Int64Index: 3064 entries, 11 to 19998\n",
      "Data columns (total 5 columns):\n",
      " #   Column                  Non-Null Count  Dtype \n",
      "---  ------                  --------------  ----- \n",
      " 0   star_rating             3064 non-null   int64 \n",
      " 1   review_body             3064 non-null   object\n",
      " 2   num_of_words            3064 non-null   int64 \n",
      " 3   num_exclamations_marks  3064 non-null   int64 \n",
      " 4   num_questions_marks     3064 non-null   int64 \n",
      "dtypes: int64(4), object(1)\n",
      "memory usage: 143.6+ KB\n"
     ]
    }
   ],
   "source": [
    "# analyzing Four Star reviews\n",
    "fourstar_reviews_df = reviews_df[reviews_df['star_rating'] == 4]\n",
    "fourstar_reviews_df.info()"
   ]
  },
  {
   "cell_type": "code",
   "execution_count": null,
   "metadata": {},
   "outputs": [],
   "source": [
    "# Stats on Word, exclamation & question marks Count for 4 star reviews\n",
    "print(\"Stats on word, exclamation & question marks count for 4 Star Reviews\")\n",
    "print(\"-----------------------------------------\")\n",
    "print(\"Min number of words:\", fourstar_reviews_df['num_of_words'].min())\n",
    "print(\"Max number of words:\", fourstar_reviews_df['num_of_words'].max())\n",
    "print(\"Average number of words:\", fourstar_reviews_df['num_of_words'].mean())\n",
    "print(\"Median number of words:\", fourstar_reviews_df['num_of_words'].median())\n",
    "print(\"Max number of exclamation marks:\", fourstar_reviews_df['num_exclamations_marks'].max())\n",
    "print(\"Average number of exclamation marks:\", fourstar_reviews_df['num_exclamations_marks'].mean())\n",
    "print(\"Median number of exclamation marks:\", fourstar_reviews_df['num_exclamations_marks'].median())\n",
    "print(\"Max number of question marks:\", fourstar_reviews_df['num_questions_marks'].max())\n",
    "print(\"Average number of question marks:\", fourstar_reviews_df['num_questions_marks'].mean())\n",
    "print(\"Median number of question marks:\", fourstar_reviews_df['num_questions_marks'].median())"
   ]
  },
  {
   "cell_type": "code",
   "execution_count": 23,
   "metadata": {},
   "outputs": [
    {
     "name": "stdout",
     "output_type": "stream",
     "text": [
      "<class 'pandas.core.frame.DataFrame'>\n",
      "Int64Index: 13235 entries, 1 to 19999\n",
      "Data columns (total 5 columns):\n",
      " #   Column                  Non-Null Count  Dtype \n",
      "---  ------                  --------------  ----- \n",
      " 0   star_rating             13235 non-null  int64 \n",
      " 1   review_body             13235 non-null  object\n",
      " 2   num_of_words            13235 non-null  int64 \n",
      " 3   num_exclamations_marks  13235 non-null  int64 \n",
      " 4   num_questions_marks     13235 non-null  int64 \n",
      "dtypes: int64(4), object(1)\n",
      "memory usage: 620.4+ KB\n"
     ]
    }
   ],
   "source": [
    "# analyzing Five Star reviews\n",
    "fivestar_reviews_df = reviews_df[reviews_df['star_rating'] == 5]\n",
    "fivestar_reviews_df.info()"
   ]
  },
  {
   "cell_type": "code",
   "execution_count": null,
   "metadata": {},
   "outputs": [],
   "source": [
    "# Stats on Word, exclamation & question marks Count for five star reviews\n",
    "print(\"Stats on word, exclamation & question marks count for 5 Star Reviews\")\n",
    "print(\"-----------------------------------------\")\n",
    "print(\"Min number of words:\", fivestar_reviews_df['num_of_words'].min())\n",
    "print(\"Max number of words:\", fivestar_reviews_df['num_of_words'].max())\n",
    "print(\"Average number of words:\", fivestar_reviews_df['num_of_words'].mean())\n",
    "print(\"Median number of words:\", fivestar_reviews_df['num_of_words'].median())\n",
    "print(\"Max number of exclamation marks:\", fivestar_reviews_df['num_exclamations_marks'].max())\n",
    "print(\"Average number of exclamation marks:\", fivestar_reviews_df['num_exclamations_marks'].mean())\n",
    "print(\"Median number of exclamation marks:\", fivestar_reviews_df['num_exclamations_marks'].median())\n",
    "print(\"Max number of question marks:\", fivestar_reviews_df['num_questions_marks'].max())\n",
    "print(\"Average number of question marks:\", fivestar_reviews_df['num_questions_marks'].mean())\n",
    "print(\"Median number of question marks:\", fivestar_reviews_df['num_questions_marks'].median())"
   ]
  },
  {
   "cell_type": "markdown",
   "metadata": {},
   "source": [
    "# Hypothesis 1:"
   ]
  },
  {
   "cell_type": "markdown",
   "metadata": {},
   "source": [
    "<b>Exclamation Marks used in reviews:</b><br>\n",
    "A substantial percentage of One Star and Five Star reviews will have Exclamation Marks. Two, Three and Four Star reviews will have a lower percentage as reviewers are less expressive \n",
    "\n",
    "<b>Question Marks used in reviews:</b></br>\n",
    "One Star reviews will have the largest percentage of Question Marks used. The percentage will drop through Two to Five Star reviews as reviewers will likely have less questions about the quality of the product."
   ]
  },
  {
   "cell_type": "code",
   "execution_count": 24,
   "metadata": {},
   "outputs": [
    {
     "name": "stdout",
     "output_type": "stream",
     "text": [
      "% of Exclamation Marks in One Star reviews: 18\n",
      "% of Question Marks in One Star reviews: 4 \n",
      "\n",
      "% of Exclamation Marks in Two Star reviews: 9\n",
      "% of Question Marks in Two Star reviews: 3 \n",
      "\n",
      "% of Exclamation Marks in Three Star reviews: 9\n",
      "% of Question Marks in One Star reviews: 3 \n",
      "\n",
      "% of Exclamation Marks in Four Star reviews: 14\n",
      "% of Question Marks in One Star reviews: 2 \n",
      "\n",
      "% of Exclamation Marks in Five Star reviews: 27\n",
      "% of Question Marks in One Star reviews: 1 \n",
      "\n"
     ]
    }
   ],
   "source": [
    "# counting number of exclamation and question marks for each star review category\n",
    "onestar_excla_series = count_excla_review(onestar_reviews_df)\n",
    "onestar_excla_count_val = calc_percent(onestar_excla_series['num_exclamations_marks'],\n",
    "                                       onestar_reviews_df['star_rating'].count())\n",
    "print(\"% of Exclamation Marks in One Star reviews:\", onestar_excla_count_val,)\n",
    "onestar_ques_series = count_ques_review(onestar_reviews_df)\n",
    "onestar_ques_count_val = calc_percent(onestar_ques_series['num_questions_marks'],\n",
    "                                      onestar_reviews_df['star_rating'].count())\n",
    "print(\"% of Question Marks in One Star reviews:\",onestar_ques_count_val, \"\\n\")\n",
    "twostar_excla_series = count_excla_review(twostar_reviews_df)\n",
    "twostar_excla_count_val = calc_percent(twostar_excla_series['num_exclamations_marks'],\n",
    "                                       twostar_reviews_df['star_rating'].count())\n",
    "print(\"% of Exclamation Marks in Two Star reviews:\",twostar_excla_count_val)\n",
    "twostar_ques_series = count_ques_review(twostar_reviews_df)\n",
    "twostar_ques_count_val = calc_percent(twostar_ques_series['num_questions_marks'],\n",
    "                                      twostar_reviews_df['star_rating'].count())\n",
    "print(\"% of Question Marks in Two Star reviews:\", twostar_ques_count_val, \"\\n\")\n",
    "threestar_excla_series = count_excla_review(threestar_reviews_df)\n",
    "threestar_excla_count_val = calc_percent(threestar_excla_series['num_exclamations_marks'],\n",
    "                                         threestar_reviews_df['star_rating'].count())\n",
    "print(\"% of Exclamation Marks in Three Star reviews:\",threestar_excla_count_val)\n",
    "threestar_ques_series = count_ques_review(threestar_reviews_df)\n",
    "threestar_ques_count_val = calc_percent(threestar_ques_series['num_questions_marks'],\n",
    "                                        threestar_reviews_df['star_rating'].count())\n",
    "print(\"% of Question Marks in One Star reviews:\", threestar_ques_count_val, \"\\n\")\n",
    "fourstar_excla_series = count_excla_review(fourstar_reviews_df)\n",
    "fourstar_excla_count_val = calc_percent(fourstar_excla_series['num_exclamations_marks'],\n",
    "                                        fourstar_reviews_df['star_rating'].count())\n",
    "print(\"% of Exclamation Marks in Four Star reviews:\",fourstar_excla_count_val)\n",
    "fourstar_ques_series = count_ques_review(fourstar_reviews_df)\n",
    "fourstar_ques_count_val = calc_percent(fourstar_ques_series['num_questions_marks'],\n",
    "                                       fourstar_reviews_df['star_rating'].count())\n",
    "print(\"% of Question Marks in One Star reviews:\", fourstar_ques_count_val, \"\\n\")\n",
    "fivestar_excla_series = count_excla_review(fivestar_reviews_df)\n",
    "fivestar_excla_count_val = calc_percent(fivestar_excla_series['num_exclamations_marks'],\n",
    "                                        fivestar_reviews_df['star_rating'].count())\n",
    "print(\"% of Exclamation Marks in Five Star reviews:\",fivestar_excla_count_val)\n",
    "fivestar_ques_series = count_ques_review(fivestar_reviews_df)\n",
    "fivestar_ques_count_val = calc_percent(fivestar_ques_series['num_questions_marks'],\n",
    "                                       fivestar_reviews_df['star_rating'].count())\n",
    "print(\"% of Question Marks in One Star reviews:\", fivestar_ques_count_val, \"\\n\")"
   ]
  },
  {
   "cell_type": "code",
   "execution_count": 25,
   "metadata": {},
   "outputs": [
    {
     "data": {
      "image/png": "[encoded data removed]",
      "text/plain": [
       "<Figure size 720x504 with 1 Axes>"
      ]
     },
     "metadata": {},
     "output_type": "display_data"
    }
   ],
   "source": [
    "# Plot bar chart comparing exclamation and question marks by review star rating\n",
    "\n",
    "allstar_e_q_count = {'Star_Rating':[1,2,3,4,5],\n",
    "                     'Percent_Exclamation_Marks':[onestar_excla_count_val,twostar_excla_count_val,\n",
    "                                               threestar_excla_count_val,fourstar_excla_count_val,\n",
    "                                               fivestar_excla_count_val],\n",
    "                    'Percent_Question_Marks':[onestar_ques_count_val,twostar_ques_count_val,\n",
    "                                           threestar_ques_count_val,fourstar_ques_count_val,\n",
    "                                           fivestar_ques_count_val]}\n",
    "\n",
    "allstar_excla_ques_count_df = pd.DataFrame(allstar_e_q_count)\n",
    "allstar_excla_ques_count_df = allstar_excla_ques_count_df.set_index('Star_Rating')\n",
    "\n",
    "#plt.figure(figsize=(10,10))\n",
    "sns.set_style(\"dark\")\n",
    "allstar_excla_ques_count_df.plot.bar(title=\"Percent of Exclamation and Question Marks\",\n",
    "                                    figsize=(10,7), grid=True)\n",
    "plt.ylabel(\"Percentage\")\n",
    "plt.xticks(rotation=0, horizontalalignment=\"center\")\n",
    "plt.show()"
   ]
  },
  {
   "cell_type": "markdown",
   "metadata": {},
   "source": [
    "<b>Results:</b></br>\n",
    "As observed from the graph above, One and Five Star reviews are have the largest percentage of Exclamation Marks. One Star reviews at 18% and Five Star reviews at 27%. This proves that reviewers are more expressive with dissatisfaction and satisfaction of their products.\n",
    "\n",
    "With regards to Question Marks, we observe that reviewers with the lowest satisfaction (One Star) question the quality/design/support of their product the most. One Star reviews had 4% Question Marks which dropped to 1% for Five Star reviews."
   ]
  },
  {
   "cell_type": "code",
   "execution_count": 26,
   "metadata": {},
   "outputs": [
    {
     "name": "stdout",
     "output_type": "stream",
     "text": [
      "<class 'pandas.core.frame.DataFrame'>\n",
      "Int64Index: 4597 entries, 2 to 19995\n",
      "Data columns (total 5 columns):\n",
      " #   Column                  Non-Null Count  Dtype \n",
      "---  ------                  --------------  ----- \n",
      " 0   star_rating             4597 non-null   int64 \n",
      " 1   review_body             4597 non-null   object\n",
      " 2   num_of_words            4597 non-null   int64 \n",
      " 3   num_exclamations_marks  4597 non-null   int64 \n",
      " 4   num_questions_marks     4597 non-null   int64 \n",
      "dtypes: int64(4), object(1)\n",
      "memory usage: 215.5+ KB\n"
     ]
    }
   ],
   "source": [
    "# all reviews with 5 or less words\n",
    "five_less_word_reviews_df = reviews_df[reviews_df['num_of_words'] <= 5]\n",
    "five_less_word_reviews_df.info()"
   ]
  },
  {
   "cell_type": "code",
   "execution_count": 27,
   "metadata": {},
   "outputs": [
    {
     "data": {
      "text/html": [
       "<div>\n",
       "<style scoped>\n",
       "    .dataframe tbody tr th:only-of-type {\n",
       "        vertical-align: middle;\n",
       "    }\n",
       "\n",
       "    .dataframe tbody tr th {\n",
       "        vertical-align: top;\n",
       "    }\n",
       "\n",
       "    .dataframe thead th {\n",
       "        text-align: right;\n",
       "    }\n",
       "</style>\n",
       "<table border=\"1\" class=\"dataframe\">\n",
       "  <thead>\n",
       "    <tr style=\"text-align: right;\">\n",
       "      <th></th>\n",
       "      <th>review_body</th>\n",
       "      <th>num_of_words</th>\n",
       "      <th>num_exclamations_marks</th>\n",
       "      <th>num_questions_marks</th>\n",
       "    </tr>\n",
       "    <tr>\n",
       "      <th>star_rating</th>\n",
       "      <th></th>\n",
       "      <th></th>\n",
       "      <th></th>\n",
       "      <th></th>\n",
       "    </tr>\n",
       "  </thead>\n",
       "  <tbody>\n",
       "    <tr>\n",
       "      <th>1</th>\n",
       "      <td>173</td>\n",
       "      <td>173</td>\n",
       "      <td>173</td>\n",
       "      <td>173</td>\n",
       "    </tr>\n",
       "    <tr>\n",
       "      <th>2</th>\n",
       "      <td>59</td>\n",
       "      <td>59</td>\n",
       "      <td>59</td>\n",
       "      <td>59</td>\n",
       "    </tr>\n",
       "    <tr>\n",
       "      <th>3</th>\n",
       "      <td>164</td>\n",
       "      <td>164</td>\n",
       "      <td>164</td>\n",
       "      <td>164</td>\n",
       "    </tr>\n",
       "    <tr>\n",
       "      <th>4</th>\n",
       "      <td>528</td>\n",
       "      <td>528</td>\n",
       "      <td>528</td>\n",
       "      <td>528</td>\n",
       "    </tr>\n",
       "    <tr>\n",
       "      <th>5</th>\n",
       "      <td>3673</td>\n",
       "      <td>3673</td>\n",
       "      <td>3673</td>\n",
       "      <td>3673</td>\n",
       "    </tr>\n",
       "  </tbody>\n",
       "</table>\n",
       "</div>"
      ],
      "text/plain": [
       "             review_body  num_of_words  num_exclamations_marks  \\\n",
       "star_rating                                                      \n",
       "1                    173           173                     173   \n",
       "2                     59            59                      59   \n",
       "3                    164           164                     164   \n",
       "4                    528           528                     528   \n",
       "5                   3673          3673                    3673   \n",
       "\n",
       "             num_questions_marks  \n",
       "star_rating                       \n",
       "1                            173  \n",
       "2                             59  \n",
       "3                            164  \n",
       "4                            528  \n",
       "5                           3673  "
      ]
     },
     "execution_count": 27,
     "metadata": {},
     "output_type": "execute_result"
    }
   ],
   "source": [
    "# analizing reviews with less or equal to 5 words\n",
    "five_less_word_reviews_df.groupby(['star_rating']).count()"
   ]
  },
  {
   "cell_type": "code",
   "execution_count": 28,
   "metadata": {},
   "outputs": [
    {
     "name": "stdout",
     "output_type": "stream",
     "text": [
      "<class 'pandas.core.frame.DataFrame'>\n",
      "Int64Index: 15403 entries, 0 to 19999\n",
      "Data columns (total 5 columns):\n",
      " #   Column                  Non-Null Count  Dtype \n",
      "---  ------                  --------------  ----- \n",
      " 0   star_rating             15403 non-null  int64 \n",
      " 1   review_body             15403 non-null  object\n",
      " 2   num_of_words            15403 non-null  int64 \n",
      " 3   num_exclamations_marks  15403 non-null  int64 \n",
      " 4   num_questions_marks     15403 non-null  int64 \n",
      "dtypes: int64(4), object(1)\n",
      "memory usage: 722.0+ KB\n"
     ]
    }
   ],
   "source": [
    "# all reviews with more than 5 words\n",
    "mt_five_word_reviews_df = reviews_df[reviews_df['num_of_words'] > 5]\n",
    "mt_five_word_reviews_df.info()"
   ]
  },
  {
   "cell_type": "code",
   "execution_count": null,
   "metadata": {},
   "outputs": [],
   "source": [
    "# Stats for reviews with more than 5 words\n",
    "print(\"Max number of words:\", mt_five_word_reviews_df['num_of_words'].max())\n",
    "print(\"Average number of words:\", mt_five_word_reviews_df['num_of_words'].mean())\n",
    "print(\"Median number of words:\", mt_five_word_reviews_df['num_of_words'].median())"
   ]
  },
  {
   "cell_type": "code",
   "execution_count": 29,
   "metadata": {},
   "outputs": [
    {
     "data": {
      "text/html": [
       "<div>\n",
       "<style scoped>\n",
       "    .dataframe tbody tr th:only-of-type {\n",
       "        vertical-align: middle;\n",
       "    }\n",
       "\n",
       "    .dataframe tbody tr th {\n",
       "        vertical-align: top;\n",
       "    }\n",
       "\n",
       "    .dataframe thead th {\n",
       "        text-align: right;\n",
       "    }\n",
       "</style>\n",
       "<table border=\"1\" class=\"dataframe\">\n",
       "  <thead>\n",
       "    <tr style=\"text-align: right;\">\n",
       "      <th></th>\n",
       "      <th>review_body</th>\n",
       "      <th>num_of_words</th>\n",
       "      <th>num_exclamations_marks</th>\n",
       "      <th>num_questions_marks</th>\n",
       "    </tr>\n",
       "    <tr>\n",
       "      <th>star_rating</th>\n",
       "      <th></th>\n",
       "      <th></th>\n",
       "      <th></th>\n",
       "      <th></th>\n",
       "    </tr>\n",
       "  </thead>\n",
       "  <tbody>\n",
       "    <tr>\n",
       "      <th>1</th>\n",
       "      <td>1309</td>\n",
       "      <td>1309</td>\n",
       "      <td>1309</td>\n",
       "      <td>1309</td>\n",
       "    </tr>\n",
       "    <tr>\n",
       "      <th>2</th>\n",
       "      <td>758</td>\n",
       "      <td>758</td>\n",
       "      <td>758</td>\n",
       "      <td>758</td>\n",
       "    </tr>\n",
       "    <tr>\n",
       "      <th>3</th>\n",
       "      <td>1238</td>\n",
       "      <td>1238</td>\n",
       "      <td>1238</td>\n",
       "      <td>1238</td>\n",
       "    </tr>\n",
       "    <tr>\n",
       "      <th>4</th>\n",
       "      <td>2536</td>\n",
       "      <td>2536</td>\n",
       "      <td>2536</td>\n",
       "      <td>2536</td>\n",
       "    </tr>\n",
       "    <tr>\n",
       "      <th>5</th>\n",
       "      <td>9562</td>\n",
       "      <td>9562</td>\n",
       "      <td>9562</td>\n",
       "      <td>9562</td>\n",
       "    </tr>\n",
       "  </tbody>\n",
       "</table>\n",
       "</div>"
      ],
      "text/plain": [
       "             review_body  num_of_words  num_exclamations_marks  \\\n",
       "star_rating                                                      \n",
       "1                   1309          1309                    1309   \n",
       "2                    758           758                     758   \n",
       "3                   1238          1238                    1238   \n",
       "4                   2536          2536                    2536   \n",
       "5                   9562          9562                    9562   \n",
       "\n",
       "             num_questions_marks  \n",
       "star_rating                       \n",
       "1                           1309  \n",
       "2                            758  \n",
       "3                           1238  \n",
       "4                           2536  \n",
       "5                           9562  "
      ]
     },
     "execution_count": 29,
     "metadata": {},
     "output_type": "execute_result"
    }
   ],
   "source": [
    "# More than 5 word reviews by Star Rating\n",
    "grouped_review_df = mt_five_word_reviews_df.groupby(['star_rating']).count()\n",
    "grouped_review_df.head(20)"
   ]
  },
  {
   "cell_type": "code",
   "execution_count": 30,
   "metadata": {},
   "outputs": [
    {
     "name": "stdout",
     "output_type": "stream",
     "text": [
      "<class 'pandas.core.frame.DataFrame'>\n",
      "RangeIndex: 1309 entries, 0 to 1308\n",
      "Data columns (total 5 columns):\n",
      " #   Column                  Non-Null Count  Dtype \n",
      "---  ------                  --------------  ----- \n",
      " 0   star_rating             1309 non-null   int64 \n",
      " 1   review_body             1309 non-null   object\n",
      " 2   num_of_words            1309 non-null   int64 \n",
      " 3   num_exclamations_marks  1309 non-null   int64 \n",
      " 4   num_questions_marks     1309 non-null   int64 \n",
      "dtypes: int64(4), object(1)\n",
      "memory usage: 51.3+ KB\n"
     ]
    }
   ],
   "source": [
    "#mt_five_word_reviews_df.tail()\n",
    "mtfive_1star_reviews_df = mt_five_word_reviews_df[mt_five_word_reviews_df['star_rating'] == 1].reset_index(drop=True)\n",
    "mtfive_1star_reviews_df.info()"
   ]
  },
  {
   "cell_type": "code",
   "execution_count": null,
   "metadata": {},
   "outputs": [],
   "source": [
    "mtfive_1star_reviews_df.head()"
   ]
  },
  {
   "cell_type": "code",
   "execution_count": 31,
   "metadata": {},
   "outputs": [],
   "source": [
    "domain_stopwords ={\"amazon\",\"bought\",\"purchase\",\"purchased\",\"ordered\",\"buy\",\"facebook\",\n",
    "                   \"google\",\"order\"}"
   ]
  },
  {
   "cell_type": "code",
   "execution_count": 32,
   "metadata": {},
   "outputs": [
    {
     "name": "stdout",
     "output_type": "stream",
     "text": [
      "109\n"
     ]
    }
   ],
   "source": [
    "onestar_stopwords = {\"the\",\"i\",\"a\",\"and\",\"to\",\"of\",\"this\",\"for\",\"in\",\"that\",\"on\",\"my\",\n",
    "                     \"you\",\"they\",\"have\",\"so\",\"as\",\"are\",\"at\",\"be\",\"product\",\n",
    "                    \"had\",\"would\",\"if\",\"all\",\"get\",\"them\",\"these\",\"from\",\"its\",\"when\",\"or\",\n",
    "                     \"me\",\"will\",\"back\",\"an\",\"sound\",\"were\",\"do\",\"what\",\"guitar\",\"time\",\n",
    "                    \"did\",\"money\",\"about\",\"your\",\"two\",\"we\",\"first\",\"could\",\n",
    "                    \"because\",\"tried\",\"return\",\"there\",\"which\",\"made\",\"any\",\"now\",\"am\",\"then\",\n",
    "                    \"by\",\"thing\",\"also\",\"receive\",\"im\",\"way\",\"their\",\"item\",\"way\",\"before\",\n",
    "                     \"after\",\"power\",\"into\",\"came\",\"put\",\"3\",\"piece\",\"been\",\"something\",\n",
    "                    \"both\",\"month\",\"through\",\"unit\",\"ive\",\"thi\",\n",
    "                    \"string\",\"set\",\"play\",\"another\",\"see\",\"think\",\"want\",\"how\",\"reviews\",\n",
    "                    \"years\",\"using\",\"still\",\"should\",\"day\",\"said\",\"where\",\"review\",\"week\",\n",
    "                    \"go\",\"going\",\"hold\",\"try\",\"went\",\"every\",\"it\",\"etc\"}\n",
    "print(len(onestar_stopwords))"
   ]
  },
  {
   "cell_type": "code",
   "execution_count": 33,
   "metadata": {},
   "outputs": [
    {
     "name": "stdout",
     "output_type": "stream",
     "text": [
      "['i', 'was', 'hoping', 'it', 'would', 'work', 'well', 'but', 'tried', 'a', 'second', 'cord', 'and', 'would', 'only', 'receive', 'a', 'lot', 'of', 'static']\n"
     ]
    }
   ],
   "source": [
    "# create tokens for onestar reviews\n",
    "onestar_word_list = []\n",
    "\n",
    "for index, row in mtfive_1star_reviews_df.iterrows():\n",
    "        onestar_word_list.extend(remove_special_chars(mtfive_1star_reviews_df.iloc[index]['review_body']))\n",
    "            \n",
    "print(onestar_word_list[:20])"
   ]
  },
  {
   "cell_type": "code",
   "execution_count": 34,
   "metadata": {},
   "outputs": [
    {
     "name": "stdout",
     "output_type": "stream",
     "text": [
      "64832\n",
      "64373\n"
     ]
    }
   ],
   "source": [
    "print(mtfive_1star_reviews_df['num_of_words'].sum())\n",
    "print(len(onestar_word_list))"
   ]
  },
  {
   "cell_type": "code",
   "execution_count": 36,
   "metadata": {},
   "outputs": [
    {
     "name": "stdout",
     "output_type": "stream",
     "text": [
      "64373\n"
     ]
    }
   ],
   "source": [
    "# lemmatizing OneStar Tokens\n",
    "onestar_word_list = lemmatize_tokens(onestar_word_list)\n",
    "print(len(onestar_word_list))"
   ]
  },
  {
   "cell_type": "code",
   "execution_count": 38,
   "metadata": {},
   "outputs": [
    {
     "name": "stdout",
     "output_type": "stream",
     "text": [
      "63706\n"
     ]
    }
   ],
   "source": [
    "# remove Domain Stop words\n",
    "onestar_word_list = rm_stopwords(onestar_word_list, domain_stopwords)\n",
    "print(len(onestar_word_list))"
   ]
  },
  {
   "cell_type": "code",
   "execution_count": 39,
   "metadata": {},
   "outputs": [
    {
     "name": "stdout",
     "output_type": "stream",
     "text": [
      "32554\n"
     ]
    }
   ],
   "source": [
    "# remove OneStar Stop words\n",
    "onestar_word_list = rm_stopwords(onestar_word_list, onestar_stopwords)\n",
    "print(len(onestar_word_list))"
   ]
  },
  {
   "cell_type": "code",
   "execution_count": 40,
   "metadata": {},
   "outputs": [
    {
     "name": "stdout",
     "output_type": "stream",
     "text": [
      "4525\n"
     ]
    }
   ],
   "source": [
    "# set of unique OneStar tokens\n",
    "onestar_uniq_words = {}\n",
    "onestar_uniq_words = get_uniq_words(onestar_word_list)\n",
    "#print(onestar_uniq_words)\n",
    "print(len(onestar_uniq_words))"
   ]
  },
  {
   "cell_type": "code",
   "execution_count": 41,
   "metadata": {},
   "outputs": [],
   "source": [
    "# sorting dictionary by values in descending order\n",
    "onestar_uniq_sorted = sorted(onestar_uniq_words.items(), key=lambda x: x[1], reverse=True)\n"
   ]
  },
  {
   "cell_type": "code",
   "execution_count": 44,
   "metadata": {},
   "outputs": [
    {
     "name": "stdout",
     "output_type": "stream",
     "text": [
      "[('good', 154), ('quality', 146), ('come', 142), ('mic', 139), ('didnt', 131), ('other', 130), ('look', 127), ('off', 119), ('more', 116), ('too', 112), ('than', 109), ('say', 107), ('great', 105), ('really', 102), ('2', 102), ('well', 100), ('send', 99), ('waste', 98), ('never', 97)]\n"
     ]
    }
   ],
   "source": [
    "# printing first 200 items in dictionary\n",
    "print(onestar_uniq_sorted[21:40])"
   ]
  },
  {
   "cell_type": "code",
   "execution_count": null,
   "metadata": {},
   "outputs": [],
   "source": [
    "ten_words_df = reviews_df[reviews_df['num_of_words'] <= 10]\n",
    "ten_words_df.info()"
   ]
  },
  {
   "cell_type": "code",
   "execution_count": null,
   "metadata": {},
   "outputs": [],
   "source": [
    "large_words_df = reviews_df[reviews_df['num_of_words'] >= 2000]\n",
    "large_words_df.info()"
   ]
  },
  {
   "cell_type": "code",
   "execution_count": null,
   "metadata": {},
   "outputs": [],
   "source": [
    "y=reviews_df['star_rating']\n",
    "x=reviews_df['num_of_words']\n"
   ]
  },
  {
   "cell_type": "code",
   "execution_count": null,
   "metadata": {},
   "outputs": [],
   "source": [
    "plt.figure(figsize=(15,10))\n",
    "sns.scatterplot(x,y)"
   ]
  },
  {
   "cell_type": "markdown",
   "metadata": {},
   "source": [
    "Test area below"
   ]
  },
  {
   "cell_type": "code",
   "execution_count": null,
   "metadata": {},
   "outputs": [],
   "source": [
    "print(count_words(\"This is not such a long sentence ya ?\"))"
   ]
  },
  {
   "cell_type": "code",
   "execution_count": null,
   "metadata": {},
   "outputs": [],
   "source": [
    "print(reviews_df.iloc[19912])\n",
    "print(reviews_df.loc[19912, 'review_body'])"
   ]
  },
  {
   "cell_type": "code",
   "execution_count": null,
   "metadata": {},
   "outputs": [],
   "source": [
    "## testing re functionality \n",
    "words = re.findall(['], \"This isn't a crazy 22 test string . What exactly is it?\")\n",
    "print(words)\n",
    "print(len(words))"
   ]
  },
  {
   "cell_type": "code",
   "execution_count": null,
   "metadata": {},
   "outputs": [],
   "source": [
    "ques=\"?\"\n",
    "excla=\"!\"\n",
    "test_str = \"Wow! that! is totally awesome!! No?\"\n",
    "print(test_str.count(\"?\"))\n",
    "print(test_str.count(\"!\"))"
   ]
  },
  {
   "cell_type": "code",
   "execution_count": null,
   "metadata": {},
   "outputs": [],
   "source": [
    "test_a = \"This is a small review. Yes ^$ or no? I don't really know. Amazon !!\"\n",
    "#print(remove_special_chars(test_a))\n",
    "print(mt_five_word_reviews_df.iloc[100]['review_body'])\n",
    "print(remove_special_chars(mt_five_word_reviews_df.iloc[100]['review_body']))"
   ]
  },
  {
   "cell_type": "code",
   "execution_count": null,
   "metadata": {},
   "outputs": [],
   "source": []
  },
  {
   "cell_type": "code",
   "execution_count": null,
   "metadata": {},
   "outputs": [],
   "source": [
    "list_words = []\n",
    "print(mt_five_word_reviews_df.iloc[10777]['review_body'])\n",
    "list_words = remove_special_chars(mt_five_word_reviews_df.iloc[10777]['review_body'])\n",
    "#list_words = mt_five_word_reviews_df.iloc[10777]['review_body']\n",
    "print(\"\\n\\n\")\n",
    "#list_words = list_words.replace(\"<br />\",\" \")\n",
    "#print(list_words)\n",
    "\n",
    "print(get_uniq_words(list_words))"
   ]
  },
  {
   "cell_type": "code",
   "execution_count": null,
   "metadata": {},
   "outputs": [],
   "source": [
    "# filtering only reviews with exclamation or question marks\n",
    "onestar_filtered_df = onestar_reviews_df.drop(onestar_reviews_df[(onestar_reviews_df['num_exclamations_marks'] == 0) & (onestar_reviews_df['num_questions_marks'] == 0)].index)\n",
    "onestar_filtered_df.head()"
   ]
  },
  {
   "cell_type": "code",
   "execution_count": null,
   "metadata": {},
   "outputs": [],
   "source": [
    "onestar_exclam_count = onestar_filtered_df[onestar_filtered_df['num_exclamations_marks'] != 0].count()\n",
    "print(onestar_exclam_count['num_exclamations_marks'])"
   ]
  },
  {
   "cell_type": "code",
   "execution_count": null,
   "metadata": {},
   "outputs": [],
   "source": [
    "onestar_ques_count = onestar_filtered_df[onestar_filtered_df['num_questions_marks'] != 0].count()\n",
    "print(onestar_ques_count['num_questions_marks'])"
   ]
  },
  {
   "cell_type": "code",
   "execution_count": null,
   "metadata": {},
   "outputs": [],
   "source": [
    "onestar_filtered_df.tail(30)"
   ]
  },
  {
   "cell_type": "code",
   "execution_count": null,
   "metadata": {},
   "outputs": [],
   "source": [
    "domain_stopwords ={\"amazon\",\"bought\",\"purchase\",\"purchased\",\"ordered\",\"buy\",\"facebook\",\n",
    "                   \"google\"}"
   ]
  },
  {
   "cell_type": "code",
   "execution_count": null,
   "metadata": {},
   "outputs": [],
   "source": [
    "onestar_stopwords = {\"the\",\"i\",\"a\",\"and\",\"to\",\"of\",\"this\",\"for\",\"is\",\"was\",\n",
    "                    \"in\",\"that\",\"on\",\"my\",\"you\",\"they\",\"have\",\"so\",\"as\",\"are\",\"at\",\"be\",\n",
    "                    \"had\",\"would\",\"if\",\"all\",\"get\",\"them\",\"these\",\"from\",\"its\",\"when\",\"or\",\n",
    "                     \"me\",\"will\",\"back\",\"an\",\"sound\",\"were\",\"do\",\"what\",\"guitar\",\"time\",\n",
    "                    \"did\",\"money\",\"about\",\"your\",\"two\",\"we\",\"first\",\"could\",\n",
    "                    \"because\",\"tried\",\"return\",\"there\",\"which\",\"made\",\"any\",\"now\",\"am\",\"then\",\n",
    "                    \"by\",\"thing\",\"also\",\"received\",\"im\",\"way\",\"their\",\"item\",\"way\",\"before\",\n",
    "                     \"after\",\"power\",\"into\",\"came\",\"put\",\"3\",\"piece\",\"been\",\"something\",\n",
    "                    \"both\",\"months\",\"through\",\"unit\",\"ive\",\n",
    "                    \"string\",\"set\",\"play\",\"another\",\"see\",\"think\",\"want\",\"how\",\"reviews\",\n",
    "                    \"years\",\"using\",\"still\",\"should\",\"day\",\"said\",\"where\",\"review\",\"week\",\n",
    "                    \"go\",\"going\",\"hold\",\"try\",\"went\",\"every\",\"it\",\"etc\"}\n",
    "print(len(onestar_stopwords))"
   ]
  },
  {
   "cell_type": "code",
   "execution_count": null,
   "metadata": {},
   "outputs": [],
   "source": [
    "test_list = [\"amazon\",\"buy\",\"bought\",\"orange\",\"purchased\",\"guitar\",\"pick\",\"apple\",\"amazons\",\n",
    "             \"buys\",\"purchase\",\"string\",\"strings\",\"wouldnt\",\"hightension\",\"flies\",\"is\",\n",
    "             \"was\",\"go\",\"going\",\"the\",\"an\"]\n"
   ]
  },
  {
   "cell_type": "code",
   "execution_count": null,
   "metadata": {},
   "outputs": [],
   "source": [
    "new_test_list = test_list.copy()\n",
    "\n",
    "new_test_list.append('more')\n",
    "\n",
    "print(\"Test List =\", test_list,\"\\n\")\n",
    "print(\"new test list =\", new_test_list)\n"
   ]
  },
  {
   "cell_type": "code",
   "execution_count": null,
   "metadata": {},
   "outputs": [],
   "source": [
    "# testing WordNet Lemmatization\n",
    "import nltk\n",
    "from nltk.stem import WordNetLemmatizer\n",
    "wordnet_lemmatizer = WordNetLemmatizer()\n",
    "\n",
    "for word in test_list:\n",
    "    print(\"Lemma for {} is {}\".format(word, wordnet_lemmatizer.lemmatize(word)))\n",
    "\n",
    "#print(test_list)"
   ]
  },
  {
   "cell_type": "code",
   "execution_count": null,
   "metadata": {},
   "outputs": [],
   "source": [
    "# testing Porter Stemmer\n",
    "from nltk.stem.porter import PorterStemmer\n",
    "porter_stemmer  = PorterStemmer()\n",
    "\n",
    "for word in test_list:\n",
    "    print(\"Stemm for {} is {}\".format(word, porter_stemmer.stem(word)))"
   ]
  },
  {
   "cell_type": "code",
   "execution_count": null,
   "metadata": {},
   "outputs": [],
   "source": [
    "# testing pattern\n",
    "import pattern \n",
    "from pattern.en import lemma, lexeme \n",
    "from pattern.en import parse \n",
    "  \n",
    "sentence = \"the bats saw the cats with best stripes hanging upside down by their feet\"\n",
    "  \n",
    "#lemmatized_sentence = \" \".join([lemma(word) for word in sentence.split()]) \n",
    "\n",
    "for word in test_list:\n",
    "    print(\"Pattern for {} is {}\".format(word, lemma(word)))\n",
    "#print(lemmatized_sentence) "
   ]
  },
  {
   "cell_type": "code",
   "execution_count": null,
   "metadata": {},
   "outputs": [],
   "source": [
    "# testing Gensim\n",
    "from gensim.utils import lemmatize \n",
    "  \n",
    "for word in test_list:\n",
    "    lemm_word = str(lemmatize(word))\n",
    "    #print(type(lemm_word))\n",
    "    lemm_word = lemm_word.split('/')[0]\n",
    "    print(\"Gensim for {} is {}\".format(word, lemm_word))\n",
    "    \n",
    "#lemmatized_out = [wd.decode('utf-8').split('/')[0] for wd in lemmatize(sentence)]\n"
   ]
  },
  {
   "cell_type": "code",
   "execution_count": null,
   "metadata": {},
   "outputs": [],
   "source": [
    "import pattern \n",
    "from pattern.en import lemma\n",
    "#from pattern.en import parse\n",
    "\n",
    "lemms_list = []\n",
    "for word in lemm_onestar_word_list:\n",
    "    lemms_list.append(lemma(word))\n",
    "\n",
    "print(lemms_list[:20])\n",
    "print(len(lemms_list))"
   ]
  },
  {
   "cell_type": "code",
   "execution_count": null,
   "metadata": {},
   "outputs": [],
   "source": [
    "def lemmatize_tokens(data):\n",
    "    lemm_list = []\n",
    "    for word in data:\n",
    "        lemm_list.append(lemma(word))\n",
    "\n",
    "    return lemm_list"
   ]
  },
  {
   "cell_type": "code",
   "execution_count": null,
   "metadata": {},
   "outputs": [],
   "source": [
    "print(lemmatize_tokens(test_list))"
   ]
  },
  {
   "cell_type": "code",
   "execution_count": 37,
   "metadata": {},
   "outputs": [
    {
     "name": "stdout",
     "output_type": "stream",
     "text": [
      "['i', 'be', 'hope', 'it', 'would', 'work', 'well', 'but', 'try', 'a', 'second', 'cord', 'and', 'would', 'only', 'receive', 'a', 'lot', 'of', 'static']\n",
      "64373\n"
     ]
    }
   ],
   "source": [
    "# creating copy onestar_word_list to test Lemmatization\n",
    "lemm_onestar_word_list = []\n",
    "lemm_onestar_word_list = onestar_word_list.copy()\n",
    "print(lemm_onestar_word_list[:20])\n",
    "print(len(lemm_onestar_word_list))"
   ]
  },
  {
   "cell_type": "code",
   "execution_count": null,
   "metadata": {},
   "outputs": [],
   "source": [
    "print(lemms_list[64300:])"
   ]
  },
  {
   "cell_type": "code",
   "execution_count": null,
   "metadata": {},
   "outputs": [],
   "source": [
    "lemm_uniq_words = {}\n",
    "lemm_uniq_words = get_uniq_words(lemms_list)\n",
    "print(len(lemm_uniq_words))"
   ]
  },
  {
   "cell_type": "code",
   "execution_count": null,
   "metadata": {},
   "outputs": [],
   "source": [
    "lemm_uniq_sorted = sorted(lemm_uniq_words.items(), key=lambda x: x[1], reverse=True)"
   ]
  },
  {
   "cell_type": "code",
   "execution_count": null,
   "metadata": {},
   "outputs": [],
   "source": [
    "print(lemm_uniq_sorted[:30])"
   ]
  },
  {
   "cell_type": "code",
   "execution_count": null,
   "metadata": {},
   "outputs": [],
   "source": [
    "# remove Domain & OneStar Stop words\n",
    "lemms_list = rm_stopwords(lemms_list, domain_stopwords)\n",
    "print(len(lemms_list))\n",
    "lemms_list = rm_stopwords(lemms_list, onestar_stopwords)\n",
    "print(len(lemms_list))"
   ]
  }
 ],
 "metadata": {
  "kernelspec": {
   "display_name": "Python 3",
   "language": "python",
   "name": "python3"
  },
  "language_info": {
   "codemirror_mode": {
    "name": "ipython",
    "version": 3
   },
   "file_extension": ".py",
   "mimetype": "text/x-python",
   "name": "python",
   "nbconvert_exporter": "python",
   "pygments_lexer": "ipython3",
   "version": "3.8.3"
  }
 },
 "nbformat": 4,
 "nbformat_minor": 4
}
