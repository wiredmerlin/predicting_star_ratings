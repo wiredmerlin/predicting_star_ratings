{
 "cells": [
  {
   "cell_type": "code",
   "execution_count": 1,
   "metadata": {},
   "outputs": [],
   "source": [
    "import numpy as np\n",
    "import pandas as pd\n",
    "#import re\n",
    "%matplotlib inline\n",
    "import matplotlib.pyplot as plt\n",
    "import seaborn as sns\n",
    "import pattern \n",
    "from pattern.en import lemma"
   ]
  },
  {
   "cell_type": "code",
   "execution_count": 2,
   "metadata": {},
   "outputs": [],
   "source": [
    "data_file = \"~/Documents/python/project02/amazon_musical_instru_star_rev_only.tsv\"\n",
    "col_list = [\"star_rating\",\"review_body\"]\n",
    "#reviews_df = pd.read_csv(data_file, sep=\"\\t\", usecols=col_list, low_memory=False)\n",
    "reviews_df = pd.read_csv(data_file, sep=\"\\t\", usecols=col_list, nrows=20000)"
   ]
  },
  {
   "cell_type": "code",
   "execution_count": 3,
   "metadata": {},
   "outputs": [],
   "source": [
    "reviews_df['star_rating'] = reviews_df['star_rating'].fillna(0)\n",
    "reviews_df['review_body'] = reviews_df['review_body'].fillna('')"
   ]
  },
  {
   "cell_type": "code",
   "execution_count": 4,
   "metadata": {},
   "outputs": [
    {
     "name": "stdout",
     "output_type": "stream",
     "text": [
      "<class 'pandas.core.frame.DataFrame'>\n",
      "RangeIndex: 20000 entries, 0 to 19999\n",
      "Data columns (total 2 columns):\n",
      " #   Column       Non-Null Count  Dtype \n",
      "---  ------       --------------  ----- \n",
      " 0   star_rating  20000 non-null  int64 \n",
      " 1   review_body  20000 non-null  object\n",
      "dtypes: int64(1), object(1)\n",
      "memory usage: 312.6+ KB\n"
     ]
    }
   ],
   "source": [
    "reviews_df.info()"
   ]
  },
  {
   "cell_type": "code",
   "execution_count": 5,
   "metadata": {},
   "outputs": [
    {
     "name": "stdout",
     "output_type": "stream",
     "text": [
      "Min star: 1\n",
      "Max star: 5\n",
      "Average star: 4.28765\n",
      "Median star: 5.0\n"
     ]
    }
   ],
   "source": [
    "# stats on the star rating for the 20,000 records\n",
    "print(\"Min star:\", reviews_df['star_rating'].min())\n",
    "print(\"Max star:\", reviews_df['star_rating'].max())\n",
    "print(\"Average star:\", reviews_df['star_rating'].mean())\n",
    "print(\"Median star:\", reviews_df['star_rating'].median())"
   ]
  },
  {
   "cell_type": "code",
   "execution_count": 6,
   "metadata": {},
   "outputs": [],
   "source": [
    "def count_words(data):\n",
    "    return len(data.split())"
   ]
  },
  {
   "cell_type": "code",
   "execution_count": 7,
   "metadata": {},
   "outputs": [],
   "source": [
    "def count_excla(data):\n",
    "    return data.count(\"!\")"
   ]
  },
  {
   "cell_type": "code",
   "execution_count": 8,
   "metadata": {},
   "outputs": [],
   "source": [
    "def count_ques(data):\n",
    "    return data.count(\"?\")"
   ]
  },
  {
   "cell_type": "code",
   "execution_count": 9,
   "metadata": {},
   "outputs": [],
   "source": [
    "# removes special characters are some \"<br />\" and returns list of words\n",
    "def remove_special_chars(data):\n",
    "    word_list = []\n",
    "    cleaned_list = []\n",
    "    alphanum = \"\"\n",
    "    data = data.replace(\"<br />\",\" \") #replace <br /> text in some reviews with space\n",
    "    word_list = data.lower().split()\n",
    "    \n",
    "    for word in word_list:\n",
    "        alphanum = [character for character in word if character.isalnum()]\n",
    "        alphanum = \"\".join(alphanum)\n",
    "        cleaned_list.append(alphanum)\n",
    "        \n",
    "    cleaned_list = list(filter(None, cleaned_list)) #remove Null values\n",
    "    \n",
    "    return cleaned_list"
   ]
  },
  {
   "cell_type": "code",
   "execution_count": 10,
   "metadata": {},
   "outputs": [],
   "source": [
    "# returns a dictionary with the word and number of occurances\n",
    "def get_uniq_words(data):\n",
    "    word_counter = {}\n",
    "    for word in data:\n",
    "        word_counter[word] = word_counter.get(word, 0) + 1\n",
    "        \n",
    "    return(word_counter)"
   ]
  },
  {
   "cell_type": "code",
   "execution_count": 11,
   "metadata": {},
   "outputs": [],
   "source": [
    "def count_excla_review(data):\n",
    "    return data[data['num_exclamations_marks'] != 0].count()"
   ]
  },
  {
   "cell_type": "code",
   "execution_count": 12,
   "metadata": {},
   "outputs": [],
   "source": [
    "def count_ques_review(data):\n",
    "    return data[data['num_questions_marks'] != 0].count()"
   ]
  },
  {
   "cell_type": "code",
   "execution_count": 13,
   "metadata": {},
   "outputs": [],
   "source": [
    "def calc_percent(numer, denom):\n",
    "    return int((numer/denom)*100)"
   ]
  },
  {
   "cell_type": "code",
   "execution_count": 14,
   "metadata": {},
   "outputs": [],
   "source": [
    "def rm_stopwords(list_data, stop_data):\n",
    "    list_data = [word for word in list_data if word not in stop_data]\n",
    "    return list_data"
   ]
  },
  {
   "cell_type": "code",
   "execution_count": 15,
   "metadata": {},
   "outputs": [],
   "source": [
    "def lemmatize_tokens(data):\n",
    "    lemm_list = []\n",
    "    for word in data:\n",
    "        lemm_list.append(lemma(word))\n",
    "\n",
    "    return lemm_list"
   ]
  },
  {
   "cell_type": "code",
   "execution_count": 16,
   "metadata": {},
   "outputs": [],
   "source": [
    "# Count number of words for each review and add a column to the dataframe\n",
    "word_count = []\n",
    "excla_count = []\n",
    "ques_count = []\n",
    "for index, row in reviews_df.iterrows():\n",
    "    word_count.append(count_words(reviews_df.iloc[index]['review_body']))\n",
    "    excla_count.append(count_excla(reviews_df.iloc[index]['review_body']))\n",
    "    ques_count.append(count_ques(reviews_df.iloc[index]['review_body']))\n",
    "    \n",
    "reviews_df[\"num_of_words\"] = word_count\n",
    "reviews_df[\"num_exclamations_marks\"] = excla_count\n",
    "reviews_df[\"num_questions_marks\"]= ques_count"
   ]
  },
  {
   "cell_type": "code",
   "execution_count": 17,
   "metadata": {},
   "outputs": [
    {
     "name": "stdout",
     "output_type": "stream",
     "text": [
      "Stats on word count for all reviews\n",
      "-----------------------------------\n",
      "Min number of words: 0\n",
      "Max number of words: 2163\n",
      "Average number of words: 41.6003\n",
      "Median number of words: 17.0\n"
     ]
    }
   ],
   "source": [
    "# Stats on Word Count for all reviews\n",
    "print(\"Stats on word count for all reviews\")\n",
    "print(\"-----------------------------------\")\n",
    "print(\"Min number of words:\", reviews_df['num_of_words'].min())\n",
    "print(\"Max number of words:\", reviews_df['num_of_words'].max())\n",
    "print(\"Average number of words:\", reviews_df['num_of_words'].mean())\n",
    "print(\"Median number of words:\", reviews_df['num_of_words'].median())"
   ]
  },
  {
   "cell_type": "code",
   "execution_count": null,
   "metadata": {},
   "outputs": [],
   "source": [
    "# Stats on number of exclamation and question marks for all reviews\n",
    "print(\"Stats on exclamation marks for all reviews\")\n",
    "print(\"-----------------------------------\")\n",
    "print(\"Min number of exclamation marks:\", reviews_df['num_exclamations_marks'].min())\n",
    "print(\"Max number of exclamation marks:\", reviews_df['num_exclamations_marks'].max())\n",
    "print(\"Average number of exclamation marks:\", reviews_df['num_exclamations_marks'].mean())\n",
    "print(\"Median number of exclamation marks:\", reviews_df['num_exclamations_marks'].median())\n",
    "print('\\n')\n",
    "print(\"Stats on question marks for all reviews\")\n",
    "print(\"-----------------------------------\")\n",
    "print(\"Min number of question marks:\", reviews_df['num_questions_marks'].min())\n",
    "print(\"Max number of question marks:\", reviews_df['num_questions_marks'].max())\n",
    "print(\"Average number of question marks:\", reviews_df['num_questions_marks'].mean())\n",
    "print(\"Median number of question marks:\", reviews_df['num_questions_marks'].median())"
   ]
  },
  {
   "cell_type": "code",
   "execution_count": 18,
   "metadata": {},
   "outputs": [
    {
     "data": {
      "text/html": [
       "<div>\n",
       "<style scoped>\n",
       "    .dataframe tbody tr th:only-of-type {\n",
       "        vertical-align: middle;\n",
       "    }\n",
       "\n",
       "    .dataframe tbody tr th {\n",
       "        vertical-align: top;\n",
       "    }\n",
       "\n",
       "    .dataframe thead th {\n",
       "        text-align: right;\n",
       "    }\n",
       "</style>\n",
       "<table border=\"1\" class=\"dataframe\">\n",
       "  <thead>\n",
       "    <tr style=\"text-align: right;\">\n",
       "      <th></th>\n",
       "      <th>review_body</th>\n",
       "      <th>num_of_words</th>\n",
       "      <th>num_exclamations_marks</th>\n",
       "      <th>num_questions_marks</th>\n",
       "    </tr>\n",
       "    <tr>\n",
       "      <th>star_rating</th>\n",
       "      <th></th>\n",
       "      <th></th>\n",
       "      <th></th>\n",
       "      <th></th>\n",
       "    </tr>\n",
       "  </thead>\n",
       "  <tbody>\n",
       "    <tr>\n",
       "      <th>1</th>\n",
       "      <td>1482</td>\n",
       "      <td>1482</td>\n",
       "      <td>1482</td>\n",
       "      <td>1482</td>\n",
       "    </tr>\n",
       "    <tr>\n",
       "      <th>2</th>\n",
       "      <td>817</td>\n",
       "      <td>817</td>\n",
       "      <td>817</td>\n",
       "      <td>817</td>\n",
       "    </tr>\n",
       "    <tr>\n",
       "      <th>3</th>\n",
       "      <td>1402</td>\n",
       "      <td>1402</td>\n",
       "      <td>1402</td>\n",
       "      <td>1402</td>\n",
       "    </tr>\n",
       "    <tr>\n",
       "      <th>4</th>\n",
       "      <td>3064</td>\n",
       "      <td>3064</td>\n",
       "      <td>3064</td>\n",
       "      <td>3064</td>\n",
       "    </tr>\n",
       "    <tr>\n",
       "      <th>5</th>\n",
       "      <td>13235</td>\n",
       "      <td>13235</td>\n",
       "      <td>13235</td>\n",
       "      <td>13235</td>\n",
       "    </tr>\n",
       "  </tbody>\n",
       "</table>\n",
       "</div>"
      ],
      "text/plain": [
       "             review_body  num_of_words  num_exclamations_marks  \\\n",
       "star_rating                                                      \n",
       "1                   1482          1482                    1482   \n",
       "2                    817           817                     817   \n",
       "3                   1402          1402                    1402   \n",
       "4                   3064          3064                    3064   \n",
       "5                  13235         13235                   13235   \n",
       "\n",
       "             num_questions_marks  \n",
       "star_rating                       \n",
       "1                           1482  \n",
       "2                            817  \n",
       "3                           1402  \n",
       "4                           3064  \n",
       "5                          13235  "
      ]
     },
     "execution_count": 18,
     "metadata": {},
     "output_type": "execute_result"
    }
   ],
   "source": [
    "# number of reviews for each star rating\n",
    "reviews_df.groupby(['star_rating']).count()"
   ]
  },
  {
   "cell_type": "code",
   "execution_count": 19,
   "metadata": {},
   "outputs": [
    {
     "name": "stdout",
     "output_type": "stream",
     "text": [
      "<class 'pandas.core.frame.DataFrame'>\n",
      "Int64Index: 1482 entries, 17 to 19962\n",
      "Data columns (total 5 columns):\n",
      " #   Column                  Non-Null Count  Dtype \n",
      "---  ------                  --------------  ----- \n",
      " 0   star_rating             1482 non-null   int64 \n",
      " 1   review_body             1482 non-null   object\n",
      " 2   num_of_words            1482 non-null   int64 \n",
      " 3   num_exclamations_marks  1482 non-null   int64 \n",
      " 4   num_questions_marks     1482 non-null   int64 \n",
      "dtypes: int64(4), object(1)\n",
      "memory usage: 69.5+ KB\n"
     ]
    }
   ],
   "source": [
    "# analyzing One Star reviews\n",
    "onestar_reviews_df = reviews_df[reviews_df['star_rating'] == 1]\n",
    "onestar_reviews_df.info()"
   ]
  },
  {
   "cell_type": "code",
   "execution_count": null,
   "metadata": {},
   "outputs": [],
   "source": [
    "# Stats on Word, Exclamation & question mark Count for one star reviews\n",
    "print(\"Stats on word, Exclamation & question mark count for 1 Star Reviews\")\n",
    "print(\"----------------------------------------\")\n",
    "print(\"Min number of words:\", onestar_reviews_df['num_of_words'].min())\n",
    "print(\"Max number of words:\", onestar_reviews_df['num_of_words'].max())\n",
    "print(\"Average number of words:\", onestar_reviews_df['num_of_words'].mean())\n",
    "print(\"Median number of words:\", onestar_reviews_df['num_of_words'].median())\n",
    "print(\"Max number of Exclamation Marks:\", onestar_reviews_df['num_exclamations_marks'].max())\n",
    "print(\"Average number of Exclamation Marks:\", onestar_reviews_df['num_exclamations_marks'].mean())\n",
    "print(\"Median number of Exclamation Marks:\", onestar_reviews_df['num_exclamations_marks'].median())\n",
    "print(\"Max number of Question Marks:\", onestar_reviews_df['num_questions_marks'].max())\n",
    "print(\"Average number of Question Marks:\", onestar_reviews_df['num_questions_marks'].mean())\n",
    "print(\"Median number of Question Marks:\", onestar_reviews_df['num_questions_marks'].median())"
   ]
  },
  {
   "cell_type": "code",
   "execution_count": 20,
   "metadata": {},
   "outputs": [
    {
     "name": "stdout",
     "output_type": "stream",
     "text": [
      "<class 'pandas.core.frame.DataFrame'>\n",
      "Int64Index: 817 entries, 6 to 19993\n",
      "Data columns (total 5 columns):\n",
      " #   Column                  Non-Null Count  Dtype \n",
      "---  ------                  --------------  ----- \n",
      " 0   star_rating             817 non-null    int64 \n",
      " 1   review_body             817 non-null    object\n",
      " 2   num_of_words            817 non-null    int64 \n",
      " 3   num_exclamations_marks  817 non-null    int64 \n",
      " 4   num_questions_marks     817 non-null    int64 \n",
      "dtypes: int64(4), object(1)\n",
      "memory usage: 38.3+ KB\n"
     ]
    }
   ],
   "source": [
    "# analyzing Two Star reviews\n",
    "twostar_reviews_df = reviews_df[reviews_df['star_rating'] == 2]\n",
    "twostar_reviews_df.info()"
   ]
  },
  {
   "cell_type": "code",
   "execution_count": null,
   "metadata": {},
   "outputs": [],
   "source": [
    "# Stats on Word Count for two star reviews\n",
    "print(\"Stats on word, exclamation & question mark count for 2 Star Reviews\")\n",
    "print(\"---------------------------------------\")\n",
    "print(\"Min number of words:\", twostar_reviews_df['num_of_words'].min())\n",
    "print(\"Max number of words:\", twostar_reviews_df['num_of_words'].max())\n",
    "print(\"Average number of words:\", twostar_reviews_df['num_of_words'].mean())\n",
    "print(\"Median number of words:\", twostar_reviews_df['num_of_words'].median())\n",
    "print(\"Max number of exclamation marks:\", twostar_reviews_df['num_exclamations_marks'].max())\n",
    "print(\"Average number of exclamation marks:\", twostar_reviews_df['num_exclamations_marks'].mean())\n",
    "print(\"Median number of exclamation marks:\", twostar_reviews_df['num_exclamations_marks'].median())\n",
    "print(\"Max number of question marks:\", twostar_reviews_df['num_questions_marks'].max())\n",
    "print(\"Average number of question marks:\", twostar_reviews_df['num_questions_marks'].mean())\n",
    "print(\"Median number of question marks:\", twostar_reviews_df['num_questions_marks'].median())"
   ]
  },
  {
   "cell_type": "code",
   "execution_count": 21,
   "metadata": {},
   "outputs": [
    {
     "name": "stdout",
     "output_type": "stream",
     "text": [
      "<class 'pandas.core.frame.DataFrame'>\n",
      "Int64Index: 1402 entries, 0 to 19959\n",
      "Data columns (total 5 columns):\n",
      " #   Column                  Non-Null Count  Dtype \n",
      "---  ------                  --------------  ----- \n",
      " 0   star_rating             1402 non-null   int64 \n",
      " 1   review_body             1402 non-null   object\n",
      " 2   num_of_words            1402 non-null   int64 \n",
      " 3   num_exclamations_marks  1402 non-null   int64 \n",
      " 4   num_questions_marks     1402 non-null   int64 \n",
      "dtypes: int64(4), object(1)\n",
      "memory usage: 65.7+ KB\n"
     ]
    }
   ],
   "source": [
    "# analyzing Three Star reviews\n",
    "threestar_reviews_df = reviews_df[reviews_df['star_rating'] == 3]\n",
    "threestar_reviews_df.info()"
   ]
  },
  {
   "cell_type": "code",
   "execution_count": null,
   "metadata": {},
   "outputs": [],
   "source": [
    "# Stats on Word, exclamation & question mark Count for three star reviews\n",
    "print(\"Stats on word, exclamation & question mark count for 3 Star Reviews\")\n",
    "print(\"------------------------------------------\")\n",
    "print(\"Min number of words:\", threestar_reviews_df['num_of_words'].min())\n",
    "print(\"Max number of words:\", threestar_reviews_df['num_of_words'].max())\n",
    "print(\"Average number of words:\", threestar_reviews_df['num_of_words'].mean())\n",
    "print(\"Median number of words:\", threestar_reviews_df['num_of_words'].median())\n",
    "print(\"Max number of exclamation marks:\", threestar_reviews_df['num_exclamations_marks'].max())\n",
    "print(\"Average number of exclamation marks:\", threestar_reviews_df['num_exclamations_marks'].mean())\n",
    "print(\"Median number of exclamation marks:\", threestar_reviews_df['num_exclamations_marks'].median())\n",
    "print(\"Max number of questions marks:\", threestar_reviews_df['num_questions_marks'].max())\n",
    "print(\"Average number of questions marks:\", threestar_reviews_df['num_questions_marks'].mean())\n",
    "print(\"Median number of questions marks:\", threestar_reviews_df['num_questions_marks'].median())"
   ]
  },
  {
   "cell_type": "code",
   "execution_count": 22,
   "metadata": {},
   "outputs": [
    {
     "name": "stdout",
     "output_type": "stream",
     "text": [
      "<class 'pandas.core.frame.DataFrame'>\n",
      "Int64Index: 3064 entries, 11 to 19998\n",
      "Data columns (total 5 columns):\n",
      " #   Column                  Non-Null Count  Dtype \n",
      "---  ------                  --------------  ----- \n",
      " 0   star_rating             3064 non-null   int64 \n",
      " 1   review_body             3064 non-null   object\n",
      " 2   num_of_words            3064 non-null   int64 \n",
      " 3   num_exclamations_marks  3064 non-null   int64 \n",
      " 4   num_questions_marks     3064 non-null   int64 \n",
      "dtypes: int64(4), object(1)\n",
      "memory usage: 143.6+ KB\n"
     ]
    }
   ],
   "source": [
    "# analyzing Four Star reviews\n",
    "fourstar_reviews_df = reviews_df[reviews_df['star_rating'] == 4]\n",
    "fourstar_reviews_df.info()"
   ]
  },
  {
   "cell_type": "code",
   "execution_count": null,
   "metadata": {},
   "outputs": [],
   "source": [
    "# Stats on Word, exclamation & question marks Count for 4 star reviews\n",
    "print(\"Stats on word, exclamation & question marks count for 4 Star Reviews\")\n",
    "print(\"-----------------------------------------\")\n",
    "print(\"Min number of words:\", fourstar_reviews_df['num_of_words'].min())\n",
    "print(\"Max number of words:\", fourstar_reviews_df['num_of_words'].max())\n",
    "print(\"Average number of words:\", fourstar_reviews_df['num_of_words'].mean())\n",
    "print(\"Median number of words:\", fourstar_reviews_df['num_of_words'].median())\n",
    "print(\"Max number of exclamation marks:\", fourstar_reviews_df['num_exclamations_marks'].max())\n",
    "print(\"Average number of exclamation marks:\", fourstar_reviews_df['num_exclamations_marks'].mean())\n",
    "print(\"Median number of exclamation marks:\", fourstar_reviews_df['num_exclamations_marks'].median())\n",
    "print(\"Max number of question marks:\", fourstar_reviews_df['num_questions_marks'].max())\n",
    "print(\"Average number of question marks:\", fourstar_reviews_df['num_questions_marks'].mean())\n",
    "print(\"Median number of question marks:\", fourstar_reviews_df['num_questions_marks'].median())"
   ]
  },
  {
   "cell_type": "code",
   "execution_count": 23,
   "metadata": {},
   "outputs": [
    {
     "name": "stdout",
     "output_type": "stream",
     "text": [
      "<class 'pandas.core.frame.DataFrame'>\n",
      "Int64Index: 13235 entries, 1 to 19999\n",
      "Data columns (total 5 columns):\n",
      " #   Column                  Non-Null Count  Dtype \n",
      "---  ------                  --------------  ----- \n",
      " 0   star_rating             13235 non-null  int64 \n",
      " 1   review_body             13235 non-null  object\n",
      " 2   num_of_words            13235 non-null  int64 \n",
      " 3   num_exclamations_marks  13235 non-null  int64 \n",
      " 4   num_questions_marks     13235 non-null  int64 \n",
      "dtypes: int64(4), object(1)\n",
      "memory usage: 620.4+ KB\n"
     ]
    }
   ],
   "source": [
    "# analyzing Five Star reviews\n",
    "fivestar_reviews_df = reviews_df[reviews_df['star_rating'] == 5]\n",
    "fivestar_reviews_df.info()"
   ]
  },
  {
   "cell_type": "code",
   "execution_count": null,
   "metadata": {},
   "outputs": [],
   "source": [
    "# Stats on Word, exclamation & question marks Count for five star reviews\n",
    "print(\"Stats on word, exclamation & question marks count for 5 Star Reviews\")\n",
    "print(\"-----------------------------------------\")\n",
    "print(\"Min number of words:\", fivestar_reviews_df['num_of_words'].min())\n",
    "print(\"Max number of words:\", fivestar_reviews_df['num_of_words'].max())\n",
    "print(\"Average number of words:\", fivestar_reviews_df['num_of_words'].mean())\n",
    "print(\"Median number of words:\", fivestar_reviews_df['num_of_words'].median())\n",
    "print(\"Max number of exclamation marks:\", fivestar_reviews_df['num_exclamations_marks'].max())\n",
    "print(\"Average number of exclamation marks:\", fivestar_reviews_df['num_exclamations_marks'].mean())\n",
    "print(\"Median number of exclamation marks:\", fivestar_reviews_df['num_exclamations_marks'].median())\n",
    "print(\"Max number of question marks:\", fivestar_reviews_df['num_questions_marks'].max())\n",
    "print(\"Average number of question marks:\", fivestar_reviews_df['num_questions_marks'].mean())\n",
    "print(\"Median number of question marks:\", fivestar_reviews_df['num_questions_marks'].median())"
   ]
  },
  {
   "cell_type": "markdown",
   "metadata": {},
   "source": [
    "# Hypothesis 1:"
   ]
  },
  {
   "cell_type": "markdown",
   "metadata": {},
   "source": [
    "<b>Exclamation Marks used in reviews:</b><br>\n",
    "A substantial percentage of One Star and Five Star reviews will have Exclamation Marks. Two, Three and Four Star reviews will have a lower percentage as reviewers are less expressive \n",
    "\n",
    "<b>Question Marks used in reviews:</b></br>\n",
    "One Star reviews will have the largest percentage of Question Marks used. The percentage will drop through Two to Five Star reviews as reviewers will likely have less questions about the quality of the product."
   ]
  },
  {
   "cell_type": "code",
   "execution_count": 24,
   "metadata": {},
   "outputs": [
    {
     "name": "stdout",
     "output_type": "stream",
     "text": [
      "% of Exclamation Marks in One Star reviews: 18\n",
      "% of Question Marks in One Star reviews: 4 \n",
      "\n",
      "% of Exclamation Marks in Two Star reviews: 9\n",
      "% of Question Marks in Two Star reviews: 3 \n",
      "\n",
      "% of Exclamation Marks in Three Star reviews: 9\n",
      "% of Question Marks in One Star reviews: 3 \n",
      "\n",
      "% of Exclamation Marks in Four Star reviews: 14\n",
      "% of Question Marks in One Star reviews: 2 \n",
      "\n",
      "% of Exclamation Marks in Five Star reviews: 27\n",
      "% of Question Marks in One Star reviews: 1 \n",
      "\n"
     ]
    }
   ],
   "source": [
    "# counting number of exclamation and question marks for each star review category\n",
    "onestar_excla_series = count_excla_review(onestar_reviews_df)\n",
    "onestar_excla_count_val = calc_percent(onestar_excla_series['num_exclamations_marks'],\n",
    "                                       onestar_reviews_df['star_rating'].count())\n",
    "print(\"% of Exclamation Marks in One Star reviews:\", onestar_excla_count_val,)\n",
    "onestar_ques_series = count_ques_review(onestar_reviews_df)\n",
    "onestar_ques_count_val = calc_percent(onestar_ques_series['num_questions_marks'],\n",
    "                                      onestar_reviews_df['star_rating'].count())\n",
    "print(\"% of Question Marks in One Star reviews:\",onestar_ques_count_val, \"\\n\")\n",
    "twostar_excla_series = count_excla_review(twostar_reviews_df)\n",
    "twostar_excla_count_val = calc_percent(twostar_excla_series['num_exclamations_marks'],\n",
    "                                       twostar_reviews_df['star_rating'].count())\n",
    "print(\"% of Exclamation Marks in Two Star reviews:\",twostar_excla_count_val)\n",
    "twostar_ques_series = count_ques_review(twostar_reviews_df)\n",
    "twostar_ques_count_val = calc_percent(twostar_ques_series['num_questions_marks'],\n",
    "                                      twostar_reviews_df['star_rating'].count())\n",
    "print(\"% of Question Marks in Two Star reviews:\", twostar_ques_count_val, \"\\n\")\n",
    "threestar_excla_series = count_excla_review(threestar_reviews_df)\n",
    "threestar_excla_count_val = calc_percent(threestar_excla_series['num_exclamations_marks'],\n",
    "                                         threestar_reviews_df['star_rating'].count())\n",
    "print(\"% of Exclamation Marks in Three Star reviews:\",threestar_excla_count_val)\n",
    "threestar_ques_series = count_ques_review(threestar_reviews_df)\n",
    "threestar_ques_count_val = calc_percent(threestar_ques_series['num_questions_marks'],\n",
    "                                        threestar_reviews_df['star_rating'].count())\n",
    "print(\"% of Question Marks in One Star reviews:\", threestar_ques_count_val, \"\\n\")\n",
    "fourstar_excla_series = count_excla_review(fourstar_reviews_df)\n",
    "fourstar_excla_count_val = calc_percent(fourstar_excla_series['num_exclamations_marks'],\n",
    "                                        fourstar_reviews_df['star_rating'].count())\n",
    "print(\"% of Exclamation Marks in Four Star reviews:\",fourstar_excla_count_val)\n",
    "fourstar_ques_series = count_ques_review(fourstar_reviews_df)\n",
    "fourstar_ques_count_val = calc_percent(fourstar_ques_series['num_questions_marks'],\n",
    "                                       fourstar_reviews_df['star_rating'].count())\n",
    "print(\"% of Question Marks in One Star reviews:\", fourstar_ques_count_val, \"\\n\")\n",
    "fivestar_excla_series = count_excla_review(fivestar_reviews_df)\n",
    "fivestar_excla_count_val = calc_percent(fivestar_excla_series['num_exclamations_marks'],\n",
    "                                        fivestar_reviews_df['star_rating'].count())\n",
    "print(\"% of Exclamation Marks in Five Star reviews:\",fivestar_excla_count_val)\n",
    "fivestar_ques_series = count_ques_review(fivestar_reviews_df)\n",
    "fivestar_ques_count_val = calc_percent(fivestar_ques_series['num_questions_marks'],\n",
    "                                       fivestar_reviews_df['star_rating'].count())\n",
    "print(\"% of Question Marks in One Star reviews:\", fivestar_ques_count_val, \"\\n\")"
   ]
  },
  {
   "cell_type": "code",
   "execution_count": 25,
   "metadata": {},
   "outputs": [
    {
     "data": {
      "image/png": "[encoded data removed]",
      "text/plain": [
       "<Figure size 720x504 with 1 Axes>"
      ]
     },
     "metadata": {},
     "output_type": "display_data"
    }
   ],
   "source": [
    "# Plot bar chart comparing exclamation and question marks by review star rating\n",
    "\n",
    "allstar_e_q_count = {'Star_Rating':[1,2,3,4,5],\n",
    "                     'Percent_Exclamation_Marks':[onestar_excla_count_val,twostar_excla_count_val,\n",
    "                                               threestar_excla_count_val,fourstar_excla_count_val,\n",
    "                                               fivestar_excla_count_val],\n",
    "                    'Percent_Question_Marks':[onestar_ques_count_val,twostar_ques_count_val,\n",
    "                                           threestar_ques_count_val,fourstar_ques_count_val,\n",
    "                                           fivestar_ques_count_val]}\n",
    "\n",
    "allstar_excla_ques_count_df = pd.DataFrame(allstar_e_q_count)\n",
    "allstar_excla_ques_count_df = allstar_excla_ques_count_df.set_index('Star_Rating')\n",
    "\n",
    "#plt.figure(figsize=(10,10))\n",
    "sns.set_style(\"dark\")\n",
    "allstar_excla_ques_count_df.plot.bar(title=\"Percent of Exclamation and Question Marks\",\n",
    "                                    figsize=(10,7), grid=True)\n",
    "plt.ylabel(\"Percentage\")\n",
    "plt.xticks(rotation=0, horizontalalignment=\"center\")\n",
    "plt.show()"
   ]
  },
  {
   "cell_type": "markdown",
   "metadata": {},
   "source": [
    "<b>Results:</b></br>\n",
    "As observed from the graph above, One and Five Star reviews are have the largest percentage of Exclamation Marks. One Star reviews at 18% and Five Star reviews at 27%. This proves that reviewers are more expressive with dissatisfaction and satisfaction of their products.\n",
    "\n",
    "With regards to Question Marks, we observe that reviewers with the lowest satisfaction (One Star) question the quality/design/support of their product the most. One Star reviews had 4% Question Marks which dropped to 1% for Five Star reviews."
   ]
  },
  {
   "cell_type": "code",
   "execution_count": 26,
   "metadata": {},
   "outputs": [
    {
     "name": "stdout",
     "output_type": "stream",
     "text": [
      "<class 'pandas.core.frame.DataFrame'>\n",
      "Int64Index: 4597 entries, 2 to 19995\n",
      "Data columns (total 5 columns):\n",
      " #   Column                  Non-Null Count  Dtype \n",
      "---  ------                  --------------  ----- \n",
      " 0   star_rating             4597 non-null   int64 \n",
      " 1   review_body             4597 non-null   object\n",
      " 2   num_of_words            4597 non-null   int64 \n",
      " 3   num_exclamations_marks  4597 non-null   int64 \n",
      " 4   num_questions_marks     4597 non-null   int64 \n",
      "dtypes: int64(4), object(1)\n",
      "memory usage: 215.5+ KB\n"
     ]
    }
   ],
   "source": [
    "# all reviews with 5 or less words\n",
    "five_less_word_reviews_df = reviews_df[reviews_df['num_of_words'] <= 5]\n",
    "five_less_word_reviews_df.info()"
   ]
  },
  {
   "cell_type": "code",
   "execution_count": 27,
   "metadata": {},
   "outputs": [
    {
     "data": {
      "text/html": [
       "<div>\n",
       "<style scoped>\n",
       "    .dataframe tbody tr th:only-of-type {\n",
       "        vertical-align: middle;\n",
       "    }\n",
       "\n",
       "    .dataframe tbody tr th {\n",
       "        vertical-align: top;\n",
       "    }\n",
       "\n",
       "    .dataframe thead th {\n",
       "        text-align: right;\n",
       "    }\n",
       "</style>\n",
       "<table border=\"1\" class=\"dataframe\">\n",
       "  <thead>\n",
       "    <tr style=\"text-align: right;\">\n",
       "      <th></th>\n",
       "      <th>review_body</th>\n",
       "      <th>num_of_words</th>\n",
       "      <th>num_exclamations_marks</th>\n",
       "      <th>num_questions_marks</th>\n",
       "    </tr>\n",
       "    <tr>\n",
       "      <th>star_rating</th>\n",
       "      <th></th>\n",
       "      <th></th>\n",
       "      <th></th>\n",
       "      <th></th>\n",
       "    </tr>\n",
       "  </thead>\n",
       "  <tbody>\n",
       "    <tr>\n",
       "      <th>1</th>\n",
       "      <td>173</td>\n",
       "      <td>173</td>\n",
       "      <td>173</td>\n",
       "      <td>173</td>\n",
       "    </tr>\n",
       "    <tr>\n",
       "      <th>2</th>\n",
       "      <td>59</td>\n",
       "      <td>59</td>\n",
       "      <td>59</td>\n",
       "      <td>59</td>\n",
       "    </tr>\n",
       "    <tr>\n",
       "      <th>3</th>\n",
       "      <td>164</td>\n",
       "      <td>164</td>\n",
       "      <td>164</td>\n",
       "      <td>164</td>\n",
       "    </tr>\n",
       "    <tr>\n",
       "      <th>4</th>\n",
       "      <td>528</td>\n",
       "      <td>528</td>\n",
       "      <td>528</td>\n",
       "      <td>528</td>\n",
       "    </tr>\n",
       "    <tr>\n",
       "      <th>5</th>\n",
       "      <td>3673</td>\n",
       "      <td>3673</td>\n",
       "      <td>3673</td>\n",
       "      <td>3673</td>\n",
       "    </tr>\n",
       "  </tbody>\n",
       "</table>\n",
       "</div>"
      ],
      "text/plain": [
       "             review_body  num_of_words  num_exclamations_marks  \\\n",
       "star_rating                                                      \n",
       "1                    173           173                     173   \n",
       "2                     59            59                      59   \n",
       "3                    164           164                     164   \n",
       "4                    528           528                     528   \n",
       "5                   3673          3673                    3673   \n",
       "\n",
       "             num_questions_marks  \n",
       "star_rating                       \n",
       "1                            173  \n",
       "2                             59  \n",
       "3                            164  \n",
       "4                            528  \n",
       "5                           3673  "
      ]
     },
     "execution_count": 27,
     "metadata": {},
     "output_type": "execute_result"
    }
   ],
   "source": [
    "# analizing reviews with less or equal to 5 words\n",
    "five_less_word_reviews_df.groupby(['star_rating']).count()"
   ]
  },
  {
   "cell_type": "code",
   "execution_count": 28,
   "metadata": {},
   "outputs": [
    {
     "name": "stdout",
     "output_type": "stream",
     "text": [
      "<class 'pandas.core.frame.DataFrame'>\n",
      "Int64Index: 15403 entries, 0 to 19999\n",
      "Data columns (total 5 columns):\n",
      " #   Column                  Non-Null Count  Dtype \n",
      "---  ------                  --------------  ----- \n",
      " 0   star_rating             15403 non-null  int64 \n",
      " 1   review_body             15403 non-null  object\n",
      " 2   num_of_words            15403 non-null  int64 \n",
      " 3   num_exclamations_marks  15403 non-null  int64 \n",
      " 4   num_questions_marks     15403 non-null  int64 \n",
      "dtypes: int64(4), object(1)\n",
      "memory usage: 722.0+ KB\n"
     ]
    }
   ],
   "source": [
    "# all reviews with more than 5 words\n",
    "mt_five_word_reviews_df = reviews_df[reviews_df['num_of_words'] > 5]\n",
    "mt_five_word_reviews_df.info()"
   ]
  },
  {
   "cell_type": "code",
   "execution_count": null,
   "metadata": {},
   "outputs": [],
   "source": [
    "# Stats for reviews with more than 5 words\n",
    "print(\"Max number of words:\", mt_five_word_reviews_df['num_of_words'].max())\n",
    "print(\"Average number of words:\", mt_five_word_reviews_df['num_of_words'].mean())\n",
    "print(\"Median number of words:\", mt_five_word_reviews_df['num_of_words'].median())"
   ]
  },
  {
   "cell_type": "code",
   "execution_count": 29,
   "metadata": {},
   "outputs": [
    {
     "data": {
      "text/html": [
       "<div>\n",
       "<style scoped>\n",
       "    .dataframe tbody tr th:only-of-type {\n",
       "        vertical-align: middle;\n",
       "    }\n",
       "\n",
       "    .dataframe tbody tr th {\n",
       "        vertical-align: top;\n",
       "    }\n",
       "\n",
       "    .dataframe thead th {\n",
       "        text-align: right;\n",
       "    }\n",
       "</style>\n",
       "<table border=\"1\" class=\"dataframe\">\n",
       "  <thead>\n",
       "    <tr style=\"text-align: right;\">\n",
       "      <th></th>\n",
       "      <th>review_body</th>\n",
       "      <th>num_of_words</th>\n",
       "      <th>num_exclamations_marks</th>\n",
       "      <th>num_questions_marks</th>\n",
       "    </tr>\n",
       "    <tr>\n",
       "      <th>star_rating</th>\n",
       "      <th></th>\n",
       "      <th></th>\n",
       "      <th></th>\n",
       "      <th></th>\n",
       "    </tr>\n",
       "  </thead>\n",
       "  <tbody>\n",
       "    <tr>\n",
       "      <th>1</th>\n",
       "      <td>1309</td>\n",
       "      <td>1309</td>\n",
       "      <td>1309</td>\n",
       "      <td>1309</td>\n",
       "    </tr>\n",
       "    <tr>\n",
       "      <th>2</th>\n",
       "      <td>758</td>\n",
       "      <td>758</td>\n",
       "      <td>758</td>\n",
       "      <td>758</td>\n",
       "    </tr>\n",
       "    <tr>\n",
       "      <th>3</th>\n",
       "      <td>1238</td>\n",
       "      <td>1238</td>\n",
       "      <td>1238</td>\n",
       "      <td>1238</td>\n",
       "    </tr>\n",
       "    <tr>\n",
       "      <th>4</th>\n",
       "      <td>2536</td>\n",
       "      <td>2536</td>\n",
       "      <td>2536</td>\n",
       "      <td>2536</td>\n",
       "    </tr>\n",
       "    <tr>\n",
       "      <th>5</th>\n",
       "      <td>9562</td>\n",
       "      <td>9562</td>\n",
       "      <td>9562</td>\n",
       "      <td>9562</td>\n",
       "    </tr>\n",
       "  </tbody>\n",
       "</table>\n",
       "</div>"
      ],
      "text/plain": [
       "             review_body  num_of_words  num_exclamations_marks  \\\n",
       "star_rating                                                      \n",
       "1                   1309          1309                    1309   \n",
       "2                    758           758                     758   \n",
       "3                   1238          1238                    1238   \n",
       "4                   2536          2536                    2536   \n",
       "5                   9562          9562                    9562   \n",
       "\n",
       "             num_questions_marks  \n",
       "star_rating                       \n",
       "1                           1309  \n",
       "2                            758  \n",
       "3                           1238  \n",
       "4                           2536  \n",
       "5                           9562  "
      ]
     },
     "execution_count": 29,
     "metadata": {},
     "output_type": "execute_result"
    }
   ],
   "source": [
    "# More than 5 word reviews by Star Rating\n",
    "grouped_review_df = mt_five_word_reviews_df.groupby(['star_rating']).count()\n",
    "grouped_review_df.head(20)"
   ]
  },
  {
   "cell_type": "code",
   "execution_count": 30,
   "metadata": {},
   "outputs": [
    {
     "name": "stdout",
     "output_type": "stream",
     "text": [
      "<class 'pandas.core.frame.DataFrame'>\n",
      "RangeIndex: 1309 entries, 0 to 1308\n",
      "Data columns (total 5 columns):\n",
      " #   Column                  Non-Null Count  Dtype \n",
      "---  ------                  --------------  ----- \n",
      " 0   star_rating             1309 non-null   int64 \n",
      " 1   review_body             1309 non-null   object\n",
      " 2   num_of_words            1309 non-null   int64 \n",
      " 3   num_exclamations_marks  1309 non-null   int64 \n",
      " 4   num_questions_marks     1309 non-null   int64 \n",
      "dtypes: int64(4), object(1)\n",
      "memory usage: 51.3+ KB\n"
     ]
    }
   ],
   "source": [
    "#mt_five_word_reviews_df.tail()\n",
    "mtfive_1star_reviews_df = mt_five_word_reviews_df[mt_five_word_reviews_df['star_rating'] == 1].reset_index(drop=True)\n",
    "mtfive_1star_reviews_df.info()"
   ]
  },
  {
   "cell_type": "code",
   "execution_count": 31,
   "metadata": {},
   "outputs": [
    {
     "data": {
      "text/html": [
       "<div>\n",
       "<style scoped>\n",
       "    .dataframe tbody tr th:only-of-type {\n",
       "        vertical-align: middle;\n",
       "    }\n",
       "\n",
       "    .dataframe tbody tr th {\n",
       "        vertical-align: top;\n",
       "    }\n",
       "\n",
       "    .dataframe thead th {\n",
       "        text-align: right;\n",
       "    }\n",
       "</style>\n",
       "<table border=\"1\" class=\"dataframe\">\n",
       "  <thead>\n",
       "    <tr style=\"text-align: right;\">\n",
       "      <th></th>\n",
       "      <th>star_rating</th>\n",
       "      <th>review_body</th>\n",
       "      <th>num_of_words</th>\n",
       "      <th>num_exclamations_marks</th>\n",
       "      <th>num_questions_marks</th>\n",
       "    </tr>\n",
       "  </thead>\n",
       "  <tbody>\n",
       "    <tr>\n",
       "      <th>0</th>\n",
       "      <td>1</td>\n",
       "      <td>I was hoping it would work well, but tried a s...</td>\n",
       "      <td>54</td>\n",
       "      <td>0</td>\n",
       "      <td>0</td>\n",
       "    </tr>\n",
       "    <tr>\n",
       "      <th>1</th>\n",
       "      <td>1</td>\n",
       "      <td>It works well while it can. Mine failed when I...</td>\n",
       "      <td>69</td>\n",
       "      <td>0</td>\n",
       "      <td>0</td>\n",
       "    </tr>\n",
       "    <tr>\n",
       "      <th>2</th>\n",
       "      <td>1</td>\n",
       "      <td>Really bad. Bought as a midi trigger kit but t...</td>\n",
       "      <td>22</td>\n",
       "      <td>0</td>\n",
       "      <td>0</td>\n",
       "    </tr>\n",
       "    <tr>\n",
       "      <th>3</th>\n",
       "      <td>1</td>\n",
       "      <td>The company accidentally sent me an alto inste...</td>\n",
       "      <td>31</td>\n",
       "      <td>0</td>\n",
       "      <td>0</td>\n",
       "    </tr>\n",
       "    <tr>\n",
       "      <th>4</th>\n",
       "      <td>1</td>\n",
       "      <td>They took us hours to do 1 strip, the self adh...</td>\n",
       "      <td>24</td>\n",
       "      <td>0</td>\n",
       "      <td>0</td>\n",
       "    </tr>\n",
       "  </tbody>\n",
       "</table>\n",
       "</div>"
      ],
      "text/plain": [
       "   star_rating                                        review_body  \\\n",
       "0            1  I was hoping it would work well, but tried a s...   \n",
       "1            1  It works well while it can. Mine failed when I...   \n",
       "2            1  Really bad. Bought as a midi trigger kit but t...   \n",
       "3            1  The company accidentally sent me an alto inste...   \n",
       "4            1  They took us hours to do 1 strip, the self adh...   \n",
       "\n",
       "   num_of_words  num_exclamations_marks  num_questions_marks  \n",
       "0            54                       0                    0  \n",
       "1            69                       0                    0  \n",
       "2            22                       0                    0  \n",
       "3            31                       0                    0  \n",
       "4            24                       0                    0  "
      ]
     },
     "execution_count": 31,
     "metadata": {},
     "output_type": "execute_result"
    }
   ],
   "source": [
    "mtfive_1star_reviews_df.head()"
   ]
  },
  {
   "cell_type": "code",
   "execution_count": 73,
   "metadata": {},
   "outputs": [],
   "source": [
    "domain_stopwords ={\"amazon\",\"bought\",\"purchase\",\"purchased\",\"ordered\",\"buy\",\"facebook\",\n",
    "                   \"google\",\"order\",\"amazoncom\", \"amazons\", \"amazonseller\", \"amazonthe\"}"
   ]
  },
  {
   "cell_type": "code",
   "execution_count": 74,
   "metadata": {},
   "outputs": [
    {
     "name": "stdout",
     "output_type": "stream",
     "text": [
      "111\n"
     ]
    }
   ],
   "source": [
    "onestar_stopwords = {\"the\",\"i\",\"a\",\"and\",\"to\",\"of\",\"this\",\"for\",\"in\",\"that\",\"on\",\"my\",\n",
    "                     \"you\",\"they\",\"have\",\"so\",\"as\",\"are\",\"at\",\"be\",\"product\",\"is\",\n",
    "                    \"had\",\"would\",\"if\",\"all\",\"get\",\"them\",\"these\",\"from\",\"its\",\"when\",\"or\",\n",
    "                     \"me\",\"will\",\"back\",\"an\",\"sound\",\"were\",\"do\",\"what\",\"guitar\",\"time\",\n",
    "                    \"did\",\"money\",\"about\",\"your\",\"two\",\"we\",\"first\",\"could\",\n",
    "                    \"because\",\"tried\",\"return\",\"there\",\"which\",\"made\",\"any\",\"now\",\"am\",\"then\",\n",
    "                    \"by\",\"thing\",\"also\",\"receive\",\"im\",\"way\",\"their\",\"item\",\"way\",\"before\",\n",
    "                     \"after\",\"power\",\"into\",\"came\",\"put\",\"3\",\"piece\",\"been\",\"something\",\n",
    "                    \"both\",\"month\",\"through\",\"unit\",\"ive\",\"thi\",\n",
    "                    \"string\",\"set\",\"play\",\"another\",\"see\",\"think\",\"want\",\"how\",\"reviews\",\n",
    "                    \"years\",\"using\",\"still\",\"should\",\"day\",\"said\",\"where\",\"review\",\"week\",\n",
    "                    \"go\",\"going\",\"hold\",\"try\",\"went\",\"every\",\"it\",\"etc\"}\n",
    "print(len(onestar_stopwords))"
   ]
  },
  {
   "cell_type": "markdown",
   "metadata": {},
   "source": [
    "# Working with One Star Reviews"
   ]
  },
  {
   "cell_type": "code",
   "execution_count": 33,
   "metadata": {},
   "outputs": [
    {
     "name": "stdout",
     "output_type": "stream",
     "text": [
      "['i', 'was', 'hoping', 'it', 'would', 'work', 'well', 'but', 'tried', 'a', 'second', 'cord', 'and', 'would', 'only', 'receive', 'a', 'lot', 'of', 'static']\n"
     ]
    }
   ],
   "source": [
    "# create tokens for onestar reviews\n",
    "onestar_word_list = []\n",
    "\n",
    "for index, row in mtfive_1star_reviews_df.iterrows():\n",
    "        onestar_word_list.extend(remove_special_chars(mtfive_1star_reviews_df.iloc[index]['review_body']))\n",
    "            \n",
    "print(onestar_word_list[:20])"
   ]
  },
  {
   "cell_type": "code",
   "execution_count": 34,
   "metadata": {},
   "outputs": [
    {
     "name": "stdout",
     "output_type": "stream",
     "text": [
      "64832\n",
      "64373\n"
     ]
    }
   ],
   "source": [
    "print(mtfive_1star_reviews_df['num_of_words'].sum())\n",
    "print(len(onestar_word_list))"
   ]
  },
  {
   "cell_type": "code",
   "execution_count": 36,
   "metadata": {},
   "outputs": [
    {
     "name": "stdout",
     "output_type": "stream",
     "text": [
      "64373\n"
     ]
    }
   ],
   "source": [
    "# lemmatizing OneStar Tokens\n",
    "onestar_word_list = lemmatize_tokens(onestar_word_list)\n",
    "print(len(onestar_word_list))"
   ]
  },
  {
   "cell_type": "code",
   "execution_count": 38,
   "metadata": {},
   "outputs": [
    {
     "name": "stdout",
     "output_type": "stream",
     "text": [
      "63706\n"
     ]
    }
   ],
   "source": [
    "# remove Domain Stop words\n",
    "onestar_word_list = rm_stopwords(onestar_word_list, domain_stopwords)\n",
    "print(len(onestar_word_list))"
   ]
  },
  {
   "cell_type": "code",
   "execution_count": 39,
   "metadata": {},
   "outputs": [
    {
     "name": "stdout",
     "output_type": "stream",
     "text": [
      "32554\n"
     ]
    }
   ],
   "source": [
    "# remove OneStar Stop words\n",
    "onestar_word_list = rm_stopwords(onestar_word_list, onestar_stopwords)\n",
    "print(len(onestar_word_list))"
   ]
  },
  {
   "cell_type": "code",
   "execution_count": 40,
   "metadata": {},
   "outputs": [
    {
     "name": "stdout",
     "output_type": "stream",
     "text": [
      "4525\n"
     ]
    }
   ],
   "source": [
    "# set of unique OneStar tokens\n",
    "onestar_uniq_words = {}\n",
    "onestar_uniq_words = get_uniq_words(onestar_word_list)\n",
    "#print(onestar_uniq_words)\n",
    "print(len(onestar_uniq_words))"
   ]
  },
  {
   "cell_type": "code",
   "execution_count": 41,
   "metadata": {},
   "outputs": [],
   "source": [
    "# sorting dictionary by values in descending order\n",
    "onestar_uniq_sorted = sorted(onestar_uniq_words.items(), key=lambda x: x[1], reverse=True)\n"
   ]
  },
  {
   "cell_type": "code",
   "execution_count": 44,
   "metadata": {},
   "outputs": [
    {
     "name": "stdout",
     "output_type": "stream",
     "text": [
      "[('good', 154), ('quality', 146), ('come', 142), ('mic', 139), ('didnt', 131), ('other', 130), ('look', 127), ('off', 119), ('more', 116), ('too', 112), ('than', 109), ('say', 107), ('great', 105), ('really', 102), ('2', 102), ('well', 100), ('send', 99), ('waste', 98), ('never', 97)]\n"
     ]
    }
   ],
   "source": [
    "# printing first 200 items in dictionary\n",
    "print(onestar_uniq_sorted[21:40])"
   ]
  },
  {
   "cell_type": "markdown",
   "metadata": {},
   "source": [
    "----------- Testing TF-IDF --------------"
   ]
  },
  {
   "cell_type": "code",
   "execution_count": 75,
   "metadata": {},
   "outputs": [],
   "source": [
    "all_onestar_stopwords = {}\n",
    "all_onestar_stopwords = domain_stopwords.union(onestar_stopwords)"
   ]
  },
  {
   "cell_type": "code",
   "execution_count": 76,
   "metadata": {},
   "outputs": [
    {
     "name": "stdout",
     "output_type": "stream",
     "text": [
      "124\n"
     ]
    }
   ],
   "source": [
    "print(len(all_onestar_stopwords))"
   ]
  },
  {
   "cell_type": "code",
   "execution_count": 38,
   "metadata": {},
   "outputs": [
    {
     "name": "stdout",
     "output_type": "stream",
     "text": [
      "<class 'list'> , ['Really bad. Bought as a midi trigger kit but the latency from the module is ridiculous. Comlete waste of $$. A toy.']\n",
      "<class 'list'> , ['They took us hours to do 1 strip, the self adhesive does not work, every glue we used does not work, what a headache']\n"
     ]
    }
   ],
   "source": [
    "doc_a =[]\n",
    "doc_b =[]\n",
    "doc_a.append(mtfive_1star_reviews_df.iloc[2]['review_body'])\n",
    "doc_b.append(mtfive_1star_reviews_df.iloc[4]['review_body'])\n",
    "print(type(doc_a), \",\", doc_a)\n",
    "print(type(doc_b), \",\", doc_b)"
   ]
  },
  {
   "cell_type": "code",
   "execution_count": 39,
   "metadata": {},
   "outputs": [
    {
     "name": "stdout",
     "output_type": "stream",
     "text": [
      "['Really bad. Bought as a midi trigger kit but the latency from the module is ridiculous. Comlete waste of $$. A toy.', 'They took us hours to do 1 strip, the self adhesive does not work, every glue we used does not work, what a headache']\n"
     ]
    }
   ],
   "source": [
    "doc_c =[]\n",
    "doc_c = doc_a + doc_b\n",
    "print(doc_c)"
   ]
  },
  {
   "cell_type": "code",
   "execution_count": 51,
   "metadata": {},
   "outputs": [],
   "source": [
    "# combining all more that 5 word onestar reviews into one list\n",
    "onestar_docs = []\n",
    "for index, row in mtfive_1star_reviews_df.iterrows():\n",
    "    onestar_docs.append(mtfive_1star_reviews_df.iloc[index]['review_body'])"
   ]
  },
  {
   "cell_type": "code",
   "execution_count": 52,
   "metadata": {},
   "outputs": [
    {
     "name": "stdout",
     "output_type": "stream",
     "text": [
      "1309\n"
     ]
    }
   ],
   "source": [
    "print(len(onestar_docs))"
   ]
  },
  {
   "cell_type": "code",
   "execution_count": 53,
   "metadata": {},
   "outputs": [
    {
     "name": "stdout",
     "output_type": "stream",
     "text": [
      "['I was hoping it would work well, but tried a second cord and would only receive a lot of static in both tries.  Was never able to get clear sound at all and tried moving away from any possible interference etc.  Manual lacked any kind of trouble shooting and online was lacking as well.', 'It works well while it can. Mine failed when I tried to use it the third time - two of the three prongs in the back that hold the tuner head broke, so I tried to tie it up with a wire but the battery is completely out. The plastic is so brittle and the battery went out of charge so quickly. Not worth the $9.95 price at Amazon.', 'Really bad. Bought as a midi trigger kit but the latency from the module is ridiculous. Comlete waste of $$. A toy.', 'The company accidentally sent me an alto instead of tenor. The alto sax was beautiful, the case very sturdy and came with everything pictured. Just wrong sax. Company refunded money quickly', 'They took us hours to do 1 strip, the self adhesive does not work, every glue we used does not work, what a headache', \"I anticipated a Ukulele strap that would work for an adult. The one I received isn't anywhere near long enough for me to use. I didn't see anything in the Amazon listing to indicate that it was so short.\", \"I bought this product today. The worst possible. I am pretty tech savvy. No possible way to set this up. But, please go to their website. Here's what you will experience.... Buy this, buy that, buy more. Of course your product doesn't work.... but if you buy more it will. Really we promise. Avoid at all costs.\", 'Tascam customer service is horrible, I have reached out to them twice and have posted on their FB and yet they never replied. Wifi function on my recorder does not work and no one from Tascam has reached out how to resolve that.', \"I didn't work when I got it. There was no loaded programs, no battery for stored memory, and the card loader wouldn't load those programs that I had. So because I am a electronic technician I decided to try and fix the M1R EX synthesizer module rather than send it back. Ultimately I was able to restore the card loader but it was really in need of replacing. I put a battery in it and all was well for storing the loaded memory. Also the picture that they posted of this unit was not the same one that I received. The unit needed a lot of restoration work before I could look at it with a pleasing eye, but I was able to restore it. This is not they way to do business by lying about the product your are trying to sell and charging way too much for something that they knew didn't work to begin with.\", \"Crap product. Doesn't hold the weight of any decent microphone.\"]\n"
     ]
    }
   ],
   "source": [
    "print(onestar_docs[:10])"
   ]
  },
  {
   "cell_type": "code",
   "execution_count": 84,
   "metadata": {},
   "outputs": [],
   "source": [
    "from sklearn.feature_extraction.text import TfidfVectorizer \n",
    " \n",
    "# settings that you use for count vectorizer will go here \n",
    "tfidf_vectorizer=TfidfVectorizer(use_idf=True, stop_words=all_onestar_stopwords, analyzer='word',\n",
    "                                tokenizer=remove_special_chars) \n",
    " \n",
    "# just send in all your docs here \n",
    "tfidf_vectorizer_vectors=tfidf_vectorizer.fit_transform(onestar_docs)"
   ]
  },
  {
   "cell_type": "code",
   "execution_count": 85,
   "metadata": {},
   "outputs": [
    {
     "name": "stdout",
     "output_type": "stream",
     "text": [
      "['0', '001', '073', '0v', '1', '10', '100', '1000', '10000', '100s', '100watt', '103', '1030', '10ft', '10ish', '10th', '11', '1100', '110215', '110v', '112', '12', '120', '123', '1234x1234', '125', '1255', '128', '12gu', '12hole', '12s', '12v', '13', '1300', '13834', '14', '140', '1434', '15', '150', '150000', '152', '1520', '15500', '16', '1634', '170', '18', '1834', '18th', '19', '1970s', '1979', '1983', '1990', '19lbs', '1oct', '1oct5', '1pouch', '1st', '1star', '1year', '2', '20', '200', '2000', '20000', '200300', '2010', '20123', '2014', '2015', '20a', '20ft', '20s', '20xl', '21', '2100', '218', '21st', '22', '220', '220v', '220v240v', '22815', '229', '23', '24', '2400', '245', '25', '25000', '25key', '27th', '28', '2800', '2l2r', '2nd', '2r2l', '2x4', '30', '300', '3000', '30day', '30days', '30s', '32', '32mini', '33', '334', '33lbs', '34', '3434studio', '343m34', '34403', '349034', '34adjustments34', '34all', '34also', '34at', '34av', '34beginner', '34behringer', '34brilliance34', '34chasing34', '34cme', '34compress34', '34cork', '34cover34', '34crap34', '34customers34', '34detailed', '34directions34', '34does', '34evaluation34', '34fake34', '34fender', '34fits', '34for', '34ford', '34fragile34', '34full34', '34good34', '34handshake34', '34hang', '34hawaii34', '34high', '34hostile34', '34instrumentshaped', '34just', '34leather34', '34license', '34lifetime', '34marine', '34melt34', '34miraclesound34', '34music', '34n34', '34nah', '34new', '34new34', '34no', '34no34', '34ok', '34on34', '34onstage', '34peak', '34play34', '34pop34', '34product', '34progressive34', '34pure', '34rack', '34ready', '34rickenbacker34', '34should34', '34sound', '34superb', '34thatll', '34this', '34tone', '34tourists', '34ul', '34united', '34very', '34washer34', '34we', '34with34', '34workarounds34', '34world', '34you', '34zap34', '35', '350', '35000', '3528', '35mm', '3rd', '4', '40', '400', '4000', '400bucks', '40s', '413v', '434', '44', '441', '441khz', '449', '45', '4500', '45000', '45ft', '46', '48', '48v', '4900', '497v', '4s', '4th', '4v', '4yrs', '5', '50', '500', '5000', '500watts', '50ft', '51', '52', '54', '55', '56', '593', '5a', '5b', '5g', '5k', '5pin', '5star', '5string', '5th', '5v', '6', '60', '600', '60000', '6010', '6070', '60fill', '610', '62', '626mkii', '6295', '65', '6pack', '6s', '6th', '7', '70', '7000', '70s', '715', '7299', '750', '764', '8', '80', '800', '8000', '80100', '80wt', '810', '834', '850ma', '86', '88', '8800', '89yr', '8bit', '8mm', '8th', '9', '90', '90s', '9800', '990', '9900', '995', '9v', 'a2ws', 'a4e', 'aa', 'able', 'abominable', 'about134', 'above', 'absent', 'absolute', 'absolutely', 'absurd', 'abysmal', 'ac', 'accept', 'acceptable', 'access', 'accessories', 'accessory', 'accidentally', 'accolade', 'accommodate', 'according', 'accordingly', 'accordion', 'accucast', 'accurate', 'accustomed', 'acd477', 'acdc', 'acoustic', 'acoustically', 'acoustics', 'acquire', 'across', 'act', 'acted', 'action', 'activation', 'active', 'activity', 'actual', 'actually', 'ad', 'ad5', 'adapter', 'adapters', 'adaptor', 'adaptors', 'add', 'added', 'adding', 'addition', 'additional', 'additionally', 'addon', 'address', 'addressing', 'adhesion', 'adhesive', 'adjust', 'adjusting', 'adjustment', 'adjustments', 'admire', 'admit', 'admitted', 'adorama', 'ads', 'adult', 'advance', 'advertise', 'advertised', 'advertisement', 'advertising', 'advice', 'advise', 'afar', 'affect', 'affinity', 'afford', 'afraid', 'afterthought', 'again', 'againmust', 'against', 'aggravation', 'ago', 'agreed', 'ahead', 'ahem', 'ahhh', 'ahold', 'aint', 'air', 'airconditioned', 'airline', 'ajar', 'ajustment', 'akai', 'akg', 'al', 'alarm', 'alas', 'albeit', 'alert', 'alesis', 'aliens', 'aligned', 'alignment', 'alike', 'allegra', 'allen', 'allit', 'allow', 'allowed', 'allowing', 'allows', 'allvery', 'almost', 'alone', 'along', 'alot', 'alread', 'already', 'alright', 'alternate', 'alternative', 'although', 'alto', 'altogether', 'aluminum', 'alvarez', 'always', 'alwaysavailable', 'alwaysready', 'amaerican', 'amateurs', 'ambient', 'ambiguous', 'amd', 'america', 'american', 'amount', 'amp', 'ampeg', 'amplifi', 'amplification', 'amplified', 'amplifier', 'amplifiers', 'amps', 'analog', 'analogue', 'andgo', 'andor', 'android', 'angle', 'angles', 'angry', 'animal', 'ankle', 'ankles', 'annoying', 'anodizing', 'anomaly', 'answer', 'answered', 'antena', 'antenna', 'antennas', 'anticipated', 'anybody', 'anymore', 'anyone', 'anything', 'anytime', 'anyway', 'anyways', 'anywhere', 'apart', 'apmlitube', 'apology', 'apoy', 'app', 'appallingly', 'apparatus', 'apparent', 'apparently', 'appear', 'appearance', 'appeared', 'appears', 'apple', 'appliances', 'application', 'applications', 'applied', 'applies', 'apply', 'applying', 'appreciate', 'appropriate', 'approval', 'approved', 'approximately', 'apps', 'april', 'aproximately', 'arbitrarily', 'area', 'arent', 'aril', 'arm', 'arms', 'around', 'around34', 'arranged', 'arrayed', 'arrival', 'arrive', 'arrived', 'arrives', 'article', 'articulation', 'artifact', 'artifacts', 'artist', 'arts', 'asap', 'ashamed', 'asinb004ou2iqg', 'asinb00b973wd0', 'ask', 'asked', 'asking', 'ass', 'assemble', 'assembled', 'assembly', 'assign', 'assigned', 'assistance', 'assistants', 'assume', 'assumed', 'assuming', 'assured', 'astounding', 'atr2100', 'attach', 'attached', 'attachment', 'attchemnt', 'attempt', 'attempted', 'attempting', 'attempts', 'attending', 'attention', 'attractive', 'audible', 'audio', 'audiohub', 'audiophile', 'audition', 'aug', 'august', 'auphonix', 'austin', 'authentic', 'authenticity', 'author', 'autism', 'auto', 'automated', 'automatic', 'automatically', 'autoreplied', 'aux', 'avail', 'available', 'availableif', 'average', 'averages', 'avid', 'avoid', 'avoiding', 'awaiting', 'aware', 'away', 'aweful', 'awesome', 'awful', 'awfully', 'awkward', 'b', 'b2', 'b5e', 'bach', 'backburner', 'backed', 'background', 'backing', 'backorder', 'backpack', 'backs', 'backside', 'backsorry', 'backwards', 'bad', 'badly', 'baffled', 'bag', 'baggy', 'bags', 'bait', 'balance', 'balanced', 'ball', 'balltype', 'bam', 'bamboo', 'band', 'band34', 'bands', 'bang', 'banged', 'banjo', 'bank', 'bar', 'bare', 'barely', 'bars', 'base', 'baseball', 'based', 'basement', 'basic', 'basically', 'basis', 'bass', 'basses', 'bassesfininsh', 'bassoon', 'bassoonbass', 'bassy', 'batt', 'batteria', 'batteries', 'battery', 'batucada', 'bawang', 'bb', 'bday', 'beach', 'beads', 'bearing', 'beat', 'beatingso', 'beats', 'beautiful', 'became', 'becasue', 'become', 'becoming', 'bed', 'bedroom', 'beeping', 'beer', 'beforebut', 'beforehand', 'began', 'begging', 'begin', 'beginner', 'beginners', 'beginning', 'behind', 'behold', 'behringer', 'being', 'belief', 'believe', 'belkin', 'bell', 'bells', 'belltobody', 'below', 'bench', 'bend', 'bended', 'bending', 'bends', 'benefit', 'bent', 'besides', 'best', 'bet', 'beta', 'bets', 'better', 'between', 'beware', 'beyond', 'big', 'bigfoot', 'bigger', 'biggest', 'bigsby', 'bill', 'bind', 'binder', 'binding', 'birch', 'birth', 'birthday', 'bit', 'bite', 'bits', 'bitsy', 'bizarre', 'black', 'blackberry', 'blah', 'blah34i', 'blame', 'blank', 'blanks', 'blast', 'blemishes', 'blew', 'blindfolded', 'blinds', 'blinked', 'blinking', 'block', 'blocks', 'blood', 'bloody', 'blow', 'blowing', 'blown', 'blownout', 'blows', 'blue', 'blueridge', 'blues', 'bluesmaster', 'bluetooth', 'board', 'boasting', 'bobelock', 'bodhran', 'bodily', 'body', 'bodypack', 'bolt', 'bolts', 'bomb', 'bone', 'bongos', 'boo', 'boogie', 'book', 'books', 'boom', 'boomy', 'boooooo', 'booooooo', 'booth', 'borderline', 'bose', 'boss', 'bother', 'bothered', 'bottle', 'bottles', 'bottom', 'bought34', 'boughten', 'boutique', 'bow', 'bowed', 'bowls', 'box', 'boxed', 'boxes', 'boy', 'boyfriend', 'boys', 'br40', 'brace', 'bracing', 'bracker', 'bracket', 'brackets', 'brain', 'brand', 'brands', 'brass', 'break', 'breakable', 'breakage', 'breaker', 'breaking', 'breaks', 'breath', 'breathed', 'breeze', 'brick', 'bridge', 'bridgeneck', 'bridgetailpiece', 'brief', 'bright', 'brighter', 'brightness', 'brilliant', 'bring', 'brings', 'brittle', 'brkt1', 'broke', 'broken', 'bronze', 'brother', 'brought', 'brown', 'brush', 'bs', 'btw', 'bubble', 'bubbles', 'buck', 'buckled', 'bucks', 'bud', 'buddy', 'budget', 'buds', 'bugs', 'build', 'built', 'builtin', 'bulb', 'bulbs', 'bulky', 'bullet', 'bully', 'bump', 'bumps', 'bunch', 'bundle', 'bundy', 'bunkbed', 'buns', 'bureauall', 'burn', 'burned', 'burning', 'burnt', 'burrs', 'bus', 'bushings', 'business', 'busted', 'bustedneck', 'busy', 'but', 'button', 'buttons', 'buttons34', 'buyer', 'buyers', 'buying', 'buyingthe', 'buzz', 'buzzed', 'buzzer', 'buzzing', 'buzzingnot', 'buzzy', 'byebye', 'byer', 'bytes', 'c', 'c03u', 'c1', 'ca', 'cable', 'cables', 'cablesmicrophone', 'cajon', 'cake', 'calculate', 'calendarclock', 'calibrate', 'calibrated', 'california', 'call', 'called', 'calling', 'calls', 'camera', 'camethe', 'camp', 'campout', 'can', 'canals', 'cancel', 'cancellation', 'cancelled', 'cancer', 'cannot', 'cant', 'canvas', 'capable', 'capacitor', 'capacity', 'capo', 'capos', 'car', 'card', 'card1', 'cardboard', 'cards', 'cardturning', 'care', 'career', 'careful', 'carefully', 'carpenter', 'carried', 'carry', 'carrying', 'cars', 'cart', 'carting', 'cartoon', 'cartridge', 'cartridges', 'case', 'case34', 'cases', 'cash', 'casing', 'casings', 'casio', 'cassette', 'casting', 'casual', 'catalogs', 'categories', 'cathedral', 'catholic', 'catlinbread', 'caught', 'cause', 'caused', 'causes', 'causing', 'caution', 'cautious', 'cc107', 'cc108', 'cc115', 'cc64', 'cc7', 'cd', 'ce', 'ceiling', 'cell', 'cellist', 'cellists', 'cello', 'cellphone', 'center', 'cents', 'century', 'ceramic', 'certain', 'certainly', 'certifications', 'chaging', 'chain', 'chair', 'chalked', 'champ', 'chance', 'chances', 'chancing', 'change', 'changed', 'changes', 'changes34', 'changing', 'channel', 'channels', 'chapter', 'charge', 'charged', 'charger', 'chargers', 'charging', 'charity', 'charm', 'chart', 'charts', 'chassis', 'chauvet', 'che', 'cheap', 'cheaper', 'cheapest', 'cheaply', 'cheapo', 'cheat', 'cheated', 'cheating', 'check', 'checked', 'checking', 'checks', 'cheep', 'chemicals', 'chevy', 'child', 'children', 'childs', 'chime', 'chin', 'china', 'chinese', 'chip', 'chipping', 'chips', 'choice', 'choices', 'choppy', 'chord', 'chords', 'chore', 'chorus', 'chose', 'christmas', 'chromatic', 'chrome', 'chromepainted', 'cht', 'chunked', 'chunky', 'church', 'cigar', 'cigarette', 'cintiqstyle', 'circles', 'circuit', 'circuitboard', 'circuitry', 'circuitwise', 'circular', 'claim', 'claimed', 'claims', 'clamp', 'clamped', 'clamping', 'clamps', 'clangy', 'clarify', 'clarinet', 'clarinets', 'clasp', 'clasps', 'class', 'classical', 'clayton', 'clean', 'cleaned', 'cleaner', 'cleaning', 'clear', 'clearly', 'clicking', 'client', 'cling', 'clip', 'clipon', 'clipped', 'clipping', 'clips', 'clock', 'close', 'closed', 'closely', 'closeout', 'closer', 'closest', 'closet', 'cloth', 'clown', 'clunky', 'clutch', 'co', 'coarse', 'coated', 'coating', 'coaxial', 'cockerell', 'code', 'coils', 'coincidence', 'collaborate', 'collapse', 'collapsing', 'collar', 'collecting', 'collectors', 'college', 'colleges', 'collings', 'colombia', 'color', 'colorado', 'colorblind', 'colored', 'colorful', 'colors', 'combination', 'come', 'comes', 'comfortable', 'comfortably', 'coming', 'comlete', 'commands', 'comment', 'commented', 'comments', 'commercial', 'common', 'communicating', 'comp', 'compact', 'companies', 'company', 'comparable', 'comparatively', 'compare', 'compared', 'compartment', 'compatibility', 'compatible', 'competitors', 'complain', 'complaining', 'complaints', 'compleatly', 'complete', 'completed', 'completely', 'complicated', 'components', 'composite', 'compounded', 'compre', 'compressor', 'compromise', 'compromised', 'compromisedamage', 'computer', 'computers', 'concept', 'conceptry', 'concern', 'concerned', 'concert', 'concerts', 'conclusion', 'condenser', 'condensor', 'condition', 'conditional', 'conditionnothing', 'conditions', 'conductor', 'conductors', 'cone', 'conference', 'confidence', 'configure', 'confirmation', 'confirmed', 'confirms', 'conflicting', 'confused', 'congas', 'congo', 'congratulations', 'conjecture', 'connect', 'connectandtest', 'connected', 'connecting', 'connection', 'connections', 'connectionspoor', 'connectivity', 'connector', 'connectors', 'connects', 'conpany', 'conplete', 'consider', 'considered', 'considering', 'consistent', 'consistently', 'constant', 'constantly', 'constrictive', 'constructed', 'constructing', 'construction', 'consulted', 'consulting', 'consumer', 'consumers', 'consumption', 'contact', 'contacted', 'contacting', 'contacts', 'contained', 'containing', 'contains', 'contemplate', 'contents', 'continually', 'continue', 'continued', 'continuing', 'continuous', 'contractor', 'contradicted', 'contraption', 'contributed', 'control', 'controller', 'controllerdimmer', 'controllers', 'controls', 'convenient', 'conventional', 'conversationnot', 'conversations', 'converter', 'cookie', 'cool', 'coolest', 'coolness', 'copies', 'copy', 'cord', 'cordcase', 'cordit', 'cords', 'core', 'cork', 'corner', 'corners', 'correclty', 'correct', 'correctly', 'correspond', 'corroded', 'corrodes', 'corrupted', 'cortana', 'cosmetics', 'cosplay', 'cost', 'costly', 'costs', 'couldnt', 'count', 'counter', 'counterfeit', 'counterpart', 'countersunk', 'countless', 'country', 'counts', 'county', 'couple', 'coupled', 'coupler', 'course', 'courtesy', 'cover', 'covered', 'covering', 'covers', 'cowry', 'crack', 'cracked', 'cracking', 'crackle', 'crackled', 'crackling', 'craft', 'crafted', 'craftmanship', 'craftsmanship', 'crank', 'cranked', 'cranking', 'crap', 'crape', 'crapped', 'crappy', 'crash', 'crashes', 'crashing', 'crazy', 'creased', 'create', 'created', 'creates', 'creating', 'credit', 'cremona', 'crisp', 'criss', 'critically', 'cross', 'crossed', 'crossover', 'crowd', 'crowdjust', 'crowds', 'crown', 'crudely', 'crumbed', 'crumble', 'crushing', 'crystal', 'csr', 'ctk', 'ctk510', 'ctk551', 'ctl', 'cube', 'cue', 'cumbersome', 'cups', 'curling', 'current', 'currently', 'currentnone', 'curse', 'curve', 'curved', 'curves', 'custom', 'customer', 'customers', 'customers34', 'customizable', 'customize', 'cut', 'cute', 'cutoff', 'cuts', 'cutter', 'cutting', 'cuz', 'cycle', 'cymbal', 'cymbals', 'czech', 'd', 'dacamp', 'dacamps', 'daddario', 'daighters', 'daily', 'damage', 'damaged', 'damn', 'dampit', 'dandy', 'dang', 'dangerous', 'dangle', 'dangling', 'dark', 'darkness', 'darn', 'data', 'date', 'dated', 'daughter', 'daughters', 'dave', 'david', 'davis', 'daw', 'daycare', 'days', 'days34', 'dc', 'dd3', 'dead', 'deadline', 'deal', 'dealer', 'dealernot', 'dealers', 'dealing', 'dealonly', 'deals', 'dean', 'death', 'death34', 'deb', 'debilitating', 'decades', 'deceived', 'deceiving', 'december', 'decent', 'deception', 'deceptive', 'decide', 'decided', 'decides', 'decision', 'deck', 'declined', 'decorative', 'deep', 'defeating', 'defeats', 'defect', 'defected', 'defective', 'defects', 'definately', 'definitely', 'deformed', 'deforming', 'degree', 'degrees', 'delay', 'delayand', 'deleted', 'delicate', 'deliver', 'delivered', 'delivery', 'dell', 'deluxe', 'demanding', 'demo', 'demod', 'demon', 'demonstration', 'denied', 'dented', 'dentists', 'dents', 'deodorized', 'department', 'depending', 'depressing', 'dept', 'describe', 'described', 'describes', 'describing', 'description', 'descriptions', 'deserve', 'deserves', 'design', 'designed', 'designs', 'desire', 'desired', 'desk', 'desktops', 'desperate', 'despite', 'destination', 'destortion', 'destroy', 'detach', 'detached', 'detail', 'details', 'detect', 'deter', 'deteriorate', 'deterioted', 'developed', 'developer', 'device', 'devices', 'devious', 'devises', 'dgbe', 'di', 'diagram', 'dial', 'diameter', 'diamond', 'dice', 'dictation', 'didgeridoo', 'didnt', 'die', 'died', 'diesnone', 'difference', 'different', 'difficult', 'difficulty', 'dig', 'digital', 'digitec', 'digitech', 'dijing', 'dilemma', 'dim', 'dime', 'diminishing', 'diminutive', 'dimmer', 'dimmers', 'dimming', 'dims', 'din', 'dings', 'dingy', 'dint', 'diode', 'diodes', 'direct', 'directed', 'directional', 'directions', 'directly', 'director', 'dirt', 'dirty', 'disaappointed', 'disapointed', 'disappointed', 'disappointing', 'disappointment', 'disappointnopissed', 'disassembling', 'disaster', 'disastrous', 'disc', 'disccannot', 'discernible', 'disclosure', 'disco', 'disconnected', 'disconnecting', 'discontinued', 'discount', 'discounted', 'discover', 'discovered', 'discovering', 'discretion34', 'discriptions', 'discuss', 'discussing', 'disgraceful', 'disgusted', 'dishes', 'dishwasher', 'disintegrated', 'disk', 'disorder', 'displace', 'display', 'displayed', 'displeased', 'disposal', 'dispose', 'dissapointed', 'dissapointing', 'dissatisfied', 'distance', 'distances', 'distorted', 'distortion', 'distract', 'distracting', 'distributor', 'distrust', 'ditched', 'diverse', 'diy', 'dj', 'djembe', 'dmx', 'dnt', 'doa', 'doctors', 'documentation', 'documentationinstructions', 'does', 'doesnt', 'doest', 'dogs', 'doing', 'dollar', 'dollarbut', 'dollars', 'dolly', 'dom', 'done', 'dongle', 'donner', 'dont', 'doodoo34', 'dookie', 'door', 'dora', 'dose', 'dosent', 'dosnt', 'dots', 'double', 'doubleclick', 'doubles', 'doubt', 'doubtful', 'dowel', 'dowels', 'down', 'downgrade', 'downhill', 'download', 'downloaded', 'downpretty', 'downs', 'dps', 'dr', 'dr05', 'dr60', 'drag', 'dragged', 'dragging', 'drain', 'drained', 'draining', 'drawer', 'draws', 'dream', 'drenched', 'dresser', 'dried', 'drift', 'drill', 'drilled', 'drive', 'driver', 'drivers', 'drives', 'driving', 'droop', 'drooping', 'drop', 'dropped', 'drops', 'drug', 'drum', 'drummer', 'drumming', 'drums', 'dry', 'dryer', 'dslr', 'dual', 'ducktape', 'duct', 'ducttaping', 'dud', 'dude', 'due', 'dull', 'dump', 'dumped', 'dun', 'dunlop', 'duplicates', 'duplicator', 'durability', 'durable', 'durex', 'during', 'durring', 'dust', 'dusty', 'duty', 'dvd', 'dw', 'dying', 'dynamic', 'dys', 'e', 'each', 'ear', 'earbud', 'earbuds', 'earlier', 'early', 'earned', 'earphone', 'earphones', 'earplugs', 'ears', 'easier', 'easily', 'easy', 'eb', 'ebay', 'ebony', 'echo', 'ect', 'edge', 'edges', 'edit', 'effect', 'effective', 'effects', 'efficiency', 'effort', 'eflat', 'eg', 'ehx', 'ehxbranded', 'eight', 'eighteen', 'either', 'ekit', 'el', 'el84', 'elaborate', 'elated', 'elbow', 'elected', 'electric', 'electrical', 'electricity', 'electromatic', 'electronic', 'electronics', 'eliminated', 'eliminator', 'eloquently', 'else', 'elsewhere', 'elsewherebecause', 'em', 'email', 'emailed', 'emailing', 'emails', 'emanating', 'embarrassed', 'embarrassing', 'embedded', 'emergency', 'emitting', 'emphasis', 'employed', 'employee', 'employer', 'empress', 'emulator', 'en', 'encased', 'enclosure', 'enclosures', 'encountered', 'encourage', 'encouraged', 'end', 'end34', 'ended', 'ending', 'endpin', 'ends', 'energy', 'english', 'enhanced', 'enjoy', 'enjoyed', 'enjoying', 'enough', 'enought', 'enoughti', 'entering', 'enters', 'entire', 'entirely', 'environment', 'environments', 'epic', 'epiphone', 'epiphones', 'eq', 'equal', 'equipment', 'ernie', 'error', 'es', 'esp', 'especially', 'espensa', 'essentially', 'et', 'etailer', 'eu', 'eurolite', 'european', 'even', 'evening', 'event', 'events', 'eventually', 'ever', 'everest', 'everthingit', 'everybody', 'everyone', 'everything', 'everythinggood', 'everywhere', 'evidence', 'ex', 'exact', 'exacting', 'exactly', 'examination', 'examined', 'examining', 'example', 'excellent', 'except', 'exceptional', 'exceptions', 'excessive', 'exchange', 'excited', 'excitement', 'exclusive', 'excuse', 'executed', 'exercise', 'exercising', 'exerting', 'exhibiting', 'exist', 'existing', 'exists', 'exit', 'exp', 'expand', 'expander', 'expansions', 'expect', 'expectations', 'expected', 'expecting', 'expense', 'expensive', 'experience', 'experienced', 'experiencejust', 'experiences', 'expired', 'explained', 'explaining', 'explanation', 'explore', 'explosion', 'exposed', 'exposing', 'expressing', 'expression', 'extended', 'extensive', 'extensively', 'extent', 'external', 'extra', 'extract', 'extras', 'extreme', 'extremely', 'eye', 'eyelash', 'eyes', 'ez', 'f', 'fab', 'fabric', 'fabulous', 'face', 'faces', 'facsimile', 'fact', 'factor', 'factory', 'fade', 'fades', 'fading', 'fail', 'failed', 'failing', 'failling', 'failsthen', 'failure', 'failures', 'faint', 'fair', 'fairly', 'faiuled', 'fake', 'fakes', 'fall', 'falling', 'falls', 'false', 'fan', 'fancy', 'fans', 'fantastic', 'far', 'fart', 'farting', 'fashion', 'fashionable', 'fashioned', 'fast', 'faster', 'fatal', 'fault', 'faults', 'faulty', 'favor', 'faxedscanned', 'fb', 'fbc1010', 'fc300', 'fc50', 'fcb1010', 'fcb4x', 'feature', 'features', 'february', 'fee', 'feed', 'feedback', 'feel', 'feeling', 'feelings', 'feels', 'feet', 'fell', 'felt', 'female', 'females', 'fender', 'few', 'fiberskyn', 'field', 'fife', 'fifteen', 'fight', 'fighting', 'figure', 'figured', 'figuring', 'fiio', 'filed', 'files', 'filled', 'fills', 'film', 'filter', 'filtering', 'filters', 'filthy', 'final', 'finally', 'find', 'finding', 'fine', 'finetune', 'finger', 'fingerboard', 'fingering', 'fingerings', 'fingerpicking', 'fingerprints', 'fingers', 'finish', 'finished', 'finitions', 'fire', 'fires', 'firm', 'firmware', 'firs', 'firth', 'fish', 'fit', 'fitconnect', 'fits', 'fitted', 'fitting', 'five', 'fiver', 'fix', 'fixable', 'fixed', 'fixes', 'fixing', 'fl', 'flag', 'flaky', 'flame', 'flange', 'flash', 'flashed', 'flashes', 'flashing', 'flat', 'flatout', 'flatter', 'flaw', 'flawlessly', 'flaws', 'flew', 'flex', 'flexibility', 'flexible', 'flicker', 'flickered', 'flickering', 'flimsy', 'flip', 'flips', 'floor', 'floorpodplus', 'flops', 'flow', 'fluid', 'fluke', 'fluoresce', 'flushed', 'flute', 'flute34', 'flutes', 'fly', 'flying', 'fm', 'foam', 'foamed', 'focus', 'focusrite', 'fog', 'foil', 'foisting', 'fold', 'folded', 'folding', 'follow', 'followed', 'following', 'fool', 'fooled', 'foolish', 'foot', 'footboard', 'footswitch', 'for34', 'forbidden34', 'forced', 'forcing', 'forever', 'forget', 'forgive', 'forgotten', 'fork', 'form', 'format', 'former', 'formfactor', 'forth', 'fortunately', 'forty', 'forum', 'forward', 'found', 'four', 'fourth', 'fourthly', 'fragile', 'frame', 'framing', 'françois', 'fraud', 'fraudulent', 'frayed', 'frays', 'freaking', 'free', 'freeze', 'freezegliss', 'french', 'frequencies', 'frequency', 'frequently', 'fresh', 'fret', 'fretboard', 'frets', 'fretting', 'friction', 'friday', 'fried', 'friend', 'friendly', 'friends', 'front', 'fruitcake', 'frustrated', 'frustrating', 'frustration', 'frying', 'ft', 'full', 'fulltone', 'fully', 'fun', 'funcionan', 'function', 'functional', 'functionality', 'functioning', 'functions', 'furthermore', 'fuse', 'fuses', 'future', 'fuzz', 'fuzzy', 'fx100', 'g', 'g2', 'g3', 'gaffers', 'gain', 'galaxy', 'gamble', 'game', 'games', 'gap', 'garbage', 'gas', 'gate', 'gates', 'gator', 'gauge', 'gauges', 'gave', 'gazillion', 'gc', 'gear', 'gears', 'geek', 'gel', 'gen', 'general', 'generally', 'generation', 'generic', 'generous', 'gentle', 'genuine', 'german', 'germany', 'getim', 'gets', 'getting', 'gfc50', 'ghost', 'gibraltar', 'gibson', 'gift', 'gifts', 'gig', 'gigability', 'gigantic', 'gigged', 'gigging', 'giggles', 'gigs', 'gimmick', 'gingerly', 'girl', 'girlfriend', 'girls', 'girly', 'give', 'given', 'gives', 'giving', 'glad', 'gladly', 'glance', 'glanced', 'glass', 'glasses', 'glittery', 'global', 'glorious', 'glow', 'glowing', 'glowsticks', 'gls', 'glue', 'glued', 'gluing', 'goal', 'god', 'goes', 'gogh', 'gold', 'gone', 'gong', 'gonna', 'goo', 'good', 'good34', 'goodi', 'goods', 'gooey', 'gopro', 'gos', 'got', 'goto', 'gotten', 'gouged', 'gpt', 'grab', 'grabbed', 'grade', 'grader', 'graders', 'grand', 'granddaughter', 'granted', 'graphics', 'grateful', 'gravely', 'gravity', 'grease', 'great', 'greatest', 'greatuntil', 'green', 'greg', 'gretsch', 'grew', 'grey', 'grip', 'grolsch', 'grooves', 'gross', 'ground', 'groups', 'grow', 'growing', 'grueling', 'grumpy', 'gsp31wb', 'gsp31wd', 'gt', 'guarantee', 'guard', 'guess', 'guessing', 'guide', 'guitarbass', 'guitarist', 'guitarists', 'guitars', 'guitars34', 'guitarwith', 'gummy', 'guy', 'guys', 'hacer', 'hadnt', 'hair', 'haired', 'hairs', 'half', 'halfdead', 'halft', 'halfway', 'hamlin', 'hammer', 'hammered', 'hand', 'handful', 'handle', 'handles', 'handling', 'hands', 'handset', 'handsets', 'handsfree', 'handsvery', 'handy', 'hang', 'hanging', 'hangup', 'happen', 'happened', 'happens', 'happier', 'happy', 'hard', 'hardcase', 'harder', 'hardley', 'hardly', 'hardware', 'harm', 'harm34', 'harmanbecker', 'harmonic', 'harmonica', 'harp', 'harsh', 'harvest', 'has', 'hasnt', 'hassle', 'hat', 'hate', 'have34', 'have34stereo', 'havent', 'havin', 'having', 'hawaii', 'hazard', 'hazardous', 'haze', 'hazzard', 'hcs', 'hd300', 'hd500', 'hd600s', 'hdmi', 'he', 'head', 'headache', 'headaches', 'headed', 'heading', 'headphone', 'headphones', 'heads', 'headset', 'headsets', 'headstock', 'health', 'hear', 'heard', 'hearing', 'hearos', 'heart', 'heat', 'heats', 'heavier', 'heavily', 'heavy', 'heck', 'hed', 'hedge', 'heel', 'height', 'heimer', 'held', 'hell', 'hello', 'help', 'helped', 'helpfuldifficult', 'helps', 'hence', 'her', 'hercules', 'herd', 'here', 'heres', 'herethese', 'hero', 'hes', 'heshe', 'hey', 'hi', 'hide', 'hifidelity', 'hifisoundconnection', 'high', 'highend', 'higher', 'higherpitched', 'highest', 'highs', 'hightension', 'him', 'hindsight', 'hinge', 'hip', 'hire', 'hired', 'his', 'hiss', 'hiss34', 'hisses', 'hissing', 'hisswhistling', 'history', 'hit', 'hitlights', 'hits', 'hitter', 'hitting', 'hmmmmm', 'hobbyists', 'hog2', 'holder', 'holders', 'holding', 'holds', 'hole', 'holes', 'hollow', 'homage', 'home', 'homemade', 'honer', 'honest', 'honestly', 'honor', 'hook', 'hooked', 'hooking', 'hooks', 'hookup', 'hoops', 'hoopslooking', 'hope', 'hopefully', 'hopes', 'hoping', 'horn', 'horrendous', 'horrible', 'horribleas', 'horriblethey', 'horribly', 'horrid', 'horror', 'hosa', 'hospital', 'hostile', 'hot', 'hour', 'hours', 'house', 'housing', 'however', 'hoy', 'hrs', 'httpswwwfacebookcommediasetseta17358580600471341625147817861914841', 'httpwwwamazoncomgpcustomerreviewsr1e6ewggy361threfcmcrprrvwttlieutf8asinb007rot8hi', 'httpwwwamazoncomgpproductb003ycugj6redirecttrueamprefcmcrrypprdttlsol0', 'httpwwwamazoncomhitlightslightstriptouchdimmerdpb00a8ned2krefsr11ieutf8qid1439941951sr81keywordshitlightstouchdimmer', 'httpwwwselmerfrmediafaqcounterfeitpanpipespdf', 'hub', 'huge', 'hugely', 'huh', 'hum', 'human', 'humanity', 'humbuzz', 'humidify', 'humidipak', 'humidity', 'hummingbird', 'hums', 'hundred', 'hundreds', 'hung', 'hunk', 'hunks', 'hurrible', 'hurry', 'hurt', 'husband', 'husbands', 'hv006', 'hve', 'hw', 'hydraulic', 'hype', 'hyped', 'hyperlink', 'hypersensitive', 'hypnotize', 'hz', 'ibanez', 'ibanezs', 'ic', 'icicle', 'icing', 'id', 'idea', 'ideal', 'ideally', 'ideas', 'identical', 'identifies', 'idiots', 'idk', 'idle', 'ids', 'ie', 'ifwhen', 'ignorant', 'ignore', 'ihave', 'ii', 'ik', 'il', 'ill', 'illuminate', 'illustrated', 'ilok', 'imac', 'image', 'imagine', 'imediately', 'imho', 'imitated', 'imitation', 'imitations', 'immaculate', 'immediately', 'imo', 'impact', 'impacted', 'implies', 'implore', 'important', 'imported', 'impossible', 'impractical', 'impress', 'impressed', 'impression', 'impressive', 'impressively', 'improving', 'inability', 'inaccurate', 'inadequately', 'inc34', 'incapable', 'inch', 'inches', 'inchlong', 'incident', 'incline', 'inclined', 'include', 'included', 'includes', 'including', 'incomplete', 'inconvenienced', 'inconvenient', 'inconveniently', 'incorrect', 'increase', 'increased', 'incredibly', 'indeed', 'indented', 'indents', 'indescribable', 'india', 'indian', 'indicate', 'indicates', 'indication', 'indicator', 'individual', 'individually', 'individuals', 'indonesia', 'indoor', 'indoors', 'induced', 'industrial', 'industry', 'inears', 'ineffective', 'inescapable', 'inexpensive', 'infact', 'inferior', 'inflated', 'info', 'information', 'informed', 'informing', 'infront', 'inherent', 'inherited', 'initial', 'initially', 'injury', 'injust', 'inlays', 'inline', 'inmusic', 'inner', 'inoperable', 'inoperative', 'inouts', 'input', 'inputs', 'inputted', 'insane', 'insanely', 'insert', 'inserted', 'insertion', 'inserts', 'inside', 'insignificant', 'inspect', 'inspecting', 'inspection', 'inspire', 'inspired', 'inspiring', 'instability', 'install', 'installed', 'installing', 'instant', 'instantly', 'instead', 'instock', 'instruction', 'instructions', 'instructor', 'instruement', 'instrument', 'instruments', 'insulation', 'insult', 'intact', 'intended', 'intention', 'interchangeable', 'interest', 'interesting', 'interface', 'interference', 'interferes', 'interior', 'intermediate', 'intermittent', 'intermittently', 'internal', 'internally', 'internals', 'internet', 'intl', 'intonate', 'intonation', 'invasive', 'inversion', 'invest', 'investigative', 'investing', 'investment', 'invests', 'involved', 'ion', 'ios', 'ipad', 'ipadpodphone', 'iphone', 'ipod', 'irate', 'irig', 'irigs', 'ironic', 'ironing', 'irritates', 'irritating', 'ishugethe', 'isnt', 'iso', 'isolate', 'isolation', 'issue', 'issues', 'italthough', 'itd', 'itemasinb00acfaulc', 'itemit', 'items', 'itfail', 'itself', 'itselfcases', 'itsy', 'itthe', 'itwe', 'ityes', 'j', 'j45', 'jack', 'jacks', 'jamming', 'jams', 'janky', 'january', 'japan', 'jar', 'jaw', 'jawbone', 'jazz', 'jazzexotica', 'jerry', 'jewel', 'jf34', 'jiggle', 'jiggled', 'jingles', 'jj', 'joann', 'job', 'jogging', 'john', 'joined', 'joint', 'joke', 'joketruss', 'jones', 'journalist', 'journey', 'joyo', 'jpg', 'judgement', 'juice', 'july', 'jump', 'jun', 'june', 'junior', 'junk', 'junkdont', 'junkwill', 'jupiter', 'just', 'justice', 'ka15s', 'karaoke', 'kat', 'kazoo', 'keen', 'keep', 'keeping', 'keeps', 'kelly', 'kenton', 'kept', 'key', 'key34', 'keyboard', 'keyboards', 'keyhole', 'keys', 'keysbut', 'keystation', 'keyvalve', 'khz', 'kick', 'kid', 'kids', 'killed', 'kind', 'kinda', 'kinds', 'kinks', 'kit', 'kit02', 'kitesurfing', 'kitit', 'kitthe', 'kluson', 'klusons', 'knew', 'knob', 'knobs', 'knock', 'knocked', 'knockoff', 'knockoffs', 'know', 'knowing', 'knowingly', 'known', 'knows', 'knurled', 'kodak', 'korg', 'krazy', 'krk', 'kt1', 'l', 'l1', 'la', 'laated', 'label', 'labeled', 'labelled', 'labor', 'lace', 'lack', 'lacked', 'lacking', 'lacks', 'lake', 'lame', 'lamp', 'lands', 'language', 'languages', 'lapel', 'lapsed', 'laptop', 'large', 'largely', 'larger', 'largest', 'last', 'lasted', 'lasting', 'lastly', 'lasts', 'latch', 'latches', 'late', 'latency', 'later', 'latter', 'laugh', 'laughed', 'laundry', 'lav', 'lavalier', 'lavaliere', 'lavs', 'lawyers', 'lay', 'layer', 'layers', 'laying', 'layout', 'lcd', 'lead', 'leading', 'leads', 'leak', 'learn', 'learned', 'learning', 'least', 'leather', 'leave', 'leaves', 'leaving', 'led', 'leds', 'ledwholesalers', 'lee', 'left', 'leg', 'legato', 'legit', 'legs', 'leignth', 'lemmon', 'lemon', 'length', 'lenovo', 'lens', 'lespaul', 'less', 'lesson', 'lessons', 'let', 'lets', 'letters', 'letting', 'level', 'levels', 'lever', 'leveraged', 'lg', 'library', 'lick', 'lid', 'lies', 'life', 'lifeless', 'lifespan', 'lifestyle', 'lifetime', 'lifts', 'light', 'lighted', 'lightening', 'lighting', 'lightly', 'lightning', 'lights', 'lightsnone', 'lightweight', 'like', 'liked', 'likely', 'likes', 'likewise', 'lil', 'limb', 'lime', 'limitations', 'limited', 'line', 'line6', 'linear', 'lines', 'lineup', 'lining', 'link', 'lip', 'lips', 'list', 'listed', 'listed34', 'listen', 'listenable', 'listened', 'listening', 'listing', 'lists', 'lit', 'lite', 'literally', 'literature', 'little', 'littlewoods', 'live', 'living', 'lo', 'load', 'loaded', 'loader', 'loading', 'local', 'locally', 'locate', 'location', 'locations', 'lock', 'locked', 'locking', 'lofi', 'logetech', 'logic', 'logidy', 'logo', 'lol', 'long', 'longer', 'longpai', 'longterm', 'look', 'looked', 'lookin', 'looking', 'looks', 'loop', 'looper', 'loops', 'loose', 'loosely', 'looses', 'los', 'lose', 'losing', 'loss', 'lost', 'lot', 'lots', 'loud', 'louder', 'loudly', 'lounge', 'love', 'loved', 'loving', 'low', 'lower', 'lowerend', 'lowerpitched', 'lowest', 'lowmid', 'lowquality', 'lows', 'loz', 'lp', 'lr', 'ltd', 'luck', 'luckily', 'lucky', 'lugging', 'lumberjack', 'lumen', 'lumens', 'luthier', 'luxurious', 'luxury', 'lying', 'lyre', 'lyric', 'lyrics', 'm', 'm1r', 'mabey', 'mac', 'macbook', 'macbookpro', 'machine', 'machined', 'machinery', 'machines', 'machining', 'macho', 'mackie', 'macs', 'mad', 'maestro', 'magenta', 'magic', 'magnet', 'magnetic', 'magnets', 'magnification', 'mail', 'main', 'mains', 'maintaining', 'major', 'majorly', 'make', 'maker', 'makes', 'making', 'male', 'malfunctioning', 'malfunctions', 'malicious', 'malware', 'man', 'manage', 'managed', 'mandarin', 'mandolin', 'manner', 'manual', 'manually', 'manufacture', 'manufactured', 'manufacturemerchant', 'manufacturer', 'manufacturers', 'manufacturersmaterial', 'manufacturing', 'many', 'many34finger', 'map', 'maracca', 'march', 'marimba', 'marion', 'mark', 'marked', 'markers', 'market', 'marketing', 'marking', 'marks', 'markup', 'markups', 'marshall', 'mart34', 'maschine', 'mask', 'masking', 'mason', 'mass', 'massive', 'master', 'mat', 'match', 'matched', 'matches', 'material', 'materials', 'matte', 'matter', 'maudio', 'max', 'maximum', 'maxing', 'may', 'maybe', 'mayo', 'mbox', 'mean', 'meaning', 'means', 'meant', 'meantime', 'meanwhile', 'measly', 'measured', 'measurements', 'measures', 'mechanism', 'media', 'mediocre', 'meet', 'meeting', 'meetings', 'megabucks', 'meinl', 'melt', 'melted', 'melting', 'melts', 'memorize', 'memory', 'mental', 'mention', 'mentioned', 'merely', 'mesa', 'mess', 'message', 'messages', 'messed', 'messing', 'met', 'metal', 'metallic', 'meter', 'meters', 'method', 'methods', 'metronome', 'mexican', 'mh1000', 'mic', 'michaels', 'micing', 'microphon', 'microphone', 'microphones', 'microsoft', 'microwaved', 'mics', 'mictransmitter', 'mid', 'middle', 'midi', 'midicompliant', 'midrange', 'mids', 'midset', 'midway', 'might', 'mike', 'mikes', 'mild', 'mildew', 'mile', 'miles', 'military', 'mill', 'million', 'mim', 'mimi', 'min', 'mind', 'mindblowing', 'mine', 'mineone', 'mini', 'minikeystation', 'minimal', 'minimally', 'minimum', 'minor', 'mins', 'mins34', 'minute', 'minutes', 'miracle', 'mirage', 'miscut', 'miserable', 'misfit', 'misleading', 'mismatched', 'mismatching', 'miss', 'missed', 'misshapen', 'missing', 'mistake', 'misunderstanding', 'mix', 'mixed', 'mixer', 'mixers', 'mixerwith', 'mixes', 'mixing', 'mk', 'mk10', 'mkii', 'mks', 'mm', 'mmx334', 'mobile', 'mobilepre', 'mode', 'model', 'modeled', 'models', 'moderate', 'modi', 'modifications', 'modify', 'module', 'moduleit', 'modules', 'moisture', 'mold', 'moldable', 'molded', 'moldy', 'moment', 'moms', 'mondo', 'moneywarranty', 'monitor', 'monitors', 'monopod', 'monster', 'monsters', 'months', 'monthssee', 'mood', 'moon', 'more', 'morning', 'mortar', 'mos', 'most', 'mostly', 'mother', 'motherboard', 'motherboards', 'motion', 'motor', 'motorcycle', 'motu', 'mount', 'mount34', 'mounted', 'mounting', 'mounts', 'mouse', 'mouth', 'mouthpiece', 'move', 'moved', 'movement', 'moves', 'moving', 'mp', 'mp3', 'mpow', 'mr', 'msd1', 'mt', 'mtrack', 'mtracks', 'much', 'mudbath', 'muddled', 'muddy', 'muffled', 'muffles', 'muffling', 'multi', 'multieffects', 'multimeter', 'multiple', 'multitude', 'mumbling', 'murmur', 'music', 'music123amazon', 'musical', 'musicallyso', 'musician', 'musicians', 'musicle', 'must', 'muted', 'mxl', 'myself', 'myselfon', 'mystified', 'n', 'nada', 'nail', 'nails', 'naive', 'name', 'named', 'names', 'narrow', 'narrower', 'nasty', 'natural', 'near', 'nearby', 'nearly', 'neatly', 'necessarily', 'necessary', 'neck', 'necklace', 'necks', 'need', 'needed', 'needing', 'needle', 'needless', 'needs', 'neewer', 'neewers', 'negative', 'neighbors', 'neither', 'nervous', 'network', 'never', 'new', 'newer', 'newest', 'newspaper', 'next', 'nice', 'nicely', 'nicer', 'nickel', 'night', 'nightclub', 'nightmarespeakers', 'nights', 'nine', 'nineteen', 'no', 'nob', 'nobody', 'nobrainer', 'nobs', 'noice', 'noise', 'noises', 'noisy', 'non', 'nonchecked', 'nonchinese', 'none', 'nonfunctional', 'nonlocking', 'nonoily', 'nonplussed', 'nonpowered', 'nonreturnable', 'noodle', 'noones', 'nope', 'nor', 'normal', 'normally', 'nose', 'not', 'notch', 'note', 'notebook', 'noted', 'notes', 'nothing', 'notice', 'noticeable', 'noticed', 'noticing', 'notification', 'notified', 'notify', 'notmal', 'notorious', 'nova', 'novation', 'novelty', 'noway', 'nowhere', 'nt2a', 'ntg2', 'nuances', 'nug', 'numark', 'number', 'numbers', 'numbersletters', 'nuns', 'nut', 'nuts', 'nvram', 'nylon', 'o', 'object34', 'oboe', 'oboes', 'obsolete', 'obvious', 'obviously', 'ocarina', 'occasional', 'occasionally', 'occasions', 'occurred', 'occurs', 'ocd', 'octave', 'october', 'odd', 'odor', 'oem', 'off', 'offer', 'offered', 'offers', 'office', 'oh', 'ok', 'okay', 'oki', 'ol', 'old', 'older', 'olds', 'olson', 'omb', 'omg', 'omni', 'omnidirectional', 'once', 'one', 'one34', 'onekat', 'ones', 'onestar', 'online', 'only', 'onoff', 'onsite', 'onthe', 'onto', 'ookie', 'open', 'open34', 'openclose', 'opened', 'opening', 'openings', 'operate', 'operating', 'operation', 'opinion', 'opportunity', 'opposed', 'opposite', 'optical', 'optimum', 'option', 'options', 'orange', 'orchestra', 'orderd', 'orderes', 'ordering', 'ordertotally', 'ordinary', 'oreldered', 'organizers', 'organizing', 'original', 'originally', 'originals', 'ornament', 'ortofon', 'oscar', 'ot', 'otamatone', 'other', 'others', 'others34', 'otherwise', 'ou5', 'our', 'ours', 'out', 'outcome', 'outdoor', 'outdoors', 'outlet', 'outofthebox', 'outoftheway', 'output', 'outputs', 'outrageous', 'outside', 'over', 'overall', 'overflow', 'overheated', 'overlapping', 'overlay', 'overload', 'overnight', 'overpriced', 'overseas', 'oversized', 'overvalued', 'overwhelms', 'owe', 'owing', 'own', 'owned', 'owner', 'owners', 'owns', 'oxygen', 'p', 'pa', 'pack', 'package', 'packaged', 'packages', 'packaging', 'packed', 'packets', 'packing', 'packs', 'pad', 'padded', 'padding', 'pads', 'page', 'pagethanks', 'paid', 'pain', 'painful', 'paint', 'painted', 'painter', 'pair', 'paired', 'pairs', 'pan', 'panasonic', 'panel', 'paper', 'paperweight', 'par', 'par46', 'paraeq', 'parent', 'parents', 'part', 'part34', 'partial', 'partially', 'particular', 'parts', 'partsnow', 'parttime', 'party', 'pass', 'passed', 'passes', 'passive', 'past', 'pastor', 'pasul', 'patch', 'patches', 'path', 'pathetic', 'patina', 'pattern', 'patterns', 'pause', 'paused', 'pauses', 'pay', 'payed', 'paying', 'payment', 'pbass', 'pc', 'pcs', 'pdf', 'pdmic45', 'pdp', 'pdwm3400', 'peacefully', 'peak', 'pearl', 'peavey', 'peaveys', 'pedal', 'pedalboard', 'pedalboards', 'pedals', 'pedaltrain', 'peddle', 'peel', 'peg', 'pegs', 'peice', 'peirce', 'penny', 'people', 'peoples', 'per', 'percussion', 'percussionist', 'perfect', 'perfecteverythings', 'perfection', 'perfectly', 'perform', 'performance', 'performances', 'performed', 'performing', 'performs', 'perhaps', 'period', 'permanent', 'permanently', 'persistence', 'persistent', 'person', 'personal', 'personally', 'phantom', 'phone', 'phoned', 'phones', 'phony', 'photo', 'photos', 'physical', 'physically', 'piace', 'piano', 'pianos', 'pic', 'piccolo', 'pick', 'pickgaurd', 'picking', 'picks', 'pickup', 'pickups', 'pics', 'picture', 'pictured', 'pictures', 'picturesdecide', 'pieceprobably', 'pieces', 'pierced', 'pin', 'pinched', 'pink', 'pinky', 'pins', 'pioneer', 'pipe', 'pipes', 'piss', 'pissed', 'pitch', 'pitched', 'pitchhawk', 'pitchthis', 'pity', 'pivoting', 'pixel', 'place', 'placed', 'placement', 'places', 'placing', 'plain', 'plan', 'plane', 'planet', 'planets', 'planned', 'planning', 'plans', 'plastic', 'plastics', 'plate', 'plated', 'plates', 'plating', 'platos', 'platter', 'playability', 'playable', 'playback', 'played', 'player', 'players', 'playing', 'plays', 'pleasant', 'please', 'pleased', 'pleaseim', 'pleasing', 'plenty', 'pliable', 'pligandplay', 'plug', 'plugandplay', 'plugged', 'plugging', 'plugs', 'plumbers', 'plus', 'plywood', 'pocket', 'pockets', 'poco', 'podcast', 'podcasting', 'podxtlive', 'poi', 'point', 'pointed', 'pointing', 'points', 'poisoning', 'poke', 'polarized', 'policy', 'polish', 'polishing', 'polite', 'poly', 'polysynth', 'pool', 'poor', 'poorest', 'poorly', 'poorlyconstructed', 'pop', 'popped', 'popping', 'pops', 'popular', 'porch', 'port', 'portable', 'portion', 'porton', 'ports', 'pos', 'posh', 'position', 'positive', 'possession', 'possibility', 'possible', 'possibly', 'post', 'postage', 'posted', 'posting', 'postrecording', 'posts', 'potentioal', 'pots', 'pouch', 'pouches', 'powdered', 'powered', 'powerhouse', 'powers', 'powwow', 'practical', 'practically', 'practice', 'preamp', 'preampmixer', 'precautions', 'precise', 'precisely', 'precision', 'predict', 'prefer', 'preferences', 'premier', 'prepared', 'preparing', 'preposterous', 'prepped', 'prescreen', 'presence', 'present', 'presentation', 'presentations', 'presented', 'presonus', 'press', 'pressed', 'pressing', 'pressure', 'pretend', 'pretends', 'pretty', 'previous', 'previously', 'price', 'priced', 'pride', 'primarily', 'primary', 'prime', 'principle', 'print', 'printed', 'printing', 'prints', 'prior', 'pro', 'proaudio', 'probably', 'problem', 'problemno', 'problems', 'procases', 'proceeded', 'process', 'processing', 'processor', 'produce', 'produced', 'produces', 'producing', 'producti', 'production', 'productno', 'productosgracias', 'products', 'productssad', 'professional', 'proffessional', 'profit', 'programable', 'programs', 'progress', 'progressed', 'progressively', 'project', 'projection', 'projects', 'promark', 'promise', 'promised', 'prompt', 'promptly', 'prone', 'prongs', 'proof', 'prop', 'propaganda', 'proper', 'properly', 'property', 'propping', 'proprietary', 'pros', 'protect', 'protected', 'protecting', 'protection', 'protective', 'protrude', 'proudly', 'proved', 'proven', 'provide', 'provided', 'provider', 'provides', 'providing', 'prs', 'ps', 'ps2', 'ps2usb', 'psu', 'pt', 'public', 'publication', 'puedo', 'puff', 'puke', 'pull', 'pulled', 'pulling', 'pulls', 'pulsed', 'punched', 'punchy', 'purchasei', 'purchases', 'purchasing', 'pure', 'purple', 'purpose', 'purposes', 'purrs', 'push', 'pushed', 'pushes', 'pushing', 'puts', 'putting', 'puzzled', 'pvc', 'pwerful', 'pwma100', 'pwma200', 'pyle', 'pylepro', 'q5', 'q802usb', 'qualified', 'quality', 'quart', 'quarter', 'que', 'quería', 'question', 'questionable', 'questions', 'quick', 'quickadjustment', 'quickly', 'quickness', 'quiet', 'quit', 'quite', 'quotation', 'r', 'ra', 'rack', 'radio', 'radius', 'rail', 'rails', 'raise', 'raising', 'ran', 'random', 'randomly', 'range', 'rare', 'rarely', 'rash', 'ratchet', 'rate', 'rated', 'rates', 'rather', 'rating', 'ratings', 'ratingthe', 'rattled', 'rattling', 'raveled', 'rc', 'rca', 'rcvd', 'reach', 'reachable', 'reached', 'reaching', 'reactions', 'read', 'reading', 'ready', 'real', 'realist', 'realistic', 'realize', 'realized', 'really', 'realy', 'reason', 'reasonably', 'reasoni', 'reassured', 'reboots', 'rebound', 'rebuilt', 'recall', 'receipt', 'received', 'receiver', 'receiverhow', 'receivertransmitter', 'receives', 'receiving', 'recent', 'recently', 'reception', 'rechargeable', 'recieptemail', 'recieve', 'recieved', 'reciver', 'recognize', 'recognized', 'recognizes', 'recognizing', 'recomend', 'recommend', 'recommendation', 'recommendations', 'recommendchina', 'recommended', 'recommending', 'recommendive', 'recommends', 'recone', 'reconsider', 'record', 'recorded', 'recorder', 'recording', 'recordings', 'recordingspa', 'records', 'rectangular', 'red', 'redesign', 'redesigns', 'redgreen', 'redirected', 'reduce', 'reducer', 'redundant', 'reed', 'reeds', 'reeked', 'refer', 'reference', 'referred', 'refers', 'reflect', 'reflexes', 'refound', 'refund', 'refunded', 'refused', 'refuses', 'refusing', 'regardless', 'regards', 'register', 'registered', 'registers', 'registration', 'regret', 'regular', 'regularly', 'rehair', 'rehaired', 'rehearsal', 'rehearsed', 'reinforced', 'reinforcement', 'reinstall', 'reinstalled', 'reinstalling', 'rejecting', 'related', 'relatively', 'reliable', 'relief', 'reliefs', 'remains', 'remedy', 'remember', 'remote', 'remotes', 'removal', 'remove', 'removed', 'removing', 'rendered', 'rendering', 'renders', 'reneged', 'renogy', 'rent', 'rented', 'reordered', 'repair', 'repairable', 'repaired', 'repairing', 'repairs', 'repeatedly', 'replace', 'replaced', 'replacement', 'replacements', 'replacerepair', 'replacing', 'replacment', 'replica', 'replied', 'replies', 'replug', 'reply', 'replying', 'represent', 'reproductive', 'repurchase', 'reputable', 'request', 'requested', 'requesting', 'require', 'required', 'requires', 'requiring', 'rescue', 'reseal', 'resealed', 'research', 'researched', 'reseated', 'reserve', 'reset', 'resetting', 'reshrink', 'reside', 'residue', 'residuethat', 'resin', 'resist', 'resistance', 'resistant', 'resoldered', 'resolve', 'resolved', 'resort', 'respect', 'respoding', 'respond', 'responded', 'responds', 'response', 'responsible', 'rest', 'restart', 'restarting', 'resti', 'resting', 'restoration', 'restore', 'restoring', 'restring', 'restringbetter', 'restringing', 'restrung', 'rests', 'result', 'resulting', 'results', 'resync', 'retailer', 'retainer', 'retaining', 'retaped', 'retina', 'retired', 'retroactively', 'returned', 'returning', 'returns', 'returnvery', 'reuse', 'reverbcomwithout', 'reviewer', 'reviewers', 'reviewing', 'rf', 'rg59', 'ribbon', 'rice', 'rich', 'rickenbacker', 'ridiculous', 'ridiculously', 'rig', 'rigging', 'right', 'rigors', 'ring', 'ringer', 'rip', 'riped', 'ripoff', 'ripped', 'ripping', 'risk', 'rk143g', 'rma', 'road', 'robertestonejrgmailcom', 'robust', 'rock', 'rocket', 'rockville', 'rockvillejunk', 'rockvilles', 'rod', 'rode', 'rodeyoull', 'rods', 'roland', 'roll', 'rolled', 'rolls', 'rome', 'roof', 'room', 'rooms', 'rose', 'rosin', 'rotary', 'rotate', 'rotosound', 'rott', 'rough', 'roughly', 'round', 'row', 'rp2', 'rub', 'rubber', 'rubbish', 'rubs', 'rude', 'ruin', 'ruined', 'rumored', 'run', 'running', 'runs', 'rupees', 'rush', 'rust', 'rusted', 'rusting', 'rusty', 'rx', 'røde', 's', 's5', 'sad', 'sadly', 'sadness', 'safe', 'safety', 'saffire', 'sags', 'sake', 'sale', 'saler', 'sales', 'saliva', 'salt', 'salvage', 'samba', 'same', 'sample', 'sampletank', 'sampling', 'samson', 'samsung', 'sand', 'sander', 'sanity', 'sansamp', 'santa', 'sat', 'satin', 'satisfied', 'saturated', 'saturday', 'sauce', 'sauch', 'save', 'saved', 'saver', 'saving', 'savvy', 'saw', 'sawing', 'sax', 'saxophone', 'saxophones', 'say', 'saychirpchirp', 'saying', 'says', 'scalding', 'scale', 'scam', 'scamthis', 'scanned', 'scare', 'scared', 'scars', 'scattered', 'scheduled', 'schiit', 'schmidt', 'school', 'scissor', 'scotch', 'scrape', 'scrapes', 'scratch', 'scratched', 'scratches', 'scratching', 'screen', 'screw', 'screwed', 'screws', 'screwsanchors', 'screwy', 'scrolling', 'scuffed', 'scx48f', 'sd', 'sd500', 'sdusbbluetooth', 'se', 'se112', 'seal', 'sealed', 'sealplay', 'seams', 'sean', 'search', 'searched', 'searching', 'seat', 'seatbelt', 'seated', 'seating', 'second', 'secondary', 'secondly', 'seconds', 'section', 'secure', 'secured', 'securely', 'security', 'seeing', 'seek', 'seem', 'seemed', 'seems', 'seen', 'seensparse', 'segment', 'segovia', 'seldom', 'selecting', 'selector', 'self', 'selfrepair', 'sell', 'seller', 'sellers', 'selling', 'sells', 'selmer', 'selmers', 'semi', 'semicorking', 'semidisposable', 'send', 'sending', 'sends', 'senn', 'sennheiser', 'sense', 'sensitive', 'sensitivity', 'sensor', 'sensors', 'sent', 'separate', 'separately', 'seperately', 'september', 'serial', 'series', 'serious', 'seriously', 'serve', 'service', 'serviceable', 'session', 'sessions', 'setip', 'sets', 'setting', 'settings', 'setup', 'setups', 'seven', 'several', 'severe', 'severely', 'sewn', 'sg', 'shady', 'shaft', 'shakers', 'shaky', 'shall', 'shame', 'shape', 'shaped', 'share', 'sharere', 'sharp', 'sharply', 'she', 'sheered', 'sheet', 'sheets', 'shelf', 'shell', 'shells', 'shhhhhh', 'shield', 'shift', 'shimmed', 'shine', 'shiny', 'ship', 'shipment', 'shipped', 'shipper', 'shipping', 'ships', 'shirt', 'shock', 'shocked', 'shocking', 'shockingly', 'shockmount', 'shoddy', 'shoe', 'shoes', 'shoot', 'shooting', 'shop', 'shoppers', 'shopping', 'shops', 'short', 'shorted', 'shortedout', 'shorter', 'shorting', 'shortly', 'shorts', 'shot', 'shotty', 'shoulda', 'shoulder', 'shoulders', 'shouldnt', 'shouldve', 'shoved', 'show', 'showed', 'showing', 'shown', 'shows', 'shure', 'shures', 'shut', 'shuts', 'shutting', 'shying', 'sick', 'side', 'sidei', 'sidelined', 'sides', 'sigh', 'sight', 'sign', 'signal', 'signals', 'signed', 'significant', 'signing', 'signs', 'silence', 'silicone', 'silly', 'silver', 'similar', 'similarity', 'similarly', 'simple', 'simplicity', 'simply', 'since', 'sine', 'sing', 'singing', 'singingthe', 'single', 'sink', 'sit', 'site', 'sites', 'sits', 'sitting', 'situation', 'six', 'size', 'sized', 'sizes', 'sjcam', 'skb', 'skewed', 'skin', 'skip', 'skipped', 'skyndeep', 'slap', 'sleep', 'sleepover', 'sleeve', 'slide', 'slider', 'sliders', 'slides', 'slight', 'slightest', 'slightly', 'sling', 'slinky', 'slip', 'slipping', 'slips', 'sloppy', 'slot', 'slots', 'slow', 'slowly', 'slowmissed', 'sm57', 'sm58', 'smacked', 'smacking', 'small', 'smallcost', 'smaller', 'smallest', 'smalljust', 'smartphones', 'smashed', 'smashing', 'smell', 'smelled', 'smh', 'smoke', 'smoke34', 'smokingi', 'smooth', 'smoothly', 'sn5', 'snake', 'snap', 'snapped', 'snare', 'snark', 'snarling', 'sniffle', 'snow', 'snug', 'soaking', 'soap', 'sobs', 'sock', 'socket', 'soft', 'softest', 'softly', 'software', 'soit', 'solar', 'solarvpanel', 'sold', 'solder', 'soldered', 'soldering', 'solid', 'solidly', 'solo', 'solocup', 'solution', 'solutions', 'solve', 'some', 'someday', 'somehow', 'somehowill', 'someone', 'somethings', 'sometimes', 'someting', 'somewhat', 'somewhere', 'son', 'song', 'songs', 'sons', 'sony', 'soon', 'sooner', 'soooooo', 'sooooooo', 'sopo', 'soprano', 'sorely', 'sorry', 'sort', 'sorts', 'soso', 'sound34', 'soundby', 'sounded', 'sounding', 'soundpad', 'sounds', 'soundsnothing', 'soundtrack', 'source', 'sources', 'south', 'souvenir', 'sovteks', 'space', 'spacing', 'spare', 'spares', 'sparingly', 'spark', 'sparkly', 'sparks', 'sparse', 'speak', 'speaker', 'speakermic', 'speakers', 'speaking', 'speakingsinging', 'speakon', 'spec', 'special', 'specializes', 'specific', 'specifically', 'specification', 'specifications', 'specify', 'specs', 'speech', 'speedy', 'speker', 'spend', 'spending', 'spent', 'sperzel', 'sperzels', 'spewing', 'spilling', 'spin', 'spinning', 'spit', 'spitting', 'splendidly', 'split', 'splitter', 'spoke', 'spontaneously', 'spoons', 'sporadic', 'sports', 'spot', 'spotanyone', 'spotted', 'spray', 'spring', 'springs', 'spudder', 'squalls', 'square', 'squeaks', 'squeal', 'squeals', 'squeeling', 'squeezing', 'squier', 'squire', 'squishy', 'sr', 'stability', 'stabilizer', 'stable', 'stage', 'stainless', 'stamp', 'stamped', 'stamping', 'stand', 'standard', 'standards', 'standarm', 'standi', 'standing', 'stands', 'stands34', 'stapled', 'star', 'stars', 'start', 'started', 'starter', 'starters', 'starting', 'startled', 'starts', 'state', 'stated', 'statement', 'states', 'static', 'stating', 'station', 'stats', 'stay', 'stayed', 'staying', 'stays', 'steady', 'steel', 'steep', 'steer', 'steering', 'steinberg', 'steinberger', 'stem', 'stems', 'step', 'stepped', 'steps', 'stepwise', 'stereo', 'stereovcr', 'stern', 'stiched', 'stick', 'sticker', 'stickermeaning', 'stickers', 'sticking', 'sticklike', 'sticks', 'sticky', 'stiff', 'stifle', 'stillthis', 'sting', 'stings', 'stink', 'stinks', 'stitch', 'stitchdont', 'stitching', 'stl', 'stock', 'stomp', 'stood', 'stop', 'stopped', 'stopper', 'stopping', 'stops', 'storage', 'store', 'stored', 'stores', 'stories', 'storing', 'story', 'straight', 'straighten', 'strain', 'strand', 'strange', 'strangely', 'strap', 'straps', 'strars', 'strat', 'strat34', 'stratocasterthis', 'stray', 'stream', 'streamdownload', 'streesing', 'stress', 'stretch', 'stretched', 'stretching', 'strike', 'striker', 'stringed', 'strings', 'strip', 'stripping', 'strips', 'strobe', 'strong', 'strongly', 'structural', 'struggle', 'struggling', 'strumming', 'strung', 'stuck', 'student', 'students', 'studio', 'studiostage', 'studying', 'stuff', 'stuffed', 'stumbled', 'stunk', 'stupid', 'sturdy', 'sty', 'style', 'styles', 'stylus', 'styrofoam', 'sub', 'subject', 'submits', 'submitted', 'subpar', 'subsequently', 'substance', 'substantial', 'subwoofer', 'subwoofersfor', 'success', 'such', 'suck', 'sucked', 'sucker', 'sucking', 'sucks', 'suckswell', 'suction', 'suddenly', 'suede', 'suffer', 'suffering', 'suffice', 'sufficient', 'sufficiently', 'suggest', 'suggested', 'suggestion', 'suggestions', 'suggests', 'suicide', 'suit', 'suitable', 'suited', 'suits', 'summary', 'summer', 'sunk', 'super', 'superior', 'supernight', 'supernova', 'supersensitive', 'supervisor', 'supervisors', 'supplies', 'supply', 'supplymustve', 'suppor', 'support', 'support34', 'supported', 'supporting', 'supports', 'suppose', 'supposed', 'supposedly', 'suppressor', 'suppressors', 'supremely', 'sure', 'surface', 'surprise', 'surprised', 'surviving', 'suspension', 'sustain', 'suzuki', 'swap', 'swapping', 'swear', 'sweat', 'sweat34', 'sweaty', 'sweden', 'sweet', 'swell', 'switch', 'switched', 'switcher', 'switches', 'switchhad', 'switching', 'swivel', 'swr', 'symmetrical', 'sync', 'synchingno', 'syncing', 'syndrome', 'synth', 'synthesizer', 'synthesizers', 'sysex', 'system', 'systems', 'tab', 'table', 'tablet', 'tabletnotebook', 'tabs', 'tact', 'tag', 'tail', 'tailpiece', 'take', 'takeback', 'taken', 'takes', 'taking', 'takstar', 'talk', 'talking', 'tall', 'tamborines', 'tambourie', 'tambourine', 'tambourines', 'tank', 'tap', 'tape', 'taped', 'taper', 'taping', 'tapping', 'target', 'tarnished', 'tarnishes', 'tarry', 'tascam', 'tather', 'teach', 'teacher', 'teams', 'tear', 'tech', 'technica', 'technical', 'technician', 'technicians', 'technics', 'technology', 'teenage', 'teenager', 'tek', 'telecaster', 'tell', 'telling', 'temperature', 'ten', 'tend', 'tenor', 'tension', 'tensionat', 'tensioning', 'term', 'terminal', 'terminology', 'tern', 'terrible', 'terriblestaticy', 'terribly', 'terror', 'test', 'tested', 'tester', 'testing', 'tests', 'texas', 'texture', 'than', 'thank', 'thanks', 'thats', 'themed', 'themselves', 'themthey', 'theory', 'there34', 'there62woom', 'thereafter', 'thereally', 'therefore', 'thereof', 'theres', 'theyd', 'theyll', 'theyre', 'theyve', 'thick', 'thin', 'things', 'thingsfail', 'thingy', 'thinking', 'thinkpad', 'thinner', 'thinnest', 'third', 'thirdly', 'thispoint', 'thiswaste', 'tho', 'thorough', 'thoroughly', 'those', 'thoseeasy', 'though', 'thought', 'thoughts', 'thousands', 'thr', 'thread', 'threadding', 'threaded', 'threading', 'threads', 'threats', 'three', 'threw', 'throne', 'throw', 'throwing', 'thrown', 'throws', 'thru', 'thumb', 'thursday', 'thus', 'thy', 'ti', 'ticket', 'ticking', 'tictacs', 'tidbit', 'tie', 'ties', 'tight', 'tighten', 'tightened', 'tightening', 'tightly', 'tiki', 'till', 'timei', 'times', 'timing', 'timpani', 'tin', 'tinny', 'tiny', 'tip', 'tipping', 'tips', 'tires', 'tissue', 'title', 'tob', 'today', 'toddlers', 'tofrom', 'together', 'togethers', 'toggle', 'toilets', 'told', 'tom', 'tomorrow', 'toms', 'ton', 'tone', 'tone34', 'toneless', 'tones', 'tongue', 'tonics', 'tons', 'too', 'took', 'tool', 'tools', 'tooth', 'top', 'topofphone', 'tops', 'tore', 'torn', 'torque', 'total', 'totally', 'touch', 'touched', 'touching', 'tough', 'tough34', 'tour', 'tourretts', 'towards', 'towers', 'toy', 'toys', 'trace', 'track', 'tracker', 'tracking', 'tracks', 'trade', 'tradeshame', 'traffic', 'tragic', 'trailer', 'transfer', 'transformer', 'transformernever', 'translated', 'transmit', 'transmitters', 'transmitting', 'transport', 'trash', 'trashing', 'travel', 'treated', 'treating', 'treble', 'trees', 'tremolo', 'tricolored', 'tries', 'triforce', 'trigger', 'triggered', 'trim', 'trimming', 'trip', 'triple', 'triplets', 'tripod', 'tripping', 'trojan', 'trouble', 'troubles', 'troubleshooting', 'truck', 'true', 'truly', 'trump', 'trumpet', 'truss', 'trust', 'trusting', 'trusty', 'truth', 'trying', 'tsa', 'tt', 'tube', 'tubes', 'tubing', 'tug', 'tugged', 'tune', 'tuned', 'tunenotes', 'tuner', 'tuners', 'tunes', 'tuning', 'tunings', 'turn', 'turned', 'turning', 'turns', 'turntable', 'turntables', 'turtle', 'tutorial', 'tv', 'twang', 'tweaking', 'tween', 'twice', 'twist', 'twisting', 'twitch', 'tycoon', 'type', 'types', 'typically', 'u', 'uber', 'ubiquitous', 'ubkt2', 'ugh', 'ughyou', 'uhf', 'uke', 'ukelele', 'ukes', 'ukulele', 'ukuleles', 'ultimately', 'umi3', 'un', 'unable', 'unacceptable', 'unamplified', 'unattached', 'unbeknownst', 'unbelievable', 'unbelievablethey', 'unbelievably', 'unclean', 'unclear', 'uncomfortable', 'uncontrollably', 'under', 'underneath', 'undersize', 'understand', 'understandable', 'understanding', 'understands', 'underwhelms', 'undisturbed', 'undone', 'unexpected', 'unfastened', 'unfinished', 'unforgettable', 'unfortunate', 'unfortunately', 'unfriendly', 'unhappy', 'uniform', 'unimpressive', 'unison', 'united', 'units', 'universal', 'unless', 'unlike', 'unlock', 'unlocks', 'unnatural', 'unnecessary', 'unphased', 'unplayable', 'unplug', 'unplugged', 'unplugging', 'unpredictable', 'unproperly', 'unprotected', 'unreliable', 'unresponsive', 'unsalvageable', 'unsatisfied', 'unscrewed', 'unsellable', 'unstable', 'untangled', 'until', 'untuned', 'unusable', 'unused', 'unwanted', 'unwieldy', 'unworkable', 'unwound', 'uopn', 'up', 'up34', 'upadate', 'upcoming', 'update', 'updates', 'updone', 'updown', 'upgrade', 'upgraded', 'upgrading', 'uploading', 'upon', 'upper', 'upping', 'upright', 'ups', 'upset', 'upsets', 'upsetting', 'upsidedown', 'upwards', 'upyes', 'ur22', 'url', 'us', 'usa', 'usable', 'usage', 'usages', 'usarlo', 'usb', 'usb2', 'usb20', 'usb3', 'usbmidi', 'usbtodin', 'use', 'use34', 'useable', 'used', 'useddamaged', 'useddefective', 'usedso', 'useful', 'useless', 'user', 'users', 'usersbeware', 'uses', 'usewhen', 'uso', 'ustype', 'usual', 'usually', 'utmost', 'utterly', 'utube', 'vacation', 'valhalla', 'value', 'valve', 'valves', 'van', 'variation', 'variax', 'variety', 'various', 'varnish', 'vary', 'velcro', 'velodyne', 'vendetta', 'vendor', 'vendors', 'ventilation', 'venue', 'venues', 'verified', 'verify', 'verizon', 'version', 'versionproduct', 'versions', 'vertical', 'vertically', 'very', 'via', 'viable', 'vibrate', 'vibrations', 'vic', 'video', 'videomic', 'videos', 'vigorous', 'vintage', 'vinyl', 'viola', 'violated', 'violent', 'violin', 'violinist', 'violins', 'violn', 'virtual', 'virtually', 'virtuoso', 'virus', 'visible', 'visual', 'vital', 'vocal', 'vocalistbut', 'vocals', 'vocopro', 'vodoo', 'voice', 'voiceeven', 'voiceover', 'voices', 'voila', 'vol', 'volt', 'voltage', 'voltagefried', 'voltages', 'volume', 'volumes', 'volune', 'vonoto', 'voodoo', 'vox', 'vs985', 'vsts', 'vt', 'w', 'w211', 'waded', 'wah', 'waist', 'wait', 'waited', 'waiting', 'walk', 'walked', 'walking', 'wall', 'wally', 'walmart', 'wand', 'wands', 'waning', 'wanted', 'wants', 'warm', 'warn', 'warned', 'warning', 'warningthese', 'warped', 'warrantee', 'warranty', 'warranty34', 'warrenty', 'was', 'washcare', 'washer', 'wasnt', 'wast', 'waste', 'wasted', 'wastedplease', 'wasting', 'watch', 'watched', 'watching', 'water', 'waterproof', 'waterproofing', 'waterproofonly', 'watt', 'wattage', 'watts', 'wave', 'waveform', 'waves', 'wax', 'wayfailed', 'ways', 'weak', 'wear', 'wearing', 'weather', 'web', 'website', 'wed', 'wedge', 'wedged', 'weeks', 'weekso', 'weigh', 'weighing', 'weighs', 'weight', 'weighted', 'weightless', 'weights', 'weird', 'weld', 'well', 'wellmade', 'wellthis', 'werent', 'westone', 'weve', 'whammy', 'whatever', 'whats', 'whatsoever', 'wheel', 'wheels', 'whenever', 'whether', 'while', 'whine', 'whip', 'white', 'who', 'whoever', 'whole', 'why', 'wide', 'wife', 'wifes', 'wifi', 'wiggle', 'wildly', 'willing', 'willynilly', 'wind', 'windbroken', 'winding', 'window', 'windows', 'windscreen', 'windshield', 'wipe', 'wire', 'wired', 'wireless', 'wires', 'wiring', 'wish', 'wishes', 'wishing', 'wit', 'witch', 'with', 'with16', 'within', 'withing', 'without', 'wizards', 'wk1200', 'wobble', 'wolf', 'wonder', 'wonderful', 'wondering', 'wonky', 'wont', 'wood', 'wooden', 'woofer', 'woofers', 'word', 'wordcrap', 'work', 'workable', 'workaround', 'workarrived', 'workat', 'workbench', 'workcomplete', 'worked', 'working', 'workmanship', 'works', 'world', 'worn', 'worried', 'worse', 'worship', 'worst', 'worth', 'worthless', 'worthy', 'wouldnt', 'wouldve', 'wounded', 'wow', 'wrap', 'wrapped', 'wrapping', 'wraps', 'wrench', 'wrestle', 'wrinkled', 'write', 'writing', 'written', 'wrong', 'wrote', 'ws2811', 'wtf', 'wwwmyeelibrarycom', 'x', 'x1204usb', 'xarcade', 'xkey', 'xlr', 'xlrf', 'y', 'ya', 'yahama', 'yall', 'yamaha', 'yamahas', 'yay', 'yea', 'yeah', 'yeahits', 'yeap', 'year', 'yearwaste', 'yell', 'yellow', 'yes', 'yesterday', 'yet', 'yeti', 'yielded', 'yiu', 'yo', 'youbut', 'youd', 'youll', 'young', 'youre', 'yourself', 'youtube', 'youve', 'yr', 'yuk', 'z906', 'zelda', 'zero', 'zildjian', 'zip', 'zipper', 'zippered', 'zippers', 'zoom', 'ïnfact']\n"
     ]
    }
   ],
   "source": [
    "print(tfidf_vectorizer.get_feature_names())"
   ]
  },
  {
   "cell_type": "code",
   "execution_count": 86,
   "metadata": {},
   "outputs": [
    {
     "name": "stdout",
     "output_type": "stream",
     "text": [
      "(1309, 5788)\n"
     ]
    }
   ],
   "source": [
    "print(tfidf_vectorizer_vectors.shape)"
   ]
  },
  {
   "cell_type": "code",
   "execution_count": 80,
   "metadata": {},
   "outputs": [],
   "source": [
    "token_names = tfidf_vectorizer.get_feature_names()\n",
    "dense = tfidf_vectorizer_vectors.todense()\n",
    "denselist = dense.tolist()\n",
    "tfidf_df = pd.DataFrame(denselist, columns=token_names)"
   ]
  },
  {
   "cell_type": "code",
   "execution_count": null,
   "metadata": {},
   "outputs": [],
   "source": []
  },
  {
   "cell_type": "code",
   "execution_count": 81,
   "metadata": {},
   "outputs": [
    {
     "data": {
      "text/html": [
       "<div>\n",
       "<style scoped>\n",
       "    .dataframe tbody tr th:only-of-type {\n",
       "        vertical-align: middle;\n",
       "    }\n",
       "\n",
       "    .dataframe tbody tr th {\n",
       "        vertical-align: top;\n",
       "    }\n",
       "\n",
       "    .dataframe thead th {\n",
       "        text-align: right;\n",
       "    }\n",
       "</style>\n",
       "<table border=\"1\" class=\"dataframe\">\n",
       "  <thead>\n",
       "    <tr style=\"text-align: right;\">\n",
       "      <th></th>\n",
       "      <th>0</th>\n",
       "      <th>001</th>\n",
       "      <th>073</th>\n",
       "      <th>0v</th>\n",
       "      <th>1</th>\n",
       "      <th>10</th>\n",
       "      <th>100</th>\n",
       "      <th>1000</th>\n",
       "      <th>10000</th>\n",
       "      <th>100s</th>\n",
       "      <th>...</th>\n",
       "      <th>z906</th>\n",
       "      <th>zelda</th>\n",
       "      <th>zero</th>\n",
       "      <th>zildjian</th>\n",
       "      <th>zip</th>\n",
       "      <th>zipper</th>\n",
       "      <th>zippered</th>\n",
       "      <th>zippers</th>\n",
       "      <th>zoom</th>\n",
       "      <th>ïnfact</th>\n",
       "    </tr>\n",
       "  </thead>\n",
       "  <tbody>\n",
       "    <tr>\n",
       "      <th>0</th>\n",
       "      <td>0.0</td>\n",
       "      <td>0.0</td>\n",
       "      <td>0.0</td>\n",
       "      <td>0.0</td>\n",
       "      <td>0.00000</td>\n",
       "      <td>0.0</td>\n",
       "      <td>0.0</td>\n",
       "      <td>0.0</td>\n",
       "      <td>0.0</td>\n",
       "      <td>0.0</td>\n",
       "      <td>...</td>\n",
       "      <td>0.0</td>\n",
       "      <td>0.0</td>\n",
       "      <td>0.0</td>\n",
       "      <td>0.0</td>\n",
       "      <td>0.0</td>\n",
       "      <td>0.0</td>\n",
       "      <td>0.0</td>\n",
       "      <td>0.0</td>\n",
       "      <td>0.0</td>\n",
       "      <td>0.0</td>\n",
       "    </tr>\n",
       "    <tr>\n",
       "      <th>1</th>\n",
       "      <td>0.0</td>\n",
       "      <td>0.0</td>\n",
       "      <td>0.0</td>\n",
       "      <td>0.0</td>\n",
       "      <td>0.00000</td>\n",
       "      <td>0.0</td>\n",
       "      <td>0.0</td>\n",
       "      <td>0.0</td>\n",
       "      <td>0.0</td>\n",
       "      <td>0.0</td>\n",
       "      <td>...</td>\n",
       "      <td>0.0</td>\n",
       "      <td>0.0</td>\n",
       "      <td>0.0</td>\n",
       "      <td>0.0</td>\n",
       "      <td>0.0</td>\n",
       "      <td>0.0</td>\n",
       "      <td>0.0</td>\n",
       "      <td>0.0</td>\n",
       "      <td>0.0</td>\n",
       "      <td>0.0</td>\n",
       "    </tr>\n",
       "    <tr>\n",
       "      <th>2</th>\n",
       "      <td>0.0</td>\n",
       "      <td>0.0</td>\n",
       "      <td>0.0</td>\n",
       "      <td>0.0</td>\n",
       "      <td>0.00000</td>\n",
       "      <td>0.0</td>\n",
       "      <td>0.0</td>\n",
       "      <td>0.0</td>\n",
       "      <td>0.0</td>\n",
       "      <td>0.0</td>\n",
       "      <td>...</td>\n",
       "      <td>0.0</td>\n",
       "      <td>0.0</td>\n",
       "      <td>0.0</td>\n",
       "      <td>0.0</td>\n",
       "      <td>0.0</td>\n",
       "      <td>0.0</td>\n",
       "      <td>0.0</td>\n",
       "      <td>0.0</td>\n",
       "      <td>0.0</td>\n",
       "      <td>0.0</td>\n",
       "    </tr>\n",
       "    <tr>\n",
       "      <th>3</th>\n",
       "      <td>0.0</td>\n",
       "      <td>0.0</td>\n",
       "      <td>0.0</td>\n",
       "      <td>0.0</td>\n",
       "      <td>0.00000</td>\n",
       "      <td>0.0</td>\n",
       "      <td>0.0</td>\n",
       "      <td>0.0</td>\n",
       "      <td>0.0</td>\n",
       "      <td>0.0</td>\n",
       "      <td>...</td>\n",
       "      <td>0.0</td>\n",
       "      <td>0.0</td>\n",
       "      <td>0.0</td>\n",
       "      <td>0.0</td>\n",
       "      <td>0.0</td>\n",
       "      <td>0.0</td>\n",
       "      <td>0.0</td>\n",
       "      <td>0.0</td>\n",
       "      <td>0.0</td>\n",
       "      <td>0.0</td>\n",
       "    </tr>\n",
       "    <tr>\n",
       "      <th>4</th>\n",
       "      <td>0.0</td>\n",
       "      <td>0.0</td>\n",
       "      <td>0.0</td>\n",
       "      <td>0.0</td>\n",
       "      <td>0.23219</td>\n",
       "      <td>0.0</td>\n",
       "      <td>0.0</td>\n",
       "      <td>0.0</td>\n",
       "      <td>0.0</td>\n",
       "      <td>0.0</td>\n",
       "      <td>...</td>\n",
       "      <td>0.0</td>\n",
       "      <td>0.0</td>\n",
       "      <td>0.0</td>\n",
       "      <td>0.0</td>\n",
       "      <td>0.0</td>\n",
       "      <td>0.0</td>\n",
       "      <td>0.0</td>\n",
       "      <td>0.0</td>\n",
       "      <td>0.0</td>\n",
       "      <td>0.0</td>\n",
       "    </tr>\n",
       "    <tr>\n",
       "      <th>...</th>\n",
       "      <td>...</td>\n",
       "      <td>...</td>\n",
       "      <td>...</td>\n",
       "      <td>...</td>\n",
       "      <td>...</td>\n",
       "      <td>...</td>\n",
       "      <td>...</td>\n",
       "      <td>...</td>\n",
       "      <td>...</td>\n",
       "      <td>...</td>\n",
       "      <td>...</td>\n",
       "      <td>...</td>\n",
       "      <td>...</td>\n",
       "      <td>...</td>\n",
       "      <td>...</td>\n",
       "      <td>...</td>\n",
       "      <td>...</td>\n",
       "      <td>...</td>\n",
       "      <td>...</td>\n",
       "      <td>...</td>\n",
       "      <td>...</td>\n",
       "    </tr>\n",
       "    <tr>\n",
       "      <th>1304</th>\n",
       "      <td>0.0</td>\n",
       "      <td>0.0</td>\n",
       "      <td>0.0</td>\n",
       "      <td>0.0</td>\n",
       "      <td>0.00000</td>\n",
       "      <td>0.0</td>\n",
       "      <td>0.0</td>\n",
       "      <td>0.0</td>\n",
       "      <td>0.0</td>\n",
       "      <td>0.0</td>\n",
       "      <td>...</td>\n",
       "      <td>0.0</td>\n",
       "      <td>0.0</td>\n",
       "      <td>0.0</td>\n",
       "      <td>0.0</td>\n",
       "      <td>0.0</td>\n",
       "      <td>0.0</td>\n",
       "      <td>0.0</td>\n",
       "      <td>0.0</td>\n",
       "      <td>0.0</td>\n",
       "      <td>0.0</td>\n",
       "    </tr>\n",
       "    <tr>\n",
       "      <th>1305</th>\n",
       "      <td>0.0</td>\n",
       "      <td>0.0</td>\n",
       "      <td>0.0</td>\n",
       "      <td>0.0</td>\n",
       "      <td>0.00000</td>\n",
       "      <td>0.0</td>\n",
       "      <td>0.0</td>\n",
       "      <td>0.0</td>\n",
       "      <td>0.0</td>\n",
       "      <td>0.0</td>\n",
       "      <td>...</td>\n",
       "      <td>0.0</td>\n",
       "      <td>0.0</td>\n",
       "      <td>0.0</td>\n",
       "      <td>0.0</td>\n",
       "      <td>0.0</td>\n",
       "      <td>0.0</td>\n",
       "      <td>0.0</td>\n",
       "      <td>0.0</td>\n",
       "      <td>0.0</td>\n",
       "      <td>0.0</td>\n",
       "    </tr>\n",
       "    <tr>\n",
       "      <th>1306</th>\n",
       "      <td>0.0</td>\n",
       "      <td>0.0</td>\n",
       "      <td>0.0</td>\n",
       "      <td>0.0</td>\n",
       "      <td>0.00000</td>\n",
       "      <td>0.0</td>\n",
       "      <td>0.0</td>\n",
       "      <td>0.0</td>\n",
       "      <td>0.0</td>\n",
       "      <td>0.0</td>\n",
       "      <td>...</td>\n",
       "      <td>0.0</td>\n",
       "      <td>0.0</td>\n",
       "      <td>0.0</td>\n",
       "      <td>0.0</td>\n",
       "      <td>0.0</td>\n",
       "      <td>0.0</td>\n",
       "      <td>0.0</td>\n",
       "      <td>0.0</td>\n",
       "      <td>0.0</td>\n",
       "      <td>0.0</td>\n",
       "    </tr>\n",
       "    <tr>\n",
       "      <th>1307</th>\n",
       "      <td>0.0</td>\n",
       "      <td>0.0</td>\n",
       "      <td>0.0</td>\n",
       "      <td>0.0</td>\n",
       "      <td>0.00000</td>\n",
       "      <td>0.0</td>\n",
       "      <td>0.0</td>\n",
       "      <td>0.0</td>\n",
       "      <td>0.0</td>\n",
       "      <td>0.0</td>\n",
       "      <td>...</td>\n",
       "      <td>0.0</td>\n",
       "      <td>0.0</td>\n",
       "      <td>0.0</td>\n",
       "      <td>0.0</td>\n",
       "      <td>0.0</td>\n",
       "      <td>0.0</td>\n",
       "      <td>0.0</td>\n",
       "      <td>0.0</td>\n",
       "      <td>0.0</td>\n",
       "      <td>0.0</td>\n",
       "    </tr>\n",
       "    <tr>\n",
       "      <th>1308</th>\n",
       "      <td>0.0</td>\n",
       "      <td>0.0</td>\n",
       "      <td>0.0</td>\n",
       "      <td>0.0</td>\n",
       "      <td>0.00000</td>\n",
       "      <td>0.0</td>\n",
       "      <td>0.0</td>\n",
       "      <td>0.0</td>\n",
       "      <td>0.0</td>\n",
       "      <td>0.0</td>\n",
       "      <td>...</td>\n",
       "      <td>0.0</td>\n",
       "      <td>0.0</td>\n",
       "      <td>0.0</td>\n",
       "      <td>0.0</td>\n",
       "      <td>0.0</td>\n",
       "      <td>0.0</td>\n",
       "      <td>0.0</td>\n",
       "      <td>0.0</td>\n",
       "      <td>0.0</td>\n",
       "      <td>0.0</td>\n",
       "    </tr>\n",
       "  </tbody>\n",
       "</table>\n",
       "<p>1309 rows × 5788 columns</p>\n",
       "</div>"
      ],
      "text/plain": [
       "        0  001  073   0v        1   10  100  1000  10000  100s  ...  z906  \\\n",
       "0     0.0  0.0  0.0  0.0  0.00000  0.0  0.0   0.0    0.0   0.0  ...   0.0   \n",
       "1     0.0  0.0  0.0  0.0  0.00000  0.0  0.0   0.0    0.0   0.0  ...   0.0   \n",
       "2     0.0  0.0  0.0  0.0  0.00000  0.0  0.0   0.0    0.0   0.0  ...   0.0   \n",
       "3     0.0  0.0  0.0  0.0  0.00000  0.0  0.0   0.0    0.0   0.0  ...   0.0   \n",
       "4     0.0  0.0  0.0  0.0  0.23219  0.0  0.0   0.0    0.0   0.0  ...   0.0   \n",
       "...   ...  ...  ...  ...      ...  ...  ...   ...    ...   ...  ...   ...   \n",
       "1304  0.0  0.0  0.0  0.0  0.00000  0.0  0.0   0.0    0.0   0.0  ...   0.0   \n",
       "1305  0.0  0.0  0.0  0.0  0.00000  0.0  0.0   0.0    0.0   0.0  ...   0.0   \n",
       "1306  0.0  0.0  0.0  0.0  0.00000  0.0  0.0   0.0    0.0   0.0  ...   0.0   \n",
       "1307  0.0  0.0  0.0  0.0  0.00000  0.0  0.0   0.0    0.0   0.0  ...   0.0   \n",
       "1308  0.0  0.0  0.0  0.0  0.00000  0.0  0.0   0.0    0.0   0.0  ...   0.0   \n",
       "\n",
       "      zelda  zero  zildjian  zip  zipper  zippered  zippers  zoom  ïnfact  \n",
       "0       0.0   0.0       0.0  0.0     0.0       0.0      0.0   0.0     0.0  \n",
       "1       0.0   0.0       0.0  0.0     0.0       0.0      0.0   0.0     0.0  \n",
       "2       0.0   0.0       0.0  0.0     0.0       0.0      0.0   0.0     0.0  \n",
       "3       0.0   0.0       0.0  0.0     0.0       0.0      0.0   0.0     0.0  \n",
       "4       0.0   0.0       0.0  0.0     0.0       0.0      0.0   0.0     0.0  \n",
       "...     ...   ...       ...  ...     ...       ...      ...   ...     ...  \n",
       "1304    0.0   0.0       0.0  0.0     0.0       0.0      0.0   0.0     0.0  \n",
       "1305    0.0   0.0       0.0  0.0     0.0       0.0      0.0   0.0     0.0  \n",
       "1306    0.0   0.0       0.0  0.0     0.0       0.0      0.0   0.0     0.0  \n",
       "1307    0.0   0.0       0.0  0.0     0.0       0.0      0.0   0.0     0.0  \n",
       "1308    0.0   0.0       0.0  0.0     0.0       0.0      0.0   0.0     0.0  \n",
       "\n",
       "[1309 rows x 5788 columns]"
      ]
     },
     "execution_count": 81,
     "metadata": {},
     "output_type": "execute_result"
    }
   ],
   "source": [
    "tfidf_df"
   ]
  },
  {
   "cell_type": "code",
   "execution_count": null,
   "metadata": {},
   "outputs": [],
   "source": [
    "ten_words_df = reviews_df[reviews_df['num_of_words'] <= 10]\n",
    "ten_words_df.info()"
   ]
  },
  {
   "cell_type": "code",
   "execution_count": null,
   "metadata": {},
   "outputs": [],
   "source": [
    "large_words_df = reviews_df[reviews_df['num_of_words'] >= 2000]\n",
    "large_words_df.info()"
   ]
  },
  {
   "cell_type": "code",
   "execution_count": null,
   "metadata": {},
   "outputs": [],
   "source": [
    "y=reviews_df['star_rating']\n",
    "x=reviews_df['num_of_words']\n"
   ]
  },
  {
   "cell_type": "code",
   "execution_count": null,
   "metadata": {},
   "outputs": [],
   "source": [
    "plt.figure(figsize=(15,10))\n",
    "sns.scatterplot(x,y)"
   ]
  },
  {
   "cell_type": "markdown",
   "metadata": {},
   "source": [
    "Test area below"
   ]
  },
  {
   "cell_type": "code",
   "execution_count": null,
   "metadata": {},
   "outputs": [],
   "source": [
    "print(count_words(\"This is not such a long sentence ya ?\"))"
   ]
  },
  {
   "cell_type": "code",
   "execution_count": null,
   "metadata": {},
   "outputs": [],
   "source": [
    "print(reviews_df.iloc[19912])\n",
    "print(reviews_df.loc[19912, 'review_body'])"
   ]
  },
  {
   "cell_type": "code",
   "execution_count": null,
   "metadata": {},
   "outputs": [],
   "source": [
    "## testing re functionality \n",
    "words = re.findall(['], \"This isn't a crazy 22 test string . What exactly is it?\")\n",
    "print(words)\n",
    "print(len(words))"
   ]
  },
  {
   "cell_type": "code",
   "execution_count": null,
   "metadata": {},
   "outputs": [],
   "source": [
    "ques=\"?\"\n",
    "excla=\"!\"\n",
    "test_str = \"Wow! that! is totally awesome!! No?\"\n",
    "print(test_str.count(\"?\"))\n",
    "print(test_str.count(\"!\"))"
   ]
  },
  {
   "cell_type": "code",
   "execution_count": null,
   "metadata": {},
   "outputs": [],
   "source": [
    "test_a = \"This is a small review. Yes ^$ or no? I don't really know. Amazon !!\"\n",
    "#print(remove_special_chars(test_a))\n",
    "print(mt_five_word_reviews_df.iloc[100]['review_body'])\n",
    "print(remove_special_chars(mt_five_word_reviews_df.iloc[100]['review_body']))"
   ]
  },
  {
   "cell_type": "code",
   "execution_count": null,
   "metadata": {},
   "outputs": [],
   "source": []
  },
  {
   "cell_type": "code",
   "execution_count": null,
   "metadata": {},
   "outputs": [],
   "source": [
    "list_words = []\n",
    "print(mt_five_word_reviews_df.iloc[10777]['review_body'])\n",
    "list_words = remove_special_chars(mt_five_word_reviews_df.iloc[10777]['review_body'])\n",
    "#list_words = mt_five_word_reviews_df.iloc[10777]['review_body']\n",
    "print(\"\\n\\n\")\n",
    "#list_words = list_words.replace(\"<br />\",\" \")\n",
    "#print(list_words)\n",
    "\n",
    "print(get_uniq_words(list_words))"
   ]
  },
  {
   "cell_type": "code",
   "execution_count": null,
   "metadata": {},
   "outputs": [],
   "source": [
    "# filtering only reviews with exclamation or question marks\n",
    "onestar_filtered_df = onestar_reviews_df.drop(onestar_reviews_df[(onestar_reviews_df['num_exclamations_marks'] == 0) & (onestar_reviews_df['num_questions_marks'] == 0)].index)\n",
    "onestar_filtered_df.head()"
   ]
  },
  {
   "cell_type": "code",
   "execution_count": null,
   "metadata": {},
   "outputs": [],
   "source": [
    "onestar_exclam_count = onestar_filtered_df[onestar_filtered_df['num_exclamations_marks'] != 0].count()\n",
    "print(onestar_exclam_count['num_exclamations_marks'])"
   ]
  },
  {
   "cell_type": "code",
   "execution_count": null,
   "metadata": {},
   "outputs": [],
   "source": [
    "onestar_ques_count = onestar_filtered_df[onestar_filtered_df['num_questions_marks'] != 0].count()\n",
    "print(onestar_ques_count['num_questions_marks'])"
   ]
  },
  {
   "cell_type": "code",
   "execution_count": null,
   "metadata": {},
   "outputs": [],
   "source": [
    "onestar_filtered_df.tail(30)"
   ]
  },
  {
   "cell_type": "code",
   "execution_count": null,
   "metadata": {},
   "outputs": [],
   "source": [
    "domain_stopwords ={\"amazon\",\"bought\",\"purchase\",\"purchased\",\"ordered\",\"buy\",\"facebook\",\n",
    "                   \"google\"}"
   ]
  },
  {
   "cell_type": "code",
   "execution_count": null,
   "metadata": {},
   "outputs": [],
   "source": [
    "onestar_stopwords = {\"the\",\"i\",\"a\",\"and\",\"to\",\"of\",\"this\",\"for\",\"is\",\"was\",\n",
    "                    \"in\",\"that\",\"on\",\"my\",\"you\",\"they\",\"have\",\"so\",\"as\",\"are\",\"at\",\"be\",\n",
    "                    \"had\",\"would\",\"if\",\"all\",\"get\",\"them\",\"these\",\"from\",\"its\",\"when\",\"or\",\n",
    "                     \"me\",\"will\",\"back\",\"an\",\"sound\",\"were\",\"do\",\"what\",\"guitar\",\"time\",\n",
    "                    \"did\",\"money\",\"about\",\"your\",\"two\",\"we\",\"first\",\"could\",\n",
    "                    \"because\",\"tried\",\"return\",\"there\",\"which\",\"made\",\"any\",\"now\",\"am\",\"then\",\n",
    "                    \"by\",\"thing\",\"also\",\"received\",\"im\",\"way\",\"their\",\"item\",\"way\",\"before\",\n",
    "                     \"after\",\"power\",\"into\",\"came\",\"put\",\"3\",\"piece\",\"been\",\"something\",\n",
    "                    \"both\",\"months\",\"through\",\"unit\",\"ive\",\n",
    "                    \"string\",\"set\",\"play\",\"another\",\"see\",\"think\",\"want\",\"how\",\"reviews\",\n",
    "                    \"years\",\"using\",\"still\",\"should\",\"day\",\"said\",\"where\",\"review\",\"week\",\n",
    "                    \"go\",\"going\",\"hold\",\"try\",\"went\",\"every\",\"it\",\"etc\"}\n",
    "print(len(onestar_stopwords))"
   ]
  },
  {
   "cell_type": "code",
   "execution_count": null,
   "metadata": {},
   "outputs": [],
   "source": [
    "test_list = [\"amazon\",\"buy\",\"bought\",\"orange\",\"purchased\",\"guitar\",\"pick\",\"apple\",\"amazons\",\n",
    "             \"buys\",\"purchase\",\"string\",\"strings\",\"wouldnt\",\"hightension\",\"flies\",\"is\",\n",
    "             \"was\",\"go\",\"going\",\"the\",\"an\"]\n"
   ]
  },
  {
   "cell_type": "code",
   "execution_count": null,
   "metadata": {},
   "outputs": [],
   "source": [
    "new_test_list = test_list.copy()\n",
    "\n",
    "new_test_list.append('more')\n",
    "\n",
    "print(\"Test List =\", test_list,\"\\n\")\n",
    "print(\"new test list =\", new_test_list)\n"
   ]
  },
  {
   "cell_type": "code",
   "execution_count": null,
   "metadata": {},
   "outputs": [],
   "source": [
    "# testing WordNet Lemmatization\n",
    "import nltk\n",
    "from nltk.stem import WordNetLemmatizer\n",
    "wordnet_lemmatizer = WordNetLemmatizer()\n",
    "\n",
    "for word in test_list:\n",
    "    print(\"Lemma for {} is {}\".format(word, wordnet_lemmatizer.lemmatize(word)))\n",
    "\n",
    "#print(test_list)"
   ]
  },
  {
   "cell_type": "code",
   "execution_count": null,
   "metadata": {},
   "outputs": [],
   "source": [
    "# testing Porter Stemmer\n",
    "from nltk.stem.porter import PorterStemmer\n",
    "porter_stemmer  = PorterStemmer()\n",
    "\n",
    "for word in test_list:\n",
    "    print(\"Stemm for {} is {}\".format(word, porter_stemmer.stem(word)))"
   ]
  },
  {
   "cell_type": "code",
   "execution_count": null,
   "metadata": {},
   "outputs": [],
   "source": [
    "# testing pattern\n",
    "import pattern \n",
    "from pattern.en import lemma, lexeme \n",
    "from pattern.en import parse \n",
    "  \n",
    "sentence = \"the bats saw the cats with best stripes hanging upside down by their feet\"\n",
    "  \n",
    "#lemmatized_sentence = \" \".join([lemma(word) for word in sentence.split()]) \n",
    "\n",
    "for word in test_list:\n",
    "    print(\"Pattern for {} is {}\".format(word, lemma(word)))\n",
    "#print(lemmatized_sentence) "
   ]
  },
  {
   "cell_type": "code",
   "execution_count": null,
   "metadata": {},
   "outputs": [],
   "source": [
    "# testing Gensim\n",
    "from gensim.utils import lemmatize \n",
    "  \n",
    "for word in test_list:\n",
    "    lemm_word = str(lemmatize(word))\n",
    "    #print(type(lemm_word))\n",
    "    lemm_word = lemm_word.split('/')[0]\n",
    "    print(\"Gensim for {} is {}\".format(word, lemm_word))\n",
    "    \n",
    "#lemmatized_out = [wd.decode('utf-8').split('/')[0] for wd in lemmatize(sentence)]\n"
   ]
  },
  {
   "cell_type": "code",
   "execution_count": null,
   "metadata": {},
   "outputs": [],
   "source": [
    "import pattern \n",
    "from pattern.en import lemma\n",
    "#from pattern.en import parse\n",
    "\n",
    "lemms_list = []\n",
    "for word in lemm_onestar_word_list:\n",
    "    lemms_list.append(lemma(word))\n",
    "\n",
    "print(lemms_list[:20])\n",
    "print(len(lemms_list))"
   ]
  },
  {
   "cell_type": "code",
   "execution_count": null,
   "metadata": {},
   "outputs": [],
   "source": [
    "def lemmatize_tokens(data):\n",
    "    lemm_list = []\n",
    "    for word in data:\n",
    "        lemm_list.append(lemma(word))\n",
    "\n",
    "    return lemm_list"
   ]
  },
  {
   "cell_type": "code",
   "execution_count": null,
   "metadata": {},
   "outputs": [],
   "source": [
    "print(lemmatize_tokens(test_list))"
   ]
  },
  {
   "cell_type": "code",
   "execution_count": 37,
   "metadata": {},
   "outputs": [
    {
     "name": "stdout",
     "output_type": "stream",
     "text": [
      "['i', 'be', 'hope', 'it', 'would', 'work', 'well', 'but', 'try', 'a', 'second', 'cord', 'and', 'would', 'only', 'receive', 'a', 'lot', 'of', 'static']\n",
      "64373\n"
     ]
    }
   ],
   "source": [
    "# creating copy onestar_word_list to test Lemmatization\n",
    "lemm_onestar_word_list = []\n",
    "lemm_onestar_word_list = onestar_word_list.copy()\n",
    "print(lemm_onestar_word_list[:20])\n",
    "print(len(lemm_onestar_word_list))"
   ]
  },
  {
   "cell_type": "code",
   "execution_count": null,
   "metadata": {},
   "outputs": [],
   "source": [
    "print(lemms_list[64300:])"
   ]
  },
  {
   "cell_type": "code",
   "execution_count": null,
   "metadata": {},
   "outputs": [],
   "source": [
    "lemm_uniq_words = {}\n",
    "lemm_uniq_words = get_uniq_words(lemms_list)\n",
    "print(len(lemm_uniq_words))"
   ]
  },
  {
   "cell_type": "code",
   "execution_count": null,
   "metadata": {},
   "outputs": [],
   "source": [
    "lemm_uniq_sorted = sorted(lemm_uniq_words.items(), key=lambda x: x[1], reverse=True)"
   ]
  },
  {
   "cell_type": "code",
   "execution_count": null,
   "metadata": {},
   "outputs": [],
   "source": [
    "print(lemm_uniq_sorted[:30])"
   ]
  },
  {
   "cell_type": "code",
   "execution_count": null,
   "metadata": {},
   "outputs": [],
   "source": [
    "# remove Domain & OneStar Stop words\n",
    "lemms_list = rm_stopwords(lemms_list, domain_stopwords)\n",
    "print(len(lemms_list))\n",
    "lemms_list = rm_stopwords(lemms_list, onestar_stopwords)\n",
    "print(len(lemms_list))"
   ]
  }
 ],
 "metadata": {
  "kernelspec": {
   "display_name": "Python 3",
   "language": "python",
   "name": "python3"
  },
  "language_info": {
   "codemirror_mode": {
    "name": "ipython",
    "version": 3
   },
   "file_extension": ".py",
   "mimetype": "text/x-python",
   "name": "python",
   "nbconvert_exporter": "python",
   "pygments_lexer": "ipython3",
   "version": "3.8.3"
  }
 },
 "nbformat": 4,
 "nbformat_minor": 4
}
