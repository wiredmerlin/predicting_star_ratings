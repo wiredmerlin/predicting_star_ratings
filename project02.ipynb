{
 "cells": [
  {
   "cell_type": "code",
   "execution_count": 1,
   "metadata": {},
   "outputs": [],
   "source": [
    "import numpy as np\n",
    "import pandas as pd\n",
    "import re\n",
    "%matplotlib inline\n",
    "import matplotlib.pyplot as plt\n",
    "import seaborn as sns\n",
    "import pattern \n",
    "from pattern.en import lemma"
   ]
  },
  {
   "cell_type": "code",
   "execution_count": 2,
   "metadata": {},
   "outputs": [],
   "source": [
    "data_file = \"~/Documents/python/project02/amazon_musical_instru_star_rev_only.tsv\"\n",
    "col_list = [\"star_rating\",\"review_body\"]\n",
    "#reviews_df = pd.read_csv(data_file, sep=\"\\t\", usecols=col_list, low_memory=False)\n",
    "reviews_df = pd.read_csv(data_file, sep=\"\\t\", usecols=col_list, nrows=20000)"
   ]
  },
  {
   "cell_type": "code",
   "execution_count": 3,
   "metadata": {},
   "outputs": [],
   "source": [
    "reviews_df['star_rating'] = reviews_df['star_rating'].fillna(0)\n",
    "reviews_df['review_body'] = reviews_df['review_body'].fillna('')"
   ]
  },
  {
   "cell_type": "code",
   "execution_count": 4,
   "metadata": {},
   "outputs": [
    {
     "name": "stdout",
     "output_type": "stream",
     "text": [
      "<class 'pandas.core.frame.DataFrame'>\n",
      "RangeIndex: 20000 entries, 0 to 19999\n",
      "Data columns (total 2 columns):\n",
      " #   Column       Non-Null Count  Dtype \n",
      "---  ------       --------------  ----- \n",
      " 0   star_rating  20000 non-null  int64 \n",
      " 1   review_body  20000 non-null  object\n",
      "dtypes: int64(1), object(1)\n",
      "memory usage: 312.6+ KB\n"
     ]
    }
   ],
   "source": [
    "reviews_df.info()"
   ]
  },
  {
   "cell_type": "code",
   "execution_count": null,
   "metadata": {},
   "outputs": [],
   "source": [
    "# stats on the star rating for the 20,000 records\n",
    "print(\"Min star:\", reviews_df['star_rating'].min())\n",
    "print(\"Max star:\", reviews_df['star_rating'].max())\n",
    "print(\"Average star:\", reviews_df['star_rating'].mean())\n",
    "print(\"Median star:\", reviews_df['star_rating'].median())"
   ]
  },
  {
   "cell_type": "code",
   "execution_count": 5,
   "metadata": {},
   "outputs": [],
   "source": [
    "def count_words(data):\n",
    "    return len(data.split())"
   ]
  },
  {
   "cell_type": "code",
   "execution_count": 6,
   "metadata": {},
   "outputs": [],
   "source": [
    "def count_excla(data):\n",
    "    return data.count(\"!\")"
   ]
  },
  {
   "cell_type": "code",
   "execution_count": 7,
   "metadata": {},
   "outputs": [],
   "source": [
    "def count_ques(data):\n",
    "    return data.count(\"?\")"
   ]
  },
  {
   "cell_type": "code",
   "execution_count": 8,
   "metadata": {},
   "outputs": [],
   "source": [
    "def cleanup_docs(docs):\n",
    "    new_docs = []\n",
    "    for doc in docs:\n",
    "        doc = doc.lower()\n",
    "        doc = re.sub('<br',' ',doc) # removing <br from the text\n",
    "        doc = re.sub('http\\S+','',doc) # removing all http links\n",
    "        doc = re.sub(\"(?<=[a-z])'(?=[a-z])\", \"\", doc) # remove apostrophe\n",
    "        doc = re.sub(\"[^A-Za-z]+\", \" \", doc) # removing special characters\n",
    "        new_docs.append(doc)\n",
    "    \n",
    "    return new_docs"
   ]
  },
  {
   "cell_type": "code",
   "execution_count": 9,
   "metadata": {},
   "outputs": [],
   "source": [
    "# returns a dictionary with the word and number of occurances\n",
    "def get_uniq_words(data):\n",
    "    word_counter = {}\n",
    "    for word in data:\n",
    "        word_counter[word] = word_counter.get(word, 0) + 1\n",
    "        \n",
    "    return(word_counter)"
   ]
  },
  {
   "cell_type": "code",
   "execution_count": 10,
   "metadata": {},
   "outputs": [],
   "source": [
    "def count_excla_review(data):\n",
    "    return data[data['num_exclamations_marks'] != 0].count()"
   ]
  },
  {
   "cell_type": "code",
   "execution_count": 11,
   "metadata": {},
   "outputs": [],
   "source": [
    "def count_ques_review(data):\n",
    "    return data[data['num_questions_marks'] != 0].count()"
   ]
  },
  {
   "cell_type": "code",
   "execution_count": 12,
   "metadata": {},
   "outputs": [],
   "source": [
    "def calc_percent(numer, denom):\n",
    "    return int((numer/denom)*100)"
   ]
  },
  {
   "cell_type": "code",
   "execution_count": 13,
   "metadata": {},
   "outputs": [],
   "source": [
    "def rm_stopwords(list_data, stop_data):\n",
    "    list_data = [word for word in list_data if word not in stop_data]\n",
    "    return list_data"
   ]
  },
  {
   "cell_type": "code",
   "execution_count": 14,
   "metadata": {},
   "outputs": [],
   "source": [
    "def lemmatize_tokens(data):\n",
    "    lemm_list = []\n",
    "    for item in data:\n",
    "        lemm_list.append(lemma(item))\n",
    "\n",
    "    return lemm_list"
   ]
  },
  {
   "cell_type": "code",
   "execution_count": 15,
   "metadata": {},
   "outputs": [],
   "source": [
    "domain_stopwords ={\"amazon\",\"bought\",\"purchase\",\"purchased\",\"ordered\",\"buy\",\"facebook\",\n",
    "                   \"google\",\"order\",\"amazoncom\", \"amazons\", \"amazonseller\", \"amazonthe\"}"
   ]
  },
  {
   "cell_type": "code",
   "execution_count": 16,
   "metadata": {},
   "outputs": [],
   "source": [
    "# Count number of words for each review and add a column to the dataframe\n",
    "word_count = []\n",
    "excla_count = []\n",
    "ques_count = []\n",
    "for index, row in reviews_df.iterrows():\n",
    "    word_count.append(count_words(reviews_df.iloc[index]['review_body']))\n",
    "    excla_count.append(count_excla(reviews_df.iloc[index]['review_body']))\n",
    "    ques_count.append(count_ques(reviews_df.iloc[index]['review_body']))\n",
    "    \n",
    "reviews_df[\"num_of_words\"] = word_count\n",
    "reviews_df[\"num_exclamations_marks\"] = excla_count\n",
    "reviews_df[\"num_questions_marks\"]= ques_count"
   ]
  },
  {
   "cell_type": "code",
   "execution_count": null,
   "metadata": {},
   "outputs": [],
   "source": [
    "# Stats on Word Count for all reviews\n",
    "print(\"Stats on word count for all reviews\")\n",
    "print(\"-----------------------------------\")\n",
    "print(\"Min number of words:\", reviews_df['num_of_words'].min())\n",
    "print(\"Max number of words:\", reviews_df['num_of_words'].max())\n",
    "print(\"Average number of words:\", reviews_df['num_of_words'].mean())\n",
    "print(\"Median number of words:\", reviews_df['num_of_words'].median())"
   ]
  },
  {
   "cell_type": "code",
   "execution_count": null,
   "metadata": {},
   "outputs": [],
   "source": [
    "# Stats on number of exclamation and question marks for all reviews\n",
    "print(\"Stats on exclamation marks for all reviews\")\n",
    "print(\"-----------------------------------\")\n",
    "print(\"Min number of exclamation marks:\", reviews_df['num_exclamations_marks'].min())\n",
    "print(\"Max number of exclamation marks:\", reviews_df['num_exclamations_marks'].max())\n",
    "print(\"Average number of exclamation marks:\", reviews_df['num_exclamations_marks'].mean())\n",
    "print(\"Median number of exclamation marks:\", reviews_df['num_exclamations_marks'].median())\n",
    "print('\\n')\n",
    "print(\"Stats on question marks for all reviews\")\n",
    "print(\"-----------------------------------\")\n",
    "print(\"Min number of question marks:\", reviews_df['num_questions_marks'].min())\n",
    "print(\"Max number of question marks:\", reviews_df['num_questions_marks'].max())\n",
    "print(\"Average number of question marks:\", reviews_df['num_questions_marks'].mean())\n",
    "print(\"Median number of question marks:\", reviews_df['num_questions_marks'].median())"
   ]
  },
  {
   "cell_type": "code",
   "execution_count": 17,
   "metadata": {},
   "outputs": [
    {
     "data": {
      "text/html": [
       "<div>\n",
       "<style scoped>\n",
       "    .dataframe tbody tr th:only-of-type {\n",
       "        vertical-align: middle;\n",
       "    }\n",
       "\n",
       "    .dataframe tbody tr th {\n",
       "        vertical-align: top;\n",
       "    }\n",
       "\n",
       "    .dataframe thead th {\n",
       "        text-align: right;\n",
       "    }\n",
       "</style>\n",
       "<table border=\"1\" class=\"dataframe\">\n",
       "  <thead>\n",
       "    <tr style=\"text-align: right;\">\n",
       "      <th></th>\n",
       "      <th>review_body</th>\n",
       "      <th>num_of_words</th>\n",
       "      <th>num_exclamations_marks</th>\n",
       "      <th>num_questions_marks</th>\n",
       "    </tr>\n",
       "    <tr>\n",
       "      <th>star_rating</th>\n",
       "      <th></th>\n",
       "      <th></th>\n",
       "      <th></th>\n",
       "      <th></th>\n",
       "    </tr>\n",
       "  </thead>\n",
       "  <tbody>\n",
       "    <tr>\n",
       "      <th>1</th>\n",
       "      <td>1482</td>\n",
       "      <td>1482</td>\n",
       "      <td>1482</td>\n",
       "      <td>1482</td>\n",
       "    </tr>\n",
       "    <tr>\n",
       "      <th>2</th>\n",
       "      <td>817</td>\n",
       "      <td>817</td>\n",
       "      <td>817</td>\n",
       "      <td>817</td>\n",
       "    </tr>\n",
       "    <tr>\n",
       "      <th>3</th>\n",
       "      <td>1402</td>\n",
       "      <td>1402</td>\n",
       "      <td>1402</td>\n",
       "      <td>1402</td>\n",
       "    </tr>\n",
       "    <tr>\n",
       "      <th>4</th>\n",
       "      <td>3064</td>\n",
       "      <td>3064</td>\n",
       "      <td>3064</td>\n",
       "      <td>3064</td>\n",
       "    </tr>\n",
       "    <tr>\n",
       "      <th>5</th>\n",
       "      <td>13235</td>\n",
       "      <td>13235</td>\n",
       "      <td>13235</td>\n",
       "      <td>13235</td>\n",
       "    </tr>\n",
       "  </tbody>\n",
       "</table>\n",
       "</div>"
      ],
      "text/plain": [
       "             review_body  num_of_words  num_exclamations_marks  \\\n",
       "star_rating                                                      \n",
       "1                   1482          1482                    1482   \n",
       "2                    817           817                     817   \n",
       "3                   1402          1402                    1402   \n",
       "4                   3064          3064                    3064   \n",
       "5                  13235         13235                   13235   \n",
       "\n",
       "             num_questions_marks  \n",
       "star_rating                       \n",
       "1                           1482  \n",
       "2                            817  \n",
       "3                           1402  \n",
       "4                           3064  \n",
       "5                          13235  "
      ]
     },
     "execution_count": 17,
     "metadata": {},
     "output_type": "execute_result"
    }
   ],
   "source": [
    "# number of reviews for each star rating\n",
    "reviews_df.groupby(['star_rating']).count()"
   ]
  },
  {
   "cell_type": "code",
   "execution_count": 18,
   "metadata": {},
   "outputs": [
    {
     "name": "stdout",
     "output_type": "stream",
     "text": [
      "<class 'pandas.core.frame.DataFrame'>\n",
      "Int64Index: 1482 entries, 17 to 19962\n",
      "Data columns (total 5 columns):\n",
      " #   Column                  Non-Null Count  Dtype \n",
      "---  ------                  --------------  ----- \n",
      " 0   star_rating             1482 non-null   int64 \n",
      " 1   review_body             1482 non-null   object\n",
      " 2   num_of_words            1482 non-null   int64 \n",
      " 3   num_exclamations_marks  1482 non-null   int64 \n",
      " 4   num_questions_marks     1482 non-null   int64 \n",
      "dtypes: int64(4), object(1)\n",
      "memory usage: 69.5+ KB\n"
     ]
    }
   ],
   "source": [
    "# analyzing One Star reviews\n",
    "onestar_reviews_df = reviews_df[reviews_df['star_rating'] == 1]\n",
    "onestar_reviews_df.info()"
   ]
  },
  {
   "cell_type": "code",
   "execution_count": null,
   "metadata": {},
   "outputs": [],
   "source": [
    "# Stats on Word, Exclamation & question mark Count for one star reviews\n",
    "print(\"Stats on word, Exclamation & question mark count for 1 Star Reviews\")\n",
    "print(\"----------------------------------------\")\n",
    "print(\"Min number of words:\", onestar_reviews_df['num_of_words'].min())\n",
    "print(\"Max number of words:\", onestar_reviews_df['num_of_words'].max())\n",
    "print(\"Average number of words:\", onestar_reviews_df['num_of_words'].mean())\n",
    "print(\"Median number of words:\", onestar_reviews_df['num_of_words'].median())\n",
    "print(\"Max number of Exclamation Marks:\", onestar_reviews_df['num_exclamations_marks'].max())\n",
    "print(\"Average number of Exclamation Marks:\", onestar_reviews_df['num_exclamations_marks'].mean())\n",
    "print(\"Median number of Exclamation Marks:\", onestar_reviews_df['num_exclamations_marks'].median())\n",
    "print(\"Max number of Question Marks:\", onestar_reviews_df['num_questions_marks'].max())\n",
    "print(\"Average number of Question Marks:\", onestar_reviews_df['num_questions_marks'].mean())\n",
    "print(\"Median number of Question Marks:\", onestar_reviews_df['num_questions_marks'].median())"
   ]
  },
  {
   "cell_type": "code",
   "execution_count": 19,
   "metadata": {},
   "outputs": [
    {
     "name": "stdout",
     "output_type": "stream",
     "text": [
      "<class 'pandas.core.frame.DataFrame'>\n",
      "Int64Index: 817 entries, 6 to 19993\n",
      "Data columns (total 5 columns):\n",
      " #   Column                  Non-Null Count  Dtype \n",
      "---  ------                  --------------  ----- \n",
      " 0   star_rating             817 non-null    int64 \n",
      " 1   review_body             817 non-null    object\n",
      " 2   num_of_words            817 non-null    int64 \n",
      " 3   num_exclamations_marks  817 non-null    int64 \n",
      " 4   num_questions_marks     817 non-null    int64 \n",
      "dtypes: int64(4), object(1)\n",
      "memory usage: 38.3+ KB\n"
     ]
    }
   ],
   "source": [
    "# analyzing Two Star reviews\n",
    "twostar_reviews_df = reviews_df[reviews_df['star_rating'] == 2]\n",
    "twostar_reviews_df.info()"
   ]
  },
  {
   "cell_type": "code",
   "execution_count": null,
   "metadata": {},
   "outputs": [],
   "source": [
    "# Stats on Word Count for two star reviews\n",
    "print(\"Stats on word, exclamation & question mark count for 2 Star Reviews\")\n",
    "print(\"---------------------------------------\")\n",
    "print(\"Min number of words:\", twostar_reviews_df['num_of_words'].min())\n",
    "print(\"Max number of words:\", twostar_reviews_df['num_of_words'].max())\n",
    "print(\"Average number of words:\", twostar_reviews_df['num_of_words'].mean())\n",
    "print(\"Median number of words:\", twostar_reviews_df['num_of_words'].median())\n",
    "print(\"Max number of exclamation marks:\", twostar_reviews_df['num_exclamations_marks'].max())\n",
    "print(\"Average number of exclamation marks:\", twostar_reviews_df['num_exclamations_marks'].mean())\n",
    "print(\"Median number of exclamation marks:\", twostar_reviews_df['num_exclamations_marks'].median())\n",
    "print(\"Max number of question marks:\", twostar_reviews_df['num_questions_marks'].max())\n",
    "print(\"Average number of question marks:\", twostar_reviews_df['num_questions_marks'].mean())\n",
    "print(\"Median number of question marks:\", twostar_reviews_df['num_questions_marks'].median())"
   ]
  },
  {
   "cell_type": "code",
   "execution_count": 20,
   "metadata": {},
   "outputs": [
    {
     "name": "stdout",
     "output_type": "stream",
     "text": [
      "<class 'pandas.core.frame.DataFrame'>\n",
      "Int64Index: 1402 entries, 0 to 19959\n",
      "Data columns (total 5 columns):\n",
      " #   Column                  Non-Null Count  Dtype \n",
      "---  ------                  --------------  ----- \n",
      " 0   star_rating             1402 non-null   int64 \n",
      " 1   review_body             1402 non-null   object\n",
      " 2   num_of_words            1402 non-null   int64 \n",
      " 3   num_exclamations_marks  1402 non-null   int64 \n",
      " 4   num_questions_marks     1402 non-null   int64 \n",
      "dtypes: int64(4), object(1)\n",
      "memory usage: 65.7+ KB\n"
     ]
    }
   ],
   "source": [
    "# analyzing Three Star reviews\n",
    "threestar_reviews_df = reviews_df[reviews_df['star_rating'] == 3]\n",
    "threestar_reviews_df.info()"
   ]
  },
  {
   "cell_type": "code",
   "execution_count": null,
   "metadata": {},
   "outputs": [],
   "source": [
    "# Stats on Word, exclamation & question mark Count for three star reviews\n",
    "print(\"Stats on word, exclamation & question mark count for 3 Star Reviews\")\n",
    "print(\"------------------------------------------\")\n",
    "print(\"Min number of words:\", threestar_reviews_df['num_of_words'].min())\n",
    "print(\"Max number of words:\", threestar_reviews_df['num_of_words'].max())\n",
    "print(\"Average number of words:\", threestar_reviews_df['num_of_words'].mean())\n",
    "print(\"Median number of words:\", threestar_reviews_df['num_of_words'].median())\n",
    "print(\"Max number of exclamation marks:\", threestar_reviews_df['num_exclamations_marks'].max())\n",
    "print(\"Average number of exclamation marks:\", threestar_reviews_df['num_exclamations_marks'].mean())\n",
    "print(\"Median number of exclamation marks:\", threestar_reviews_df['num_exclamations_marks'].median())\n",
    "print(\"Max number of questions marks:\", threestar_reviews_df['num_questions_marks'].max())\n",
    "print(\"Average number of questions marks:\", threestar_reviews_df['num_questions_marks'].mean())\n",
    "print(\"Median number of questions marks:\", threestar_reviews_df['num_questions_marks'].median())"
   ]
  },
  {
   "cell_type": "code",
   "execution_count": 21,
   "metadata": {},
   "outputs": [
    {
     "name": "stdout",
     "output_type": "stream",
     "text": [
      "<class 'pandas.core.frame.DataFrame'>\n",
      "Int64Index: 3064 entries, 11 to 19998\n",
      "Data columns (total 5 columns):\n",
      " #   Column                  Non-Null Count  Dtype \n",
      "---  ------                  --------------  ----- \n",
      " 0   star_rating             3064 non-null   int64 \n",
      " 1   review_body             3064 non-null   object\n",
      " 2   num_of_words            3064 non-null   int64 \n",
      " 3   num_exclamations_marks  3064 non-null   int64 \n",
      " 4   num_questions_marks     3064 non-null   int64 \n",
      "dtypes: int64(4), object(1)\n",
      "memory usage: 143.6+ KB\n"
     ]
    }
   ],
   "source": [
    "# analyzing Four Star reviews\n",
    "fourstar_reviews_df = reviews_df[reviews_df['star_rating'] == 4]\n",
    "fourstar_reviews_df.info()"
   ]
  },
  {
   "cell_type": "code",
   "execution_count": null,
   "metadata": {},
   "outputs": [],
   "source": [
    "# Stats on Word, exclamation & question marks Count for 4 star reviews\n",
    "print(\"Stats on word, exclamation & question marks count for 4 Star Reviews\")\n",
    "print(\"-----------------------------------------\")\n",
    "print(\"Min number of words:\", fourstar_reviews_df['num_of_words'].min())\n",
    "print(\"Max number of words:\", fourstar_reviews_df['num_of_words'].max())\n",
    "print(\"Average number of words:\", fourstar_reviews_df['num_of_words'].mean())\n",
    "print(\"Median number of words:\", fourstar_reviews_df['num_of_words'].median())\n",
    "print(\"Max number of exclamation marks:\", fourstar_reviews_df['num_exclamations_marks'].max())\n",
    "print(\"Average number of exclamation marks:\", fourstar_reviews_df['num_exclamations_marks'].mean())\n",
    "print(\"Median number of exclamation marks:\", fourstar_reviews_df['num_exclamations_marks'].median())\n",
    "print(\"Max number of question marks:\", fourstar_reviews_df['num_questions_marks'].max())\n",
    "print(\"Average number of question marks:\", fourstar_reviews_df['num_questions_marks'].mean())\n",
    "print(\"Median number of question marks:\", fourstar_reviews_df['num_questions_marks'].median())"
   ]
  },
  {
   "cell_type": "code",
   "execution_count": 22,
   "metadata": {},
   "outputs": [
    {
     "name": "stdout",
     "output_type": "stream",
     "text": [
      "<class 'pandas.core.frame.DataFrame'>\n",
      "Int64Index: 13235 entries, 1 to 19999\n",
      "Data columns (total 5 columns):\n",
      " #   Column                  Non-Null Count  Dtype \n",
      "---  ------                  --------------  ----- \n",
      " 0   star_rating             13235 non-null  int64 \n",
      " 1   review_body             13235 non-null  object\n",
      " 2   num_of_words            13235 non-null  int64 \n",
      " 3   num_exclamations_marks  13235 non-null  int64 \n",
      " 4   num_questions_marks     13235 non-null  int64 \n",
      "dtypes: int64(4), object(1)\n",
      "memory usage: 620.4+ KB\n"
     ]
    }
   ],
   "source": [
    "# analyzing Five Star reviews\n",
    "fivestar_reviews_df = reviews_df[reviews_df['star_rating'] == 5]\n",
    "fivestar_reviews_df.info()"
   ]
  },
  {
   "cell_type": "code",
   "execution_count": null,
   "metadata": {},
   "outputs": [],
   "source": [
    "# Stats on Word, exclamation & question marks Count for five star reviews\n",
    "print(\"Stats on word, exclamation & question marks count for 5 Star Reviews\")\n",
    "print(\"-----------------------------------------\")\n",
    "print(\"Min number of words:\", fivestar_reviews_df['num_of_words'].min())\n",
    "print(\"Max number of words:\", fivestar_reviews_df['num_of_words'].max())\n",
    "print(\"Average number of words:\", fivestar_reviews_df['num_of_words'].mean())\n",
    "print(\"Median number of words:\", fivestar_reviews_df['num_of_words'].median())\n",
    "print(\"Max number of exclamation marks:\", fivestar_reviews_df['num_exclamations_marks'].max())\n",
    "print(\"Average number of exclamation marks:\", fivestar_reviews_df['num_exclamations_marks'].mean())\n",
    "print(\"Median number of exclamation marks:\", fivestar_reviews_df['num_exclamations_marks'].median())\n",
    "print(\"Max number of question marks:\", fivestar_reviews_df['num_questions_marks'].max())\n",
    "print(\"Average number of question marks:\", fivestar_reviews_df['num_questions_marks'].mean())\n",
    "print(\"Median number of question marks:\", fivestar_reviews_df['num_questions_marks'].median())"
   ]
  },
  {
   "cell_type": "markdown",
   "metadata": {},
   "source": [
    "# Hypothesis 1:"
   ]
  },
  {
   "cell_type": "markdown",
   "metadata": {},
   "source": [
    "<b>Exclamation Marks used in reviews:</b><br>\n",
    "A substantial percentage of One Star and Five Star reviews will have Exclamation Marks. Two, Three and Four Star reviews will have a lower percentage as reviewers are less expressive \n",
    "\n",
    "<b>Question Marks used in reviews:</b></br>\n",
    "One Star reviews will have the largest percentage of Question Marks used. The percentage will drop through Two to Five Star reviews as reviewers will likely have less questions about the quality of the product."
   ]
  },
  {
   "cell_type": "code",
   "execution_count": 23,
   "metadata": {},
   "outputs": [
    {
     "name": "stdout",
     "output_type": "stream",
     "text": [
      "% of Exclamation Marks in One Star reviews: 18\n",
      "% of Question Marks in One Star reviews: 4 \n",
      "\n",
      "% of Exclamation Marks in Two Star reviews: 9\n",
      "% of Question Marks in Two Star reviews: 3 \n",
      "\n",
      "% of Exclamation Marks in Three Star reviews: 9\n",
      "% of Question Marks in One Star reviews: 3 \n",
      "\n",
      "% of Exclamation Marks in Four Star reviews: 14\n",
      "% of Question Marks in One Star reviews: 2 \n",
      "\n",
      "% of Exclamation Marks in Five Star reviews: 27\n",
      "% of Question Marks in One Star reviews: 1 \n",
      "\n"
     ]
    }
   ],
   "source": [
    "# counting number of exclamation and question marks for each star review category\n",
    "onestar_excla_series = count_excla_review(onestar_reviews_df)\n",
    "onestar_excla_count_val = calc_percent(onestar_excla_series['num_exclamations_marks'],\n",
    "                                       onestar_reviews_df['star_rating'].count())\n",
    "print(\"% of Exclamation Marks in One Star reviews:\", onestar_excla_count_val,)\n",
    "onestar_ques_series = count_ques_review(onestar_reviews_df)\n",
    "onestar_ques_count_val = calc_percent(onestar_ques_series['num_questions_marks'],\n",
    "                                      onestar_reviews_df['star_rating'].count())\n",
    "print(\"% of Question Marks in One Star reviews:\",onestar_ques_count_val, \"\\n\")\n",
    "twostar_excla_series = count_excla_review(twostar_reviews_df)\n",
    "twostar_excla_count_val = calc_percent(twostar_excla_series['num_exclamations_marks'],\n",
    "                                       twostar_reviews_df['star_rating'].count())\n",
    "print(\"% of Exclamation Marks in Two Star reviews:\",twostar_excla_count_val)\n",
    "twostar_ques_series = count_ques_review(twostar_reviews_df)\n",
    "twostar_ques_count_val = calc_percent(twostar_ques_series['num_questions_marks'],\n",
    "                                      twostar_reviews_df['star_rating'].count())\n",
    "print(\"% of Question Marks in Two Star reviews:\", twostar_ques_count_val, \"\\n\")\n",
    "threestar_excla_series = count_excla_review(threestar_reviews_df)\n",
    "threestar_excla_count_val = calc_percent(threestar_excla_series['num_exclamations_marks'],\n",
    "                                         threestar_reviews_df['star_rating'].count())\n",
    "print(\"% of Exclamation Marks in Three Star reviews:\",threestar_excla_count_val)\n",
    "threestar_ques_series = count_ques_review(threestar_reviews_df)\n",
    "threestar_ques_count_val = calc_percent(threestar_ques_series['num_questions_marks'],\n",
    "                                        threestar_reviews_df['star_rating'].count())\n",
    "print(\"% of Question Marks in One Star reviews:\", threestar_ques_count_val, \"\\n\")\n",
    "fourstar_excla_series = count_excla_review(fourstar_reviews_df)\n",
    "fourstar_excla_count_val = calc_percent(fourstar_excla_series['num_exclamations_marks'],\n",
    "                                        fourstar_reviews_df['star_rating'].count())\n",
    "print(\"% of Exclamation Marks in Four Star reviews:\",fourstar_excla_count_val)\n",
    "fourstar_ques_series = count_ques_review(fourstar_reviews_df)\n",
    "fourstar_ques_count_val = calc_percent(fourstar_ques_series['num_questions_marks'],\n",
    "                                       fourstar_reviews_df['star_rating'].count())\n",
    "print(\"% of Question Marks in One Star reviews:\", fourstar_ques_count_val, \"\\n\")\n",
    "fivestar_excla_series = count_excla_review(fivestar_reviews_df)\n",
    "fivestar_excla_count_val = calc_percent(fivestar_excla_series['num_exclamations_marks'],\n",
    "                                        fivestar_reviews_df['star_rating'].count())\n",
    "print(\"% of Exclamation Marks in Five Star reviews:\",fivestar_excla_count_val)\n",
    "fivestar_ques_series = count_ques_review(fivestar_reviews_df)\n",
    "fivestar_ques_count_val = calc_percent(fivestar_ques_series['num_questions_marks'],\n",
    "                                       fivestar_reviews_df['star_rating'].count())\n",
    "print(\"% of Question Marks in One Star reviews:\", fivestar_ques_count_val, \"\\n\")"
   ]
  },
  {
   "cell_type": "code",
   "execution_count": 24,
   "metadata": {},
   "outputs": [
    {
     "data": {
      "image/png": "[encoded data removed]",
      "text/plain": [
       "<Figure size 720x504 with 1 Axes>"
      ]
     },
     "metadata": {},
     "output_type": "display_data"
    }
   ],
   "source": [
    "# Plot bar chart comparing exclamation and question marks by review star rating\n",
    "\n",
    "allstar_e_q_count = {'Star_Rating':[1,2,3,4,5],\n",
    "                     'Percent_Exclamation_Marks':[onestar_excla_count_val,twostar_excla_count_val,\n",
    "                                               threestar_excla_count_val,fourstar_excla_count_val,\n",
    "                                               fivestar_excla_count_val],\n",
    "                    'Percent_Question_Marks':[onestar_ques_count_val,twostar_ques_count_val,\n",
    "                                           threestar_ques_count_val,fourstar_ques_count_val,\n",
    "                                           fivestar_ques_count_val]}\n",
    "\n",
    "allstar_excla_ques_count_df = pd.DataFrame(allstar_e_q_count)\n",
    "allstar_excla_ques_count_df = allstar_excla_ques_count_df.set_index('Star_Rating')\n",
    "\n",
    "#plt.figure(figsize=(10,10))\n",
    "sns.set_style(\"dark\")\n",
    "allstar_excla_ques_count_df.plot.bar(title=\"Percent of Exclamation and Question Marks\",\n",
    "                                    figsize=(10,7), grid=True)\n",
    "plt.ylabel(\"Percentage\")\n",
    "plt.xticks(rotation=0, horizontalalignment=\"center\")\n",
    "plt.show()"
   ]
  },
  {
   "cell_type": "markdown",
   "metadata": {},
   "source": [
    "<b>Results:</b></br>\n",
    "As observed from the graph above, One and Five Star reviews are have the largest percentage of Exclamation Marks. One Star reviews at 18% and Five Star reviews at 27%. This proves that reviewers are more expressive with dissatisfaction and satisfaction of their products.\n",
    "\n",
    "With regards to Question Marks, we observe that reviewers with the lowest satisfaction (One Star) question the quality/design/support of their product the most. One Star reviews had 4% Question Marks which dropped to 1% for Five Star reviews."
   ]
  },
  {
   "cell_type": "code",
   "execution_count": 25,
   "metadata": {},
   "outputs": [
    {
     "name": "stdout",
     "output_type": "stream",
     "text": [
      "<class 'pandas.core.frame.DataFrame'>\n",
      "Int64Index: 4597 entries, 2 to 19995\n",
      "Data columns (total 5 columns):\n",
      " #   Column                  Non-Null Count  Dtype \n",
      "---  ------                  --------------  ----- \n",
      " 0   star_rating             4597 non-null   int64 \n",
      " 1   review_body             4597 non-null   object\n",
      " 2   num_of_words            4597 non-null   int64 \n",
      " 3   num_exclamations_marks  4597 non-null   int64 \n",
      " 4   num_questions_marks     4597 non-null   int64 \n",
      "dtypes: int64(4), object(1)\n",
      "memory usage: 215.5+ KB\n"
     ]
    }
   ],
   "source": [
    "# all reviews with 5 or less words\n",
    "five_less_word_reviews_df = reviews_df[reviews_df['num_of_words'] <= 5]\n",
    "five_less_word_reviews_df.info()"
   ]
  },
  {
   "cell_type": "code",
   "execution_count": 26,
   "metadata": {},
   "outputs": [
    {
     "data": {
      "text/html": [
       "<div>\n",
       "<style scoped>\n",
       "    .dataframe tbody tr th:only-of-type {\n",
       "        vertical-align: middle;\n",
       "    }\n",
       "\n",
       "    .dataframe tbody tr th {\n",
       "        vertical-align: top;\n",
       "    }\n",
       "\n",
       "    .dataframe thead th {\n",
       "        text-align: right;\n",
       "    }\n",
       "</style>\n",
       "<table border=\"1\" class=\"dataframe\">\n",
       "  <thead>\n",
       "    <tr style=\"text-align: right;\">\n",
       "      <th></th>\n",
       "      <th>review_body</th>\n",
       "      <th>num_of_words</th>\n",
       "      <th>num_exclamations_marks</th>\n",
       "      <th>num_questions_marks</th>\n",
       "    </tr>\n",
       "    <tr>\n",
       "      <th>star_rating</th>\n",
       "      <th></th>\n",
       "      <th></th>\n",
       "      <th></th>\n",
       "      <th></th>\n",
       "    </tr>\n",
       "  </thead>\n",
       "  <tbody>\n",
       "    <tr>\n",
       "      <th>1</th>\n",
       "      <td>173</td>\n",
       "      <td>173</td>\n",
       "      <td>173</td>\n",
       "      <td>173</td>\n",
       "    </tr>\n",
       "    <tr>\n",
       "      <th>2</th>\n",
       "      <td>59</td>\n",
       "      <td>59</td>\n",
       "      <td>59</td>\n",
       "      <td>59</td>\n",
       "    </tr>\n",
       "    <tr>\n",
       "      <th>3</th>\n",
       "      <td>164</td>\n",
       "      <td>164</td>\n",
       "      <td>164</td>\n",
       "      <td>164</td>\n",
       "    </tr>\n",
       "    <tr>\n",
       "      <th>4</th>\n",
       "      <td>528</td>\n",
       "      <td>528</td>\n",
       "      <td>528</td>\n",
       "      <td>528</td>\n",
       "    </tr>\n",
       "    <tr>\n",
       "      <th>5</th>\n",
       "      <td>3673</td>\n",
       "      <td>3673</td>\n",
       "      <td>3673</td>\n",
       "      <td>3673</td>\n",
       "    </tr>\n",
       "  </tbody>\n",
       "</table>\n",
       "</div>"
      ],
      "text/plain": [
       "             review_body  num_of_words  num_exclamations_marks  \\\n",
       "star_rating                                                      \n",
       "1                    173           173                     173   \n",
       "2                     59            59                      59   \n",
       "3                    164           164                     164   \n",
       "4                    528           528                     528   \n",
       "5                   3673          3673                    3673   \n",
       "\n",
       "             num_questions_marks  \n",
       "star_rating                       \n",
       "1                            173  \n",
       "2                             59  \n",
       "3                            164  \n",
       "4                            528  \n",
       "5                           3673  "
      ]
     },
     "execution_count": 26,
     "metadata": {},
     "output_type": "execute_result"
    }
   ],
   "source": [
    "# Number of reviews with 5 or less words per star rating\n",
    "five_less_word_reviews_df.groupby(['star_rating']).count()"
   ]
  },
  {
   "cell_type": "code",
   "execution_count": 27,
   "metadata": {},
   "outputs": [
    {
     "name": "stdout",
     "output_type": "stream",
     "text": [
      "<class 'pandas.core.frame.DataFrame'>\n",
      "Int64Index: 15403 entries, 0 to 19999\n",
      "Data columns (total 5 columns):\n",
      " #   Column                  Non-Null Count  Dtype \n",
      "---  ------                  --------------  ----- \n",
      " 0   star_rating             15403 non-null  int64 \n",
      " 1   review_body             15403 non-null  object\n",
      " 2   num_of_words            15403 non-null  int64 \n",
      " 3   num_exclamations_marks  15403 non-null  int64 \n",
      " 4   num_questions_marks     15403 non-null  int64 \n",
      "dtypes: int64(4), object(1)\n",
      "memory usage: 722.0+ KB\n"
     ]
    }
   ],
   "source": [
    "# all reviews with more than 5 words\n",
    "mt_five_word_reviews_df = reviews_df[reviews_df['num_of_words'] > 5]\n",
    "mt_five_word_reviews_df.info()"
   ]
  },
  {
   "cell_type": "code",
   "execution_count": null,
   "metadata": {},
   "outputs": [],
   "source": [
    "# Stats for reviews with more than 5 words\n",
    "print(\"Max number of words:\", mt_five_word_reviews_df['num_of_words'].max())\n",
    "print(\"Average number of words:\", mt_five_word_reviews_df['num_of_words'].mean())\n",
    "print(\"Median number of words:\", mt_five_word_reviews_df['num_of_words'].median())"
   ]
  },
  {
   "cell_type": "code",
   "execution_count": 28,
   "metadata": {},
   "outputs": [
    {
     "data": {
      "text/html": [
       "<div>\n",
       "<style scoped>\n",
       "    .dataframe tbody tr th:only-of-type {\n",
       "        vertical-align: middle;\n",
       "    }\n",
       "\n",
       "    .dataframe tbody tr th {\n",
       "        vertical-align: top;\n",
       "    }\n",
       "\n",
       "    .dataframe thead th {\n",
       "        text-align: right;\n",
       "    }\n",
       "</style>\n",
       "<table border=\"1\" class=\"dataframe\">\n",
       "  <thead>\n",
       "    <tr style=\"text-align: right;\">\n",
       "      <th></th>\n",
       "      <th>review_body</th>\n",
       "      <th>num_of_words</th>\n",
       "      <th>num_exclamations_marks</th>\n",
       "      <th>num_questions_marks</th>\n",
       "    </tr>\n",
       "    <tr>\n",
       "      <th>star_rating</th>\n",
       "      <th></th>\n",
       "      <th></th>\n",
       "      <th></th>\n",
       "      <th></th>\n",
       "    </tr>\n",
       "  </thead>\n",
       "  <tbody>\n",
       "    <tr>\n",
       "      <th>1</th>\n",
       "      <td>1309</td>\n",
       "      <td>1309</td>\n",
       "      <td>1309</td>\n",
       "      <td>1309</td>\n",
       "    </tr>\n",
       "    <tr>\n",
       "      <th>2</th>\n",
       "      <td>758</td>\n",
       "      <td>758</td>\n",
       "      <td>758</td>\n",
       "      <td>758</td>\n",
       "    </tr>\n",
       "    <tr>\n",
       "      <th>3</th>\n",
       "      <td>1238</td>\n",
       "      <td>1238</td>\n",
       "      <td>1238</td>\n",
       "      <td>1238</td>\n",
       "    </tr>\n",
       "    <tr>\n",
       "      <th>4</th>\n",
       "      <td>2536</td>\n",
       "      <td>2536</td>\n",
       "      <td>2536</td>\n",
       "      <td>2536</td>\n",
       "    </tr>\n",
       "    <tr>\n",
       "      <th>5</th>\n",
       "      <td>9562</td>\n",
       "      <td>9562</td>\n",
       "      <td>9562</td>\n",
       "      <td>9562</td>\n",
       "    </tr>\n",
       "  </tbody>\n",
       "</table>\n",
       "</div>"
      ],
      "text/plain": [
       "             review_body  num_of_words  num_exclamations_marks  \\\n",
       "star_rating                                                      \n",
       "1                   1309          1309                    1309   \n",
       "2                    758           758                     758   \n",
       "3                   1238          1238                    1238   \n",
       "4                   2536          2536                    2536   \n",
       "5                   9562          9562                    9562   \n",
       "\n",
       "             num_questions_marks  \n",
       "star_rating                       \n",
       "1                           1309  \n",
       "2                            758  \n",
       "3                           1238  \n",
       "4                           2536  \n",
       "5                           9562  "
      ]
     },
     "execution_count": 28,
     "metadata": {},
     "output_type": "execute_result"
    }
   ],
   "source": [
    "# More than 5 word reviews by Star Rating\n",
    "grouped_review_df = mt_five_word_reviews_df.groupby(['star_rating']).count()\n",
    "grouped_review_df.head()"
   ]
  },
  {
   "cell_type": "code",
   "execution_count": 29,
   "metadata": {},
   "outputs": [
    {
     "name": "stdout",
     "output_type": "stream",
     "text": [
      "<class 'pandas.core.frame.DataFrame'>\n",
      "RangeIndex: 1309 entries, 0 to 1308\n",
      "Data columns (total 5 columns):\n",
      " #   Column                  Non-Null Count  Dtype \n",
      "---  ------                  --------------  ----- \n",
      " 0   star_rating             1309 non-null   int64 \n",
      " 1   review_body             1309 non-null   object\n",
      " 2   num_of_words            1309 non-null   int64 \n",
      " 3   num_exclamations_marks  1309 non-null   int64 \n",
      " 4   num_questions_marks     1309 non-null   int64 \n",
      "dtypes: int64(4), object(1)\n",
      "memory usage: 51.3+ KB\n"
     ]
    }
   ],
   "source": [
    "# One star reviews with more than 5 words\n",
    "#mt_five_word_reviews_df.tail()\n",
    "mtfive_1star_reviews_df = mt_five_word_reviews_df[mt_five_word_reviews_df['star_rating'] == 1].reset_index(drop=True)\n",
    "mtfive_1star_reviews_df.info()"
   ]
  },
  {
   "cell_type": "code",
   "execution_count": null,
   "metadata": {},
   "outputs": [],
   "source": [
    "#mtfive_1star_reviews_df.head()"
   ]
  },
  {
   "cell_type": "markdown",
   "metadata": {},
   "source": [
    "# Working with One Star Reviews"
   ]
  },
  {
   "cell_type": "code",
   "execution_count": 53,
   "metadata": {},
   "outputs": [
    {
     "name": "stdout",
     "output_type": "stream",
     "text": [
      "112\n"
     ]
    }
   ],
   "source": [
    "onestar_stopwords = {\"the\",\"i\",\"a\",\"and\",\"to\",\"of\",\"this\",\"for\",\"in\",\"that\",\"on\",\"my\",\n",
    "                     \"you\",\"they\",\"have\",\"so\",\"as\",\"are\",\"at\",\"be\",\"product\",\"is\",\n",
    "                    \"had\",\"would\",\"if\",\"all\",\"get\",\"them\",\"these\",\"from\",\"its\",\"when\",\"or\",\n",
    "                     \"me\",\"will\",\"back\",\"an\",\"sound\",\"were\",\"do\",\"what\",\"guitar\",\"time\",\n",
    "                    \"did\",\"money\",\"about\",\"your\",\"two\",\"we\",\"first\",\"could\",\"was\",\n",
    "                    \"because\",\"tried\",\"return\",\"there\",\"which\",\"made\",\"any\",\"now\",\"am\",\"then\",\n",
    "                    \"by\",\"thing\",\"also\",\"receive\",\"im\",\"way\",\"their\",\"item\",\"way\",\"before\",\n",
    "                     \"after\",\"power\",\"into\",\"came\",\"put\",\"piece\",\"been\",\"something\",\n",
    "                    \"both\",\"month\",\"through\",\"unit\",\"ive\",\"thi\",\"aa\",\n",
    "                    \"string\",\"set\",\"play\",\"another\",\"see\",\"think\",\"want\",\"how\",\"reviews\",\n",
    "                    \"years\",\"using\",\"still\",\"should\",\"day\",\"said\",\"where\",\"review\",\"week\",\n",
    "                    \"go\",\"going\",\"hold\",\"try\",\"went\",\"every\",\"it\",\"etc\"}\n",
    "print(len(onestar_stopwords))"
   ]
  },
  {
   "cell_type": "markdown",
   "metadata": {},
   "source": [
    "<b>Creating one star stopwords set</b>"
   ]
  },
  {
   "cell_type": "code",
   "execution_count": 54,
   "metadata": {},
   "outputs": [],
   "source": [
    "# extracting docs and cleaning up for onestar reviews\n",
    "onestar_docs_list = []\n",
    "\n",
    "onestar_docs_list = cleanup_docs(mtfive_1star_reviews_df['review_body'])\n",
    "#print(onestar_docs_list[:5])"
   ]
  },
  {
   "cell_type": "code",
   "execution_count": 55,
   "metadata": {},
   "outputs": [],
   "source": [
    "#onestar_docs_list[1010:1020]"
   ]
  },
  {
   "cell_type": "code",
   "execution_count": 56,
   "metadata": {},
   "outputs": [],
   "source": [
    "# Lemmatize one star docs\n",
    "onestar_docs_list = lemmatize_tokens(onestar_docs_list)\n",
    "#print(onestar_docs_list[1010:1020])"
   ]
  },
  {
   "cell_type": "code",
   "execution_count": 57,
   "metadata": {},
   "outputs": [
    {
     "name": "stdout",
     "output_type": "stream",
     "text": [
      "64105\n"
     ]
    }
   ],
   "source": [
    "# extracting words/tokens from one star docs\n",
    "onestar_word_list = []\n",
    "for doc in onestar_docs_list:\n",
    "    onestar_word_list.extend(doc.split())\n",
    "    \n",
    "print(len(onestar_word_list))"
   ]
  },
  {
   "cell_type": "code",
   "execution_count": 58,
   "metadata": {},
   "outputs": [
    {
     "name": "stdout",
     "output_type": "stream",
     "text": [
      "64832\n",
      "64105\n"
     ]
    }
   ],
   "source": [
    "print(mtfive_1star_reviews_df['num_of_words'].sum())\n",
    "print(len(onestar_word_list))"
   ]
  },
  {
   "cell_type": "code",
   "execution_count": 59,
   "metadata": {},
   "outputs": [
    {
     "name": "stdout",
     "output_type": "stream",
     "text": [
      "63489\n"
     ]
    }
   ],
   "source": [
    "# remove Domain Stop words\n",
    "onestar_word_list = rm_stopwords(onestar_word_list, domain_stopwords)\n",
    "print(len(onestar_word_list))"
   ]
  },
  {
   "cell_type": "code",
   "execution_count": 60,
   "metadata": {},
   "outputs": [
    {
     "name": "stdout",
     "output_type": "stream",
     "text": [
      "32952\n"
     ]
    }
   ],
   "source": [
    "# remove OneStar Stop words\n",
    "onestar_word_list = rm_stopwords(onestar_word_list, onestar_stopwords)\n",
    "print(len(onestar_word_list))"
   ]
  },
  {
   "cell_type": "code",
   "execution_count": 61,
   "metadata": {},
   "outputs": [
    {
     "name": "stdout",
     "output_type": "stream",
     "text": [
      "5221\n"
     ]
    }
   ],
   "source": [
    "# set of unique OneStar tokens\n",
    "onestar_uniq_words = {}\n",
    "onestar_uniq_words = get_uniq_words(onestar_word_list)\n",
    "#print(onestar_uniq_words)\n",
    "print(len(onestar_uniq_words))"
   ]
  },
  {
   "cell_type": "code",
   "execution_count": 62,
   "metadata": {},
   "outputs": [],
   "source": [
    "# sorting dictionary by values in descending order\n",
    "onestar_uniq_sorted = sorted(onestar_uniq_words.items(), key=lambda x: x[1], reverse=True)\n"
   ]
  },
  {
   "cell_type": "code",
   "execution_count": 63,
   "metadata": {},
   "outputs": [
    {
     "name": "stdout",
     "output_type": "stream",
     "text": [
      "[('not', 895), ('with', 528), ('but', 486), ('one', 378), ('out', 295), ('work', 265), ('no', 245), ('very', 234), ('up', 223), ('just', 220)]\n"
     ]
    }
   ],
   "source": [
    "# printing first 200 items in dictionary\n",
    "print(onestar_uniq_sorted[:10])"
   ]
  },
  {
   "cell_type": "markdown",
   "metadata": {},
   "source": [
    "<b>----------- Testing TF-IDF --------------</b>"
   ]
  },
  {
   "cell_type": "code",
   "execution_count": 64,
   "metadata": {},
   "outputs": [],
   "source": [
    "all_onestar_stopwords = {}\n",
    "all_onestar_stopwords = domain_stopwords.union(onestar_stopwords)"
   ]
  },
  {
   "cell_type": "code",
   "execution_count": 65,
   "metadata": {},
   "outputs": [
    {
     "name": "stdout",
     "output_type": "stream",
     "text": [
      "125\n"
     ]
    }
   ],
   "source": [
    "print(len(all_onestar_stopwords))"
   ]
  },
  {
   "cell_type": "code",
   "execution_count": 66,
   "metadata": {},
   "outputs": [],
   "source": [
    "#print(len(onestar_docs_list))"
   ]
  },
  {
   "cell_type": "code",
   "execution_count": 67,
   "metadata": {},
   "outputs": [],
   "source": [
    "#print(onestar_docs[1010:1020])"
   ]
  },
  {
   "cell_type": "code",
   "execution_count": 68,
   "metadata": {},
   "outputs": [],
   "source": [
    "from sklearn.feature_extraction.text import TfidfVectorizer \n",
    " \n",
    "tfidf_vectorizer=TfidfVectorizer(use_idf=True, analyzer='word', stop_words=all_onestar_stopwords)\n",
    "\n",
    "tfidf_vectorizer_vectors=tfidf_vectorizer.fit_transform(onestar_docs_list)"
   ]
  },
  {
   "cell_type": "code",
   "execution_count": 69,
   "metadata": {},
   "outputs": [],
   "source": [
    "#print(tfidf_vectorizer.get_feature_names())"
   ]
  },
  {
   "cell_type": "code",
   "execution_count": 70,
   "metadata": {},
   "outputs": [
    {
     "data": {
      "text/plain": [
       "{'hoping': 2087,\n",
       " 'work': 5119,\n",
       " 'well': 5051,\n",
       " 'but': 543,\n",
       " 'second': 3933,\n",
       " 'cord': 922,\n",
       " 'only': 3067,\n",
       " 'lot': 2608,\n",
       " 'static': 4308,\n",
       " 'tries': 4723,\n",
       " 'never': 2956,\n",
       " 'able': 1,\n",
       " 'clear': 741,\n",
       " 'moving': 2887,\n",
       " 'away': 278,\n",
       " 'possible': 3375,\n",
       " 'interference': 2291,\n",
       " 'manual': 2680,\n",
       " 'lacked': 2435,\n",
       " 'kind': 2402,\n",
       " 'trouble': 4735,\n",
       " 'shooting': 4037,\n",
       " 'online': 3066,\n",
       " 'lacking': 2436,\n",
       " 'works': 5127,\n",
       " 'while': 5063,\n",
       " 'can': 574,\n",
       " 'mine': 2801,\n",
       " 'failed': 1558,\n",
       " 'use': 4890,\n",
       " 'third': 4600,\n",
       " 'three': 4618,\n",
       " 'prongs': 3472,\n",
       " 'tuner': 4758,\n",
       " 'head': 1994,\n",
       " 'broke': 499,\n",
       " 'tie': 4635,\n",
       " 'up': 4862,\n",
       " 'with': 5099,\n",
       " 'wire': 5088,\n",
       " 'battery': 331,\n",
       " 'completely': 822,\n",
       " 'out': 3109,\n",
       " 'plastic': 3303,\n",
       " 'brittle': 497,\n",
       " 'charge': 659,\n",
       " 'quickly': 3541,\n",
       " 'not': 2991,\n",
       " 'worth': 5134,\n",
       " 'price': 3424,\n",
       " 'really': 3590,\n",
       " 'bad': 294,\n",
       " 'midi': 2783,\n",
       " 'trigger': 4725,\n",
       " 'kit': 2406,\n",
       " 'latency': 2459,\n",
       " 'module': 2845,\n",
       " 'ridiculous': 3783,\n",
       " 'comlete': 796,\n",
       " 'waste': 5013,\n",
       " 'toy': 4695,\n",
       " 'company': 807,\n",
       " 'accidentally': 15,\n",
       " 'sent': 3972,\n",
       " 'alto': 120,\n",
       " 'instead': 2275,\n",
       " 'tenor': 4555,\n",
       " 'sax': 3886,\n",
       " 'beautiful': 341,\n",
       " 'case': 606,\n",
       " 'very': 4933,\n",
       " 'sturdy': 4404,\n",
       " 'everything': 1477,\n",
       " 'pictured': 3270,\n",
       " 'just': 2378,\n",
       " 'wrong': 5151,\n",
       " 'refunded': 3650,\n",
       " 'took': 4675,\n",
       " 'us': 4883,\n",
       " 'hours': 2099,\n",
       " 'strip': 4383,\n",
       " 'self': 3953,\n",
       " 'adhesive': 54,\n",
       " 'does': 1263,\n",
       " 'glue': 1865,\n",
       " 'used': 4892,\n",
       " 'headache': 1995,\n",
       " 'anticipated': 160,\n",
       " 'ukulele': 4792,\n",
       " 'strap': 4367,\n",
       " 'adult': 64,\n",
       " 'one': 3064,\n",
       " 'received': 3600,\n",
       " 'isnt': 2329,\n",
       " 'anywhere': 169,\n",
       " 'near': 2934,\n",
       " 'long': 2589,\n",
       " 'enough': 1441,\n",
       " 'didnt': 1167,\n",
       " 'anything': 165,\n",
       " 'listing': 2560,\n",
       " 'indicate': 2217,\n",
       " 'short': 4042,\n",
       " 'today': 4657,\n",
       " 'worst': 5133,\n",
       " 'pretty': 3421,\n",
       " 'tech': 4539,\n",
       " 'savvy': 3883,\n",
       " 'no': 2973,\n",
       " 'please': 3321,\n",
       " 'website': 5037,\n",
       " 'heres': 2034,\n",
       " 'experience': 1519,\n",
       " 'more': 2863,\n",
       " 'course': 956,\n",
       " 'doesnt': 1264,\n",
       " 'promise': 3467,\n",
       " 'avoid': 274,\n",
       " 'costs': 941,\n",
       " 'tascam': 4533,\n",
       " 'customer': 1020,\n",
       " 'service': 3982,\n",
       " 'horrible': 2090,\n",
       " 'reached': 3579,\n",
       " 'twice': 4775,\n",
       " 'posted': 3379,\n",
       " 'fb': 1592,\n",
       " 'yet': 5174,\n",
       " 'replied': 3707,\n",
       " 'wifi': 5075,\n",
       " 'function': 1784,\n",
       " 'recorder': 3627,\n",
       " 'has': 1977,\n",
       " 'resolve': 3738,\n",
       " 'got': 1884,\n",
       " 'loaded': 2573,\n",
       " 'programs': 3458,\n",
       " 'stored': 4356,\n",
       " 'memory': 2750,\n",
       " 'card': 589,\n",
       " 'loader': 2574,\n",
       " 'wouldnt': 5137,\n",
       " 'load': 2572,\n",
       " 'those': 4606,\n",
       " 'electronic': 1399,\n",
       " 'technician': 4542,\n",
       " 'decided': 1083,\n",
       " 'fix': 1664,\n",
       " 'ex': 1481,\n",
       " 'synthesizer': 4495,\n",
       " 'rather': 3566,\n",
       " 'than': 4574,\n",
       " 'send': 3962,\n",
       " 'ultimately': 4795,\n",
       " 'restore': 3753,\n",
       " 'need': 2943,\n",
       " 'replacing': 3704,\n",
       " 'storing': 4359,\n",
       " 'picture': 3269,\n",
       " 'same': 3861,\n",
       " 'needed': 2944,\n",
       " 'restoration': 3752,\n",
       " 'look': 2592,\n",
       " 'pleasing': 3323,\n",
       " 'eye': 1541,\n",
       " 'business': 540,\n",
       " 'lying': 2635,\n",
       " 'trying': 4748,\n",
       " 'sell': 3954,\n",
       " 'charging': 663,\n",
       " 'too': 4674,\n",
       " 'much': 2893,\n",
       " 'knew': 2410,\n",
       " 'begin': 354,\n",
       " 'crap': 976,\n",
       " 'weight': 5045,\n",
       " 'decent': 1079,\n",
       " 'microphone': 2776,\n",
       " 'classical': 735,\n",
       " 'percussionist': 3228,\n",
       " 'recording': 3628,\n",
       " 'prescreen': 3408,\n",
       " 'audition': 254,\n",
       " 'analog': 141,\n",
       " 'digital': 1176,\n",
       " 'converter': 915,\n",
       " 'old': 3055,\n",
       " 'laptop': 2446,\n",
       " 'picking': 3264,\n",
       " 'computer': 833,\n",
       " 'noise': 2978,\n",
       " 'icicle': 2140,\n",
       " 'noticed': 3001,\n",
       " 'zero': 5191,\n",
       " 'metal': 2763,\n",
       " 'body': 431,\n",
       " 'device': 1155,\n",
       " 'chrome': 708,\n",
       " 'painted': 3159,\n",
       " 'particular': 3176,\n",
       " 'rattling': 3570,\n",
       " 'inside': 2261,\n",
       " 'broken': 500,\n",
       " 'off': 3043,\n",
       " 'build': 517,\n",
       " 'quality': 3532,\n",
       " 'makes': 2667,\n",
       " 'feel': 1602,\n",
       " 'like': 2536,\n",
       " 'cheap': 672,\n",
       " 'okay': 3053,\n",
       " 'albeit': 97,\n",
       " 'bit': 395,\n",
       " 'noisy': 2980,\n",
       " 'higher': 2042,\n",
       " 'pitched': 3285,\n",
       " 'instruments': 2281,\n",
       " 'however': 2102,\n",
       " 'warm': 5000,\n",
       " 'lower': 2618,\n",
       " 'timpani': 4646,\n",
       " 'marimba': 2691,\n",
       " 'provided': 3492,\n",
       " 'own': 3134,\n",
       " 'soundtrack': 4212,\n",
       " 'buzzy': 553,\n",
       " 'feedback': 1601,\n",
       " 'fixed': 1666,\n",
       " 'matter': 2719,\n",
       " 'settings': 3988,\n",
       " 'mic': 2772,\n",
       " 'project': 3463,\n",
       " 'quick': 3540,\n",
       " 'simple': 4088,\n",
       " 'lo': 2571,\n",
       " 'fi': 1613,\n",
       " 'recordings': 3629,\n",
       " 'youre': 5182,\n",
       " 'wasting': 5015,\n",
       " 'good': 1879,\n",
       " 'recommend': 3617,\n",
       " 'buying': 548,\n",
       " 'eventually': 1471,\n",
       " 'melt': 2745,\n",
       " 'causing': 625,\n",
       " 'extremely': 1540,\n",
       " 'sticky': 4336,\n",
       " 'material': 2716,\n",
       " 'touch': 4686,\n",
       " 'without': 5102,\n",
       " 'having': 1984,\n",
       " 'residue': 3732,\n",
       " 'hands': 1951,\n",
       " 'called': 568,\n",
       " 'singing': 4094,\n",
       " 'machine': 2644,\n",
       " 'discuss': 1226,\n",
       " 'blame': 403,\n",
       " 'poor': 3356,\n",
       " 'wont': 5112,\n",
       " 'admit': 60,\n",
       " 'headsets': 2003,\n",
       " 'model': 2838,\n",
       " 'illustrated': 2162,\n",
       " 'plug': 3327,\n",
       " 'conductors': 848,\n",
       " 'stereo': 4328,\n",
       " 'headset': 2002,\n",
       " 'designed': 1133,\n",
       " 'provide': 3491,\n",
       " 'dc': 1062,\n",
       " 'tip': 4650,\n",
       " 'sleeve': 4117,\n",
       " 'conductor': 847,\n",
       " 'fit': 1658,\n",
       " 'lg': 2516,\n",
       " 'vs': 4978,\n",
       " 'verizon': 4928,\n",
       " 'crape': 977,\n",
       " 'ever': 1472,\n",
       " 'even': 1467,\n",
       " 'cent': 636,\n",
       " 'worked': 5124,\n",
       " 'great': 1902,\n",
       " 'months': 2860,\n",
       " 'volume': 4972,\n",
       " 'epiphone': 1450,\n",
       " 'sg': 3995,\n",
       " 'special': 4233,\n",
       " 'advertised': 67,\n",
       " 'awesome': 280,\n",
       " 'bag': 297,\n",
       " 'smaller': 4139,\n",
       " 'useless': 4894,\n",
       " 'loose': 2600,\n",
       " 'fall': 1570,\n",
       " 'shoulders': 4052,\n",
       " 'seperately': 3975,\n",
       " 'other': 3103,\n",
       " 'things': 4593,\n",
       " 'flute': 1701,\n",
       " 'tell': 4550,\n",
       " 'workmanship': 5126,\n",
       " 'shoddy': 4033,\n",
       " 'holes': 2069,\n",
       " 'weird': 5049,\n",
       " 'distances': 1246,\n",
       " 'each': 1358,\n",
       " 'drilled': 1313,\n",
       " 'willy': 5079,\n",
       " 'nilly': 2970,\n",
       " 'seriously': 3980,\n",
       " 'looks': 2596,\n",
       " 'th': 4573,\n",
       " 'graders': 1893,\n",
       " 'industrial': 2228,\n",
       " 'arts': 218,\n",
       " 'pass': 3179,\n",
       " 'save': 3879,\n",
       " 'though': 4607,\n",
       " 'par': 3169,\n",
       " 'cost': 939,\n",
       " 'paid': 3155,\n",
       " 'cannot': 580,\n",
       " 'expensive': 1518,\n",
       " 'mail': 2659,\n",
       " 'waded': 4982,\n",
       " 'wrinkled': 5147,\n",
       " 'say': 3889,\n",
       " 'cracking': 965,\n",
       " 'ipod': 2317,\n",
       " 'plugged': 3328,\n",
       " 'aux': 267,\n",
       " 'port': 3365,\n",
       " 'correct': 930,\n",
       " 'several': 3991,\n",
       " 'different': 1172,\n",
       " 'cords': 923,\n",
       " 'devices': 1156,\n",
       " 'gave': 1810,\n",
       " 'results': 3761,\n",
       " 'daughters': 1055,\n",
       " 'birthday': 394,\n",
       " 'window': 5083,\n",
       " 'lapsed': 2445,\n",
       " 'unfortunately': 4824,\n",
       " 'charger': 661,\n",
       " 'dead': 1065,\n",
       " 'arrival': 209,\n",
       " 'tested': 4567,\n",
       " 'multimeter': 2901,\n",
       " 'yeap': 5168,\n",
       " 'clasp': 732,\n",
       " 'within': 5100,\n",
       " 'weeks': 5041,\n",
       " 'almost': 110,\n",
       " 'dropped': 1322,\n",
       " 'rc': 3572,\n",
       " 'controller': 908,\n",
       " 'snapped': 4154,\n",
       " 'half': 1940,\n",
       " 'theory': 4582,\n",
       " 'id': 2142,\n",
       " 'least': 2484,\n",
       " 'couple': 953,\n",
       " 'ones': 3065,\n",
       " 'gold': 1874,\n",
       " 'pair': 3161,\n",
       " 'black': 400,\n",
       " 'switch': 4482,\n",
       " 'connected': 863,\n",
       " 'circuit': 717,\n",
       " 'board': 426,\n",
       " 'red': 3632,\n",
       " 'alright': 116,\n",
       " 'phone': 3249,\n",
       " 'media': 2738,\n",
       " 'note': 2993,\n",
       " 'answer': 155,\n",
       " 'button': 544,\n",
       " 'hangup': 1958,\n",
       " 'since': 4091,\n",
       " 'mostly': 2868,\n",
       " 'listening': 2559,\n",
       " 'music': 2906,\n",
       " 'felt': 1608,\n",
       " 'deal': 1067,\n",
       " 'less': 2505,\n",
       " 'later': 2460,\n",
       " 'semi': 3961,\n",
       " 'corking': 926,\n",
       " 'longer': 2590,\n",
       " 'ill': 2160,\n",
       " 'reputable': 3714,\n",
       " 'vendor': 4921,\n",
       " 'give': 1847,\n",
       " 'al': 94,\n",
       " 'copies': 920,\n",
       " 'poorly': 3358,\n",
       " 'constructed': 881,\n",
       " 'ridiculously': 3784,\n",
       " 'difficult': 1173,\n",
       " 'adjust': 55,\n",
       " 'elsewhere': 1405,\n",
       " 'easy': 1371,\n",
       " 'stand': 4289,\n",
       " 'arrived': 211,\n",
       " 'disappointed': 1206,\n",
       " 'else': 1404,\n",
       " 'fault': 1587,\n",
       " 'being': 360,\n",
       " 'expectations': 1514,\n",
       " 'high': 2041,\n",
       " 'compleatly': 819,\n",
       " 'reading': 3583,\n",
       " 'discriptions': 1225,\n",
       " 'notes': 2996,\n",
       " 'eflat': 1385,\n",
       " 'memorize': 2749,\n",
       " 'cards': 591,\n",
       " 'such': 4419,\n",
       " 'bright': 490,\n",
       " 'color': 783,\n",
       " 'nearly': 2936,\n",
       " 'blinds': 410,\n",
       " 'calculate': 562,\n",
       " 'sure': 4466,\n",
       " 'why': 5071,\n",
       " 'expecting': 1516,\n",
       " 'draws': 1306,\n",
       " 'dont': 1276,\n",
       " 'threw': 4619,\n",
       " 'junk': 2376,\n",
       " 'basically': 322,\n",
       " 'kids': 2400,\n",
       " 'let': 2508,\n",
       " 'frustration': 1776,\n",
       " 'mixer': 2828,\n",
       " 'excited': 1495,\n",
       " 'behringer': 359,\n",
       " 'seemed': 3945,\n",
       " 'alternative': 118,\n",
       " 'audio': 251,\n",
       " 'interface': 2290,\n",
       " 'liked': 2537,\n",
       " 'built': 518,\n",
       " 'compressor': 830,\n",
       " 'record': 3625,\n",
       " 'loud': 2610,\n",
       " 'hissing': 2054,\n",
       " 'present': 3410,\n",
       " 'setting': 3987,\n",
       " 'gain': 1797,\n",
       " 'properly': 3477,\n",
       " 'resetting': 3730,\n",
       " 'levels': 2513,\n",
       " 'installing': 2272,\n",
       " 'driver': 1315,\n",
       " 'recommends': 3622,\n",
       " 'chaging': 644,\n",
       " 'unplugged': 4840,\n",
       " 'listened': 2558,\n",
       " 'headphones': 2000,\n",
       " 'hiss': 2052,\n",
       " 'looked': 2593,\n",
       " 'sad': 3846,\n",
       " 'discover': 1221,\n",
       " 'common': 802,\n",
       " 'problem': 3439,\n",
       " 'mixers': 2829,\n",
       " 'remedy': 3678,\n",
       " 'suggestions': 4436,\n",
       " 'none': 2982,\n",
       " 'severe': 3992,\n",
       " 'usb': 4889,\n",
       " 'backed': 286,\n",
       " 'down': 1291,\n",
       " 'turned': 4764,\n",
       " 'main': 2660,\n",
       " 'mix': 2826,\n",
       " 'disgusted': 1229,\n",
       " 'future': 1792,\n",
       " 'shell': 4013,\n",
       " 'bucks': 511,\n",
       " 'take': 4510,\n",
       " 'word': 5118,\n",
       " 'many': 2687,\n",
       " 'pop': 3359,\n",
       " 'products': 3453,\n",
       " 'shipped': 4023,\n",
       " 'cardboard': 590,\n",
       " 'box': 460,\n",
       " 'few': 1612,\n",
       " 'pieces': 3272,\n",
       " 'newspaper': 2960,\n",
       " 'thrown': 4623,\n",
       " 'insulation': 2282,\n",
       " 'protect': 3482,\n",
       " 'delicate': 1104,\n",
       " 'machinery': 2646,\n",
       " 'already': 115,\n",
       " 'cd': 629,\n",
       " 'placed': 3291,\n",
       " 'top': 4679,\n",
       " 're': 3576,\n",
       " 'install': 2270,\n",
       " 'drivers': 1316,\n",
       " 'owned': 3135,\n",
       " 'exact': 1482,\n",
       " 'rig': 3785,\n",
       " 'started': 4298,\n",
       " 'notice': 2999,\n",
       " 'emanating': 1411,\n",
       " 'positive': 3372,\n",
       " 'coming': 795,\n",
       " 'audible': 250,\n",
       " 'wires': 5091,\n",
       " 'again': 78,\n",
       " 'avail': 269,\n",
       " 'annoying': 152,\n",
       " 'producing': 3450,\n",
       " 'cant': 581,\n",
       " 'studio': 4397,\n",
       " 'running': 3836,\n",
       " 'minutes': 2810,\n",
       " 'start': 4297,\n",
       " 'contemplate': 896,\n",
       " 'suicide': 4438,\n",
       " 'supposed': 4461,\n",
       " 'smoking': 4148,\n",
       " 'standard': 4290,\n",
       " 'ac': 9,\n",
       " 'adapter': 40,\n",
       " 'flawlessly': 1681,\n",
       " 'items': 2336,\n",
       " 'turn': 4763,\n",
       " 'seconds': 3936,\n",
       " 'looking': 2595,\n",
       " 'guide': 1927,\n",
       " 'glanced': 1854,\n",
       " 'over': 3119,\n",
       " 'saw': 3884,\n",
       " 'smoke': 4147,\n",
       " 'curling': 1012,\n",
       " 'exit': 1507,\n",
       " 'point': 3342,\n",
       " 'needless': 2947,\n",
       " 'prepped': 3407,\n",
       " 'posting': 3380,\n",
       " 'star': 4295,\n",
       " 'elected': 1394,\n",
       " 'replacement': 3702,\n",
       " 'shot': 4048,\n",
       " 'update': 4865,\n",
       " 'read': 3582,\n",
       " 'appears': 182,\n",
       " 'lemon': 2500,\n",
       " 'fact': 1551,\n",
       " 'somethings': 4187,\n",
       " 'obviously': 3029,\n",
       " 'electronics': 1400,\n",
       " 'seem': 3944,\n",
       " 'defective': 1094,\n",
       " 'manufacturer': 2684,\n",
       " 'nothing': 2998,\n",
       " 'write': 5148,\n",
       " 'collar': 776,\n",
       " 'hook': 2078,\n",
       " 'warning': 5003,\n",
       " 'sending': 3963,\n",
       " 'hard': 1964,\n",
       " 'floor': 1693,\n",
       " 'bang': 308,\n",
       " 'care': 592,\n",
       " 'nice': 2962,\n",
       " 'lasted': 2452,\n",
       " 'wasnt': 5011,\n",
       " 'failure': 1562,\n",
       " 'cowry': 962,\n",
       " 'shells': 4014,\n",
       " 'brown': 504,\n",
       " 'beads': 336,\n",
       " 'multiple': 2902,\n",
       " 'colors': 788,\n",
       " 'wanted': 4998,\n",
       " 'sharere': 4005,\n",
       " 'authentic': 259,\n",
       " 'facsimile': 1550,\n",
       " 'thereof': 4585,\n",
       " 'apply': 189,\n",
       " 'dimmer': 1185,\n",
       " 'led': 2489,\n",
       " 'lights': 2534,\n",
       " 'come': 791,\n",
       " 'press': 3415,\n",
       " 'buttons': 545,\n",
       " 'remote': 3680,\n",
       " 'little': 2566,\n",
       " 'light': 2528,\n",
       " 'flashes': 1676,\n",
       " 'dim': 1181,\n",
       " 'gets': 1827,\n",
       " 'hot': 2097,\n",
       " 'non': 2981,\n",
       " 'returnable': 3769,\n",
       " 'filed': 1625,\n",
       " 'claim': 721,\n",
       " 'packs': 3149,\n",
       " 'melted': 2746,\n",
       " 'batteries': 330,\n",
       " 'durable': 1346,\n",
       " 'our': 3107,\n",
       " 'presentations': 3412,\n",
       " 'microphones': 2777,\n",
       " 'worn': 5129,\n",
       " 'employee': 1419,\n",
       " 'pockets': 3335,\n",
       " 'once': 3063,\n",
       " 'mins': 2808,\n",
       " 'pulled': 3506,\n",
       " 'headphone': 1999,\n",
       " 'jack': 2339,\n",
       " 'sing': 4093,\n",
       " 'barely': 314,\n",
       " 'turtle': 4769,\n",
       " 'beach': 335,\n",
       " 'terrible': 4563,\n",
       " 'disc': 1212,\n",
       " 'plate': 3305,\n",
       " 'hung': 2119,\n",
       " 'around': 206,\n",
       " 'edges': 1378,\n",
       " 'part': 3173,\n",
       " 'warped': 5004,\n",
       " 'pay': 3196,\n",
       " 'maybe': 2724,\n",
       " 'technica': 4540,\n",
       " 'reducer': 3637,\n",
       " 'pedal': 3212,\n",
       " 'amp': 133,\n",
       " 'line': 2546,\n",
       " 'apart': 170,\n",
       " 'connection': 865,\n",
       " 'steel': 4317,\n",
       " 'bottom': 454,\n",
       " 'removed': 3684,\n",
       " 'weights': 5048,\n",
       " 'opened': 3072,\n",
       " 'cheaply': 675,\n",
       " 'ends': 1434,\n",
       " 'says': 3891,\n",
       " 'germany': 1826,\n",
       " 'china': 692,\n",
       " 'last': 2451,\n",
       " 'unplug': 4839,\n",
       " 'happy': 1963,\n",
       " 'produce': 3447,\n",
       " 'mics': 2780,\n",
       " 'pick': 3262,\n",
       " 'room': 3815,\n",
       " 'frequency': 1759,\n",
       " 'hums': 2116,\n",
       " 'stick': 4331,\n",
       " 'shure': 4062,\n",
       " 'effort': 1384,\n",
       " 'karaoke': 2381,\n",
       " 'nights': 2969,\n",
       " 'adaptor': 42,\n",
       " 'flimsy': 1690,\n",
       " 'known': 2419,\n",
       " 'violn': 4951,\n",
       " 'addres': 50,\n",
       " 'exchange': 1494,\n",
       " 'package': 3142,\n",
       " 'change': 652,\n",
       " 'most': 2867,\n",
       " 'days': 1061,\n",
       " 'till': 4643,\n",
       " 'smell': 4144,\n",
       " 'burning': 535,\n",
       " 'afraid': 76,\n",
       " 'fire': 1651,\n",
       " 'hazard': 1986,\n",
       " 'found': 1742,\n",
       " 'tv': 4771,\n",
       " 'changes': 654,\n",
       " 'flip': 1691,\n",
       " 'channels': 657,\n",
       " 'impractical': 2182,\n",
       " 'requires': 3720,\n",
       " 'transfer': 4706,\n",
       " 'real': 3585,\n",
       " 'post': 3377,\n",
       " 'cumbersome': 1010,\n",
       " 'tape': 4524,\n",
       " 'sold': 4172,\n",
       " 'ledwholesalers': 2491,\n",
       " 'peirce': 3222,\n",
       " 'flicker': 1687,\n",
       " 'stop': 4349,\n",
       " 'working': 5125,\n",
       " 'together': 4659,\n",
       " 'goods': 1880,\n",
       " 'silver': 4084,\n",
       " 'tarnishes': 4531,\n",
       " 'curves': 1018,\n",
       " 'trees': 4720,\n",
       " 'disappointing': 1207,\n",
       " 'absolutely': 6,\n",
       " 'appearance': 180,\n",
       " 'middle': 2782,\n",
       " 'school': 3903,\n",
       " 'kid': 2399,\n",
       " 'wood': 5113,\n",
       " 'shop': 4038,\n",
       " 'fret': 1762,\n",
       " 'markers': 2696,\n",
       " 'neck': 2940,\n",
       " 'super': 4446,\n",
       " 'horrid': 2092,\n",
       " 'skip': 4111,\n",
       " 'simply': 4090,\n",
       " 'overpriced': 3127,\n",
       " 'paperweight': 3168,\n",
       " 'wish': 5094,\n",
       " 'thoroughly': 4605,\n",
       " 'ordering': 3090,\n",
       " 'instructions': 2277,\n",
       " 'puzzled': 3525,\n",
       " 'described': 1125,\n",
       " 'apparent': 177,\n",
       " 'move': 2883,\n",
       " 'themselves': 4581,\n",
       " 'some': 4183,\n",
       " 'includes': 2201,\n",
       " 'vinyl': 4944,\n",
       " 'pouch': 3384,\n",
       " 'version': 4929,\n",
       " 'easily': 1370,\n",
       " 'slip': 4127,\n",
       " 'ruin': 3832,\n",
       " 'double': 1285,\n",
       " 'sealed': 3923,\n",
       " 'repeatedly': 3699,\n",
       " 'based': 319,\n",
       " 'number': 3017,\n",
       " 'horror': 2093,\n",
       " 'stories': 4358,\n",
       " 'seen': 3947,\n",
       " 'here': 2033,\n",
       " 'ruined': 3833,\n",
       " 'guitars': 1930,\n",
       " 'trust': 4744,\n",
       " 'humidify': 2112,\n",
       " 'olson': 3058,\n",
       " 'must': 2912,\n",
       " 'customers': 1021,\n",
       " 'stupid': 4403,\n",
       " 'insane': 2255,\n",
       " 'shame': 4001,\n",
       " 'daddario': 1036,\n",
       " 'planet': 3298,\n",
       " 'waves': 5027,\n",
       " 'bait': 300,\n",
       " 'returning': 3771,\n",
       " 'telling': 4551,\n",
       " 'everyone': 1476,\n",
       " 'know': 2416,\n",
       " 'peddle': 3217,\n",
       " 'finally': 1636,\n",
       " 'minute': 2809,\n",
       " 'stops': 4353,\n",
       " 'anymore': 162,\n",
       " 'turning': 4765,\n",
       " 'times': 4644,\n",
       " 'sensitive': 3968,\n",
       " 'held': 2022,\n",
       " 'spot': 4263,\n",
       " 'otherwise': 3105,\n",
       " 'cuts': 1027,\n",
       " 'colorful': 787,\n",
       " 'patterns': 3192,\n",
       " 'party': 3178,\n",
       " 'conversations': 914,\n",
       " 'might': 2787,\n",
       " 'distract': 1249,\n",
       " 'per': 3226,\n",
       " 'lets': 2509,\n",
       " 'leds': 2490,\n",
       " 'worse': 5131,\n",
       " 'configure': 852,\n",
       " 'make': 2665,\n",
       " 'luck': 2625,\n",
       " 'right': 3787,\n",
       " 'idea': 2143,\n",
       " 'rip': 3791,\n",
       " 'alert': 98,\n",
       " 'comes': 792,\n",
       " 'supply': 4454,\n",
       " 'separate': 3973,\n",
       " 'catlinbread': 620,\n",
       " 'site': 4098,\n",
       " 'volt': 4969,\n",
       " 'tone': 4668,\n",
       " 'upping': 4873,\n",
       " 'voltage': 4970,\n",
       " 'instrument': 2280,\n",
       " 'shaped': 4003,\n",
       " 'object': 3024,\n",
       " 'unless': 4832,\n",
       " 'planning': 3301,\n",
       " 'leave': 2486,\n",
       " 'house': 2100,\n",
       " 'sort': 4205,\n",
       " 'bizarre': 399,\n",
       " 'homage': 2071,\n",
       " 'actually': 38,\n",
       " 'desired': 1136,\n",
       " 'tones': 4670,\n",
       " 'bye': 554,\n",
       " 'left': 2493,\n",
       " 'thinking': 4596,\n",
       " 'picks': 3265,\n",
       " 'true': 4739,\n",
       " 'played': 3314,\n",
       " 'total': 4684,\n",
       " 'getting': 1828,\n",
       " 'hour': 2098,\n",
       " 'frame': 1747,\n",
       " 'seven': 3990,\n",
       " 'rarely': 3560,\n",
       " 'break': 478,\n",
       " 'suggest': 4433,\n",
       " 'bass': 324,\n",
       " 'gone': 1875,\n",
       " 'speaker': 4228,\n",
       " 'quite': 3545,\n",
       " 'research': 3725,\n",
       " 'apparently': 178,\n",
       " 'krk': 2425,\n",
       " 'notorious': 3007,\n",
       " 'world': 5128,\n",
       " 'early': 1363,\n",
       " 'speakers': 4229,\n",
       " 'decades': 1075,\n",
       " 'others': 3104,\n",
       " 'herd': 2032,\n",
       " 'identical': 2147,\n",
       " 'disappoint': 1205,\n",
       " 'new': 2957,\n",
       " 'pictures': 3271,\n",
       " 'wiring': 5092,\n",
       " 'solder': 4173,\n",
       " 'pots': 3383,\n",
       " 'outside': 3118,\n",
       " 'tight': 4637,\n",
       " 'sloppy': 4130,\n",
       " 'job': 2358,\n",
       " 'bridge': 488,\n",
       " 'stated': 4305,\n",
       " 'ground': 1913,\n",
       " 'coils': 771,\n",
       " 'cool': 917,\n",
       " 'waterproof': 5020,\n",
       " 'year': 5169,\n",
       " 'warranty': 5006,\n",
       " 'decide': 1082,\n",
       " 'strings': 4382,\n",
       " 'shoulder': 4051,\n",
       " 'rest': 3748,\n",
       " 'stuff': 4399,\n",
       " 'ask': 222,\n",
       " 'refund': 3649,\n",
       " 'period': 3239,\n",
       " 'keeps': 2387,\n",
       " 'fading': 1556,\n",
       " 'buyers': 547,\n",
       " 'example': 1488,\n",
       " 'reviewer': 3774,\n",
       " 'capacitor': 584,\n",
       " 'heats': 2012,\n",
       " 'volumes': 4973,\n",
       " 'fades': 1555,\n",
       " 'murmur': 2905,\n",
       " 'seldom': 3950,\n",
       " 'issue': 2333,\n",
       " 'appear': 179,\n",
       " 'until': 4853,\n",
       " 'brought': 503,\n",
       " 'live': 2568,\n",
       " 'south': 4215,\n",
       " 'america': 130,\n",
       " 'heard': 2007,\n",
       " 'white': 5067,\n",
       " 'couldnt': 943,\n",
       " 'find': 1637,\n",
       " 'type': 4781,\n",
       " 'omg': 3060,\n",
       " 'ways': 5029,\n",
       " 'mac': 2641,\n",
       " 'logic': 2585,\n",
       " 'delay': 1102,\n",
       " 'buzz': 549,\n",
       " 'strongly': 4388,\n",
       " 'cable': 558,\n",
       " 'regret': 3660,\n",
       " 'tuning': 4761,\n",
       " 'keys': 2395,\n",
       " 'tune': 4756,\n",
       " 'hadnt': 1936,\n",
       " 'gotten': 1885,\n",
       " 'putting': 3524,\n",
       " 'stress': 4375,\n",
       " 'key': 2391,\n",
       " 'distrust': 1252,\n",
       " 'term': 4559,\n",
       " 'additionally': 49,\n",
       " 'contact': 889,\n",
       " 'seller': 3955,\n",
       " 'hear': 2006,\n",
       " 'accordingly': 19,\n",
       " 'sony': 4196,\n",
       " 'forever': 1729,\n",
       " 'clips': 750,\n",
       " 'replace': 3700,\n",
       " 'lapel': 2444,\n",
       " 'small': 4138,\n",
       " 'bigger': 385,\n",
       " 'extra': 1537,\n",
       " 'space': 4218,\n",
       " 'hide': 2039,\n",
       " 'wrap': 5141,\n",
       " 'finished': 1649,\n",
       " 'fragile': 1746,\n",
       " 'jar': 2346,\n",
       " 'list': 2554,\n",
       " 'songs': 4194,\n",
       " 'image': 2165,\n",
       " 'fuzzy': 1794,\n",
       " 'ready': 3584,\n",
       " 'stopped': 4350,\n",
       " 'checked': 681,\n",
       " 'paused': 3194,\n",
       " 'garbage': 1803,\n",
       " 'hazardous': 1987,\n",
       " 'caught': 621,\n",
       " 'lucky': 2627,\n",
       " 'wouldve': 5138,\n",
       " 'burned': 533,\n",
       " 'end': 1430,\n",
       " 'yea': 5166,\n",
       " 'anyone': 163,\n",
       " 'stuck': 4394,\n",
       " 'defected': 1093,\n",
       " 'complete': 820,\n",
       " 'inch': 2194,\n",
       " 'fingers': 1646,\n",
       " 'hardly': 1968,\n",
       " 'hve': 2128,\n",
       " 'under': 4809,\n",
       " 'bunkbed': 529,\n",
       " 'created': 986,\n",
       " 'fun': 1782,\n",
       " 'lighting': 2531,\n",
       " 'her': 2030,\n",
       " 'bed': 347,\n",
       " 'she': 4008,\n",
       " 'enjoyed': 1439,\n",
       " 'selecting': 3951,\n",
       " 'various': 4913,\n",
       " 'probably': 3438,\n",
       " 'represent': 3712,\n",
       " 'contained': 893,\n",
       " 'tuners': 4759,\n",
       " 'heads': 2001,\n",
       " 'nowhere': 3011,\n",
       " 'big': 383,\n",
       " 'violin': 4948,\n",
       " 'zipper': 5194,\n",
       " 'sewn': 3994,\n",
       " 'onto': 3069,\n",
       " 'shows': 4060,\n",
       " 'structural': 4389,\n",
       " 'defects': 1095,\n",
       " 'died': 1169,\n",
       " 'plus': 3332,\n",
       " 'base': 317,\n",
       " 'scratched': 3909,\n",
       " 'definitely': 1097,\n",
       " 'interferes': 2292,\n",
       " 'local': 2576,\n",
       " 'frequencies': 1758,\n",
       " 'crackling': 968,\n",
       " 'connector': 868,\n",
       " 'snug': 4160,\n",
       " 'dud': 1335,\n",
       " 'tuned': 4757,\n",
       " 'open': 3071,\n",
       " 'octave': 3038,\n",
       " 'tunings': 4762,\n",
       " ...}"
      ]
     },
     "execution_count": 70,
     "metadata": {},
     "output_type": "execute_result"
    }
   ],
   "source": [
    "tfidf_vectorizer.vocabulary_"
   ]
  },
  {
   "cell_type": "code",
   "execution_count": 71,
   "metadata": {},
   "outputs": [
    {
     "name": "stdout",
     "output_type": "stream",
     "text": [
      "(1309, 5198)\n"
     ]
    }
   ],
   "source": [
    "print(tfidf_vectorizer_vectors.shape)"
   ]
  },
  {
   "cell_type": "code",
   "execution_count": 72,
   "metadata": {},
   "outputs": [],
   "source": [
    "token_names = tfidf_vectorizer.get_feature_names()\n",
    "dense = tfidf_vectorizer_vectors.todense()\n",
    "denselist = dense.tolist()\n",
    "tfidf_df = pd.DataFrame(denselist, columns=token_names)"
   ]
  },
  {
   "cell_type": "code",
   "execution_count": 73,
   "metadata": {},
   "outputs": [
    {
     "data": {
      "text/html": [
       "<div>\n",
       "<style scoped>\n",
       "    .dataframe tbody tr th:only-of-type {\n",
       "        vertical-align: middle;\n",
       "    }\n",
       "\n",
       "    .dataframe tbody tr th {\n",
       "        vertical-align: top;\n",
       "    }\n",
       "\n",
       "    .dataframe thead th {\n",
       "        text-align: right;\n",
       "    }\n",
       "</style>\n",
       "<table border=\"1\" class=\"dataframe\">\n",
       "  <thead>\n",
       "    <tr style=\"text-align: right;\">\n",
       "      <th></th>\n",
       "      <th>ability</th>\n",
       "      <th>able</th>\n",
       "      <th>abominable</th>\n",
       "      <th>above</th>\n",
       "      <th>absent</th>\n",
       "      <th>absolute</th>\n",
       "      <th>absolutely</th>\n",
       "      <th>absurd</th>\n",
       "      <th>abysmal</th>\n",
       "      <th>ac</th>\n",
       "      <th>...</th>\n",
       "      <th>yuk</th>\n",
       "      <th>zap</th>\n",
       "      <th>zelda</th>\n",
       "      <th>zero</th>\n",
       "      <th>zildjian</th>\n",
       "      <th>zip</th>\n",
       "      <th>zipper</th>\n",
       "      <th>zippered</th>\n",
       "      <th>zippers</th>\n",
       "      <th>zoom</th>\n",
       "    </tr>\n",
       "  </thead>\n",
       "  <tbody>\n",
       "    <tr>\n",
       "      <th>0</th>\n",
       "      <td>0.0</td>\n",
       "      <td>0.178969</td>\n",
       "      <td>0.0</td>\n",
       "      <td>0.0</td>\n",
       "      <td>0.0</td>\n",
       "      <td>0.0</td>\n",
       "      <td>0.0</td>\n",
       "      <td>0.0</td>\n",
       "      <td>0.0</td>\n",
       "      <td>0.0</td>\n",
       "      <td>...</td>\n",
       "      <td>0.0</td>\n",
       "      <td>0.0</td>\n",
       "      <td>0.0</td>\n",
       "      <td>0.0</td>\n",
       "      <td>0.0</td>\n",
       "      <td>0.0</td>\n",
       "      <td>0.0</td>\n",
       "      <td>0.0</td>\n",
       "      <td>0.0</td>\n",
       "      <td>0.0</td>\n",
       "    </tr>\n",
       "    <tr>\n",
       "      <th>1</th>\n",
       "      <td>0.0</td>\n",
       "      <td>0.000000</td>\n",
       "      <td>0.0</td>\n",
       "      <td>0.0</td>\n",
       "      <td>0.0</td>\n",
       "      <td>0.0</td>\n",
       "      <td>0.0</td>\n",
       "      <td>0.0</td>\n",
       "      <td>0.0</td>\n",
       "      <td>0.0</td>\n",
       "      <td>...</td>\n",
       "      <td>0.0</td>\n",
       "      <td>0.0</td>\n",
       "      <td>0.0</td>\n",
       "      <td>0.0</td>\n",
       "      <td>0.0</td>\n",
       "      <td>0.0</td>\n",
       "      <td>0.0</td>\n",
       "      <td>0.0</td>\n",
       "      <td>0.0</td>\n",
       "      <td>0.0</td>\n",
       "    </tr>\n",
       "    <tr>\n",
       "      <th>2</th>\n",
       "      <td>0.0</td>\n",
       "      <td>0.000000</td>\n",
       "      <td>0.0</td>\n",
       "      <td>0.0</td>\n",
       "      <td>0.0</td>\n",
       "      <td>0.0</td>\n",
       "      <td>0.0</td>\n",
       "      <td>0.0</td>\n",
       "      <td>0.0</td>\n",
       "      <td>0.0</td>\n",
       "      <td>...</td>\n",
       "      <td>0.0</td>\n",
       "      <td>0.0</td>\n",
       "      <td>0.0</td>\n",
       "      <td>0.0</td>\n",
       "      <td>0.0</td>\n",
       "      <td>0.0</td>\n",
       "      <td>0.0</td>\n",
       "      <td>0.0</td>\n",
       "      <td>0.0</td>\n",
       "      <td>0.0</td>\n",
       "    </tr>\n",
       "    <tr>\n",
       "      <th>3</th>\n",
       "      <td>0.0</td>\n",
       "      <td>0.000000</td>\n",
       "      <td>0.0</td>\n",
       "      <td>0.0</td>\n",
       "      <td>0.0</td>\n",
       "      <td>0.0</td>\n",
       "      <td>0.0</td>\n",
       "      <td>0.0</td>\n",
       "      <td>0.0</td>\n",
       "      <td>0.0</td>\n",
       "      <td>...</td>\n",
       "      <td>0.0</td>\n",
       "      <td>0.0</td>\n",
       "      <td>0.0</td>\n",
       "      <td>0.0</td>\n",
       "      <td>0.0</td>\n",
       "      <td>0.0</td>\n",
       "      <td>0.0</td>\n",
       "      <td>0.0</td>\n",
       "      <td>0.0</td>\n",
       "      <td>0.0</td>\n",
       "    </tr>\n",
       "    <tr>\n",
       "      <th>4</th>\n",
       "      <td>0.0</td>\n",
       "      <td>0.000000</td>\n",
       "      <td>0.0</td>\n",
       "      <td>0.0</td>\n",
       "      <td>0.0</td>\n",
       "      <td>0.0</td>\n",
       "      <td>0.0</td>\n",
       "      <td>0.0</td>\n",
       "      <td>0.0</td>\n",
       "      <td>0.0</td>\n",
       "      <td>...</td>\n",
       "      <td>0.0</td>\n",
       "      <td>0.0</td>\n",
       "      <td>0.0</td>\n",
       "      <td>0.0</td>\n",
       "      <td>0.0</td>\n",
       "      <td>0.0</td>\n",
       "      <td>0.0</td>\n",
       "      <td>0.0</td>\n",
       "      <td>0.0</td>\n",
       "      <td>0.0</td>\n",
       "    </tr>\n",
       "  </tbody>\n",
       "</table>\n",
       "<p>5 rows × 5198 columns</p>\n",
       "</div>"
      ],
      "text/plain": [
       "   ability      able  abominable  above  absent  absolute  absolutely  absurd  \\\n",
       "0      0.0  0.178969         0.0    0.0     0.0       0.0         0.0     0.0   \n",
       "1      0.0  0.000000         0.0    0.0     0.0       0.0         0.0     0.0   \n",
       "2      0.0  0.000000         0.0    0.0     0.0       0.0         0.0     0.0   \n",
       "3      0.0  0.000000         0.0    0.0     0.0       0.0         0.0     0.0   \n",
       "4      0.0  0.000000         0.0    0.0     0.0       0.0         0.0     0.0   \n",
       "\n",
       "   abysmal   ac  ...  yuk  zap  zelda  zero  zildjian  zip  zipper  zippered  \\\n",
       "0      0.0  0.0  ...  0.0  0.0    0.0   0.0       0.0  0.0     0.0       0.0   \n",
       "1      0.0  0.0  ...  0.0  0.0    0.0   0.0       0.0  0.0     0.0       0.0   \n",
       "2      0.0  0.0  ...  0.0  0.0    0.0   0.0       0.0  0.0     0.0       0.0   \n",
       "3      0.0  0.0  ...  0.0  0.0    0.0   0.0       0.0  0.0     0.0       0.0   \n",
       "4      0.0  0.0  ...  0.0  0.0    0.0   0.0       0.0  0.0     0.0       0.0   \n",
       "\n",
       "   zippers  zoom  \n",
       "0      0.0   0.0  \n",
       "1      0.0   0.0  \n",
       "2      0.0   0.0  \n",
       "3      0.0   0.0  \n",
       "4      0.0   0.0  \n",
       "\n",
       "[5 rows x 5198 columns]"
      ]
     },
     "execution_count": 73,
     "metadata": {},
     "output_type": "execute_result"
    }
   ],
   "source": [
    "tfidf_df.head()"
   ]
  },
  {
   "cell_type": "code",
   "execution_count": 74,
   "metadata": {},
   "outputs": [
    {
     "data": {
      "text/plain": [
       "ability       0.104577\n",
       "able          4.682661\n",
       "abominable    0.175025\n",
       "above         1.672566\n",
       "absent        0.172912\n",
       "                ...   \n",
       "zip           0.228109\n",
       "zipper        2.529508\n",
       "zippered      0.151375\n",
       "zippers       1.804621\n",
       "zoom          0.202404\n",
       "Length: 5198, dtype: float64"
      ]
     },
     "execution_count": 74,
     "metadata": {},
     "output_type": "execute_result"
    }
   ],
   "source": [
    "tfidf_df.sum()"
   ]
  },
  {
   "cell_type": "code",
   "execution_count": null,
   "metadata": {},
   "outputs": [],
   "source": []
  },
  {
   "cell_type": "code",
   "execution_count": null,
   "metadata": {},
   "outputs": [],
   "source": [
    "ten_words_df = reviews_df[reviews_df['num_of_words'] <= 10]\n",
    "ten_words_df.info()"
   ]
  },
  {
   "cell_type": "code",
   "execution_count": null,
   "metadata": {},
   "outputs": [],
   "source": [
    "large_words_df = reviews_df[reviews_df['num_of_words'] >= 2000]\n",
    "large_words_df.info()"
   ]
  },
  {
   "cell_type": "markdown",
   "metadata": {},
   "source": [
    "# --------- Test area below ---------"
   ]
  },
  {
   "cell_type": "code",
   "execution_count": null,
   "metadata": {},
   "outputs": [],
   "source": [
    "print(count_words(\"This is not such a long sentence ya ?\"))"
   ]
  },
  {
   "cell_type": "code",
   "execution_count": null,
   "metadata": {},
   "outputs": [],
   "source": [
    "print(reviews_df.iloc[19912])\n",
    "print(reviews_df.loc[19912, 'review_body'])"
   ]
  },
  {
   "cell_type": "code",
   "execution_count": null,
   "metadata": {},
   "outputs": [],
   "source": [
    "## testing re functionality \n",
    "words = re.findall(['], \"This isn't a crazy 22 test string . What exactly is it?\")\n",
    "print(words)\n",
    "print(len(words))"
   ]
  },
  {
   "cell_type": "code",
   "execution_count": null,
   "metadata": {},
   "outputs": [],
   "source": [
    "ques=\"?\"\n",
    "excla=\"!\"\n",
    "test_str = \"Wow! that! is totally awesome!! No?\"\n",
    "print(test_str.count(\"?\"))\n",
    "print(test_str.count(\"!\"))"
   ]
  },
  {
   "cell_type": "code",
   "execution_count": null,
   "metadata": {},
   "outputs": [],
   "source": [
    "test_a = \"This is a small review. Yes ^$ or no? I don't really know. Amazon !!\"\n",
    "#print(remove_special_chars(test_a))\n",
    "print(mt_five_word_reviews_df.iloc[100]['review_body'])\n",
    "print(remove_special_chars(mt_five_word_reviews_df.iloc[100]['review_body']))"
   ]
  },
  {
   "cell_type": "code",
   "execution_count": 8,
   "metadata": {},
   "outputs": [],
   "source": [
    "# removes special characters and some \"<br />\" and returns list of words\n",
    "def remove_special_chars(data):\n",
    "    word_list = []\n",
    "    cleaned_list = []\n",
    "    alphanum = \"\"\n",
    "    data = data.replace(\"<br />\",\" \") #replace <br /> text in some reviews with space\n",
    "    word_list = data.lower().split()\n",
    "    \n",
    "    for word in word_list:\n",
    "        alphanum = [character for character in word if character.isalnum()]\n",
    "        alphanum = \"\".join(alphanum)\n",
    "        cleaned_list.append(alphanum)\n",
    "        \n",
    "    cleaned_list = list(filter(None, cleaned_list)) #remove Null values\n",
    "    \n",
    "    return cleaned_list"
   ]
  },
  {
   "cell_type": "code",
   "execution_count": 27,
   "metadata": {},
   "outputs": [
    {
     "name": "stdout",
     "output_type": "stream",
     "text": [
      "['i', 'was', 'hoping', 'it', 'would', 'work', 'well', 'but', 'tried', 'a', 'second', 'cord', 'and', 'would', 'only', 'receive', 'a', 'lot', 'of', 'static']\n"
     ]
    }
   ],
   "source": [
    "# create tokens for onestar reviews\n",
    "onestar_word_list = []\n",
    "\n",
    "for index, row in mtfive_1star_reviews_df.iterrows():\n",
    "        onestar_word_list.extend(remove_special_chars(mtfive_1star_reviews_df.iloc[index]['review_body']))\n",
    "            \n",
    "print(onestar_word_list[:20])"
   ]
  },
  {
   "cell_type": "code",
   "execution_count": null,
   "metadata": {},
   "outputs": [],
   "source": [
    "list_words = []\n",
    "print(mt_five_word_reviews_df.iloc[10777]['review_body'])\n",
    "list_words = remove_special_chars(mt_five_word_reviews_df.iloc[10777]['review_body'])\n",
    "#list_words = mt_five_word_reviews_df.iloc[10777]['review_body']\n",
    "print(\"\\n\\n\")\n",
    "#list_words = list_words.replace(\"<br />\",\" \")\n",
    "#print(list_words)\n",
    "\n",
    "print(get_uniq_words(list_words))"
   ]
  },
  {
   "cell_type": "code",
   "execution_count": null,
   "metadata": {},
   "outputs": [],
   "source": [
    "# filtering only reviews with exclamation or question marks\n",
    "onestar_filtered_df = onestar_reviews_df.drop(onestar_reviews_df[(onestar_reviews_df['num_exclamations_marks'] == 0) & (onestar_reviews_df['num_questions_marks'] == 0)].index)\n",
    "onestar_filtered_df.head()"
   ]
  },
  {
   "cell_type": "code",
   "execution_count": null,
   "metadata": {},
   "outputs": [],
   "source": [
    "onestar_exclam_count = onestar_filtered_df[onestar_filtered_df['num_exclamations_marks'] != 0].count()\n",
    "print(onestar_exclam_count['num_exclamations_marks'])"
   ]
  },
  {
   "cell_type": "code",
   "execution_count": null,
   "metadata": {},
   "outputs": [],
   "source": [
    "onestar_ques_count = onestar_filtered_df[onestar_filtered_df['num_questions_marks'] != 0].count()\n",
    "print(onestar_ques_count['num_questions_marks'])"
   ]
  },
  {
   "cell_type": "code",
   "execution_count": null,
   "metadata": {},
   "outputs": [],
   "source": [
    "onestar_filtered_df.tail(30)"
   ]
  },
  {
   "cell_type": "code",
   "execution_count": null,
   "metadata": {},
   "outputs": [],
   "source": [
    "domain_stopwords ={\"amazon\",\"bought\",\"purchase\",\"purchased\",\"ordered\",\"buy\",\"facebook\",\n",
    "                   \"google\"}"
   ]
  },
  {
   "cell_type": "code",
   "execution_count": null,
   "metadata": {},
   "outputs": [],
   "source": [
    "onestar_stopwords = {\"the\",\"i\",\"a\",\"and\",\"to\",\"of\",\"this\",\"for\",\"is\",\"was\",\n",
    "                    \"in\",\"that\",\"on\",\"my\",\"you\",\"they\",\"have\",\"so\",\"as\",\"are\",\"at\",\"be\",\n",
    "                    \"had\",\"would\",\"if\",\"all\",\"get\",\"them\",\"these\",\"from\",\"its\",\"when\",\"or\",\n",
    "                     \"me\",\"will\",\"back\",\"an\",\"sound\",\"were\",\"do\",\"what\",\"guitar\",\"time\",\n",
    "                    \"did\",\"money\",\"about\",\"your\",\"two\",\"we\",\"first\",\"could\",\n",
    "                    \"because\",\"tried\",\"return\",\"there\",\"which\",\"made\",\"any\",\"now\",\"am\",\"then\",\n",
    "                    \"by\",\"thing\",\"also\",\"received\",\"im\",\"way\",\"their\",\"item\",\"way\",\"before\",\n",
    "                     \"after\",\"power\",\"into\",\"came\",\"put\",\"3\",\"piece\",\"been\",\"something\",\n",
    "                    \"both\",\"months\",\"through\",\"unit\",\"ive\",\n",
    "                    \"string\",\"set\",\"play\",\"another\",\"see\",\"think\",\"want\",\"how\",\"reviews\",\n",
    "                    \"years\",\"using\",\"still\",\"should\",\"day\",\"said\",\"where\",\"review\",\"week\",\n",
    "                    \"go\",\"going\",\"hold\",\"try\",\"went\",\"every\",\"it\",\"etc\"}\n",
    "print(len(onestar_stopwords))"
   ]
  },
  {
   "cell_type": "code",
   "execution_count": null,
   "metadata": {},
   "outputs": [],
   "source": [
    "test_list = [\"amazon\",\"buy\",\"bought\",\"orange\",\"purchased\",\"guitar\",\"pick\",\"apple\",\"amazons\",\n",
    "             \"buys\",\"purchase\",\"string\",\"strings\",\"wouldnt\",\"hightension\",\"flies\",\"is\",\n",
    "             \"was\",\"go\",\"going\",\"the\",\"an\"]\n"
   ]
  },
  {
   "cell_type": "code",
   "execution_count": 102,
   "metadata": {},
   "outputs": [
    {
     "name": "stdout",
     "output_type": "stream",
     "text": [
      "64105\n"
     ]
    }
   ],
   "source": [
    "# lemmatizing OneStar Tokens\n",
    "onestar_word_list = lemmatize_tokens(onestar_word_list)\n",
    "print(len(onestar_word_list))"
   ]
  },
  {
   "cell_type": "code",
   "execution_count": null,
   "metadata": {},
   "outputs": [],
   "source": [
    "new_test_list = test_list.copy()\n",
    "\n",
    "new_test_list.append('more')\n",
    "\n",
    "print(\"Test List =\", test_list,\"\\n\")\n",
    "print(\"new test list =\", new_test_list)\n"
   ]
  },
  {
   "cell_type": "code",
   "execution_count": null,
   "metadata": {},
   "outputs": [],
   "source": [
    "# testing WordNet Lemmatization\n",
    "import nltk\n",
    "from nltk.stem import WordNetLemmatizer\n",
    "wordnet_lemmatizer = WordNetLemmatizer()\n",
    "\n",
    "for word in test_list:\n",
    "    print(\"Lemma for {} is {}\".format(word, wordnet_lemmatizer.lemmatize(word)))\n",
    "\n",
    "#print(test_list)"
   ]
  },
  {
   "cell_type": "code",
   "execution_count": null,
   "metadata": {},
   "outputs": [],
   "source": [
    "# testing Porter Stemmer\n",
    "from nltk.stem.porter import PorterStemmer\n",
    "porter_stemmer  = PorterStemmer()\n",
    "\n",
    "for word in test_list:\n",
    "    print(\"Stemm for {} is {}\".format(word, porter_stemmer.stem(word)))"
   ]
  },
  {
   "cell_type": "code",
   "execution_count": null,
   "metadata": {},
   "outputs": [],
   "source": [
    "# testing pattern\n",
    "import pattern \n",
    "from pattern.en import lemma, lexeme \n",
    "from pattern.en import parse \n",
    "  \n",
    "sentence = \"the bats saw the cats with best stripes hanging upside down by their feet\"\n",
    "  \n",
    "#lemmatized_sentence = \" \".join([lemma(word) for word in sentence.split()]) \n",
    "\n",
    "for word in test_list:\n",
    "    print(\"Pattern for {} is {}\".format(word, lemma(word)))\n",
    "#print(lemmatized_sentence) "
   ]
  },
  {
   "cell_type": "code",
   "execution_count": null,
   "metadata": {},
   "outputs": [],
   "source": [
    "# testing Gensim\n",
    "from gensim.utils import lemmatize \n",
    "  \n",
    "for word in test_list:\n",
    "    lemm_word = str(lemmatize(word))\n",
    "    #print(type(lemm_word))\n",
    "    lemm_word = lemm_word.split('/')[0]\n",
    "    print(\"Gensim for {} is {}\".format(word, lemm_word))\n",
    "    \n",
    "#lemmatized_out = [wd.decode('utf-8').split('/')[0] for wd in lemmatize(sentence)]\n"
   ]
  },
  {
   "cell_type": "code",
   "execution_count": null,
   "metadata": {},
   "outputs": [],
   "source": [
    "import pattern \n",
    "from pattern.en import lemma\n",
    "#from pattern.en import parse\n",
    "\n",
    "lemms_list = []\n",
    "for word in lemm_onestar_word_list:\n",
    "    lemms_list.append(lemma(word))\n",
    "\n",
    "print(lemms_list[:20])\n",
    "print(len(lemms_list))"
   ]
  },
  {
   "cell_type": "code",
   "execution_count": null,
   "metadata": {},
   "outputs": [],
   "source": [
    "def lemmatize_tokens(data):\n",
    "    lemm_list = []\n",
    "    for word in data:\n",
    "        lemm_list.append(lemma(word))\n",
    "\n",
    "    return lemm_list"
   ]
  },
  {
   "cell_type": "code",
   "execution_count": null,
   "metadata": {},
   "outputs": [],
   "source": [
    "print(lemmatize_tokens(test_list))"
   ]
  },
  {
   "cell_type": "code",
   "execution_count": null,
   "metadata": {},
   "outputs": [],
   "source": [
    "# creating copy onestar_word_list to test Lemmatization\n",
    "lemm_onestar_word_list = []\n",
    "lemm_onestar_word_list = onestar_word_list.copy()\n",
    "print(lemm_onestar_word_list[:20])\n",
    "print(len(lemm_onestar_word_list))"
   ]
  },
  {
   "cell_type": "code",
   "execution_count": null,
   "metadata": {},
   "outputs": [],
   "source": [
    "print(lemms_list[64300:])"
   ]
  },
  {
   "cell_type": "code",
   "execution_count": null,
   "metadata": {},
   "outputs": [],
   "source": [
    "lemm_uniq_words = {}\n",
    "lemm_uniq_words = get_uniq_words(lemms_list)\n",
    "print(len(lemm_uniq_words))"
   ]
  },
  {
   "cell_type": "code",
   "execution_count": null,
   "metadata": {},
   "outputs": [],
   "source": [
    "lemm_uniq_sorted = sorted(lemm_uniq_words.items(), key=lambda x: x[1], reverse=True)"
   ]
  },
  {
   "cell_type": "code",
   "execution_count": null,
   "metadata": {},
   "outputs": [],
   "source": [
    "print(lemm_uniq_sorted[:30])"
   ]
  },
  {
   "cell_type": "code",
   "execution_count": null,
   "metadata": {},
   "outputs": [],
   "source": [
    "# remove Domain & OneStar Stop words\n",
    "lemms_list = rm_stopwords(lemms_list, domain_stopwords)\n",
    "print(len(lemms_list))\n",
    "lemms_list = rm_stopwords(lemms_list, onestar_stopwords)\n",
    "print(len(lemms_list))"
   ]
  },
  {
   "cell_type": "code",
   "execution_count": 20,
   "metadata": {},
   "outputs": [
    {
     "name": "stdout",
     "output_type": "stream",
     "text": [
      "really bad. bought as a midi trigger kit but the latency from the module is ridiculous. comlete waste of $$. a toy.             x1234 instruments shaped adjustments do not buy it is gone and go\n",
      "['really', 'bad.', 'bought', 'as', 'a', 'midi', 'trigger', 'kit', 'but', 'the', 'latency', 'from', 'the', 'module', 'is', 'ridiculous.', 'comlete', 'waste', 'of', '$$.', 'a', 'toy.', 'x1234', 'instruments', 'shaped', 'adjustments', 'do', 'not', 'buy', 'it', 'is', 'gone', 'and', 'go']\n"
     ]
    }
   ],
   "source": [
    "# removes special characters are some \"<br />\" and returns list of words\n",
    "test_str2 = \"Really bad. Bought as a midi trigger kit but the latency from the module is ridiculous. Comlete waste of $$. A toy. \\\n",
    "            x1234 instruments shaped adjustments DO NOT BUY it is gone and going\"\n",
    "  \n",
    "lemma_test_str2 = lemma(test_str2)\n",
    "print(lemma_test_str2)\n",
    "print(lemma_test_str2.split())"
   ]
  },
  {
   "cell_type": "code",
   "execution_count": null,
   "metadata": {},
   "outputs": [],
   "source": [
    "from gensim.utils import lemmatize\n",
    "lemmatized_out = [lemmatize(test_str2)]"
   ]
  },
  {
   "cell_type": "code",
   "execution_count": null,
   "metadata": {},
   "outputs": [],
   "source": [
    "print(lemmatized_out)"
   ]
  },
  {
   "cell_type": "code",
   "execution_count": null,
   "metadata": {},
   "outputs": [],
   "source": [
    "import spacy\n",
    "\n",
    "# create a spaCy tokenizer\n",
    "spacy.load('en')\n",
    "sp_lemmatizer = spacy.lang.en.English()\n",
    "\n"
   ]
  },
  {
   "cell_type": "code",
   "execution_count": null,
   "metadata": {},
   "outputs": [],
   "source": [
    "sp_lemmatizer(test_str2)"
   ]
  },
  {
   "cell_type": "code",
   "execution_count": 31,
   "metadata": {},
   "outputs": [
    {
     "name": "stdout",
     "output_type": "stream",
     "text": [
      "['cumbersome and hard to get the nuances a normal flat pick allows ', 'well they will break if you use them as actual drum sticks other than that they re great ', 'does not fit a mim squier strat ', 'i have this product all show no action was not good enough for the money i am looking for a better one ', 'the sound quality isnt the greatest', 'the absolute worst chargers ever came to a package and all three stopped working after a week to two weeks total rip off you get what you pay for do not buy i wouldn t have given it any stars but amazon makes you give at least one ', 'cable broke solder after a couple uses ', 'bought this for studio use i didn t even get to use it once got my mic and a acoustic shield on it and it broke the plastic elbow started to flex and then it broke off down at the base wouldn t recommend this stand if you plan to put any real weight on it', 'it does not work at all i thought maybe i do not know to use it and was looking for someone to teach me how to use it i found a musician and he said this device does not work at all since it is too lake i cannot return it do not buy', 'very poor the selector switch for the voltages doesn t work therefore it can t even power on']\n"
     ]
    }
   ],
   "source": [
    "print(lemmatize_tokens(onestar_docs[1010:1020]))"
   ]
  },
  {
   "cell_type": "code",
   "execution_count": null,
   "metadata": {},
   "outputs": [],
   "source": [
    "doc_a =[]\n",
    "doc_b =[]\n",
    "doc_a.append(mtfive_1star_reviews_df.iloc[2]['review_body'])\n",
    "doc_b.append(mtfive_1star_reviews_df.iloc[4]['review_body'])\n",
    "print(type(doc_a), \",\", doc_a)\n",
    "print(type(doc_b), \",\", doc_b)"
   ]
  },
  {
   "cell_type": "code",
   "execution_count": null,
   "metadata": {},
   "outputs": [],
   "source": [
    "doc_c =[]\n",
    "doc_c = doc_a + doc_b\n",
    "print(doc_c)"
   ]
  },
  {
   "cell_type": "code",
   "execution_count": 29,
   "metadata": {},
   "outputs": [],
   "source": [
    "# combining all more that 5 word onestar reviews into one list\n",
    "onestar_docs = []\n",
    "for index, row in mtfive_1star_reviews_df.iterrows():\n",
    "    onestar_docs.append(mtfive_1star_reviews_df.iloc[index]['review_body'])\n",
    "\n",
    "onestar_docs = cleanup_docs(onestar_docs)"
   ]
  },
  {
   "cell_type": "code",
   "execution_count": null,
   "metadata": {},
   "outputs": [],
   "source": [
    "# removes special characters are some \"<br />\" and returns list of words\n",
    "test_str = \"Really bad. Bought as a midi trigger kit but the httpwwwababacom latency from the module is ridiculous. Comlete waste of $$. A toy. \\\n",
    "            x1234 34instrumentshaped 34adjustments34 httpswwwfacebookcommediasetseta17358580600471341625147817861914841 \\\n",
    "            have34stereo <br />DO NOT BUY\"\n"
   ]
  },
  {
   "cell_type": "code",
   "execution_count": null,
   "metadata": {},
   "outputs": [],
   "source": [
    "import re\n",
    "\n",
    "test_str2 = test_str.lower()\n",
    "#test_str2 = re.sub(\"\",\"\",test_str2)\n",
    "test_str2 = re.sub('<br',' ',test_str2)\n",
    "test_str2 = re.sub('http\\S+',' ',test_str2)\n",
    "test_str2 = re.sub('[^A-Za-z]+', ' ', test_str2)\n"
   ]
  },
  {
   "cell_type": "code",
   "execution_count": null,
   "metadata": {},
   "outputs": [],
   "source": []
  }
 ],
 "metadata": {
  "kernelspec": {
   "display_name": "Python 3",
   "language": "python",
   "name": "python3"
  },
  "language_info": {
   "codemirror_mode": {
    "name": "ipython",
    "version": 3
   },
   "file_extension": ".py",
   "mimetype": "text/x-python",
   "name": "python",
   "nbconvert_exporter": "python",
   "pygments_lexer": "ipython3",
   "version": "3.8.3"
  }
 },
 "nbformat": 4,
 "nbformat_minor": 4
}
