{
 "cells": [
  {
   "cell_type": "code",
   "execution_count": 1,
   "metadata": {},
   "outputs": [],
   "source": [
    "import numpy as np\n",
    "import pandas as pd\n",
    "#import re\n",
    "%matplotlib inline\n",
    "import matplotlib.pyplot as plt\n",
    "import seaborn as sns"
   ]
  },
  {
   "cell_type": "code",
   "execution_count": 2,
   "metadata": {},
   "outputs": [],
   "source": [
    "data_file = \"~/Documents/python/project02/amazon_musical_instru_star_rev_only.tsv\"\n",
    "col_list = [\"star_rating\",\"review_body\"]\n",
    "#reviews_df = pd.read_csv(data_file, sep=\"\\t\", usecols=col_list, low_memory=False)\n",
    "reviews_df = pd.read_csv(data_file, sep=\"\\t\", usecols=col_list, nrows=20000)"
   ]
  },
  {
   "cell_type": "code",
   "execution_count": 3,
   "metadata": {},
   "outputs": [],
   "source": [
    "reviews_df['star_rating'] = reviews_df['star_rating'].fillna(0)\n",
    "reviews_df['review_body'] = reviews_df['review_body'].fillna('')"
   ]
  },
  {
   "cell_type": "code",
   "execution_count": null,
   "metadata": {},
   "outputs": [],
   "source": [
    "reviews_df.head(15)"
   ]
  },
  {
   "cell_type": "code",
   "execution_count": 4,
   "metadata": {},
   "outputs": [
    {
     "name": "stdout",
     "output_type": "stream",
     "text": [
      "<class 'pandas.core.frame.DataFrame'>\n",
      "RangeIndex: 20000 entries, 0 to 19999\n",
      "Data columns (total 2 columns):\n",
      " #   Column       Non-Null Count  Dtype \n",
      "---  ------       --------------  ----- \n",
      " 0   star_rating  20000 non-null  int64 \n",
      " 1   review_body  20000 non-null  object\n",
      "dtypes: int64(1), object(1)\n",
      "memory usage: 312.6+ KB\n"
     ]
    }
   ],
   "source": [
    "reviews_df.info()"
   ]
  },
  {
   "cell_type": "code",
   "execution_count": null,
   "metadata": {},
   "outputs": [],
   "source": [
    "reviews_df.tail(10)"
   ]
  },
  {
   "cell_type": "code",
   "execution_count": 5,
   "metadata": {},
   "outputs": [
    {
     "name": "stdout",
     "output_type": "stream",
     "text": [
      "Min star: 1\n",
      "Max star: 5\n",
      "Average star: 4.28765\n",
      "Median star: 5.0\n"
     ]
    }
   ],
   "source": [
    "# stats on the star rating for the 20,000 records\n",
    "print(\"Min star:\", reviews_df['star_rating'].min())\n",
    "print(\"Max star:\", reviews_df['star_rating'].max())\n",
    "print(\"Average star:\", reviews_df['star_rating'].mean())\n",
    "print(\"Median star:\", reviews_df['star_rating'].median())"
   ]
  },
  {
   "cell_type": "code",
   "execution_count": 6,
   "metadata": {},
   "outputs": [],
   "source": [
    "def count_words(data):\n",
    "    return len(data.split())"
   ]
  },
  {
   "cell_type": "code",
   "execution_count": 7,
   "metadata": {},
   "outputs": [],
   "source": [
    "def count_excla(data):\n",
    "    return data.count(\"!\")"
   ]
  },
  {
   "cell_type": "code",
   "execution_count": 8,
   "metadata": {},
   "outputs": [],
   "source": [
    "def count_ques(data):\n",
    "    return data.count(\"?\")"
   ]
  },
  {
   "cell_type": "code",
   "execution_count": 9,
   "metadata": {},
   "outputs": [],
   "source": [
    "# removes special characters are some \"<br />\" and returns list of words\n",
    "def remove_special_chars(data):\n",
    "    word_list = []\n",
    "    cleaned_list = []\n",
    "    alphanum = \"\"\n",
    "    data = data.replace(\"<br />\",\" \") #replace <br /> text in some reviews with space\n",
    "    word_list = data.lower().split()\n",
    "    \n",
    "    for word in word_list:\n",
    "        alphanum = [character for character in word if character.isalnum()]\n",
    "        alphanum = \"\".join(alphanum)\n",
    "        cleaned_list.append(alphanum)\n",
    "        \n",
    "    cleaned_list = list(filter(None, cleaned_list)) #remove Null values\n",
    "    \n",
    "    return cleaned_list"
   ]
  },
  {
   "cell_type": "code",
   "execution_count": 10,
   "metadata": {},
   "outputs": [],
   "source": [
    "# returns a dictionary with the word and number of occurances\n",
    "def get_uniq_words(data):\n",
    "    word_counter = {}\n",
    "    for word in data:\n",
    "        word_counter[word] = word_counter.get(word, 0) + 1\n",
    "        \n",
    "    return(word_counter)"
   ]
  },
  {
   "cell_type": "code",
   "execution_count": 11,
   "metadata": {},
   "outputs": [],
   "source": [
    "def count_excla_review(data):\n",
    "    return data[data['num_exclamations_marks'] != 0].count()"
   ]
  },
  {
   "cell_type": "code",
   "execution_count": 12,
   "metadata": {},
   "outputs": [],
   "source": [
    "def count_ques_review(data):\n",
    "    return data[data['num_questions_marks'] != 0].count()"
   ]
  },
  {
   "cell_type": "code",
   "execution_count": 15,
   "metadata": {},
   "outputs": [],
   "source": [
    "def calc_percent(numer, denom):\n",
    "    return int((numer/denom)*100)"
   ]
  },
  {
   "cell_type": "code",
   "execution_count": 23,
   "metadata": {},
   "outputs": [],
   "source": [
    "# Count number of words for each review and add a column to the dataframe\n",
    "word_count = []\n",
    "excla_count = []\n",
    "ques_count = []\n",
    "for index, row in reviews_df.iterrows():\n",
    "    word_count.append(count_words(reviews_df.iloc[index]['review_body']))\n",
    "    excla_count.append(count_excla(reviews_df.iloc[index]['review_body']))\n",
    "    ques_count.append(count_ques(reviews_df.iloc[index]['review_body']))\n",
    "    \n",
    "reviews_df[\"num_of_words\"] = word_count\n",
    "reviews_df[\"num_exclamations_marks\"] = excla_count\n",
    "reviews_df[\"num_questions_marks\"]= ques_count"
   ]
  },
  {
   "cell_type": "code",
   "execution_count": 24,
   "metadata": {},
   "outputs": [
    {
     "name": "stdout",
     "output_type": "stream",
     "text": [
      "Stats on word count for all reviews\n",
      "-----------------------------------\n",
      "Min number of words: 0\n",
      "Max number of words: 2163\n",
      "Average number of words: 41.6003\n",
      "Median number of words: 17.0\n"
     ]
    }
   ],
   "source": [
    "# Stats on Word Count for all reviews\n",
    "print(\"Stats on word count for all reviews\")\n",
    "print(\"-----------------------------------\")\n",
    "print(\"Min number of words:\", reviews_df['num_of_words'].min())\n",
    "print(\"Max number of words:\", reviews_df['num_of_words'].max())\n",
    "print(\"Average number of words:\", reviews_df['num_of_words'].mean())\n",
    "print(\"Median number of words:\", reviews_df['num_of_words'].median())"
   ]
  },
  {
   "cell_type": "code",
   "execution_count": 25,
   "metadata": {},
   "outputs": [
    {
     "name": "stdout",
     "output_type": "stream",
     "text": [
      "Stats on exclamation marks for all reviews\n",
      "-----------------------------------\n",
      "Min number of exclamation marks: 0\n",
      "Max number of exclamation marks: 54\n",
      "Average number of exclamation marks: 0.4231\n",
      "Median number of exclamation marks: 0.0\n",
      "\n",
      "\n",
      "Stats on question marks for all reviews\n",
      "-----------------------------------\n",
      "Min number of question marks: 0\n",
      "Max number of question marks: 13\n",
      "Average number of question marks: 0.0337\n",
      "Median number of question marks: 0.0\n"
     ]
    }
   ],
   "source": [
    "# Stats on number of exclamation and question marks for all reviews\n",
    "print(\"Stats on exclamation marks for all reviews\")\n",
    "print(\"-----------------------------------\")\n",
    "print(\"Min number of exclamation marks:\", reviews_df['num_exclamations_marks'].min())\n",
    "print(\"Max number of exclamation marks:\", reviews_df['num_exclamations_marks'].max())\n",
    "print(\"Average number of exclamation marks:\", reviews_df['num_exclamations_marks'].mean())\n",
    "print(\"Median number of exclamation marks:\", reviews_df['num_exclamations_marks'].median())\n",
    "print('\\n')\n",
    "print(\"Stats on question marks for all reviews\")\n",
    "print(\"-----------------------------------\")\n",
    "print(\"Min number of question marks:\", reviews_df['num_questions_marks'].min())\n",
    "print(\"Max number of question marks:\", reviews_df['num_questions_marks'].max())\n",
    "print(\"Average number of question marks:\", reviews_df['num_questions_marks'].mean())\n",
    "print(\"Median number of question marks:\", reviews_df['num_questions_marks'].median())"
   ]
  },
  {
   "cell_type": "code",
   "execution_count": 26,
   "metadata": {},
   "outputs": [
    {
     "data": {
      "text/html": [
       "<div>\n",
       "<style scoped>\n",
       "    .dataframe tbody tr th:only-of-type {\n",
       "        vertical-align: middle;\n",
       "    }\n",
       "\n",
       "    .dataframe tbody tr th {\n",
       "        vertical-align: top;\n",
       "    }\n",
       "\n",
       "    .dataframe thead th {\n",
       "        text-align: right;\n",
       "    }\n",
       "</style>\n",
       "<table border=\"1\" class=\"dataframe\">\n",
       "  <thead>\n",
       "    <tr style=\"text-align: right;\">\n",
       "      <th></th>\n",
       "      <th>review_body</th>\n",
       "      <th>num_of_words</th>\n",
       "      <th>num_exclamations_marks</th>\n",
       "      <th>num_questions_marks</th>\n",
       "    </tr>\n",
       "    <tr>\n",
       "      <th>star_rating</th>\n",
       "      <th></th>\n",
       "      <th></th>\n",
       "      <th></th>\n",
       "      <th></th>\n",
       "    </tr>\n",
       "  </thead>\n",
       "  <tbody>\n",
       "    <tr>\n",
       "      <th>1</th>\n",
       "      <td>1482</td>\n",
       "      <td>1482</td>\n",
       "      <td>1482</td>\n",
       "      <td>1482</td>\n",
       "    </tr>\n",
       "    <tr>\n",
       "      <th>2</th>\n",
       "      <td>817</td>\n",
       "      <td>817</td>\n",
       "      <td>817</td>\n",
       "      <td>817</td>\n",
       "    </tr>\n",
       "    <tr>\n",
       "      <th>3</th>\n",
       "      <td>1402</td>\n",
       "      <td>1402</td>\n",
       "      <td>1402</td>\n",
       "      <td>1402</td>\n",
       "    </tr>\n",
       "    <tr>\n",
       "      <th>4</th>\n",
       "      <td>3064</td>\n",
       "      <td>3064</td>\n",
       "      <td>3064</td>\n",
       "      <td>3064</td>\n",
       "    </tr>\n",
       "    <tr>\n",
       "      <th>5</th>\n",
       "      <td>13235</td>\n",
       "      <td>13235</td>\n",
       "      <td>13235</td>\n",
       "      <td>13235</td>\n",
       "    </tr>\n",
       "  </tbody>\n",
       "</table>\n",
       "</div>"
      ],
      "text/plain": [
       "             review_body  num_of_words  num_exclamations_marks  \\\n",
       "star_rating                                                      \n",
       "1                   1482          1482                    1482   \n",
       "2                    817           817                     817   \n",
       "3                   1402          1402                    1402   \n",
       "4                   3064          3064                    3064   \n",
       "5                  13235         13235                   13235   \n",
       "\n",
       "             num_questions_marks  \n",
       "star_rating                       \n",
       "1                           1482  \n",
       "2                            817  \n",
       "3                           1402  \n",
       "4                           3064  \n",
       "5                          13235  "
      ]
     },
     "execution_count": 26,
     "metadata": {},
     "output_type": "execute_result"
    }
   ],
   "source": [
    "# number of reviews for each star rating\n",
    "reviews_df.groupby(['star_rating']).count()"
   ]
  },
  {
   "cell_type": "code",
   "execution_count": 27,
   "metadata": {},
   "outputs": [
    {
     "name": "stdout",
     "output_type": "stream",
     "text": [
      "<class 'pandas.core.frame.DataFrame'>\n",
      "Int64Index: 1482 entries, 17 to 19962\n",
      "Data columns (total 5 columns):\n",
      " #   Column                  Non-Null Count  Dtype \n",
      "---  ------                  --------------  ----- \n",
      " 0   star_rating             1482 non-null   int64 \n",
      " 1   review_body             1482 non-null   object\n",
      " 2   num_of_words            1482 non-null   int64 \n",
      " 3   num_exclamations_marks  1482 non-null   int64 \n",
      " 4   num_questions_marks     1482 non-null   int64 \n",
      "dtypes: int64(4), object(1)\n",
      "memory usage: 69.5+ KB\n"
     ]
    }
   ],
   "source": [
    "# analyzing One Star reviews\n",
    "onestar_reviews_df = reviews_df[reviews_df['star_rating'] == 1]\n",
    "onestar_reviews_df.info()"
   ]
  },
  {
   "cell_type": "code",
   "execution_count": 28,
   "metadata": {},
   "outputs": [
    {
     "name": "stdout",
     "output_type": "stream",
     "text": [
      "Stats on word, Exclamation & question mark count for 1 Star Reviews\n",
      "----------------------------------------\n",
      "Min number of words: 0\n",
      "Max number of words: 1477\n",
      "Average number of words: 44.152496626180834\n",
      "Median number of words: 25.0\n",
      "Max number of Exclamation Marks: 14\n",
      "Average number of Exclamation Marks: 0.4149797570850202\n",
      "Median number of Exclamation Marks: 0.0\n",
      "Max number of Question Marks: 5\n",
      "Average number of Question Marks: 0.0620782726045884\n",
      "Median number of Question Marks: 0.0\n"
     ]
    }
   ],
   "source": [
    "# Stats on Word, Exclamation & question mark Count for one star reviews\n",
    "print(\"Stats on word, Exclamation & question mark count for 1 Star Reviews\")\n",
    "print(\"----------------------------------------\")\n",
    "print(\"Min number of words:\", onestar_reviews_df['num_of_words'].min())\n",
    "print(\"Max number of words:\", onestar_reviews_df['num_of_words'].max())\n",
    "print(\"Average number of words:\", onestar_reviews_df['num_of_words'].mean())\n",
    "print(\"Median number of words:\", onestar_reviews_df['num_of_words'].median())\n",
    "print(\"Max number of Exclamation Marks:\", onestar_reviews_df['num_exclamations_marks'].max())\n",
    "print(\"Average number of Exclamation Marks:\", onestar_reviews_df['num_exclamations_marks'].mean())\n",
    "print(\"Median number of Exclamation Marks:\", onestar_reviews_df['num_exclamations_marks'].median())\n",
    "print(\"Max number of Question Marks:\", onestar_reviews_df['num_questions_marks'].max())\n",
    "print(\"Average number of Question Marks:\", onestar_reviews_df['num_questions_marks'].mean())\n",
    "print(\"Median number of Question Marks:\", onestar_reviews_df['num_questions_marks'].median())"
   ]
  },
  {
   "cell_type": "code",
   "execution_count": null,
   "metadata": {},
   "outputs": [],
   "source": [
    "# may not be required\n",
    "del onestar_reviews_df['num_of_words']\n",
    "onestar_reviews_df.info()"
   ]
  },
  {
   "cell_type": "code",
   "execution_count": 17,
   "metadata": {},
   "outputs": [
    {
     "data": {
      "text/html": [
       "<div>\n",
       "<style scoped>\n",
       "    .dataframe tbody tr th:only-of-type {\n",
       "        vertical-align: middle;\n",
       "    }\n",
       "\n",
       "    .dataframe tbody tr th {\n",
       "        vertical-align: top;\n",
       "    }\n",
       "\n",
       "    .dataframe thead th {\n",
       "        text-align: right;\n",
       "    }\n",
       "</style>\n",
       "<table border=\"1\" class=\"dataframe\">\n",
       "  <thead>\n",
       "    <tr style=\"text-align: right;\">\n",
       "      <th></th>\n",
       "      <th>star_rating</th>\n",
       "      <th>review_body</th>\n",
       "      <th>num_of_words</th>\n",
       "      <th>num_exclamations_marks</th>\n",
       "      <th>num_questions_marks</th>\n",
       "    </tr>\n",
       "  </thead>\n",
       "  <tbody>\n",
       "    <tr>\n",
       "      <th>558</th>\n",
       "      <td>1</td>\n",
       "      <td>These just arrived in the mail today and I was...</td>\n",
       "      <td>102</td>\n",
       "      <td>2</td>\n",
       "      <td>0</td>\n",
       "    </tr>\n",
       "    <tr>\n",
       "      <th>575</th>\n",
       "      <td>1</td>\n",
       "      <td>Made too cheap !</td>\n",
       "      <td>4</td>\n",
       "      <td>1</td>\n",
       "      <td>0</td>\n",
       "    </tr>\n",
       "    <tr>\n",
       "      <th>585</th>\n",
       "      <td>1</td>\n",
       "      <td>Doesn't fit blue yeti!!!!</td>\n",
       "      <td>4</td>\n",
       "      <td>4</td>\n",
       "      <td>0</td>\n",
       "    </tr>\n",
       "    <tr>\n",
       "      <th>614</th>\n",
       "      <td>1</td>\n",
       "      <td>Strings kept breaking, bad buy!</td>\n",
       "      <td>5</td>\n",
       "      <td>1</td>\n",
       "      <td>0</td>\n",
       "    </tr>\n",
       "    <tr>\n",
       "      <th>619</th>\n",
       "      <td>1</td>\n",
       "      <td>The plastic collar for the hook broke without ...</td>\n",
       "      <td>42</td>\n",
       "      <td>1</td>\n",
       "      <td>0</td>\n",
       "    </tr>\n",
       "  </tbody>\n",
       "</table>\n",
       "</div>"
      ],
      "text/plain": [
       "     star_rating                                        review_body  \\\n",
       "558            1  These just arrived in the mail today and I was...   \n",
       "575            1                                   Made too cheap !   \n",
       "585            1                          Doesn't fit blue yeti!!!!   \n",
       "614            1                    Strings kept breaking, bad buy!   \n",
       "619            1  The plastic collar for the hook broke without ...   \n",
       "\n",
       "     num_of_words  num_exclamations_marks  num_questions_marks  \n",
       "558           102                       2                    0  \n",
       "575             4                       1                    0  \n",
       "585             4                       4                    0  \n",
       "614             5                       1                    0  \n",
       "619            42                       1                    0  "
      ]
     },
     "execution_count": 17,
     "metadata": {},
     "output_type": "execute_result"
    }
   ],
   "source": [
    "# filtering only reviews with exclamation or question marks\n",
    "onestar_filtered_df = onestar_reviews_df.drop(onestar_reviews_df[(onestar_reviews_df['num_exclamations_marks'] == 0) & (onestar_reviews_df['num_questions_marks'] == 0)].index)\n",
    "onestar_filtered_df.head()"
   ]
  },
  {
   "cell_type": "code",
   "execution_count": 21,
   "metadata": {},
   "outputs": [
    {
     "name": "stdout",
     "output_type": "stream",
     "text": [
      "267\n"
     ]
    }
   ],
   "source": [
    "onestar_exclam_count = onestar_filtered_df[onestar_filtered_df['num_exclamations_marks'] != 0].count()\n",
    "print(onestar_exclam_count['num_exclamations_marks'])"
   ]
  },
  {
   "cell_type": "code",
   "execution_count": 22,
   "metadata": {},
   "outputs": [
    {
     "name": "stdout",
     "output_type": "stream",
     "text": [
      "60\n"
     ]
    }
   ],
   "source": [
    "onestar_ques_count = onestar_filtered_df[onestar_filtered_df['num_questions_marks'] != 0].count()\n",
    "print(onestar_ques_count['num_questions_marks'])"
   ]
  },
  {
   "cell_type": "code",
   "execution_count": 28,
   "metadata": {},
   "outputs": [
    {
     "data": {
      "text/html": [
       "<div>\n",
       "<style scoped>\n",
       "    .dataframe tbody tr th:only-of-type {\n",
       "        vertical-align: middle;\n",
       "    }\n",
       "\n",
       "    .dataframe tbody tr th {\n",
       "        vertical-align: top;\n",
       "    }\n",
       "\n",
       "    .dataframe thead th {\n",
       "        text-align: right;\n",
       "    }\n",
       "</style>\n",
       "<table border=\"1\" class=\"dataframe\">\n",
       "  <thead>\n",
       "    <tr style=\"text-align: right;\">\n",
       "      <th></th>\n",
       "      <th>star_rating</th>\n",
       "      <th>review_body</th>\n",
       "      <th>num_of_words</th>\n",
       "      <th>num_exclamations_marks</th>\n",
       "      <th>num_questions_marks</th>\n",
       "    </tr>\n",
       "  </thead>\n",
       "  <tbody>\n",
       "    <tr>\n",
       "      <th>18497</th>\n",
       "      <td>1</td>\n",
       "      <td>Do not buy this piano (the Legato). If you wan...</td>\n",
       "      <td>166</td>\n",
       "      <td>0</td>\n",
       "      <td>1</td>\n",
       "    </tr>\n",
       "    <tr>\n",
       "      <th>18529</th>\n",
       "      <td>1</td>\n",
       "      <td>iRig has the worst customer support. The Light...</td>\n",
       "      <td>208</td>\n",
       "      <td>0</td>\n",
       "      <td>1</td>\n",
       "    </tr>\n",
       "    <tr>\n",
       "      <th>18538</th>\n",
       "      <td>1</td>\n",
       "      <td>I can't believe how many 5 stars this unnatura...</td>\n",
       "      <td>167</td>\n",
       "      <td>4</td>\n",
       "      <td>0</td>\n",
       "    </tr>\n",
       "    <tr>\n",
       "      <th>18623</th>\n",
       "      <td>1</td>\n",
       "      <td>Received this dolly, went to open it up and th...</td>\n",
       "      <td>93</td>\n",
       "      <td>2</td>\n",
       "      <td>0</td>\n",
       "    </tr>\n",
       "    <tr>\n",
       "      <th>18689</th>\n",
       "      <td>1</td>\n",
       "      <td>Broke after about a week of non continuous use...</td>\n",
       "      <td>43</td>\n",
       "      <td>0</td>\n",
       "      <td>1</td>\n",
       "    </tr>\n",
       "    <tr>\n",
       "      <th>18692</th>\n",
       "      <td>1</td>\n",
       "      <td>These really suck.  Way too thick and don't so...</td>\n",
       "      <td>39</td>\n",
       "      <td>2</td>\n",
       "      <td>0</td>\n",
       "    </tr>\n",
       "    <tr>\n",
       "      <th>18768</th>\n",
       "      <td>1</td>\n",
       "      <td>Impossible to put all toghether!!!</td>\n",
       "      <td>5</td>\n",
       "      <td>3</td>\n",
       "      <td>0</td>\n",
       "    </tr>\n",
       "    <tr>\n",
       "      <th>18774</th>\n",
       "      <td>1</td>\n",
       "      <td>I purchased this for my wife back in December ...</td>\n",
       "      <td>398</td>\n",
       "      <td>3</td>\n",
       "      <td>0</td>\n",
       "    </tr>\n",
       "    <tr>\n",
       "      <th>18870</th>\n",
       "      <td>1</td>\n",
       "      <td>I DONT KNOW why the first chord is so loose an...</td>\n",
       "      <td>24</td>\n",
       "      <td>0</td>\n",
       "      <td>1</td>\n",
       "    </tr>\n",
       "    <tr>\n",
       "      <th>18902</th>\n",
       "      <td>1</td>\n",
       "      <td>This light started flickering after only five ...</td>\n",
       "      <td>69</td>\n",
       "      <td>0</td>\n",
       "      <td>1</td>\n",
       "    </tr>\n",
       "    <tr>\n",
       "      <th>18924</th>\n",
       "      <td>1</td>\n",
       "      <td>I purchased this interface used back in Februa...</td>\n",
       "      <td>123</td>\n",
       "      <td>1</td>\n",
       "      <td>0</td>\n",
       "    </tr>\n",
       "    <tr>\n",
       "      <th>18952</th>\n",
       "      <td>1</td>\n",
       "      <td>Cd doesnt download on my macbookpro!!</td>\n",
       "      <td>6</td>\n",
       "      <td>2</td>\n",
       "      <td>0</td>\n",
       "    </tr>\n",
       "    <tr>\n",
       "      <th>18953</th>\n",
       "      <td>1</td>\n",
       "      <td>I really hate to leave a bad review but it is ...</td>\n",
       "      <td>328</td>\n",
       "      <td>0</td>\n",
       "      <td>4</td>\n",
       "    </tr>\n",
       "    <tr>\n",
       "      <th>19076</th>\n",
       "      <td>1</td>\n",
       "      <td>This was a gift for our 12 year old son. After...</td>\n",
       "      <td>25</td>\n",
       "      <td>1</td>\n",
       "      <td>0</td>\n",
       "    </tr>\n",
       "    <tr>\n",
       "      <th>19093</th>\n",
       "      <td>1</td>\n",
       "      <td>Not what I expected! EXTREMELY small. Didn't p...</td>\n",
       "      <td>58</td>\n",
       "      <td>2</td>\n",
       "      <td>0</td>\n",
       "    </tr>\n",
       "    <tr>\n",
       "      <th>19118</th>\n",
       "      <td>1</td>\n",
       "      <td>It's terrible. I throw them away immediately. ...</td>\n",
       "      <td>44</td>\n",
       "      <td>1</td>\n",
       "      <td>0</td>\n",
       "    </tr>\n",
       "    <tr>\n",
       "      <th>19156</th>\n",
       "      <td>1</td>\n",
       "      <td>Looking for the worst instrument ever produced...</td>\n",
       "      <td>105</td>\n",
       "      <td>2</td>\n",
       "      <td>1</td>\n",
       "    </tr>\n",
       "    <tr>\n",
       "      <th>19167</th>\n",
       "      <td>1</td>\n",
       "      <td>OK. Here is the thing. One star is a very bad ...</td>\n",
       "      <td>841</td>\n",
       "      <td>2</td>\n",
       "      <td>1</td>\n",
       "    </tr>\n",
       "    <tr>\n",
       "      <th>19232</th>\n",
       "      <td>1</td>\n",
       "      <td>The board works fine but the software virtual ...</td>\n",
       "      <td>71</td>\n",
       "      <td>7</td>\n",
       "      <td>0</td>\n",
       "    </tr>\n",
       "    <tr>\n",
       "      <th>19248</th>\n",
       "      <td>1</td>\n",
       "      <td>Just got the stand and the male thread on the ...</td>\n",
       "      <td>35</td>\n",
       "      <td>1</td>\n",
       "      <td>0</td>\n",
       "    </tr>\n",
       "    <tr>\n",
       "      <th>19276</th>\n",
       "      <td>1</td>\n",
       "      <td>This is the worst guitar stand!  Lifetime manu...</td>\n",
       "      <td>169</td>\n",
       "      <td>2</td>\n",
       "      <td>0</td>\n",
       "    </tr>\n",
       "    <tr>\n",
       "      <th>19373</th>\n",
       "      <td>1</td>\n",
       "      <td>OK. Here is the thing. One star is a very bad ...</td>\n",
       "      <td>616</td>\n",
       "      <td>2</td>\n",
       "      <td>1</td>\n",
       "    </tr>\n",
       "    <tr>\n",
       "      <th>19432</th>\n",
       "      <td>1</td>\n",
       "      <td>I have always used Ortofon cartridges and neve...</td>\n",
       "      <td>80</td>\n",
       "      <td>3</td>\n",
       "      <td>0</td>\n",
       "    </tr>\n",
       "    <tr>\n",
       "      <th>19560</th>\n",
       "      <td>1</td>\n",
       "      <td>Pictured full of picks comes with none!</td>\n",
       "      <td>7</td>\n",
       "      <td>1</td>\n",
       "      <td>0</td>\n",
       "    </tr>\n",
       "    <tr>\n",
       "      <th>19682</th>\n",
       "      <td>1</td>\n",
       "      <td>Poor function of the on/off switch lead me to ...</td>\n",
       "      <td>33</td>\n",
       "      <td>5</td>\n",
       "      <td>0</td>\n",
       "    </tr>\n",
       "    <tr>\n",
       "      <th>19743</th>\n",
       "      <td>1</td>\n",
       "      <td>didn't work for me!</td>\n",
       "      <td>4</td>\n",
       "      <td>1</td>\n",
       "      <td>0</td>\n",
       "    </tr>\n",
       "    <tr>\n",
       "      <th>19749</th>\n",
       "      <td>1</td>\n",
       "      <td>Contact not so great. I used it to connect two...</td>\n",
       "      <td>66</td>\n",
       "      <td>1</td>\n",
       "      <td>0</td>\n",
       "    </tr>\n",
       "    <tr>\n",
       "      <th>19759</th>\n",
       "      <td>1</td>\n",
       "      <td>This amp was terrible!  Didn't work at all.  T...</td>\n",
       "      <td>33</td>\n",
       "      <td>2</td>\n",
       "      <td>0</td>\n",
       "    </tr>\n",
       "    <tr>\n",
       "      <th>19896</th>\n",
       "      <td>1</td>\n",
       "      <td>This thing felt cheap as soon as I opened it. ...</td>\n",
       "      <td>254</td>\n",
       "      <td>7</td>\n",
       "      <td>0</td>\n",
       "    </tr>\n",
       "    <tr>\n",
       "      <th>19908</th>\n",
       "      <td>1</td>\n",
       "      <td>I usually don't write comments on Amazon unles...</td>\n",
       "      <td>65</td>\n",
       "      <td>1</td>\n",
       "      <td>0</td>\n",
       "    </tr>\n",
       "  </tbody>\n",
       "</table>\n",
       "</div>"
      ],
      "text/plain": [
       "       star_rating                                        review_body  \\\n",
       "18497            1  Do not buy this piano (the Legato). If you wan...   \n",
       "18529            1  iRig has the worst customer support. The Light...   \n",
       "18538            1  I can't believe how many 5 stars this unnatura...   \n",
       "18623            1  Received this dolly, went to open it up and th...   \n",
       "18689            1  Broke after about a week of non continuous use...   \n",
       "18692            1  These really suck.  Way too thick and don't so...   \n",
       "18768            1                 Impossible to put all toghether!!!   \n",
       "18774            1  I purchased this for my wife back in December ...   \n",
       "18870            1  I DONT KNOW why the first chord is so loose an...   \n",
       "18902            1  This light started flickering after only five ...   \n",
       "18924            1  I purchased this interface used back in Februa...   \n",
       "18952            1              Cd doesnt download on my macbookpro!!   \n",
       "18953            1  I really hate to leave a bad review but it is ...   \n",
       "19076            1  This was a gift for our 12 year old son. After...   \n",
       "19093            1  Not what I expected! EXTREMELY small. Didn't p...   \n",
       "19118            1  It's terrible. I throw them away immediately. ...   \n",
       "19156            1  Looking for the worst instrument ever produced...   \n",
       "19167            1  OK. Here is the thing. One star is a very bad ...   \n",
       "19232            1  The board works fine but the software virtual ...   \n",
       "19248            1  Just got the stand and the male thread on the ...   \n",
       "19276            1  This is the worst guitar stand!  Lifetime manu...   \n",
       "19373            1  OK. Here is the thing. One star is a very bad ...   \n",
       "19432            1  I have always used Ortofon cartridges and neve...   \n",
       "19560            1            Pictured full of picks comes with none!   \n",
       "19682            1  Poor function of the on/off switch lead me to ...   \n",
       "19743            1                                didn't work for me!   \n",
       "19749            1  Contact not so great. I used it to connect two...   \n",
       "19759            1  This amp was terrible!  Didn't work at all.  T...   \n",
       "19896            1  This thing felt cheap as soon as I opened it. ...   \n",
       "19908            1  I usually don't write comments on Amazon unles...   \n",
       "\n",
       "       num_of_words  num_exclamations_marks  num_questions_marks  \n",
       "18497           166                       0                    1  \n",
       "18529           208                       0                    1  \n",
       "18538           167                       4                    0  \n",
       "18623            93                       2                    0  \n",
       "18689            43                       0                    1  \n",
       "18692            39                       2                    0  \n",
       "18768             5                       3                    0  \n",
       "18774           398                       3                    0  \n",
       "18870            24                       0                    1  \n",
       "18902            69                       0                    1  \n",
       "18924           123                       1                    0  \n",
       "18952             6                       2                    0  \n",
       "18953           328                       0                    4  \n",
       "19076            25                       1                    0  \n",
       "19093            58                       2                    0  \n",
       "19118            44                       1                    0  \n",
       "19156           105                       2                    1  \n",
       "19167           841                       2                    1  \n",
       "19232            71                       7                    0  \n",
       "19248            35                       1                    0  \n",
       "19276           169                       2                    0  \n",
       "19373           616                       2                    1  \n",
       "19432            80                       3                    0  \n",
       "19560             7                       1                    0  \n",
       "19682            33                       5                    0  \n",
       "19743             4                       1                    0  \n",
       "19749            66                       1                    0  \n",
       "19759            33                       2                    0  \n",
       "19896           254                       7                    0  \n",
       "19908            65                       1                    0  "
      ]
     },
     "execution_count": 28,
     "metadata": {},
     "output_type": "execute_result"
    }
   ],
   "source": [
    "onestar_filtered_df.tail(30)"
   ]
  },
  {
   "cell_type": "code",
   "execution_count": 29,
   "metadata": {},
   "outputs": [
    {
     "name": "stdout",
     "output_type": "stream",
     "text": [
      "<class 'pandas.core.frame.DataFrame'>\n",
      "Int64Index: 817 entries, 6 to 19993\n",
      "Data columns (total 5 columns):\n",
      " #   Column                  Non-Null Count  Dtype \n",
      "---  ------                  --------------  ----- \n",
      " 0   star_rating             817 non-null    int64 \n",
      " 1   review_body             817 non-null    object\n",
      " 2   num_of_words            817 non-null    int64 \n",
      " 3   num_exclamations_marks  817 non-null    int64 \n",
      " 4   num_questions_marks     817 non-null    int64 \n",
      "dtypes: int64(4), object(1)\n",
      "memory usage: 38.3+ KB\n"
     ]
    }
   ],
   "source": [
    "# analyzing Two Star reviews\n",
    "twostar_reviews_df = reviews_df[reviews_df['star_rating'] == 2]\n",
    "twostar_reviews_df.info()"
   ]
  },
  {
   "cell_type": "code",
   "execution_count": 30,
   "metadata": {},
   "outputs": [
    {
     "name": "stdout",
     "output_type": "stream",
     "text": [
      "Stats on word, exclamation & question mark count for 2 Star Reviews\n",
      "---------------------------------------\n",
      "Min number of words: 1\n",
      "Max number of words: 506\n",
      "Average number of words: 53.840881272949815\n",
      "Median number of words: 31.0\n",
      "Max number of exclamation marks: 10\n",
      "Average number of exclamation marks: 0.189718482252142\n",
      "Median number of exclamation marks: 0.0\n",
      "Max number of question marks: 6\n",
      "Average number of question marks: 0.04895960832313342\n",
      "Median number of question marks: 0.0\n"
     ]
    }
   ],
   "source": [
    "# Stats on Word Count for two star reviews\n",
    "print(\"Stats on word, exclamation & question mark count for 2 Star Reviews\")\n",
    "print(\"---------------------------------------\")\n",
    "print(\"Min number of words:\", twostar_reviews_df['num_of_words'].min())\n",
    "print(\"Max number of words:\", twostar_reviews_df['num_of_words'].max())\n",
    "print(\"Average number of words:\", twostar_reviews_df['num_of_words'].mean())\n",
    "print(\"Median number of words:\", twostar_reviews_df['num_of_words'].median())\n",
    "print(\"Max number of exclamation marks:\", twostar_reviews_df['num_exclamations_marks'].max())\n",
    "print(\"Average number of exclamation marks:\", twostar_reviews_df['num_exclamations_marks'].mean())\n",
    "print(\"Median number of exclamation marks:\", twostar_reviews_df['num_exclamations_marks'].median())\n",
    "print(\"Max number of question marks:\", twostar_reviews_df['num_questions_marks'].max())\n",
    "print(\"Average number of question marks:\", twostar_reviews_df['num_questions_marks'].mean())\n",
    "print(\"Median number of question marks:\", twostar_reviews_df['num_questions_marks'].median())"
   ]
  },
  {
   "cell_type": "code",
   "execution_count": 31,
   "metadata": {},
   "outputs": [
    {
     "name": "stdout",
     "output_type": "stream",
     "text": [
      "star_rating               80\n",
      "review_body               80\n",
      "num_of_words              80\n",
      "num_exclamations_marks    80\n",
      "num_questions_marks       80\n",
      "dtype: int64\n",
      "star_rating               28\n",
      "review_body               28\n",
      "num_of_words              28\n",
      "num_exclamations_marks    28\n",
      "num_questions_marks       28\n",
      "dtype: int64\n"
     ]
    }
   ],
   "source": [
    "print(count_excla_review(twostar_reviews_df))\n",
    "print(count_ques_review(twostar_reviews_df))"
   ]
  },
  {
   "cell_type": "code",
   "execution_count": 32,
   "metadata": {},
   "outputs": [
    {
     "name": "stdout",
     "output_type": "stream",
     "text": [
      "<class 'pandas.core.frame.DataFrame'>\n",
      "Int64Index: 1402 entries, 0 to 19959\n",
      "Data columns (total 5 columns):\n",
      " #   Column                  Non-Null Count  Dtype \n",
      "---  ------                  --------------  ----- \n",
      " 0   star_rating             1402 non-null   int64 \n",
      " 1   review_body             1402 non-null   object\n",
      " 2   num_of_words            1402 non-null   int64 \n",
      " 3   num_exclamations_marks  1402 non-null   int64 \n",
      " 4   num_questions_marks     1402 non-null   int64 \n",
      "dtypes: int64(4), object(1)\n",
      "memory usage: 65.7+ KB\n"
     ]
    }
   ],
   "source": [
    "# analyzing Three Star reviews\n",
    "threestar_reviews_df = reviews_df[reviews_df['star_rating'] == 3]\n",
    "threestar_reviews_df.info()"
   ]
  },
  {
   "cell_type": "code",
   "execution_count": 33,
   "metadata": {},
   "outputs": [
    {
     "name": "stdout",
     "output_type": "stream",
     "text": [
      "Stats on word, exclamation & question mark count for 3 Star Reviews\n",
      "------------------------------------------\n",
      "Min number of words: 1\n",
      "Max number of words: 1483\n",
      "Average number of words: 53.55135520684736\n",
      "Median number of words: 26.0\n",
      "Max number of exclamation marks: 15\n",
      "Average number of exclamation marks: 0.1861626248216833\n",
      "Median number of exclamation marks: 0.0\n",
      "Max number of questions marks: 6\n",
      "Average number of questions marks: 0.05420827389443652\n",
      "Median number of questions marks: 0.0\n"
     ]
    }
   ],
   "source": [
    "# Stats on Word, exclamation & question mark Count for three star reviews\n",
    "print(\"Stats on word, exclamation & question mark count for 3 Star Reviews\")\n",
    "print(\"------------------------------------------\")\n",
    "print(\"Min number of words:\", threestar_reviews_df['num_of_words'].min())\n",
    "print(\"Max number of words:\", threestar_reviews_df['num_of_words'].max())\n",
    "print(\"Average number of words:\", threestar_reviews_df['num_of_words'].mean())\n",
    "print(\"Median number of words:\", threestar_reviews_df['num_of_words'].median())\n",
    "print(\"Max number of exclamation marks:\", threestar_reviews_df['num_exclamations_marks'].max())\n",
    "print(\"Average number of exclamation marks:\", threestar_reviews_df['num_exclamations_marks'].mean())\n",
    "print(\"Median number of exclamation marks:\", threestar_reviews_df['num_exclamations_marks'].median())\n",
    "print(\"Max number of questions marks:\", threestar_reviews_df['num_questions_marks'].max())\n",
    "print(\"Average number of questions marks:\", threestar_reviews_df['num_questions_marks'].mean())\n",
    "print(\"Median number of questions marks:\", threestar_reviews_df['num_questions_marks'].median())"
   ]
  },
  {
   "cell_type": "code",
   "execution_count": 34,
   "metadata": {},
   "outputs": [
    {
     "name": "stdout",
     "output_type": "stream",
     "text": [
      "<class 'pandas.core.frame.DataFrame'>\n",
      "Int64Index: 3064 entries, 11 to 19998\n",
      "Data columns (total 5 columns):\n",
      " #   Column                  Non-Null Count  Dtype \n",
      "---  ------                  --------------  ----- \n",
      " 0   star_rating             3064 non-null   int64 \n",
      " 1   review_body             3064 non-null   object\n",
      " 2   num_of_words            3064 non-null   int64 \n",
      " 3   num_exclamations_marks  3064 non-null   int64 \n",
      " 4   num_questions_marks     3064 non-null   int64 \n",
      "dtypes: int64(4), object(1)\n",
      "memory usage: 143.6+ KB\n"
     ]
    }
   ],
   "source": [
    "# analyzing Four Star reviews\n",
    "fourstar_reviews_df = reviews_df[reviews_df['star_rating'] == 4]\n",
    "fourstar_reviews_df.info()"
   ]
  },
  {
   "cell_type": "code",
   "execution_count": 35,
   "metadata": {},
   "outputs": [
    {
     "name": "stdout",
     "output_type": "stream",
     "text": [
      "Stats on word, exclamation & question marks count for 4 Star Reviews\n",
      "-----------------------------------------\n",
      "Min number of words: 0\n",
      "Max number of words: 1623\n",
      "Average number of words: 52.84595300261097\n",
      "Median number of words: 23.0\n",
      "Max number of exclamation marks: 15\n",
      "Average number of exclamation marks: 0.23237597911227154\n",
      "Median number of exclamation marks: 0.0\n",
      "Max number of question marks: 6\n",
      "Average number of question marks: 0.03328981723237598\n",
      "Median number of question marks: 0.0\n"
     ]
    }
   ],
   "source": [
    "# Stats on Word, exclamation & question marks Count for 4 star reviews\n",
    "print(\"Stats on word, exclamation & question marks count for 4 Star Reviews\")\n",
    "print(\"-----------------------------------------\")\n",
    "print(\"Min number of words:\", fourstar_reviews_df['num_of_words'].min())\n",
    "print(\"Max number of words:\", fourstar_reviews_df['num_of_words'].max())\n",
    "print(\"Average number of words:\", fourstar_reviews_df['num_of_words'].mean())\n",
    "print(\"Median number of words:\", fourstar_reviews_df['num_of_words'].median())\n",
    "print(\"Max number of exclamation marks:\", fourstar_reviews_df['num_exclamations_marks'].max())\n",
    "print(\"Average number of exclamation marks:\", fourstar_reviews_df['num_exclamations_marks'].mean())\n",
    "print(\"Median number of exclamation marks:\", fourstar_reviews_df['num_exclamations_marks'].median())\n",
    "print(\"Max number of question marks:\", fourstar_reviews_df['num_questions_marks'].max())\n",
    "print(\"Average number of question marks:\", fourstar_reviews_df['num_questions_marks'].mean())\n",
    "print(\"Median number of question marks:\", fourstar_reviews_df['num_questions_marks'].median())"
   ]
  },
  {
   "cell_type": "code",
   "execution_count": 36,
   "metadata": {},
   "outputs": [
    {
     "name": "stdout",
     "output_type": "stream",
     "text": [
      "<class 'pandas.core.frame.DataFrame'>\n",
      "Int64Index: 13235 entries, 1 to 19999\n",
      "Data columns (total 5 columns):\n",
      " #   Column                  Non-Null Count  Dtype \n",
      "---  ------                  --------------  ----- \n",
      " 0   star_rating             13235 non-null  int64 \n",
      " 1   review_body             13235 non-null  object\n",
      " 2   num_of_words            13235 non-null  int64 \n",
      " 3   num_exclamations_marks  13235 non-null  int64 \n",
      " 4   num_questions_marks     13235 non-null  int64 \n",
      "dtypes: int64(4), object(1)\n",
      "memory usage: 620.4+ KB\n"
     ]
    }
   ],
   "source": [
    "# analyzing Five Star reviews\n",
    "fivestar_reviews_df = reviews_df[reviews_df['star_rating'] == 5]\n",
    "fivestar_reviews_df.info()"
   ]
  },
  {
   "cell_type": "code",
   "execution_count": 37,
   "metadata": {},
   "outputs": [
    {
     "name": "stdout",
     "output_type": "stream",
     "text": [
      "Stats on word, exclamation & question marks count for 5 Star Reviews\n",
      "-----------------------------------------\n",
      "Min number of words: 0\n",
      "Max number of words: 2163\n",
      "Average number of words: 36.689459765772575\n",
      "Median number of words: 13.0\n",
      "Max number of exclamation marks: 54\n",
      "Average number of exclamation marks: 0.5076690593124291\n",
      "Median number of exclamation marks: 0.0\n",
      "Max number of question marks: 13\n",
      "Average number of question marks: 0.027502833396297697\n",
      "Median number of question marks: 0.0\n"
     ]
    }
   ],
   "source": [
    "# Stats on Word, exclamation & question marks Count for five star reviews\n",
    "print(\"Stats on word, exclamation & question marks count for 5 Star Reviews\")\n",
    "print(\"-----------------------------------------\")\n",
    "print(\"Min number of words:\", fivestar_reviews_df['num_of_words'].min())\n",
    "print(\"Max number of words:\", fivestar_reviews_df['num_of_words'].max())\n",
    "print(\"Average number of words:\", fivestar_reviews_df['num_of_words'].mean())\n",
    "print(\"Median number of words:\", fivestar_reviews_df['num_of_words'].median())\n",
    "print(\"Max number of exclamation marks:\", fivestar_reviews_df['num_exclamations_marks'].max())\n",
    "print(\"Average number of exclamation marks:\", fivestar_reviews_df['num_exclamations_marks'].mean())\n",
    "print(\"Median number of exclamation marks:\", fivestar_reviews_df['num_exclamations_marks'].median())\n",
    "print(\"Max number of question marks:\", fivestar_reviews_df['num_questions_marks'].max())\n",
    "print(\"Average number of question marks:\", fivestar_reviews_df['num_questions_marks'].mean())\n",
    "print(\"Median number of question marks:\", fivestar_reviews_df['num_questions_marks'].median())"
   ]
  },
  {
   "cell_type": "code",
   "execution_count": 40,
   "metadata": {},
   "outputs": [
    {
     "data": {
      "text/plain": [
       "3064"
      ]
     },
     "execution_count": 40,
     "metadata": {},
     "output_type": "execute_result"
    }
   ],
   "source": [
    "fourstar_reviews_df['star_rating'].count()"
   ]
  },
  {
   "cell_type": "code",
   "execution_count": 48,
   "metadata": {},
   "outputs": [
    {
     "name": "stdout",
     "output_type": "stream",
     "text": [
      "18\n",
      "4\n",
      "9\n",
      "3\n",
      "9\n",
      "3\n",
      "14\n",
      "2\n",
      "27\n",
      "1\n"
     ]
    }
   ],
   "source": [
    "# counting number of exclamation and question marks for each star review category\n",
    "onestar_excla_series = count_excla_review(onestar_reviews_df)\n",
    "onestar_excla_count_val = calc_percent(onestar_excla_series['num_exclamations_marks'],\n",
    "                                       onestar_reviews_df['star_rating'].count())\n",
    "print(onestar_excla_count_val)\n",
    "onestar_ques_series = count_ques_review(onestar_reviews_df)\n",
    "onestar_ques_count_val = calc_percent(onestar_ques_series['num_questions_marks'],\n",
    "                                      onestar_reviews_df['star_rating'].count())\n",
    "print(onestar_ques_count_val)\n",
    "twostar_excla_series = count_excla_review(twostar_reviews_df)\n",
    "twostar_excla_count_val = calc_percent(twostar_excla_series['num_exclamations_marks'],\n",
    "                                       twostar_reviews_df['star_rating'].count())\n",
    "print(twostar_excla_count_val)\n",
    "twostar_ques_series = count_ques_review(twostar_reviews_df)\n",
    "twostar_ques_count_val = calc_percent(twostar_ques_series['num_questions_marks'],\n",
    "                                      twostar_reviews_df['star_rating'].count())\n",
    "print(twostar_ques_count_val)\n",
    "threestar_excla_series = count_excla_review(threestar_reviews_df)\n",
    "threestar_excla_count_val = calc_percent(threestar_excla_series['num_exclamations_marks'],\n",
    "                                         threestar_reviews_df['star_rating'].count())\n",
    "print(threestar_excla_count_val)\n",
    "threestar_ques_series = count_ques_review(threestar_reviews_df)\n",
    "threestar_ques_count_val = calc_percent(threestar_ques_series['num_questions_marks'],\n",
    "                                        threestar_reviews_df['star_rating'].count())\n",
    "print(threestar_ques_count_val)\n",
    "fourstar_excla_series = count_excla_review(fourstar_reviews_df)\n",
    "fourstar_excla_count_val = calc_percent(fourstar_excla_series['num_exclamations_marks'],\n",
    "                                        fourstar_reviews_df['star_rating'].count())\n",
    "print(fourstar_excla_count_val)\n",
    "fourstar_ques_series = count_ques_review(fourstar_reviews_df)\n",
    "fourstar_ques_count_val = calc_percent(fourstar_ques_series['num_questions_marks'],\n",
    "                                       fourstar_reviews_df['star_rating'].count())\n",
    "print(fourstar_ques_count_val)\n",
    "fivestar_excla_series = count_excla_review(fivestar_reviews_df)\n",
    "fivestar_excla_count_val = calc_percent(fivestar_excla_series['num_exclamations_marks'],\n",
    "                                        fivestar_reviews_df['star_rating'].count())\n",
    "print(fivestar_excla_count_val)\n",
    "fivestar_ques_series = count_ques_review(fivestar_reviews_df)\n",
    "fivestar_ques_count_val = calc_percent(fivestar_ques_series['num_questions_marks'],\n",
    "                                       fivestar_reviews_df['star_rating'].count())\n",
    "print(fivestar_ques_count_val)"
   ]
  },
  {
   "cell_type": "code",
   "execution_count": 70,
   "metadata": {},
   "outputs": [
    {
     "data": {
      "image/png": "[encoded data removed]",
      "text/plain": [
       "<Figure size 720x504 with 1 Axes>"
      ]
     },
     "metadata": {},
     "output_type": "display_data"
    }
   ],
   "source": [
    "# Plot bar chart comparing eclamation and question marks by review star rating\n",
    "\n",
    "allstar_e_q_count = {'Star_Rating':[1,2,3,4,5],\n",
    "                     'Percent_Exclamation_Marks':[onestar_excla_count_val,twostar_excla_count_val,\n",
    "                                               threestar_excla_count_val,fourstar_excla_count_val,\n",
    "                                               fivestar_excla_count_val],\n",
    "                    'Percent_Question_Marks':[onestar_ques_count_val,twostar_ques_count_val,\n",
    "                                           threestar_ques_count_val,fourstar_ques_count_val,\n",
    "                                           fivestar_ques_count_val]}\n",
    "\n",
    "allstar_excla_ques_count_df = pd.DataFrame(allstar_e_q_count)\n",
    "allstar_excla_ques_count_df = allstar_excla_ques_count_df.set_index('Star_Rating')\n",
    "\n",
    "#plt.figure(figsize=(10,10))\n",
    "sns.set_style(\"dark\")\n",
    "allstar_excla_ques_count_df.plot.bar(title=\"Percent of Exclamation and Question Marks\",\n",
    "                                    figsize=(10,7), grid=True)\n",
    "plt.ylabel(\"Percentage\")\n",
    "plt.xticks(rotation=0, horizontalalignment=\"center\")\n",
    "plt.show()"
   ]
  },
  {
   "cell_type": "code",
   "execution_count": null,
   "metadata": {},
   "outputs": [],
   "source": [
    "# all reviews with 5 or less words\n",
    "five_less_word_reviews_df = reviews_df[reviews_df['num_of_words'] <= 5]\n",
    "five_less_word_reviews_df.info()"
   ]
  },
  {
   "cell_type": "code",
   "execution_count": null,
   "metadata": {},
   "outputs": [],
   "source": [
    "# analizing reviews with less or equal to 5 words\n",
    "five_less_word_reviews_df.groupby(['star_rating']).count()"
   ]
  },
  {
   "cell_type": "code",
   "execution_count": null,
   "metadata": {},
   "outputs": [],
   "source": [
    "# all reviews with more than 5 words\n",
    "mt_five_word_reviews_df = reviews_df[reviews_df['num_of_words'] > 5]\n",
    "mt_five_word_reviews_df.head()"
   ]
  },
  {
   "cell_type": "code",
   "execution_count": null,
   "metadata": {},
   "outputs": [],
   "source": [
    "# Stats for reviews with more than 5 words\n",
    "print(\"Min number of words:\", mt_five_word_reviews_df['num_of_words'].min())\n",
    "print(\"Max number of words:\", mt_five_word_reviews_df['num_of_words'].max())\n",
    "print(\"Average number of words:\", mt_five_word_reviews_df['num_of_words'].mean())\n",
    "print(\"Median number of words:\", mt_five_word_reviews_df['num_of_words'].median())\n",
    "print(\"Max number of exclamation marks:\", mt_five_word_reviews_df['num_exclamations_marks'].max())\n",
    "print(\"Average number of exclamation marks:\", mt_five_word_reviews_df['num_exclamations_marks'].mean())\n",
    "print(\"Median number of exclamation marks:\", mt_five_word_reviews_df['num_exclamations_marks'].median())\n",
    "print(\"Max number of question marks:\", mt_five_word_reviews_df['num_questions_marks'].max())\n",
    "print(\"Average number of question marks:\", mt_five_word_reviews_df['num_questions_marks'].mean())\n",
    "print(\"Median number of question marks:\", mt_five_word_reviews_df['num_questions_marks'].median())"
   ]
  },
  {
   "cell_type": "code",
   "execution_count": null,
   "metadata": {},
   "outputs": [],
   "source": [
    "# More than 5 word reviews by Star Rating\n",
    "grouped_review_df = mt_five_word_reviews_df.groupby(['star_rating']).count()\n",
    "grouped_review_df.head()"
   ]
  },
  {
   "cell_type": "code",
   "execution_count": null,
   "metadata": {},
   "outputs": [],
   "source": [
    "grouped_review_df.plot.bar(y='num_of_words', title='Reviews with more than 5 words.')"
   ]
  },
  {
   "cell_type": "code",
   "execution_count": null,
   "metadata": {},
   "outputs": [],
   "source": [
    "grouped_review_df.plot.bar(y='num_exclamations_marks', title='Exclamation marks')"
   ]
  },
  {
   "cell_type": "code",
   "execution_count": null,
   "metadata": {},
   "outputs": [],
   "source": [
    "#mt_five_word_reviews_df.tail()\n",
    "mtfive_1star_reviews_df = mt_five_word_reviews_df[mt_five_word_reviews_df['star_rating'] == 1].reset_index(drop=True)\n",
    "mtfive_1star_reviews_df.head()"
   ]
  },
  {
   "cell_type": "code",
   "execution_count": null,
   "metadata": {},
   "outputs": [],
   "source": [
    "onestar_word_list = []\n",
    "#onestar_words = []\n",
    "for index, row in mtfive_1star_reviews_df.iterrows():\n",
    "        onestar_word_list.extend(remove_special_chars(mtfive_1star_reviews_df.iloc[index]['review_body']))\n",
    "            \n",
    "print(onestar_word_list)"
   ]
  },
  {
   "cell_type": "code",
   "execution_count": null,
   "metadata": {},
   "outputs": [],
   "source": [
    "print(mtfive_1star_reviews_df['num_of_words'].sum())\n",
    "print(len(onestar_word_list))"
   ]
  },
  {
   "cell_type": "code",
   "execution_count": null,
   "metadata": {},
   "outputs": [],
   "source": [
    "onestar_uniq_words = {}\n",
    "onestar_uniq_words = get_uniq_words(onestar_word_list)\n",
    "print(onestar_uniq_words)\n",
    "print(len(onestar_uniq_words))"
   ]
  },
  {
   "cell_type": "code",
   "execution_count": null,
   "metadata": {},
   "outputs": [],
   "source": [
    "# sorting dictionary by values in descending order\n",
    "onestar_uniq_sorted = sorted(onestar_uniq_words.items(), key=lambda x: x[1], reverse=True)\n"
   ]
  },
  {
   "cell_type": "code",
   "execution_count": null,
   "metadata": {},
   "outputs": [],
   "source": [
    "# printing first 200 items in dictionary\n",
    "print(onestar_uniq_sorted[:30])"
   ]
  },
  {
   "cell_type": "code",
   "execution_count": null,
   "metadata": {},
   "outputs": [],
   "source": [
    "onestar_stopwords = {\"the\",\"i\",\"a\",\"and\",\"to\",\"amazon\",\"of\",\"this\",\"for\",\"is\",\"was\",\n",
    "                    \"in\",\"that\",\"on\",\"my\",\"you\",\"they\",\"have\",\"so\",\"as\",\"are\",\"at\",\"be\",\n",
    "                    \"\"}\n",
    "print(len(onestar_stopwords))"
   ]
  },
  {
   "cell_type": "code",
   "execution_count": null,
   "metadata": {},
   "outputs": [],
   "source": [
    "ten_words_df = reviews_df[reviews_df['num_of_words'] <= 10]\n",
    "ten_words_df.info()"
   ]
  },
  {
   "cell_type": "code",
   "execution_count": null,
   "metadata": {},
   "outputs": [],
   "source": [
    "large_words_df = reviews_df[reviews_df['num_of_words'] >= 2000]\n",
    "large_words_df.info()"
   ]
  },
  {
   "cell_type": "code",
   "execution_count": null,
   "metadata": {},
   "outputs": [],
   "source": [
    "y=reviews_df['star_rating']\n",
    "x=reviews_df['num_of_words']\n"
   ]
  },
  {
   "cell_type": "code",
   "execution_count": null,
   "metadata": {},
   "outputs": [],
   "source": [
    "plt.figure(figsize=(15,10))\n",
    "sns.scatterplot(x,y)"
   ]
  },
  {
   "cell_type": "markdown",
   "metadata": {},
   "source": [
    "Test area below"
   ]
  },
  {
   "cell_type": "code",
   "execution_count": null,
   "metadata": {},
   "outputs": [],
   "source": [
    "print(count_words(\"This is not such a long sentence ya ?\"))"
   ]
  },
  {
   "cell_type": "code",
   "execution_count": null,
   "metadata": {},
   "outputs": [],
   "source": [
    "print(reviews_df.iloc[19912])\n",
    "print(reviews_df.loc[19912, 'review_body'])"
   ]
  },
  {
   "cell_type": "code",
   "execution_count": null,
   "metadata": {},
   "outputs": [],
   "source": [
    "## testing re functionality \n",
    "words = re.findall(['], \"This isn't a crazy 22 test string . What exactly is it?\")\n",
    "print(words)\n",
    "print(len(words))"
   ]
  },
  {
   "cell_type": "code",
   "execution_count": null,
   "metadata": {},
   "outputs": [],
   "source": [
    "ques=\"?\"\n",
    "excla=\"!\"\n",
    "test_str = \"Wow! that! is totally awesome!! No?\"\n",
    "print(test_str.count(\"?\"))\n",
    "print(test_str.count(\"!\"))"
   ]
  },
  {
   "cell_type": "code",
   "execution_count": null,
   "metadata": {},
   "outputs": [],
   "source": [
    "test_a = \"This is a small review. Yes ^$ or no? I don't really know. Amazon !!\"\n",
    "#print(remove_special_chars(test_a))\n",
    "print(mt_five_word_reviews_df.iloc[100]['review_body'])\n",
    "print(remove_special_chars(mt_five_word_reviews_df.iloc[100]['review_body']))"
   ]
  },
  {
   "cell_type": "code",
   "execution_count": null,
   "metadata": {},
   "outputs": [],
   "source": []
  },
  {
   "cell_type": "code",
   "execution_count": null,
   "metadata": {},
   "outputs": [],
   "source": [
    "list_words = []\n",
    "print(mt_five_word_reviews_df.iloc[10777]['review_body'])\n",
    "list_words = remove_special_chars(mt_five_word_reviews_df.iloc[10777]['review_body'])\n",
    "#list_words = mt_five_word_reviews_df.iloc[10777]['review_body']\n",
    "print(\"\\n\\n\")\n",
    "#list_words = list_words.replace(\"<br />\",\" \")\n",
    "#print(list_words)\n",
    "\n",
    "print(get_uniq_words(list_words))"
   ]
  },
  {
   "cell_type": "code",
   "execution_count": null,
   "metadata": {},
   "outputs": [],
   "source": []
  }
 ],
 "metadata": {
  "kernelspec": {
   "display_name": "Python 3",
   "language": "python",
   "name": "python3"
  },
  "language_info": {
   "codemirror_mode": {
    "name": "ipython",
    "version": 3
   },
   "file_extension": ".py",
   "mimetype": "text/x-python",
   "name": "python",
   "nbconvert_exporter": "python",
   "pygments_lexer": "ipython3",
   "version": "3.8.3"
  }
 },
 "nbformat": 4,
 "nbformat_minor": 4
}
