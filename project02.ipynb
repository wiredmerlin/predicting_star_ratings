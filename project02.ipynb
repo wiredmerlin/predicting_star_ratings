{
 "cells": [
  {
   "cell_type": "code",
   "execution_count": 1,
   "metadata": {},
   "outputs": [],
   "source": [
    "import numpy as np\n",
    "import pandas as pd\n",
    "#import re\n",
    "%matplotlib inline\n",
    "import matplotlib.pyplot as plt\n",
    "import seaborn as sns"
   ]
  },
  {
   "cell_type": "code",
   "execution_count": 2,
   "metadata": {},
   "outputs": [],
   "source": [
    "data_file = \"~/Documents/python/project02/amazon_musical_instru_star_rev_only.tsv\"\n",
    "col_list = [\"star_rating\",\"review_body\"]\n",
    "#reviews_df = pd.read_csv(data_file, sep=\"\\t\", usecols=col_list, low_memory=False)\n",
    "reviews_df = pd.read_csv(data_file, sep=\"\\t\", usecols=col_list, nrows=20000)"
   ]
  },
  {
   "cell_type": "code",
   "execution_count": 3,
   "metadata": {},
   "outputs": [],
   "source": [
    "reviews_df['star_rating'] = reviews_df['star_rating'].fillna(0)\n",
    "reviews_df['review_body'] = reviews_df['review_body'].fillna('')"
   ]
  },
  {
   "cell_type": "code",
   "execution_count": null,
   "metadata": {},
   "outputs": [],
   "source": [
    "reviews_df.head(15)"
   ]
  },
  {
   "cell_type": "code",
   "execution_count": 4,
   "metadata": {},
   "outputs": [
    {
     "name": "stdout",
     "output_type": "stream",
     "text": [
      "<class 'pandas.core.frame.DataFrame'>\n",
      "RangeIndex: 20000 entries, 0 to 19999\n",
      "Data columns (total 2 columns):\n",
      " #   Column       Non-Null Count  Dtype \n",
      "---  ------       --------------  ----- \n",
      " 0   star_rating  20000 non-null  int64 \n",
      " 1   review_body  20000 non-null  object\n",
      "dtypes: int64(1), object(1)\n",
      "memory usage: 312.6+ KB\n"
     ]
    }
   ],
   "source": [
    "reviews_df.info()"
   ]
  },
  {
   "cell_type": "code",
   "execution_count": null,
   "metadata": {},
   "outputs": [],
   "source": [
    "reviews_df.tail(10)"
   ]
  },
  {
   "cell_type": "code",
   "execution_count": 5,
   "metadata": {},
   "outputs": [
    {
     "name": "stdout",
     "output_type": "stream",
     "text": [
      "Min star: 1\n",
      "Max star: 5\n",
      "Average star: 4.28765\n",
      "Median star: 5.0\n"
     ]
    }
   ],
   "source": [
    "# stats on the star rating for the 20,000 records\n",
    "print(\"Min star:\", reviews_df['star_rating'].min())\n",
    "print(\"Max star:\", reviews_df['star_rating'].max())\n",
    "print(\"Average star:\", reviews_df['star_rating'].mean())\n",
    "print(\"Median star:\", reviews_df['star_rating'].median())"
   ]
  },
  {
   "cell_type": "code",
   "execution_count": 6,
   "metadata": {},
   "outputs": [],
   "source": [
    "def count_words(data):\n",
    "    return len(data.split())"
   ]
  },
  {
   "cell_type": "code",
   "execution_count": 7,
   "metadata": {},
   "outputs": [],
   "source": [
    "def count_excla(data):\n",
    "    return data.count(\"!\")"
   ]
  },
  {
   "cell_type": "code",
   "execution_count": 8,
   "metadata": {},
   "outputs": [],
   "source": [
    "def count_ques(data):\n",
    "    return data.count(\"?\")"
   ]
  },
  {
   "cell_type": "code",
   "execution_count": 9,
   "metadata": {},
   "outputs": [],
   "source": [
    "# removes special characters are some \"<br />\"\n",
    "def remove_special_chars(data):\n",
    "    word_list = []\n",
    "    cleaned_list = []\n",
    "    alphanum = \"\"\n",
    "    data = data.replace(\"<br />\",\" \") #replace <br /> text in some reviews with space\n",
    "    word_list = data.lower().split()\n",
    "    \n",
    "    for word in word_list:\n",
    "        alphanum = [character for character in word if character.isalnum()]\n",
    "        alphanum = \"\".join(alphanum)\n",
    "        cleaned_list.append(alphanum)\n",
    "        \n",
    "    cleaned_list = list(filter(None, cleaned_list))\n",
    "    \n",
    "    return cleaned_list"
   ]
  },
  {
   "cell_type": "code",
   "execution_count": 10,
   "metadata": {},
   "outputs": [],
   "source": [
    "# returns a dictionary with the word and number of occurances\n",
    "def get_uniq_words(data):\n",
    "    word_counter = {}\n",
    "    for word in data:\n",
    "        word_counter[word] = word_counter.get(word, 0) + 1\n",
    "        \n",
    "    return(word_counter)"
   ]
  },
  {
   "cell_type": "code",
   "execution_count": 11,
   "metadata": {},
   "outputs": [],
   "source": [
    "# Count number of words for each review and add a column to the dataframe\n",
    "word_count = []\n",
    "excla_count = []\n",
    "ques_count = []\n",
    "for index, row in reviews_df.iterrows():\n",
    "    word_count.append(count_words(reviews_df.iloc[index]['review_body']))\n",
    "    excla_count.append(count_excla(reviews_df.iloc[index]['review_body']))\n",
    "    ques_count.append(count_ques(reviews_df.iloc[index]['review_body']))\n",
    "    \n",
    "reviews_df[\"num_of_words\"] = word_count\n",
    "reviews_df[\"num_exclamations_marks\"] = excla_count\n",
    "reviews_df[\"num_questions_marks\"]= ques_count"
   ]
  },
  {
   "cell_type": "code",
   "execution_count": 12,
   "metadata": {},
   "outputs": [
    {
     "name": "stdout",
     "output_type": "stream",
     "text": [
      "Stats on word count for all reviews\n",
      "-----------------------------------\n",
      "Min number of words: 0\n",
      "Max number of words: 2163\n",
      "Average number of words: 41.6003\n",
      "Median number of words: 17.0\n"
     ]
    }
   ],
   "source": [
    "# Stats on Word Count for all reviews\n",
    "print(\"Stats on word count for all reviews\")\n",
    "print(\"-----------------------------------\")\n",
    "print(\"Min number of words:\", reviews_df['num_of_words'].min())\n",
    "print(\"Max number of words:\", reviews_df['num_of_words'].max())\n",
    "print(\"Average number of words:\", reviews_df['num_of_words'].mean())\n",
    "print(\"Median number of words:\", reviews_df['num_of_words'].median())"
   ]
  },
  {
   "cell_type": "code",
   "execution_count": 13,
   "metadata": {},
   "outputs": [
    {
     "name": "stdout",
     "output_type": "stream",
     "text": [
      "Stats on exclamation marks for all reviews\n",
      "-----------------------------------\n",
      "Min number of exclamation marks: 0\n",
      "Max number of exclamation marks: 54\n",
      "Average number of exclamation marks: 0.4231\n",
      "Median number of exclamation marks: 0.0\n",
      "\n",
      "\n",
      "Stats on question marks for all reviews\n",
      "-----------------------------------\n",
      "Min number of question marks: 0\n",
      "Max number of question marks: 13\n",
      "Average number of question marks: 0.0337\n",
      "Median number of question marks: 0.0\n"
     ]
    }
   ],
   "source": [
    "# Stats on number of exclamation and question marks for all reviews\n",
    "print(\"Stats on exclamation marks for all reviews\")\n",
    "print(\"-----------------------------------\")\n",
    "print(\"Min number of exclamation marks:\", reviews_df['num_exclamations_marks'].min())\n",
    "print(\"Max number of exclamation marks:\", reviews_df['num_exclamations_marks'].max())\n",
    "print(\"Average number of exclamation marks:\", reviews_df['num_exclamations_marks'].mean())\n",
    "print(\"Median number of exclamation marks:\", reviews_df['num_exclamations_marks'].median())\n",
    "print('\\n')\n",
    "print(\"Stats on question marks for all reviews\")\n",
    "print(\"-----------------------------------\")\n",
    "print(\"Min number of question marks:\", reviews_df['num_questions_marks'].min())\n",
    "print(\"Max number of question marks:\", reviews_df['num_questions_marks'].max())\n",
    "print(\"Average number of question marks:\", reviews_df['num_questions_marks'].mean())\n",
    "print(\"Median number of question marks:\", reviews_df['num_questions_marks'].median())"
   ]
  },
  {
   "cell_type": "code",
   "execution_count": 14,
   "metadata": {},
   "outputs": [
    {
     "data": {
      "text/html": [
       "<div>\n",
       "<style scoped>\n",
       "    .dataframe tbody tr th:only-of-type {\n",
       "        vertical-align: middle;\n",
       "    }\n",
       "\n",
       "    .dataframe tbody tr th {\n",
       "        vertical-align: top;\n",
       "    }\n",
       "\n",
       "    .dataframe thead th {\n",
       "        text-align: right;\n",
       "    }\n",
       "</style>\n",
       "<table border=\"1\" class=\"dataframe\">\n",
       "  <thead>\n",
       "    <tr style=\"text-align: right;\">\n",
       "      <th></th>\n",
       "      <th>review_body</th>\n",
       "      <th>num_of_words</th>\n",
       "      <th>num_exclamations_marks</th>\n",
       "      <th>num_questions_marks</th>\n",
       "    </tr>\n",
       "    <tr>\n",
       "      <th>star_rating</th>\n",
       "      <th></th>\n",
       "      <th></th>\n",
       "      <th></th>\n",
       "      <th></th>\n",
       "    </tr>\n",
       "  </thead>\n",
       "  <tbody>\n",
       "    <tr>\n",
       "      <th>1</th>\n",
       "      <td>1482</td>\n",
       "      <td>1482</td>\n",
       "      <td>1482</td>\n",
       "      <td>1482</td>\n",
       "    </tr>\n",
       "    <tr>\n",
       "      <th>2</th>\n",
       "      <td>817</td>\n",
       "      <td>817</td>\n",
       "      <td>817</td>\n",
       "      <td>817</td>\n",
       "    </tr>\n",
       "    <tr>\n",
       "      <th>3</th>\n",
       "      <td>1402</td>\n",
       "      <td>1402</td>\n",
       "      <td>1402</td>\n",
       "      <td>1402</td>\n",
       "    </tr>\n",
       "    <tr>\n",
       "      <th>4</th>\n",
       "      <td>3064</td>\n",
       "      <td>3064</td>\n",
       "      <td>3064</td>\n",
       "      <td>3064</td>\n",
       "    </tr>\n",
       "    <tr>\n",
       "      <th>5</th>\n",
       "      <td>13235</td>\n",
       "      <td>13235</td>\n",
       "      <td>13235</td>\n",
       "      <td>13235</td>\n",
       "    </tr>\n",
       "  </tbody>\n",
       "</table>\n",
       "</div>"
      ],
      "text/plain": [
       "             review_body  num_of_words  num_exclamations_marks  \\\n",
       "star_rating                                                      \n",
       "1                   1482          1482                    1482   \n",
       "2                    817           817                     817   \n",
       "3                   1402          1402                    1402   \n",
       "4                   3064          3064                    3064   \n",
       "5                  13235         13235                   13235   \n",
       "\n",
       "             num_questions_marks  \n",
       "star_rating                       \n",
       "1                           1482  \n",
       "2                            817  \n",
       "3                           1402  \n",
       "4                           3064  \n",
       "5                          13235  "
      ]
     },
     "execution_count": 14,
     "metadata": {},
     "output_type": "execute_result"
    }
   ],
   "source": [
    "# number of reviews for each star rating\n",
    "reviews_df.groupby(['star_rating']).count()"
   ]
  },
  {
   "cell_type": "code",
   "execution_count": 15,
   "metadata": {},
   "outputs": [
    {
     "name": "stdout",
     "output_type": "stream",
     "text": [
      "<class 'pandas.core.frame.DataFrame'>\n",
      "Int64Index: 1482 entries, 17 to 19962\n",
      "Data columns (total 5 columns):\n",
      " #   Column                  Non-Null Count  Dtype \n",
      "---  ------                  --------------  ----- \n",
      " 0   star_rating             1482 non-null   int64 \n",
      " 1   review_body             1482 non-null   object\n",
      " 2   num_of_words            1482 non-null   int64 \n",
      " 3   num_exclamations_marks  1482 non-null   int64 \n",
      " 4   num_questions_marks     1482 non-null   int64 \n",
      "dtypes: int64(4), object(1)\n",
      "memory usage: 69.5+ KB\n"
     ]
    }
   ],
   "source": [
    "# analyzing One Star reviews\n",
    "onestar_reviews_df = reviews_df[reviews_df['star_rating'] == 1]\n",
    "onestar_reviews_df.info()"
   ]
  },
  {
   "cell_type": "code",
   "execution_count": 16,
   "metadata": {},
   "outputs": [
    {
     "name": "stdout",
     "output_type": "stream",
     "text": [
      "Stats on word, Exclamation & question mark count for 1 Star Reviews\n",
      "----------------------------------------\n",
      "Min number of words: 0\n",
      "Max number of words: 1477\n",
      "Average number of words: 44.152496626180834\n",
      "Median number of words: 25.0\n",
      "Max number of Exclamation Marks: 14\n",
      "Average number of Exclamation Marks: 0.4149797570850202\n",
      "Median number of Exclamation Marks: 0.0\n",
      "Max number of Question Marks: 5\n",
      "Average number of Question Marks: 0.0620782726045884\n",
      "Median number of Question Marks: 0.0\n"
     ]
    }
   ],
   "source": [
    "# Stats on Word, Exclamation & question mark Count for one star reviews\n",
    "print(\"Stats on word, Exclamation & question mark count for 1 Star Reviews\")\n",
    "print(\"----------------------------------------\")\n",
    "print(\"Min number of words:\", onestar_reviews_df['num_of_words'].min())\n",
    "print(\"Max number of words:\", onestar_reviews_df['num_of_words'].max())\n",
    "print(\"Average number of words:\", onestar_reviews_df['num_of_words'].mean())\n",
    "print(\"Median number of words:\", onestar_reviews_df['num_of_words'].median())\n",
    "print(\"Max number of Exclamation Marks:\", onestar_reviews_df['num_exclamations_marks'].max())\n",
    "print(\"Average number of Exclamation Marks:\", onestar_reviews_df['num_exclamations_marks'].mean())\n",
    "print(\"Median number of Exclamation Marks:\", onestar_reviews_df['num_exclamations_marks'].median())\n",
    "print(\"Max number of Question Marks:\", onestar_reviews_df['num_questions_marks'].max())\n",
    "print(\"Average number of Question Marks:\", onestar_reviews_df['num_questions_marks'].mean())\n",
    "print(\"Median number of Question Marks:\", onestar_reviews_df['num_questions_marks'].median())"
   ]
  },
  {
   "cell_type": "code",
   "execution_count": 17,
   "metadata": {},
   "outputs": [
    {
     "name": "stdout",
     "output_type": "stream",
     "text": [
      "<class 'pandas.core.frame.DataFrame'>\n",
      "Int64Index: 817 entries, 6 to 19993\n",
      "Data columns (total 5 columns):\n",
      " #   Column                  Non-Null Count  Dtype \n",
      "---  ------                  --------------  ----- \n",
      " 0   star_rating             817 non-null    int64 \n",
      " 1   review_body             817 non-null    object\n",
      " 2   num_of_words            817 non-null    int64 \n",
      " 3   num_exclamations_marks  817 non-null    int64 \n",
      " 4   num_questions_marks     817 non-null    int64 \n",
      "dtypes: int64(4), object(1)\n",
      "memory usage: 38.3+ KB\n"
     ]
    }
   ],
   "source": [
    "# analyzing Two Star reviews\n",
    "twostar_reviews_df = reviews_df[reviews_df['star_rating'] == 2]\n",
    "twostar_reviews_df.info()"
   ]
  },
  {
   "cell_type": "code",
   "execution_count": 18,
   "metadata": {},
   "outputs": [
    {
     "name": "stdout",
     "output_type": "stream",
     "text": [
      "Stats on word, exclamation & question mark count for 2 Star Reviews\n",
      "---------------------------------------\n",
      "Min number of words: 1\n",
      "Max number of words: 506\n",
      "Average number of words: 53.840881272949815\n",
      "Median number of words: 31.0\n",
      "Max number of exclamation marks: 10\n",
      "Average number of exclamation marks: 0.189718482252142\n",
      "Median number of exclamation marks: 0.0\n",
      "Max number of question marks: 6\n",
      "Average number of question marks: 0.04895960832313342\n",
      "Median number of question marks: 0.0\n"
     ]
    }
   ],
   "source": [
    "# Stats on Word Count for two star reviews\n",
    "print(\"Stats on word, exclamation & question mark count for 2 Star Reviews\")\n",
    "print(\"---------------------------------------\")\n",
    "print(\"Min number of words:\", twostar_reviews_df['num_of_words'].min())\n",
    "print(\"Max number of words:\", twostar_reviews_df['num_of_words'].max())\n",
    "print(\"Average number of words:\", twostar_reviews_df['num_of_words'].mean())\n",
    "print(\"Median number of words:\", twostar_reviews_df['num_of_words'].median())\n",
    "print(\"Max number of exclamation marks:\", twostar_reviews_df['num_exclamations_marks'].max())\n",
    "print(\"Average number of exclamation marks:\", twostar_reviews_df['num_exclamations_marks'].mean())\n",
    "print(\"Median number of exclamation marks:\", twostar_reviews_df['num_exclamations_marks'].median())\n",
    "print(\"Max number of question marks:\", twostar_reviews_df['num_questions_marks'].max())\n",
    "print(\"Average number of question marks:\", twostar_reviews_df['num_questions_marks'].mean())\n",
    "print(\"Median number of question marks:\", twostar_reviews_df['num_questions_marks'].median())"
   ]
  },
  {
   "cell_type": "code",
   "execution_count": 19,
   "metadata": {},
   "outputs": [
    {
     "name": "stdout",
     "output_type": "stream",
     "text": [
      "<class 'pandas.core.frame.DataFrame'>\n",
      "Int64Index: 1402 entries, 0 to 19959\n",
      "Data columns (total 5 columns):\n",
      " #   Column                  Non-Null Count  Dtype \n",
      "---  ------                  --------------  ----- \n",
      " 0   star_rating             1402 non-null   int64 \n",
      " 1   review_body             1402 non-null   object\n",
      " 2   num_of_words            1402 non-null   int64 \n",
      " 3   num_exclamations_marks  1402 non-null   int64 \n",
      " 4   num_questions_marks     1402 non-null   int64 \n",
      "dtypes: int64(4), object(1)\n",
      "memory usage: 65.7+ KB\n"
     ]
    }
   ],
   "source": [
    "# analyzing Three Star reviews\n",
    "threestar_reviews_df = reviews_df[reviews_df['star_rating'] == 3]\n",
    "threestar_reviews_df.info()"
   ]
  },
  {
   "cell_type": "code",
   "execution_count": 20,
   "metadata": {},
   "outputs": [
    {
     "name": "stdout",
     "output_type": "stream",
     "text": [
      "Stats on word, exclamation & question mark count for 3 Star Reviews\n",
      "------------------------------------------\n",
      "Min number of words: 1\n",
      "Max number of words: 1483\n",
      "Average number of words: 53.55135520684736\n",
      "Median number of words: 26.0\n",
      "Max number of exclamation marks: 15\n",
      "Average number of exclamation marks: 0.1861626248216833\n",
      "Median number of exclamation marks: 0.0\n",
      "Max number of questions marks: 6\n",
      "Average number of questions marks: 0.05420827389443652\n",
      "Median number of questions marks: 0.0\n"
     ]
    }
   ],
   "source": [
    "# Stats on Word, exclamation & question mark Count for three star reviews\n",
    "print(\"Stats on word, exclamation & question mark count for 3 Star Reviews\")\n",
    "print(\"------------------------------------------\")\n",
    "print(\"Min number of words:\", threestar_reviews_df['num_of_words'].min())\n",
    "print(\"Max number of words:\", threestar_reviews_df['num_of_words'].max())\n",
    "print(\"Average number of words:\", threestar_reviews_df['num_of_words'].mean())\n",
    "print(\"Median number of words:\", threestar_reviews_df['num_of_words'].median())\n",
    "print(\"Max number of exclamation marks:\", threestar_reviews_df['num_exclamations_marks'].max())\n",
    "print(\"Average number of exclamation marks:\", threestar_reviews_df['num_exclamations_marks'].mean())\n",
    "print(\"Median number of exclamation marks:\", threestar_reviews_df['num_exclamations_marks'].median())\n",
    "print(\"Max number of questions marks:\", threestar_reviews_df['num_questions_marks'].max())\n",
    "print(\"Average number of questions marks:\", threestar_reviews_df['num_questions_marks'].mean())\n",
    "print(\"Median number of questions marks:\", threestar_reviews_df['num_questions_marks'].median())"
   ]
  },
  {
   "cell_type": "code",
   "execution_count": 21,
   "metadata": {},
   "outputs": [
    {
     "name": "stdout",
     "output_type": "stream",
     "text": [
      "<class 'pandas.core.frame.DataFrame'>\n",
      "Int64Index: 3064 entries, 11 to 19998\n",
      "Data columns (total 5 columns):\n",
      " #   Column                  Non-Null Count  Dtype \n",
      "---  ------                  --------------  ----- \n",
      " 0   star_rating             3064 non-null   int64 \n",
      " 1   review_body             3064 non-null   object\n",
      " 2   num_of_words            3064 non-null   int64 \n",
      " 3   num_exclamations_marks  3064 non-null   int64 \n",
      " 4   num_questions_marks     3064 non-null   int64 \n",
      "dtypes: int64(4), object(1)\n",
      "memory usage: 143.6+ KB\n"
     ]
    }
   ],
   "source": [
    "# analyzing Four Star reviews\n",
    "fourstar_reviews_df = reviews_df[reviews_df['star_rating'] == 4]\n",
    "fourstar_reviews_df.info()"
   ]
  },
  {
   "cell_type": "code",
   "execution_count": 22,
   "metadata": {},
   "outputs": [
    {
     "name": "stdout",
     "output_type": "stream",
     "text": [
      "Stats on word, exclamation & question marks count for 4 Star Reviews\n",
      "-----------------------------------------\n",
      "Min number of words: 0\n",
      "Max number of words: 1623\n",
      "Average number of words: 52.84595300261097\n",
      "Median number of words: 23.0\n",
      "Max number of exclamation marks: 15\n",
      "Average number of exclamation marks: 0.23237597911227154\n",
      "Median number of exclamation marks: 0.0\n",
      "Max number of question marks: 6\n",
      "Average number of question marks: 0.03328981723237598\n",
      "Median number of question marks: 0.0\n"
     ]
    }
   ],
   "source": [
    "# Stats on Word, exclamation & question marks Count for 4 star reviews\n",
    "print(\"Stats on word, exclamation & question marks count for 4 Star Reviews\")\n",
    "print(\"-----------------------------------------\")\n",
    "print(\"Min number of words:\", fourstar_reviews_df['num_of_words'].min())\n",
    "print(\"Max number of words:\", fourstar_reviews_df['num_of_words'].max())\n",
    "print(\"Average number of words:\", fourstar_reviews_df['num_of_words'].mean())\n",
    "print(\"Median number of words:\", fourstar_reviews_df['num_of_words'].median())\n",
    "print(\"Max number of exclamation marks:\", fourstar_reviews_df['num_exclamations_marks'].max())\n",
    "print(\"Average number of exclamation marks:\", fourstar_reviews_df['num_exclamations_marks'].mean())\n",
    "print(\"Median number of exclamation marks:\", fourstar_reviews_df['num_exclamations_marks'].median())\n",
    "print(\"Max number of question marks:\", fourstar_reviews_df['num_questions_marks'].max())\n",
    "print(\"Average number of question marks:\", fourstar_reviews_df['num_questions_marks'].mean())\n",
    "print(\"Median number of question marks:\", fourstar_reviews_df['num_questions_marks'].median())"
   ]
  },
  {
   "cell_type": "code",
   "execution_count": 23,
   "metadata": {},
   "outputs": [
    {
     "name": "stdout",
     "output_type": "stream",
     "text": [
      "<class 'pandas.core.frame.DataFrame'>\n",
      "Int64Index: 13235 entries, 1 to 19999\n",
      "Data columns (total 5 columns):\n",
      " #   Column                  Non-Null Count  Dtype \n",
      "---  ------                  --------------  ----- \n",
      " 0   star_rating             13235 non-null  int64 \n",
      " 1   review_body             13235 non-null  object\n",
      " 2   num_of_words            13235 non-null  int64 \n",
      " 3   num_exclamations_marks  13235 non-null  int64 \n",
      " 4   num_questions_marks     13235 non-null  int64 \n",
      "dtypes: int64(4), object(1)\n",
      "memory usage: 620.4+ KB\n"
     ]
    }
   ],
   "source": [
    "# analyzing Five Star reviews\n",
    "fivestar_reviews_df = reviews_df[reviews_df['star_rating'] == 5]\n",
    "fivestar_reviews_df.info()"
   ]
  },
  {
   "cell_type": "code",
   "execution_count": 24,
   "metadata": {},
   "outputs": [
    {
     "name": "stdout",
     "output_type": "stream",
     "text": [
      "Stats on word, exclamation & question marks count for 5 Star Reviews\n",
      "-----------------------------------------\n",
      "Min number of words: 0\n",
      "Max number of words: 2163\n",
      "Average number of words: 36.689459765772575\n",
      "Median number of words: 13.0\n",
      "Max number of exclamation marks: 54\n",
      "Average number of exclamation marks: 0.5076690593124291\n",
      "Median number of exclamation marks: 0.0\n",
      "Max number of question marks: 13\n",
      "Average number of question marks: 0.027502833396297697\n",
      "Median number of question marks: 0.0\n"
     ]
    }
   ],
   "source": [
    "# Stats on Word, exclamation & question marks Count for five star reviews\n",
    "print(\"Stats on word, exclamation & question marks count for 5 Star Reviews\")\n",
    "print(\"-----------------------------------------\")\n",
    "print(\"Min number of words:\", fivestar_reviews_df['num_of_words'].min())\n",
    "print(\"Max number of words:\", fivestar_reviews_df['num_of_words'].max())\n",
    "print(\"Average number of words:\", fivestar_reviews_df['num_of_words'].mean())\n",
    "print(\"Median number of words:\", fivestar_reviews_df['num_of_words'].median())\n",
    "print(\"Max number of exclamation marks:\", fivestar_reviews_df['num_exclamations_marks'].max())\n",
    "print(\"Average number of exclamation marks:\", fivestar_reviews_df['num_exclamations_marks'].mean())\n",
    "print(\"Median number of exclamation marks:\", fivestar_reviews_df['num_exclamations_marks'].median())\n",
    "print(\"Max number of question marks:\", fivestar_reviews_df['num_questions_marks'].max())\n",
    "print(\"Average number of question marks:\", fivestar_reviews_df['num_questions_marks'].mean())\n",
    "print(\"Median number of question marks:\", fivestar_reviews_df['num_questions_marks'].median())"
   ]
  },
  {
   "cell_type": "code",
   "execution_count": 25,
   "metadata": {},
   "outputs": [
    {
     "name": "stdout",
     "output_type": "stream",
     "text": [
      "<class 'pandas.core.frame.DataFrame'>\n",
      "Int64Index: 4597 entries, 2 to 19995\n",
      "Data columns (total 5 columns):\n",
      " #   Column                  Non-Null Count  Dtype \n",
      "---  ------                  --------------  ----- \n",
      " 0   star_rating             4597 non-null   int64 \n",
      " 1   review_body             4597 non-null   object\n",
      " 2   num_of_words            4597 non-null   int64 \n",
      " 3   num_exclamations_marks  4597 non-null   int64 \n",
      " 4   num_questions_marks     4597 non-null   int64 \n",
      "dtypes: int64(4), object(1)\n",
      "memory usage: 215.5+ KB\n"
     ]
    }
   ],
   "source": [
    "# all reviews with 5 or less words\n",
    "five_less_word_reviews_df = reviews_df[reviews_df['num_of_words'] <= 5]\n",
    "five_less_word_reviews_df.info()"
   ]
  },
  {
   "cell_type": "code",
   "execution_count": 26,
   "metadata": {},
   "outputs": [
    {
     "data": {
      "text/html": [
       "<div>\n",
       "<style scoped>\n",
       "    .dataframe tbody tr th:only-of-type {\n",
       "        vertical-align: middle;\n",
       "    }\n",
       "\n",
       "    .dataframe tbody tr th {\n",
       "        vertical-align: top;\n",
       "    }\n",
       "\n",
       "    .dataframe thead th {\n",
       "        text-align: right;\n",
       "    }\n",
       "</style>\n",
       "<table border=\"1\" class=\"dataframe\">\n",
       "  <thead>\n",
       "    <tr style=\"text-align: right;\">\n",
       "      <th></th>\n",
       "      <th>review_body</th>\n",
       "      <th>num_of_words</th>\n",
       "      <th>num_exclamations_marks</th>\n",
       "      <th>num_questions_marks</th>\n",
       "    </tr>\n",
       "    <tr>\n",
       "      <th>star_rating</th>\n",
       "      <th></th>\n",
       "      <th></th>\n",
       "      <th></th>\n",
       "      <th></th>\n",
       "    </tr>\n",
       "  </thead>\n",
       "  <tbody>\n",
       "    <tr>\n",
       "      <th>1</th>\n",
       "      <td>173</td>\n",
       "      <td>173</td>\n",
       "      <td>173</td>\n",
       "      <td>173</td>\n",
       "    </tr>\n",
       "    <tr>\n",
       "      <th>2</th>\n",
       "      <td>59</td>\n",
       "      <td>59</td>\n",
       "      <td>59</td>\n",
       "      <td>59</td>\n",
       "    </tr>\n",
       "    <tr>\n",
       "      <th>3</th>\n",
       "      <td>164</td>\n",
       "      <td>164</td>\n",
       "      <td>164</td>\n",
       "      <td>164</td>\n",
       "    </tr>\n",
       "    <tr>\n",
       "      <th>4</th>\n",
       "      <td>528</td>\n",
       "      <td>528</td>\n",
       "      <td>528</td>\n",
       "      <td>528</td>\n",
       "    </tr>\n",
       "    <tr>\n",
       "      <th>5</th>\n",
       "      <td>3673</td>\n",
       "      <td>3673</td>\n",
       "      <td>3673</td>\n",
       "      <td>3673</td>\n",
       "    </tr>\n",
       "  </tbody>\n",
       "</table>\n",
       "</div>"
      ],
      "text/plain": [
       "             review_body  num_of_words  num_exclamations_marks  \\\n",
       "star_rating                                                      \n",
       "1                    173           173                     173   \n",
       "2                     59            59                      59   \n",
       "3                    164           164                     164   \n",
       "4                    528           528                     528   \n",
       "5                   3673          3673                    3673   \n",
       "\n",
       "             num_questions_marks  \n",
       "star_rating                       \n",
       "1                            173  \n",
       "2                             59  \n",
       "3                            164  \n",
       "4                            528  \n",
       "5                           3673  "
      ]
     },
     "execution_count": 26,
     "metadata": {},
     "output_type": "execute_result"
    }
   ],
   "source": [
    "# analizing reviews with less or equal to 5 words\n",
    "five_less_word_reviews_df.groupby(['star_rating']).count()"
   ]
  },
  {
   "cell_type": "code",
   "execution_count": 27,
   "metadata": {},
   "outputs": [
    {
     "name": "stdout",
     "output_type": "stream",
     "text": [
      "<class 'pandas.core.frame.DataFrame'>\n",
      "Int64Index: 15403 entries, 0 to 19999\n",
      "Data columns (total 5 columns):\n",
      " #   Column                  Non-Null Count  Dtype \n",
      "---  ------                  --------------  ----- \n",
      " 0   star_rating             15403 non-null  int64 \n",
      " 1   review_body             15403 non-null  object\n",
      " 2   num_of_words            15403 non-null  int64 \n",
      " 3   num_exclamations_marks  15403 non-null  int64 \n",
      " 4   num_questions_marks     15403 non-null  int64 \n",
      "dtypes: int64(4), object(1)\n",
      "memory usage: 722.0+ KB\n"
     ]
    }
   ],
   "source": [
    "# all reviews with more than 5 words\n",
    "mt_five_word_reviews_df = reviews_df[reviews_df['num_of_words'] > 5]\n",
    "mt_five_word_reviews_df.info()"
   ]
  },
  {
   "cell_type": "code",
   "execution_count": 28,
   "metadata": {},
   "outputs": [
    {
     "name": "stdout",
     "output_type": "stream",
     "text": [
      "Min number of words: 6\n",
      "Max number of words: 2163\n",
      "Average number of words: 53.15204830227878\n",
      "Median number of words: 26.0\n",
      "Max number of exclamation marks: 54\n",
      "Average number of exclamation marks: 0.4477699149516328\n",
      "Median number of exclamation marks: 0.0\n",
      "Max number of question marks: 13\n",
      "Average number of question marks: 0.04310848535999481\n",
      "Median number of question marks: 0.0\n"
     ]
    }
   ],
   "source": [
    "# Stats for reviews with more than 5 words\n",
    "print(\"Min number of words:\", mt_five_word_reviews_df['num_of_words'].min())\n",
    "print(\"Max number of words:\", mt_five_word_reviews_df['num_of_words'].max())\n",
    "print(\"Average number of words:\", mt_five_word_reviews_df['num_of_words'].mean())\n",
    "print(\"Median number of words:\", mt_five_word_reviews_df['num_of_words'].median())\n",
    "print(\"Max number of exclamation marks:\", mt_five_word_reviews_df['num_exclamations_marks'].max())\n",
    "print(\"Average number of exclamation marks:\", mt_five_word_reviews_df['num_exclamations_marks'].mean())\n",
    "print(\"Median number of exclamation marks:\", mt_five_word_reviews_df['num_exclamations_marks'].median())\n",
    "print(\"Max number of question marks:\", mt_five_word_reviews_df['num_questions_marks'].max())\n",
    "print(\"Average number of question marks:\", mt_five_word_reviews_df['num_questions_marks'].mean())\n",
    "print(\"Median number of question marks:\", mt_five_word_reviews_df['num_questions_marks'].median())"
   ]
  },
  {
   "cell_type": "code",
   "execution_count": 29,
   "metadata": {},
   "outputs": [
    {
     "data": {
      "text/html": [
       "<div>\n",
       "<style scoped>\n",
       "    .dataframe tbody tr th:only-of-type {\n",
       "        vertical-align: middle;\n",
       "    }\n",
       "\n",
       "    .dataframe tbody tr th {\n",
       "        vertical-align: top;\n",
       "    }\n",
       "\n",
       "    .dataframe thead th {\n",
       "        text-align: right;\n",
       "    }\n",
       "</style>\n",
       "<table border=\"1\" class=\"dataframe\">\n",
       "  <thead>\n",
       "    <tr style=\"text-align: right;\">\n",
       "      <th></th>\n",
       "      <th>review_body</th>\n",
       "      <th>num_of_words</th>\n",
       "      <th>num_exclamations_marks</th>\n",
       "      <th>num_questions_marks</th>\n",
       "    </tr>\n",
       "    <tr>\n",
       "      <th>star_rating</th>\n",
       "      <th></th>\n",
       "      <th></th>\n",
       "      <th></th>\n",
       "      <th></th>\n",
       "    </tr>\n",
       "  </thead>\n",
       "  <tbody>\n",
       "    <tr>\n",
       "      <th>1</th>\n",
       "      <td>1309</td>\n",
       "      <td>1309</td>\n",
       "      <td>1309</td>\n",
       "      <td>1309</td>\n",
       "    </tr>\n",
       "    <tr>\n",
       "      <th>2</th>\n",
       "      <td>758</td>\n",
       "      <td>758</td>\n",
       "      <td>758</td>\n",
       "      <td>758</td>\n",
       "    </tr>\n",
       "    <tr>\n",
       "      <th>3</th>\n",
       "      <td>1238</td>\n",
       "      <td>1238</td>\n",
       "      <td>1238</td>\n",
       "      <td>1238</td>\n",
       "    </tr>\n",
       "    <tr>\n",
       "      <th>4</th>\n",
       "      <td>2536</td>\n",
       "      <td>2536</td>\n",
       "      <td>2536</td>\n",
       "      <td>2536</td>\n",
       "    </tr>\n",
       "    <tr>\n",
       "      <th>5</th>\n",
       "      <td>9562</td>\n",
       "      <td>9562</td>\n",
       "      <td>9562</td>\n",
       "      <td>9562</td>\n",
       "    </tr>\n",
       "  </tbody>\n",
       "</table>\n",
       "</div>"
      ],
      "text/plain": [
       "             review_body  num_of_words  num_exclamations_marks  \\\n",
       "star_rating                                                      \n",
       "1                   1309          1309                    1309   \n",
       "2                    758           758                     758   \n",
       "3                   1238          1238                    1238   \n",
       "4                   2536          2536                    2536   \n",
       "5                   9562          9562                    9562   \n",
       "\n",
       "             num_questions_marks  \n",
       "star_rating                       \n",
       "1                           1309  \n",
       "2                            758  \n",
       "3                           1238  \n",
       "4                           2536  \n",
       "5                           9562  "
      ]
     },
     "execution_count": 29,
     "metadata": {},
     "output_type": "execute_result"
    }
   ],
   "source": [
    "# More than 5 word reviews by Star Rating\n",
    "grouped_review_df = mt_five_word_reviews_df.groupby(['star_rating']).count()\n",
    "grouped_review_df.head()"
   ]
  },
  {
   "cell_type": "code",
   "execution_count": 30,
   "metadata": {},
   "outputs": [
    {
     "data": {
      "text/plain": [
       "<matplotlib.axes._subplots.AxesSubplot at 0x7febe4ebd0d0>"
      ]
     },
     "execution_count": 30,
     "metadata": {},
     "output_type": "execute_result"
    },
    {
     "data": {
      "image/png": "[encoded data removed]",
      "text/plain": [
       "<Figure size 432x288 with 1 Axes>"
      ]
     },
     "metadata": {
      "needs_background": "light"
     },
     "output_type": "display_data"
    }
   ],
   "source": [
    "grouped_review_df.plot.bar(y='num_of_words', title='Reviews with more than 5 words.')"
   ]
  },
  {
   "cell_type": "code",
   "execution_count": null,
   "metadata": {},
   "outputs": [],
   "source": [
    "ten_words_df = reviews_df[reviews_df['num_of_words'] <= 10]\n",
    "ten_words_df.info()"
   ]
  },
  {
   "cell_type": "code",
   "execution_count": null,
   "metadata": {},
   "outputs": [],
   "source": [
    "large_words_df = reviews_df[reviews_df['num_of_words'] >= 2000]\n",
    "large_words_df.info()"
   ]
  },
  {
   "cell_type": "code",
   "execution_count": null,
   "metadata": {},
   "outputs": [],
   "source": [
    "y=reviews_df['star_rating']\n",
    "x=reviews_df['num_of_words']\n"
   ]
  },
  {
   "cell_type": "code",
   "execution_count": null,
   "metadata": {},
   "outputs": [],
   "source": [
    "plt.figure(figsize=(15,10))\n",
    "sns.scatterplot(x,y)"
   ]
  },
  {
   "cell_type": "markdown",
   "metadata": {},
   "source": [
    "Test area below"
   ]
  },
  {
   "cell_type": "code",
   "execution_count": null,
   "metadata": {},
   "outputs": [],
   "source": [
    "print(count_words(\"This is not such a long sentence ya ?\"))"
   ]
  },
  {
   "cell_type": "code",
   "execution_count": null,
   "metadata": {},
   "outputs": [],
   "source": [
    "print(reviews_df.iloc[19912])\n",
    "print(reviews_df.loc[19912, 'review_body'])"
   ]
  },
  {
   "cell_type": "code",
   "execution_count": null,
   "metadata": {},
   "outputs": [],
   "source": [
    "## testing re functionality \n",
    "words = re.findall(['], \"This isn't a crazy 22 test string . What exactly is it?\")\n",
    "print(words)\n",
    "print(len(words))"
   ]
  },
  {
   "cell_type": "code",
   "execution_count": null,
   "metadata": {},
   "outputs": [],
   "source": [
    "ques=\"?\"\n",
    "excla=\"!\"\n",
    "test_str = \"Wow! that! is totally awesome!! No?\"\n",
    "print(test_str.count(\"?\"))\n",
    "print(test_str.count(\"!\"))"
   ]
  },
  {
   "cell_type": "code",
   "execution_count": null,
   "metadata": {},
   "outputs": [],
   "source": [
    "test_a = \"This is a small review. Yes ^$ or no? I don't really know. Amazon !!\"\n",
    "#print(remove_special_chars(test_a))\n",
    "print(mt_five_word_reviews_df.iloc[100]['review_body'])\n",
    "print(remove_special_chars(mt_five_word_reviews_df.iloc[100]['review_body']))"
   ]
  },
  {
   "cell_type": "code",
   "execution_count": null,
   "metadata": {},
   "outputs": [],
   "source": []
  },
  {
   "cell_type": "code",
   "execution_count": null,
   "metadata": {},
   "outputs": [],
   "source": [
    "list_words = []\n",
    "print(mt_five_word_reviews_df.iloc[10777]['review_body'])\n",
    "list_words = remove_special_chars(mt_five_word_reviews_df.iloc[10777]['review_body'])\n",
    "#list_words = mt_five_word_reviews_df.iloc[10777]['review_body']\n",
    "print(\"\\n\\n\")\n",
    "#list_words = list_words.replace(\"<br />\",\" \")\n",
    "#print(list_words)\n",
    "\n",
    "print(get_uniq_words(list_words))"
   ]
  },
  {
   "cell_type": "code",
   "execution_count": null,
   "metadata": {},
   "outputs": [],
   "source": []
  }
 ],
 "metadata": {
  "kernelspec": {
   "display_name": "Python 3",
   "language": "python",
   "name": "python3"
  },
  "language_info": {
   "codemirror_mode": {
    "name": "ipython",
    "version": 3
   },
   "file_extension": ".py",
   "mimetype": "text/x-python",
   "name": "python",
   "nbconvert_exporter": "python",
   "pygments_lexer": "ipython3",
   "version": "3.8.3"
  }
 },
 "nbformat": 4,
 "nbformat_minor": 4
}
